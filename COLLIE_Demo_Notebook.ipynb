{
  "cells": [
    {
      "cell_type": "markdown",
      "metadata": {},
      "source": [
        "# COLLIE: Complete Workflow Demo\n",
        "\n",
        "This notebook demonstrates the complete COLLIE workflow for cultural heritage information extraction and analysis:\n",
        "\n",
        "1. **AI-powered Information Extraction** using PydanticAI\n",
        "2. **Canonical JSON Serialization** for async/future processing\n",
        "3. **Markdown Rendering** for human-readable reports\n",
        "4. **NetworkX Graph Analysis** for social network analysis\n",
        "5. **Interactive Visualization** with Plotly\n",
        "6. **Cypher Export** for graph database integration\n",
        "\n",
        "## Setup\n",
        "\n",
        "First, let's import all necessary libraries and set up our environment.\n"
      ]
    },
    {
      "cell_type": "code",
      "execution_count": 1,
      "metadata": {},
      "outputs": [
        {
          "name": "stdout",
          "output_type": "stream",
          "text": [
            "✅ All imports successful!\n",
            "📁 Working directory: /Users/davidspencer/Documents/GitHub/collie\n"
          ]
        }
      ],
      "source": [
        "import asyncio\n",
        "import json\n",
        "import sys\n",
        "from pathlib import Path\n",
        "from typing import List\n",
        "\n",
        "# Add src to path for imports\n",
        "sys.path.insert(0, str(Path.cwd() / \"src\"))\n",
        "\n",
        "# COLLIE imports\n",
        "from collie.models.base import CRMEntity\n",
        "from collie.extraction import InformationExtractor\n",
        "from collie.io.to_networkx import (\n",
        "    to_networkx_graph,\n",
        "    calculate_centrality_measures,\n",
        "    find_communities,\n",
        "    get_network_statistics\n",
        ")\n",
        "from collie.visualization import (\n",
        "    create_interactive_plot,\n",
        "    plot_community_network,\n",
        "    plot_centrality_network\n",
        ")\n",
        "from collie.io.to_cypher import generate_cypher_script\n",
        "from collie.io.to_markdown import render_table, to_markdown, MarkdownStyle\n",
        "\n",
        "# Standard libraries\n",
        "import networkx as nx\n",
        "import plotly.graph_objects as go\n",
        "import plotly.express as px\n",
        "from plotly.offline import plot\n",
        "import plotly.io as pio\n",
        "\n",
        "print(\"✅ All imports successful!\")\n",
        "print(f\"📁 Working directory: {Path.cwd()}\")\n"
      ]
    },
    {
      "cell_type": "markdown",
      "metadata": {},
      "source": [
        "## Sample Text: Albert Einstein Biography\n",
        "\n",
        "We'll use a sample text about Albert Einstein to demonstrate the complete workflow.\n"
      ]
    },
    {
      "cell_type": "code",
      "execution_count": 2,
      "metadata": {},
      "outputs": [
        {
          "name": "stdout",
          "output_type": "stream",
          "text": [
            "📝 Sample Text:\n",
            "==================================================\n",
            "\n",
            "Albert Einstein was born on March 14, 1879, in Ulm, Württemberg, Germany. He grew up in a secular Jewish family. His father, Hermann Einstein, was a salesman and engineer who, with his brother, founded Elektrotechnische Fabrik J. Einstein & Cie, a Munich-based company that mass-produced electrical equipment. Einstein's mother, the former Pauline Koch, ran the family household. Einstein had one sister, Maja, born two years after him.\n",
            "\n",
            "Einstein attended elementary school at the Luitpold Gymnasium...\n",
            "==================================================\n",
            "Text length: 14569 characters\n",
            "Preview: First 500 characters shown above\n"
          ]
        }
      ],
      "source": [
        "# Sample text about Albert Einstein - Full Biography\n",
        "sample_text = \"\"\"\n",
        "Albert Einstein was born on March 14, 1879, in Ulm, Württemberg, Germany. He grew up in a secular Jewish family. His father, Hermann Einstein, was a salesman and engineer who, with his brother, founded Elektrotechnische Fabrik J. Einstein & Cie, a Munich-based company that mass-produced electrical equipment. Einstein's mother, the former Pauline Koch, ran the family household. Einstein had one sister, Maja, born two years after him.\n",
        "\n",
        "Einstein attended elementary school at the Luitpold Gymnasium in Munich. However, he felt alienated there and struggled with the institution's rigid pedagogical style. He also had what were considered speech challenges. However, he developed a passion for classical music and playing the violin, which would stay with him into his later years. Most significantly, Einstein's youth was marked by deep inquisitiveness and inquiry.\n",
        "\n",
        "Toward the end of the 1880s, Max Talmud, a Polish medical student who sometimes dined with the Einstein family, became an informal tutor to young Einstein. Talmud had introduced his pupil to a children's science text that inspired Einstein to dream about the nature of light. Thus, during his teens, Einstein penned what would be seen as his first major paper, \"The Investigation of the State of Aether in Magnetic Fields.\"\n",
        "\n",
        "Hermann relocated the family to Milan, Italy, in the mid-1890s after his business lost out on a major contract. Einstein was left at a relative's boarding house in Munich to complete his schooling at the Luitpold.\n",
        "\n",
        "Faced with military duty when he turned of age, Einstein allegedly withdrew from classes, using a doctor's note to excuse himself and claim nervous exhaustion. With their son rejoining them in Italy, his parents understood Einstein's perspective but were concerned about his future prospects as a school dropout and draft dodger.\n",
        "\n",
        "Einstein was eventually able to gain admission into the Swiss Federal Institute of Technology in Zurich, specifically due to his superb mathematics and physics scores on the entrance exam. He was still required to complete his pre-university education first and thus attended a high school in Aarau, Switzerland, helmed by Jost Winteler. Einstein lived with the schoolmaster's family and fell in love with Winteler's daughter Marie. Einstein later renounced his German citizenship and became a Swiss citizen at the dawn of the new century.\n",
        "\n",
        "After graduating from university, Einstein faced major challenges in terms of finding academic positions, having alienated some professors over not attending class more regularly in lieu of studying independently.\n",
        "\n",
        "Einstein eventually found steady work in 1902 after receiving a referral for a clerk position in a Swiss patent office. While working at the patent office, Einstein had the time to further explore ideas that had taken hold during his university studies and thus cemented his theorems on what would be known as the principle of relativity.\n",
        "\n",
        "In 1905—seen by many as a \"miracle year\" for the theorist—Einstein had four papers published in the Annalen der Physik, one of the best-known physics journals of the era. Two focused on the photoelectric effect and Brownian motion. The two others, which outlined E=MC2 and the special theory of relativity, were defining for Einstein's career and the course of the study of physics.\n",
        "\n",
        "As a physicist, Einstein had many discoveries, but he is perhaps best known for his theory of relativity and the equation E=MC2, which foreshadowed the development of atomic power and the atomic bomb.\n",
        "\n",
        "Einstein first proposed a special theory of relativity in 1905 in his paper \"On the Electrodynamics of Moving Bodies,\" which took physics in an electrifying new direction. The theory explains that space and time are actually connected, and Einstein called this joint structure space-time.\n",
        "\n",
        "By November 1915, Einstein completed the general theory of relativity, which accounted for gravity's relationship to space-time. Einstein considered this theory the culmination of his life research. He was convinced of the merits of general relativity because it allowed for a more accurate prediction of planetary orbits around the sun, which fell short in Isaac Newton's theory. It also offered a more expansive, nuanced explanation of how gravitational forces worked.\n",
        "\n",
        "Einstein's assertions were affirmed via observations and measurements by British astronomers Sir Frank Dyson and Sir Arthur Eddington during the 1919 solar eclipse, and thus a global science icon was born. Today, the theories of relativity underpin the accuracy of GPS technology, among other phenomena.\n",
        "\n",
        "Einstein's 1905 paper on the matter-energy relationship proposed the equation E=MC²: the energy of a body (E) is equal to the mass (M) of that body times the speed of light squared (C²). This equation suggested that tiny particles of matter could be converted into huge amounts of energy, a discovery that heralded atomic power.\n",
        "\n",
        "Famed quantum theorist Max Planck backed up the assertions of Einstein, who thus became a star of the lecture circuit and academia, taking on various positions before becoming director of the Kaiser Wilhelm Institute for Physics (today is known as the Max Planck Institute for Physics) from 1917 to 1933.\n",
        "\n",
        "In 1921, Einstein won the Nobel Prize in Physics for his explanation of the photoelectric effect, since his ideas on relativity were still considered questionable. He wasn't actually given the award until the following year due to a bureaucratic ruling, and during his acceptance speech, he still opted to speak about relativity.\n",
        "\n",
        "Einstein married Mileva Maric on January 6, 1903. While attending school in Zurich, Einstein met Maric, a Serbian physics student. Einstein continued to grow closer to Maric, but his parents were strongly against the relationship due to her ethnic background.\n",
        "\n",
        "Nonetheless, Einstein continued to see her, with the two developing a correspondence via letters in which he expressed many of his scientific ideas. Einstein's father passed away in 1902, and the couple married shortly thereafter.\n",
        "\n",
        "Einstein and Mavic had three children. Their daughter, Lieserl, was born in 1902 before their wedding and might have been later raised by Maric's relatives or given up for adoption. Her ultimate fate and whereabouts remain a mystery. The couple also had two sons: Hans Albert Einstein, who became a well-known hydraulic engineer, and Eduard \"Tete\" Einstein, who was diagnosed with schizophrenia as a young man.\n",
        "\n",
        "The Einsteins' marriage would not be a happy one, with the two divorcing in 1919 and Maric having an emotional breakdown in connection to the split. Einstein, as part of a settlement, agreed to give Maric any funds he might receive from possibly winning the Nobel Prize in the future.\n",
        "\n",
        "During his marriage to Maric, Einstein had also begun an affair some time earlier with a cousin, Elsa Löwenthal. The couple wed in 1919, the same year of Einstein's divorce. He would continue to see other women throughout his second marriage, which ended with Löwenthal's death in 1936.\n",
        "\n",
        "In 1933, Einstein took on a position at the Institute for Advanced Study in Princeton, New Jersey, where he would spend the rest of his life.\n",
        "\n",
        "At the time the Nazis, led by Adolf Hitler, were gaining prominence with violent propaganda and vitriol in an impoverished post-World War I Germany. The Nazi Party influenced other scientists to label Einstein's work \"Jewish physics.\" Jewish citizens were barred from university work and other official jobs, and Einstein himself was targeted to be killed. Meanwhile, other European scientists also left regions threatened by Germany and immigrated to the United States, with concern over Nazi strategies to create an atomic weapon.\n",
        "\n",
        "Not long after moving and beginning his career at IAS, Einstein expressed an appreciation for American meritocracy and the opportunities people had for free thought, a stark contrast to his own experiences coming of age. In 1935, Einstein was granted permanent residency in his adopted country and became an American citizen five years later.\n",
        "\n",
        "In America, Einstein mostly devoted himself to working on a unified field theory, an all-embracing paradigm meant to unify the varied laws of physics. However, during World War II, he worked on Navy-based weapons systems and made big monetary donations to the military by auctioning off manuscripts worth millions.\n",
        "\n",
        "In 1939, Einstein and fellow physicist Leo Szilard wrote to President Franklin D. Roosevelt to alert him of the possibility of a Nazi bomb and to galvanize the United States to create its own nuclear weapons.\n",
        "\n",
        "The United States would eventually initiate the Manhattan Project, though Einstein wouldn't take a direct part in its implementation due to his pacifist and socialist affiliations. Einstein was also the recipient of much scrutiny and major distrust from FBI director J. Edgar Hoover. In July 1940, the U.S. Army Intelligence office denied Einstein a security clearance to participate in the project, meaning J. Robert Oppenheimer and the scientists working in Los Alamos were forbidden from consulting with him.\n",
        "\n",
        "Einstein had no knowledge of the U.S. plan to use atomic bombs in Japan in 1945. When he heard of the first bombing at Hiroshima, he reportedly said, \"Ach! The world is not ready for it.\"\n",
        "\n",
        "Einstein became a major player in efforts to curtail usage of the A-bomb. The following year, he and Szilard founded the Emergency Committee of Atomic Scientists, and in 1947, via an essay for The Atlantic Monthly, Einstein espoused working with the United Nations to maintain nuclear weapons as a deterrent to conflict.\n",
        "\n",
        "After World War II, Einstein continued to work on his unified field theory and key aspects of his general theory of relativity, including time travel, wormholes, black holes, and the origins of the universe.\n",
        "\n",
        "However, he felt isolated in his endeavors since the majority of his colleagues had begun focusing their attention on quantum theory. In the last decade of his life, Einstein, who had always seen himself as a loner, withdrew even further from any sort of spotlight, preferring to stay close to Princeton and immerse himself in processing ideas with colleagues.\n",
        "\n",
        "In the late 1940s, Einstein became a member of the National Association for the Advancement of Colored People (NAACP), seeing the parallels between the treatment of Jews in Germany and Black people in the United States. He corresponded with scholar and activist W.E.B. Du Bois as well as performer Paul Robeson and campaigned for civil rights, calling racism a \"disease\" in a 1946 Lincoln University speech.\n",
        "\n",
        "Einstein was very particular about his sleep schedule, claiming he needed 10 hours of sleep per day to function well. His theory of relativity allegedly came to him in a dream about cows being electrocuted. He was also known to take regular naps. He is said to have held objects like a spoon or pencil in his hand while falling asleep. That way, he could wake up before hitting the second stage of sleep—a hypnagogic process believed to boost creativity and capture sleep-inspired ideas.\n",
        "\n",
        "Although sleep was important to Einstein, socks were not. He was famous for refusing to wear them. According to a letter he wrote to future wife Elsa, he stopped wearing them because he was annoyed by his big toe pushing through the material and creating a hole.\n",
        "\n",
        "One of the most recognizable photos of the 20th century shows Einstein sticking out his tongue while leaving his 72nd birthday party on March 14, 1951.\n",
        "\n",
        "According to Discovery.com, Einstein was leaving his party at Princeton when a swarm of reporters and photographers approached and asked him to smile. Tired from doing so all night, he refused and rebelliously stuck his tongue out at the crowd for a moment before turning away. UPI photographer Arthur Sasse captured the shot.\n",
        "\n",
        "Einstein was amused by the picture and ordered several prints to give to his friends. He also signed a copy of the photo that sold for $125,000 at a 2017 auction.\n",
        "\n",
        "Einstein died on April 18, 1955, at age 76 at the University Medical Center at Princeton. The previous day, while working on a speech to honor Israel's seventh anniversary, Einstein suffered an abdominal aortic aneurysm.\n",
        "\n",
        "He was taken to the hospital for treatment but refused surgery, believing that he had lived his life and was content to accept his fate. \"I want to go when I want,\" he stated at the time. \"It is tasteless to prolong life artificially. I have done my share, it is time to go. I will do it elegantly.\"\n",
        "\n",
        "According to the BBC, Einstein muttered a few words in German at the moment of his death. However, the nurse on duty didn't speak German so their translation was lost forever.\n",
        "\n",
        "In a 2014 interview, Life magazine photographer Ralph Morse said the hospital was swarmed by journalists, photographers, and onlookers once word of Einstein's death spread. Morse decided to travel to Einstein's office at the Institute for Advanced Studies, offering the superintendent alcohol to gain access. He was able to photograph the office just as Einstein left it.\n",
        "\n",
        "After an autopsy, Einstein's corpse was moved to a Princeton funeral home later that afternoon and then taken to Trenton, New Jersey, for a cremation ceremony. Morse said he was the only photographer present for the cremation, but Life managing editor Ed Thompson decided not to publish an exclusive story at the request of Einstein's son Hans.\n",
        "\n",
        "During Einstein's autopsy, pathologist Thomas Stoltz Harvey had removed his brain, reportedly without his family's consent, for preservation and future study by doctors of neuroscience.\n",
        "\n",
        "However, during his life, Einstein participated in brain studies, and at least one biography claimed he hoped researchers would study his brain after he died. Einstein's brain is now located at the Princeton University Medical Center. In keeping with his wishes, the rest of his body was cremated and the ashes scattered in a secret location.\n",
        "\n",
        "In 1999, Canadian scientists who were studying Einstein's brain found that his inferior parietal lobe, the area that processes spatial relationships, 3D-visualization, and mathematical thought, was 15 percent wider than in people who possess normal intelligence. According to The New York Times, the researchers believe it might help explain why Einstein was so intelligent.\n",
        "\n",
        "In 2011, the Mütter Museum in Philadelphia received thin slices of Einstein's brain from Dr. Lucy Rorke-Adams, a neuropathologist at the Children's Hospital of Philadelphia, and put them on display. Rorke-Adams said she received the brain slides from Harvey.\n",
        "\"\"\"\n",
        "\n",
        "print(\"📝 Sample Text:\")\n",
        "print(\"=\" * 50)\n",
        "print(sample_text[:500] + \"...\" if len(sample_text) > 500 else sample_text)\n",
        "print(\"=\" * 50)\n",
        "print(f\"Text length: {len(sample_text)} characters\")\n",
        "print(f\"Preview: First 500 characters shown above\")\n"
      ]
    },
    {
      "cell_type": "markdown",
      "metadata": {},
      "source": [
        "## Step 1: AI-Powered Information Extraction\n",
        "\n",
        "Use PydanticAI to extract CRM entities and relationships from the text.\n"
      ]
    },
    {
      "cell_type": "code",
      "execution_count": null,
      "metadata": {},
      "outputs": [
        {
          "name": "stdout",
          "output_type": "stream",
          "text": [
            "🔍 Extracting entities using PydanticAI...\n"
          ]
        }
      ],
      "source": [
        "# Initialize the information extractor\n",
        "extractor = InformationExtractor()\n",
        "\n",
        "# Extract entities and relationships\n",
        "print(\"🔍 Extracting entities using PydanticAI...\")\n",
        "extraction_result = await extractor.extract_from_text(sample_text)\n",
        "\n",
        "print(f\"✅ Extracted {len(extraction_result.entities)} entities\")\n",
        "print(f\"✅ Extracted {len(extraction_result.relationships)} relationships\")\n",
        "\n",
        "# Display extracted entities\n",
        "print(\"\\n📋 Extracted Entities:\")\n",
        "for i, entity in enumerate(extraction_result.entities, 1):\n",
        "    print(f\"{i}. {entity.label} ({entity.class_code}) - Confidence: {entity.confidence:.2f}\")\n",
        "\n",
        "# Display extracted relationships\n",
        "if extraction_result.relationships:\n",
        "    print(\"\\n🔗 Extracted Relationships:\")\n",
        "    for i, rel in enumerate(extraction_result.relationships, 1):\n",
        "        print(f\"{i}. {rel.property_label} - Confidence: {rel.confidence:.2f}\")\n"
      ]
    },
    {
      "cell_type": "markdown",
      "metadata": {},
      "source": [
        "## Step 2: Convert to CRM Entities\n",
        "\n",
        "Transform the extracted data into proper CIDOC CRM entities.\n"
      ]
    },
    {
      "cell_type": "code",
      "execution_count": null,
      "metadata": {},
      "outputs": [
        {
          "name": "stdout",
          "output_type": "stream",
          "text": [
            "✅ Created 87 CRM entities\n",
            "\n",
            "🏗️ CRM Entities:\n",
            "1. Albert Einstein (E21)\n",
            "   ID: 96bad046-6151-4ca3-a308-03550766ea38\n",
            "   Notes: Person mentioned in context: Albert Einstein was born on March 14, 1879, in Ulm, Württemberg, German...\n",
            "\n",
            "2. in Philadelphia (E21)\n",
            "   ID: 0dbb60fb-71bd-4fe6-81a4-9c0413381345\n",
            "   Notes: Person mentioned in context: earchers believe it might help explain why Einstein was so intelligent....\n",
            "\n",
            "3. said she (E21)\n",
            "   ID: 7c7bc489-cd8f-4316-86f2-16da2034ddc5\n",
            "   Notes: Person mentioned in context: a neuropathologist at the Children's Hospital of Philadelphia, and put ...\n",
            "\n",
            "4. Ulm (E53)\n",
            "   ID: c14a90aa-fd07-471d-a82c-f1f177cc434d\n",
            "   Notes: Place mentioned in context: Albert Einstein was born on March 14, 1879, in Ulm, Württemberg, Germany...\n",
            "\n",
            "5. Munich (E53)\n",
            "   ID: 92ed8c87-e3de-4b8c-8d6d-3f5112d8d4cc\n",
            "   Notes: Place mentioned in context: ded Elektrotechnische Fabrik J. Einstein & Cie, a Munich-based company t...\n",
            "\n",
            "6. Munich (E53)\n",
            "   ID: 8c6e9e4d-7ed7-4ca1-9bf0-e258d27fd1d9\n",
            "   Notes: Place mentioned in context: ed elementary school at the Luitpold Gymnasium in Munich. However, he fe...\n",
            "\n",
            "7. Munich (E53)\n",
            "   ID: 39c70a4f-1dc8-4d15-b35d-094444a35f8b\n",
            "   Notes: Place mentioned in context: nstein was left at a relative's boarding house in Munich to complete his...\n",
            "\n",
            "8. Zurich (E53)\n",
            "   ID: 89e9ca92-a432-484c-af5e-61067bd8ab77\n",
            "   Notes: Place mentioned in context: into the Swiss Federal Institute of Technology in Zurich, specifically d...\n",
            "\n",
            "9. Zurich (E53)\n",
            "   ID: 0bccdcec-7207-4adc-9b54-e011400a0a6c\n",
            "   Notes: Place mentioned in context: ric on January 6, 1903. While attending school in Zurich, Einstein met M...\n",
            "\n",
            "10. Princeton (E53)\n",
            "   ID: a0598714-115e-44e5-9917-1a9dbbd93318\n",
            "   Notes: Place mentioned in context: a position at the Institute for Advanced Study in Princeton, New Jersey,...\n",
            "\n",
            "11. Princeton (E53)\n",
            "   ID: 869a69af-56cd-46f8-af6f-2ce114d1ae8d\n",
            "   Notes: Place mentioned in context: ny sort of spotlight, preferring to stay close to Princeton and immerse ...\n",
            "\n",
            "12. Princeton (E53)\n",
            "   ID: b09355a3-57cc-477a-b7e9-a922178224d2\n",
            "   Notes: Place mentioned in context: Discovery.com, Einstein was leaving his party at Princeton when a swarm ...\n",
            "\n",
            "13. Princeton (E53)\n",
            "   ID: 588eaa18-8c2d-434e-9bff-a3d8433b608b\n",
            "   Notes: Place mentioned in context: 55, at age 76 at the University Medical Center at Princeton. The previou...\n",
            "\n",
            "14. Princeton (E53)\n",
            "   ID: 14928449-ff5d-4edb-9a66-1414865760d8\n",
            "   Notes: Place mentioned in context: fter an autopsy, Einstein's corpse was moved to a Princeton funeral home...\n",
            "\n",
            "15. Princeton (E53)\n",
            "   ID: f31936d0-a6d4-40f3-a162-0a5fa98be036\n",
            "   Notes: Place mentioned in context: r he died. Einstein's brain is now located at the Princeton University M...\n",
            "\n",
            "16. New York (E53)\n",
            "   ID: a96defd8-3b13-4862-b6b5-eae3b5b2c2e6\n",
            "   Notes: Place mentioned in context: who possess normal intelligence. According to The New York Times, the re...\n",
            "\n",
            "17. Switzerland (E53)\n",
            "   ID: 0b7cc43e-4b53-4e5e-a7b0-6c3c0299a4a8\n",
            "   Notes: Place mentioned in context: n first and thus attended a high school in Aarau, Switzerland, helmed by...\n",
            "\n",
            "18. Germany (E53)\n",
            "   ID: 0239cbd8-3a47-429b-8196-16de80cb026b\n",
            "   Notes: Place mentioned in context: was born on March 14, 1879, in Ulm, Württemberg, Germany. He grew up in ...\n",
            "\n",
            "19. Germany (E53)\n",
            "   ID: 4e732ecd-4a18-48b1-b48b-f8a02b9f342d\n",
            "   Notes: Place mentioned in context: a and vitriol in an impoverished post-World War I Germany. The Nazi Part...\n",
            "\n",
            "20. Germany (E53)\n",
            "   ID: 291685bf-d879-426c-bda4-41cb54843b93\n",
            "   Notes: Place mentioned in context: ropean scientists also left regions threatened by Germany and immigrated...\n",
            "\n",
            "21. Germany (E53)\n",
            "   ID: 7a6fb0fb-e55c-4db5-a22f-13390f2ec39c\n",
            "   Notes: Place mentioned in context: ng the parallels between the treatment of Jews in Germany and Black peop...\n",
            "\n",
            "22. Italy (E53)\n",
            "   ID: 0a4e07a1-dd5d-44e5-82d5-2fd70672a3e9\n",
            "   Notes: Place mentioned in context: Fields.\"\n",
            "\n",
            "Hermann relocated the family to Milan, Italy, in the mid-1890s...\n",
            "\n",
            "23. Italy (E53)\n",
            "   ID: 34e0881f-a74f-4fd9-bb90-490790fcc021\n",
            "   Notes: Place mentioned in context: vous exhaustion. With their son rejoining them in Italy, his parents und...\n",
            "\n",
            "24. United States (E53)\n",
            "   ID: e2f347f8-830e-496e-9ed5-6a70356830a7\n",
            "   Notes: Place mentioned in context: gions threatened by Germany and immigrated to the United States, with co...\n",
            "\n",
            "25. United States (E53)\n",
            "   ID: de77135d-9f2a-4c89-8e63-26a8b85d8f9c\n",
            "   Notes: Place mentioned in context: e possibility of a Nazi bomb and to galvanize the United States to creat...\n",
            "\n",
            "26. United States (E53)\n",
            "   ID: a11ba249-6f88-4ec7-95c3-bafa53af4557\n",
            "   Notes: Place mentioned in context: ed States to create its own nuclear weapons.\n",
            "\n",
            "The United States would ev...\n",
            "\n",
            "27. United States (E53)\n",
            "   ID: 08c47753-500d-41cf-a0c5-ed025c43911a\n",
            "   Notes: Place mentioned in context: atment of Jews in Germany and Black people in the United States. He corr...\n",
            "\n",
            "28. theory of relativity (E22)\n",
            "   ID: 78e7f85f-a9e3-40dd-ad5a-ded0fa577c16\n",
            "   Notes: Object or concept mentioned in context: the photoelectric effect and Brownian motion. The two others...\n",
            "\n",
            "29. theory of relativity and the equation E (E22)\n",
            "   ID: 3bf38e4c-4dc3-450c-8e3b-bc499bc9f2d0\n",
            "   Notes: Object or concept mentioned in context: dy of physics.\n",
            "\n",
            "As a physicist, Einstein had many discoverie...\n",
            "\n",
            "30. theory of relativity in  (E22)\n",
            "   ID: 1e28a47e-d086-4c92-ab7c-99340b80b214\n",
            "   Notes: Object or concept mentioned in context: oreshadowed the development of atomic power and the atomic b...\n",
            "\n",
            "31. theory explains that space and time are actually connected (E22)\n",
            "   ID: 2ab934c6-7d91-496b-8dd5-6ae88cfc6b85\n",
            "   Notes: Object or concept mentioned in context: \"On the Electrodynamics of Moving Bodies,\" which took physic...\n",
            "\n",
            "32. theory of relativity (E22)\n",
            "   ID: f755c592-ca40-41d2-a3f6-106321e9b576\n",
            "   Notes: Object or concept mentioned in context: Einstein called this joint structure space-time.\n",
            "\n",
            "By Novembe...\n",
            "\n",
            "33. theory the culmination of his life research (E22)\n",
            "   ID: 8bb4b78c-f40b-4b85-a5f3-bd8544a29523\n",
            "   Notes: Object or concept mentioned in context: y of relativity, which accounted for gravity's relationship ...\n",
            "\n",
            "34. theory and key aspects of his general theory of relativity (E22)\n",
            "   ID: 5cbd04ff-f7c7-45d0-9b23-dbc78f470079\n",
            "   Notes: Object or concept mentioned in context: ns as a deterrent to conflict.\n",
            "\n",
            "After World War II, Einstein...\n",
            "\n",
            "35. theory of relativity allegedly came to him in a dream about cows being electrocuted (E22)\n",
            "   ID: de8646c7-f71a-4f45-9fe7-6c7ed1573eb3\n",
            "   Notes: Object or concept mentioned in context: icular about his sleep schedule, claiming he needed 10 hours...\n",
            "\n",
            "36. paper on the matter (E22)\n",
            "   ID: 6feb2b20-a3e6-4fa3-87ce-768384575b64\n",
            "   Notes: Object or concept mentioned in context: ries of relativity underpin the accuracy of GPS technology, ...\n",
            "\n",
            "37. Nobel Prize in Physics for his explanation of the photoelectric effect (E22)\n",
            "   ID: 695a51e1-4ba7-4dce-99ec-04bd1f95133c\n",
            "   Notes: Object or concept mentioned in context: day is known as the Max Planck Institute for Physics) from 1...\n",
            "\n",
            "38. Nobel Prize in the future (E22)\n",
            "   ID: 39ca61ae-1964-47f2-b08b-a727c244e643\n",
            "   Notes: Object or concept mentioned in context: as part of a settlement, agreed to give Maric any funds he m...\n",
            "\n",
            "39. theory of relativity (E22)\n",
            "   ID: 30bfa204-8f4f-4015-8570-603d5d1e0cdb\n",
            "   Notes: Object or concept mentioned in context: the photoelectric effect and Brownian motion. The two others...\n",
            "\n",
            "40. theory of relativity (E22)\n",
            "   ID: 41d4d77f-fc60-4ef8-a82d-4e983285907a\n",
            "   Notes: Object or concept mentioned in context: dy of physics.\n",
            "\n",
            "As a physicist, Einstein had many discoverie...\n",
            "\n",
            "41. theory of relativity (E22)\n",
            "   ID: 37d04a37-6f06-4c6f-b656-71a6792466f6\n",
            "   Notes: Object or concept mentioned in context: oreshadowed the development of atomic power and the atomic b...\n",
            "\n",
            "42. theory of relativity (E22)\n",
            "   ID: 82a5983d-89d3-40f4-9de0-39a5ea3ad9c4\n",
            "   Notes: Object or concept mentioned in context: Einstein called this joint structure space-time.\n",
            "\n",
            "By Novembe...\n",
            "\n",
            "43. theory of relativity (E22)\n",
            "   ID: b3f93a93-00f2-4144-9174-a69f42b8ab95\n",
            "   Notes: Object or concept mentioned in context: World War II, Einstein continued to work on his unified fiel...\n",
            "\n",
            "44. theory of relativity (E22)\n",
            "   ID: 76484aca-1a42-4a97-ac84-68a91f0ae784\n",
            "   Notes: Object or concept mentioned in context: icular about his sleep schedule, claiming he needed 10 hours...\n",
            "\n",
            "45. photoelectric effect (E22)\n",
            "   ID: f4668656-bc0c-47a8-9adc-41a20aa67875\n",
            "   Notes: Object or concept mentioned in context: ed in the Annalen der Physik, one of the best-known physics ...\n",
            "\n",
            "46. photoelectric effect (E22)\n",
            "   ID: fc1aea2c-9afc-4a3c-be3c-44f5c3038ea3\n",
            "   Notes: Object or concept mentioned in context: cs) from 1917 to 1933.\n",
            "\n",
            "In 1921, Einstein won the Nobel Priz...\n",
            "\n",
            "47. atomic bomb (E22)\n",
            "   ID: 9bc9f35d-c439-48d3-8916-d30d33a0b658\n",
            "   Notes: Object or concept mentioned in context: ry of relativity and the equation E=MC2, which foreshadowed ...\n",
            "\n",
            "48. Manhattan Project (E22)\n",
            "   ID: 2ecbd18f-5c91-450c-8e26-4d8b4b5c9d40\n",
            "   Notes: Object or concept mentioned in context: e United States to create its own nuclear weapons.\n",
            "\n",
            "The Unit...\n",
            "\n",
            "49. atomic bomb (E22)\n",
            "   ID: 4acb827b-a92c-4dda-9831-e0f2f2a4e140\n",
            "   Notes: Object or concept mentioned in context: Alamos were forbidden from consulting with him.\n",
            "\n",
            "Einstein ha...\n",
            "\n",
            "50. born in 1902 (E52)\n",
            "   ID: 0d2b8360-bd96-4f07-be23-1d50c66edbd4\n",
            "   Notes: Time period mentioned in context: le married shortly thereafter.\n",
            "\n",
            "Einstein and Mavic had three child...\n",
            "\n",
            "51. March 14, 1879 (E52)\n",
            "   ID: 77bee981-0d05-405e-8091-73fb9a1d0dee\n",
            "   Notes: Time period mentioned in context: Albert Einstein was born on March 14, 1879, in Ulm, Württemberg, G...\n",
            "\n",
            "52. January 6, 1903 (E52)\n",
            "   ID: 11d90f9f-a4fc-4b88-bb11-40ecbab71a07\n",
            "   Notes: Time period mentioned in context: his acceptance speech, he still opted to speak about relativity.\n",
            "\n",
            "...\n",
            "\n",
            "53. March 14, 1951 (E52)\n",
            "   ID: fe0cba01-bfd3-46ba-a926-c4be9c1c2045\n",
            "   Notes: Time period mentioned in context: of the 20th century shows Einstein sticking out his tongue while l...\n",
            "\n",
            "54. April 18, 1955 (E52)\n",
            "   ID: eca7cfb0-8d1a-422c-9dce-002d22e3150c\n",
            "   Notes: Time period mentioned in context: nds. He also signed a copy of the photo that sold for $125,000 at ...\n",
            "\n",
            "55. late 1940s (E52)\n",
            "   ID: d3ed2baf-008b-49e1-acbe-78753181f43e\n",
            "   Notes: Time period mentioned in context: ferring to stay close to Princeton and immerse himself in processi...\n",
            "\n",
            "56. 1880s (E52)\n",
            "   ID: 066ac864-8d37-4fb5-b5e5-f81128539dd5\n",
            "   Notes: Time period mentioned in context: nificantly, Einstein's youth was marked by deep inquisitiveness an...\n",
            "\n",
            "57. 1890s (E52)\n",
            "   ID: 9dca2be8-e983-4d16-8acd-015b985bb8da\n",
            "   Notes: Time period mentioned in context: the State of Aether in Magnetic Fields.\"\n",
            "\n",
            "Hermann relocated the fa...\n",
            "\n",
            "58. 1940s (E52)\n",
            "   ID: 172d10c3-d497-4ccf-baf9-f5dbc8b0b8b3\n",
            "   Notes: Time period mentioned in context: ng to stay close to Princeton and immerse himself in processing id...\n",
            "\n",
            "59. 1879 (E52)\n",
            "   ID: 973e487e-23e0-4f10-9f97-a52a16848720\n",
            "   Notes: Time period mentioned in context: Albert Einstein was born on March 14, 1879, in Ulm, Württemberg, G...\n",
            "\n",
            "60. 1902 (E52)\n",
            "   ID: 7512a9e8-e909-4347-aa2f-1952dfc88e25\n",
            "   Notes: Time period mentioned in context: g class more regularly in lieu of studying independently.\n",
            "\n",
            "Einstei...\n",
            "\n",
            "61. 1905 (E52)\n",
            "   ID: 9721b54c-8a54-4156-af99-e444b5a4b693\n",
            "   Notes: Time period mentioned in context: y studies and thus cemented his theorems on what would be known as...\n",
            "\n",
            "62. 1905 (E52)\n",
            "   ID: 795fcabd-8c3d-48a3-bad3-607b8ff7aa5a\n",
            "   Notes: Time period mentioned in context: ent of atomic power and the atomic bomb.\n",
            "\n",
            "Einstein first proposed ...\n",
            "\n",
            "63. 1915 (E52)\n",
            "   ID: a66f2c60-0d03-414a-be25-0494e12f3cb8\n",
            "   Notes: Time period mentioned in context: and time are actually connected, and Einstein called this joint st...\n",
            "\n",
            "64. 1919 (E52)\n",
            "   ID: 8f73df94-5ef6-45e0-8e21-efbc6ee1f23c\n",
            "   Notes: Time period mentioned in context: vations and measurements by British astronomers Sir Frank Dyson an...\n",
            "\n",
            "65. 1905 (E52)\n",
            "   ID: bbcc4522-eebb-43e5-a1af-03a41247948a\n",
            "   Notes: Time period mentioned in context: theories of relativity underpin the accuracy of GPS technology, am...\n",
            "\n",
            "66. 1917 (E52)\n",
            "   ID: 69445020-819d-4a3e-bfde-e0b334c74899\n",
            "   Notes: Time period mentioned in context: Kaiser Wilhelm Institute for Physics (today is known as the Max Pl...\n",
            "\n",
            "67. 1933 (E52)\n",
            "   ID: f9069d39-197a-4fc4-ba7b-f78a21498a91\n",
            "   Notes: Time period mentioned in context: Wilhelm Institute for Physics (today is known as the Max Planck In...\n",
            "\n",
            "68. 1921 (E52)\n",
            "   ID: 2c77a00b-a50c-41ed-b607-e56f36e4b709\n",
            "   Notes: Time period mentioned in context: stitute for Physics (today is known as the Max Planck Institute fo...\n",
            "\n",
            "69. 1903 (E52)\n",
            "   ID: 86be109a-c779-4c16-9ba3-c920793da2bc\n",
            "   Notes: Time period mentioned in context: ance speech, he still opted to speak about relativity.\n",
            "\n",
            "Einstein m...\n",
            "\n",
            "70. 1902 (E52)\n",
            "   ID: a51c5755-526a-436c-84a5-c665914f055e\n",
            "   Notes: Time period mentioned in context: ce via letters in which he expressed many of his scientific ideas....\n",
            "\n",
            "71. 1902 (E52)\n",
            "   ID: 650d592b-0150-4a18-a503-9e4c09878d7c\n",
            "   Notes: Time period mentioned in context: ed shortly thereafter.\n",
            "\n",
            "Einstein and Mavic had three children. The...\n",
            "\n",
            "72. 1919 (E52)\n",
            "   ID: ea4cf590-c674-4a43-ac25-e2061b69edc7\n",
            "   Notes: Time period mentioned in context: hrenia as a young man.\n",
            "\n",
            "The Einsteins' marriage would not be a hap...\n",
            "\n",
            "73. 1919 (E52)\n",
            "   ID: a145329d-4a16-4571-8fdc-4809490fd130\n",
            "   Notes: Time period mentioned in context: instein had also begun an affair some time earlier with a cousin, ...\n",
            "\n",
            "74. 1936 (E52)\n",
            "   ID: d1e4f380-a79e-4078-8685-4afa47f36d67\n",
            "   Notes: Time period mentioned in context: d continue to see other women throughout his second marriage, whic...\n",
            "\n",
            "75. 1933 (E52)\n",
            "   ID: 4429a1f3-4b7e-42c3-ad5a-e4c6f62b362c\n",
            "   Notes: Time period mentioned in context: to see other women throughout his second marriage, which ended wit...\n",
            "\n",
            "76. 1935 (E52)\n",
            "   ID: e5ef21d5-bea5-4a80-9d6c-60e3315d0d80\n",
            "   Notes: Time period mentioned in context: pportunities people had for free thought, a stark contrast to his ...\n",
            "\n",
            "77. 1939 (E52)\n",
            "   ID: de74bbef-7d70-4f5a-b24f-348f1b699029\n",
            "   Notes: Time period mentioned in context: s and made big monetary donations to the military by auctioning of...\n",
            "\n",
            "78. 1940 (E52)\n",
            "   ID: 2ed6469a-fc20-494e-992b-fd8863ce50db\n",
            "   Notes: Time period mentioned in context: s also the recipient of much scrutiny and major distrust from FBI ...\n",
            "\n",
            "79. 1945 (E52)\n",
            "   ID: 5517bd7f-e031-4cb3-b4dc-6c6a934f4938\n",
            "   Notes: Time period mentioned in context: om consulting with him.\n",
            "\n",
            "Einstein had no knowledge of the U.S. pla...\n",
            "\n",
            "80. 1947 (E52)\n",
            "   ID: dfb6d3b0-52a6-4115-9c5d-17d2d06928b3\n",
            "   Notes: Time period mentioned in context: mb. The following year, he and Szilard founded the Emergency Commi...\n",
            "\n",
            "81. 1946 (E52)\n",
            "   ID: 6dae5f29-6817-499a-8d22-e19bd4d647af\n",
            "   Notes: Time period mentioned in context: as well as performer Paul Robeson and campaigned for civil rights,...\n",
            "\n",
            "82. 1951 (E52)\n",
            "   ID: 6105354b-4d79-4ffe-a4ba-1df2cff00d2d\n",
            "   Notes: Time period mentioned in context: h century shows Einstein sticking out his tongue while leaving his...\n",
            "\n",
            "83. 2017 (E52)\n",
            "   ID: 1c082125-224c-4bf5-a70d-fcea3d942242\n",
            "   Notes: Time period mentioned in context: veral prints to give to his friends. He also signed a copy of the ...\n",
            "\n",
            "84. 1955 (E52)\n",
            "   ID: 15dd3d01-b460-40e4-9567-c39bb50e53fe\n",
            "   Notes: Time period mentioned in context: so signed a copy of the photo that sold for $125,000 at a 2017 auc...\n",
            "\n",
            "85. 2014 (E52)\n",
            "   ID: b6714260-662a-4aaa-9c78-f3e0e9d91fda\n",
            "   Notes: Time period mentioned in context: death. However, the nurse on duty didn't speak German so their tra...\n",
            "\n",
            "86. 1999 (E52)\n",
            "   ID: 0181924d-6002-442d-9e11-d6a234291d71\n",
            "   Notes: Time period mentioned in context: ith his wishes, the rest of his body was cremated and the ashes sc...\n",
            "\n",
            "87. 2011 (E52)\n",
            "   ID: 5495d943-d7df-4425-9943-cce5d670ead0\n",
            "   Notes: Time period mentioned in context: New York Times, the researchers believe it might help explain why ...\n",
            "\n"
          ]
        }
      ],
      "source": [
        "# Convert extracted entities to CRM entities\n",
        "crm_entities = []\n",
        "for entity in extraction_result.entities:\n",
        "    crm_entity = CRMEntity(\n",
        "        id=str(entity.id),\n",
        "        class_code=entity.class_code,\n",
        "        label=entity.label,\n",
        "        notes=entity.description,\n",
        "        type=[entity.class_code]\n",
        "    )\n",
        "    crm_entities.append(crm_entity)\n",
        "\n",
        "print(f\"✅ Created {len(crm_entities)} CRM entities\")\n",
        "\n",
        "# Display CRM entities\n",
        "print(\"\\n🏗️ CRM Entities:\")\n",
        "for i, entity in enumerate(crm_entities, 1):\n",
        "    print(f\"{i}. {entity.label} ({entity.class_code})\")\n",
        "    print(f\"   ID: {entity.id}\")\n",
        "    print(f\"   Notes: {entity.notes[:100]}...\" if entity.notes and len(entity.notes) > 100 else f\"   Notes: {entity.notes}\")\n",
        "    print()\n"
      ]
    },
    {
      "cell_type": "markdown",
      "metadata": {},
      "source": [
        "## Step 3: Serialize as Canonical JSON\n",
        "\n",
        "**This is the crucial step for async/future processing!** Serialize the CRM entities as canonical JSON that can be easily loaded into graph databases, APIs, or other processing pipelines.\n"
      ]
    },
    {
      "cell_type": "code",
      "execution_count": null,
      "metadata": {},
      "outputs": [
        {
          "name": "stdout",
          "output_type": "stream",
          "text": [
            "💾 Serialized 87 entities to canonical JSON\n",
            "✅ Saved canonical JSON to: notebook_output/canonical_entities.json\n",
            "\n",
            "📋 Canonical JSON Structure (first entity):\n",
            "{\n",
            "  \"id\": \"96bad046-6151-4ca3-a308-03550766ea38\",\n",
            "  \"class_code\": \"E21\",\n",
            "  \"label\": \"Albert Einstein\",\n",
            "  \"notes\": \"Person mentioned in context: Albert Einstein was born on March 14, 1879, in Ulm, W\\u00fcrttemberg, Germany. He grew up in a secular Jewish family. His father,\",\n",
            "  \"type\": [\n",
            "    \"E21\"\n",
            "  ]\n",
            "}\n",
            "\n",
            "🔄 Loading back from canonical JSON...\n",
            "✅ Successfully loaded 87 entities from JSON\n",
            "✅ Data integrity verified: True\n"
          ]
        }
      ],
      "source": [
        "# Serialize as canonical JSON using Pydantic models\n",
        "json_data = [entity.model_dump(mode='json') for entity in crm_entities]\n",
        "\n",
        "print(f\"💾 Serialized {len(json_data)} entities to canonical JSON\")\n",
        "\n",
        "# Create output directory\n",
        "output_dir = Path(\"notebook_output\")\n",
        "output_dir.mkdir(exist_ok=True)\n",
        "\n",
        "# Save canonical JSON\n",
        "json_file = output_dir / \"canonical_entities.json\"\n",
        "with open(json_file, \"w\") as f:\n",
        "    json.dump(json_data, f, indent=2)\n",
        "\n",
        "print(f\"✅ Saved canonical JSON to: {json_file}\")\n",
        "\n",
        "# Display the structure of canonical JSON\n",
        "print(\"\\n📋 Canonical JSON Structure (first entity):\")\n",
        "print(json.dumps(json_data[0], indent=2))\n",
        "\n",
        "# Demonstrate loading back from JSON\n",
        "print(\"\\n🔄 Loading back from canonical JSON...\")\n",
        "with open(json_file, \"r\") as f:\n",
        "    loaded_data = json.load(f)\n",
        "\n",
        "loaded_entities = []\n",
        "for entity_data in loaded_data:\n",
        "    entity = CRMEntity(**entity_data)\n",
        "    loaded_entities.append(entity)\n",
        "\n",
        "print(f\"✅ Successfully loaded {len(loaded_entities)} entities from JSON\")\n",
        "print(f\"✅ Data integrity verified: {len(loaded_entities) == len(crm_entities)}\")\n"
      ]
    },
    {
      "cell_type": "markdown",
      "metadata": {},
      "source": [
        "## Step 4: Render to Markdown\n",
        "\n",
        "Generate human-readable reports in Markdown format.\n"
      ]
    },
    {
      "cell_type": "code",
      "execution_count": null,
      "metadata": {},
      "outputs": [
        {
          "name": "stdout",
          "output_type": "stream",
          "text": [
            "📄 Generating Markdown reports...\n",
            "✅ Generated entity card: notebook_output/markdown/entity_1_E21.md\n",
            "✅ Generated entity card: notebook_output/markdown/entity_2_E21.md\n",
            "✅ Generated entity card: notebook_output/markdown/entity_3_E21.md\n",
            "✅ Generated entity card: notebook_output/markdown/entity_4_E53.md\n",
            "✅ Generated entity card: notebook_output/markdown/entity_5_E53.md\n",
            "✅ Generated summary table: notebook_output/markdown/entities_summary.md\n",
            "\n",
            "📊 Entities Summary Table:\n",
            "| id | class_code | label | type |\n",
            "| --- | --- | --- | --- |\n",
            "| 96bad046... | E21 | Albert Einstein | E21 |\n",
            "| 0dbb60fb... | E21 | in Philadelphia | E21 |\n",
            "| 7c7bc489... | E21 | said she | E21 |\n",
            "| c14a90aa... | E53 | Ulm | E53 |\n",
            "| 92ed8c87... | E53 | Munich | E53 |\n",
            "| 8c6e9e4d... | E53 | Munich | E53 |\n",
            "| 39c70a4f... | E53 | Munich | E53 |\n",
            "| 89e9ca92... | E53 | Zurich | E53 |\n",
            "| 0bccdcec... | E53 | Zurich | E53 |\n",
            "| a0598714... | E53 | Princeton | E53 |\n",
            "| 869a69af... | E53 | Princeton | E53 |\n",
            "| b09355a3... | E53 | Princeton | E53 |\n",
            "| 588eaa18... | E53 | Princeton | E53 |\n",
            "| 14928449... | E53 | Princeton | E53 |\n",
            "| f31936d0... | E53 | Princeton | E53 |\n",
            "| a96defd8... | E53 | New York | E53 |\n",
            "| 0b7cc43e... | E53 | Switzerland | E53 |\n",
            "| 0239cbd8... | E53 | Germany | E53 |\n",
            "| 4e732ecd... | E53 | Germany | E53 |\n",
            "| 291685bf... | E53 | Germany | E53 |\n",
            "| 7a6fb0fb... | E53 | Germany | E53 |\n",
            "| 0a4e07a1... | E53 | Italy | E53 |\n",
            "| 34e0881f... | E53 | Italy | E53 |\n",
            "| e2f347f8... | E53 | United States | E53 |\n",
            "| de77135d... | E53 | United States | E53 |\n",
            "| a11ba249... | E53 | United States | E53 |\n",
            "| 08c47753... | E53 | United States | E53 |\n",
            "| 78e7f85f... | E22 | theory of relativity | E22 |\n",
            "| 3bf38e4c... | E22 | theory of relativity and the equation E | E22 |\n",
            "| 1e28a47e... | E22 | theory of relativity in  | E22 |\n",
            "| 2ab934c6... | E22 | theory explains that space and time are actually connected | E22 |\n",
            "| f755c592... | E22 | theory of relativity | E22 |\n",
            "| 8bb4b78c... | E22 | theory the culmination of his life research | E22 |\n",
            "| 5cbd04ff... | E22 | theory and key aspects of his general theory of relativity | E22 |\n",
            "| de8646c7... | E22 | theory of relativity allegedly came to him in a dream about cows being electrocuted | E22 |\n",
            "| 6feb2b20... | E22 | paper on the matter | E22 |\n",
            "| 695a51e1... | E22 | Nobel Prize in Physics for his explanation of the photoelectric effect | E22 |\n",
            "| 39ca61ae... | E22 | Nobel Prize in the future | E22 |\n",
            "| 30bfa204... | E22 | theory of relativity | E22 |\n",
            "| 41d4d77f... | E22 | theory of relativity | E22 |\n",
            "| 37d04a37... | E22 | theory of relativity | E22 |\n",
            "| 82a5983d... | E22 | theory of relativity | E22 |\n",
            "| b3f93a93... | E22 | theory of relativity | E22 |\n",
            "| 76484aca... | E22 | theory of relativity | E22 |\n",
            "| f4668656... | E22 | photoelectric effect | E22 |\n",
            "| fc1aea2c... | E22 | photoelectric effect | E22 |\n",
            "| 9bc9f35d... | E22 | atomic bomb | E22 |\n",
            "| 2ecbd18f... | E22 | Manhattan Project | E22 |\n",
            "| 4acb827b... | E22 | atomic bomb | E22 |\n",
            "| 0d2b8360... | E52 | born in 1902 | E52 |\n",
            "| 77bee981... | E52 | March 14, 1879 | E52 |\n",
            "| 11d90f9f... | E52 | January 6, 1903 | E52 |\n",
            "| fe0cba01... | E52 | March 14, 1951 | E52 |\n",
            "| eca7cfb0... | E52 | April 18, 1955 | E52 |\n",
            "| d3ed2baf... | E52 | late 1940s | E52 |\n",
            "| 066ac864... | E52 | 1880s | E52 |\n",
            "| 9dca2be8... | E52 | 1890s | E52 |\n",
            "| 172d10c3... | E52 | 1940s | E52 |\n",
            "| 973e487e... | E52 | 1879 | E52 |\n",
            "| 7512a9e8... | E52 | 1902 | E52 |\n",
            "| 9721b54c... | E52 | 1905 | E52 |\n",
            "| 795fcabd... | E52 | 1905 | E52 |\n",
            "| a66f2c60... | E52 | 1915 | E52 |\n",
            "| 8f73df94... | E52 | 1919 | E52 |\n",
            "| bbcc4522... | E52 | 1905 | E52 |\n",
            "| 69445020... | E52 | 1917 | E52 |\n",
            "| f9069d39... | E52 | 1933 | E52 |\n",
            "| 2c77a00b... | E52 | 1921 | E52 |\n",
            "| 86be109a... | E52 | 1903 | E52 |\n",
            "| a51c5755... | E52 | 1902 | E52 |\n",
            "| 650d592b... | E52 | 1902 | E52 |\n",
            "| ea4cf590... | E52 | 1919 | E52 |\n",
            "| a145329d... | E52 | 1919 | E52 |\n",
            "| d1e4f380... | E52 | 1936 | E52 |\n",
            "| 4429a1f3... | E52 | 1933 | E52 |\n",
            "| e5ef21d5... | E52 | 1935 | E52 |\n",
            "| de74bbef... | E52 | 1939 | E52 |\n",
            "| 2ed6469a... | E52 | 1940 | E52 |\n",
            "| 5517bd7f... | E52 | 1945 | E52 |\n",
            "| dfb6d3b0... | E52 | 1947 | E52 |\n",
            "| 6dae5f29... | E52 | 1946 | E52 |\n",
            "| 6105354b... | E52 | 1951 | E52 |\n",
            "| 1c082125... | E52 | 2017 | E52 |\n",
            "| 15dd3d01... | E52 | 1955 | E52 |\n",
            "| b6714260... | E52 | 2014 | E52 |\n",
            "| 0181924d... | E52 | 1999 | E52 |\n",
            "| 5495d943... | E52 | 2011 | E52 |\n"
          ]
        }
      ],
      "source": [
        "# Create markdown directory\n",
        "markdown_dir = output_dir / \"markdown\"\n",
        "markdown_dir.mkdir(exist_ok=True)\n",
        "\n",
        "# Generate individual entity cards\n",
        "print(\"📄 Generating Markdown reports...\")\n",
        "for i, entity in enumerate(crm_entities[:5]):  # Show first 5 entities\n",
        "    markdown_card = to_markdown(entity, MarkdownStyle.CARD)\n",
        "    card_file = markdown_dir / f\"entity_{i+1}_{entity.class_code}.md\"\n",
        "    with open(card_file, \"w\") as f:\n",
        "        f.write(markdown_card)\n",
        "    print(f\"✅ Generated entity card: {card_file}\")\n",
        "\n",
        "# Generate summary table\n",
        "table_markdown = render_table(crm_entities)\n",
        "table_file = markdown_dir / \"entities_summary.md\"\n",
        "with open(table_file, \"w\") as f:\n",
        "    f.write(\"# CRM Entities Summary\\n\\n\" + table_markdown)\n",
        "\n",
        "print(f\"✅ Generated summary table: {table_file}\")\n",
        "\n",
        "# Display the summary table\n",
        "print(\"\\n📊 Entities Summary Table:\")\n",
        "print(table_markdown)\n"
      ]
    },
    {
      "cell_type": "markdown",
      "metadata": {},
      "source": [
        "## Step 5: Convert to NetworkX Graph\n",
        "\n",
        "Transform the CRM entities into a NetworkX graph for social network analysis.\n"
      ]
    },
    {
      "cell_type": "code",
      "execution_count": null,
      "metadata": {},
      "outputs": [
        {
          "name": "stdout",
          "output_type": "stream",
          "text": [
            "🕸️ Created NetworkX graph with 87 nodes and 0 edges\n",
            "\n",
            "📊 Graph Information:\n",
            "Nodes: ['96bad046-6151-4ca3-a308-03550766ea38', '0dbb60fb-71bd-4fe6-81a4-9c0413381345', '7c7bc489-cd8f-4316-86f2-16da2034ddc5', 'c14a90aa-fd07-471d-a82c-f1f177cc434d', '92ed8c87-e3de-4b8c-8d6d-3f5112d8d4cc']...\n",
            "Edges: []\n",
            "\n",
            "🏷️ Node Data (first 3 nodes):\n",
            "Node 1: {'class_code': 'E21', 'label': 'Albert Einstein', 'notes': 'Person mentioned in context: Albert Einstein was born on March 14, 1879, in Ulm, Württemberg, Germany. He grew up in a secular Jewish family. His father,', 'type': ['E21']}\n",
            "Node 2: {'class_code': 'E21', 'label': 'in Philadelphia', 'notes': \"Person mentioned in context: earchers believe it might help explain why Einstein was so intelligent.\\n\\nIn 2011, the Mütter Museum in Philadelphia received thin slices of Einstein's brain from Dr. Lucy Rorke-Adams, a neuropathologist at the Children's Hosp\", 'type': ['E21']}\n",
            "Node 3: {'class_code': 'E21', 'label': 'said she', 'notes': \"Person mentioned in context: a neuropathologist at the Children's Hospital of Philadelphia, and put them on display. Rorke-Adams said she received the brain slides from Harvey.\", 'type': ['E21']}\n"
          ]
        }
      ],
      "source": [
        "# Convert to NetworkX graph\n",
        "graph = to_networkx_graph(crm_entities)\n",
        "\n",
        "print(f\"🕸️ Created NetworkX graph with {graph.number_of_nodes()} nodes and {graph.number_of_edges()} edges\")\n",
        "\n",
        "# Display graph information\n",
        "print(\"\\n📊 Graph Information:\")\n",
        "print(f\"Nodes: {list(graph.nodes())[:5]}...\" if len(graph.nodes()) > 5 else f\"Nodes: {list(graph.nodes())}\")\n",
        "print(f\"Edges: {list(graph.edges())[:5]}...\" if len(graph.edges()) > 5 else f\"Edges: {list(graph.edges())}\")\n",
        "\n",
        "# Display node data\n",
        "print(\"\\n🏷️ Node Data (first 3 nodes):\")\n",
        "for i, (node_id, data) in enumerate(list(graph.nodes(data=True))[:3]):\n",
        "    print(f\"Node {i+1}: {data}\")\n"
      ]
    },
    {
      "cell_type": "markdown",
      "metadata": {},
      "source": [
        "## Step 6: Network Analysis\n",
        "\n",
        "Perform comprehensive network analysis including centrality measures, community detection, and network statistics.\n"
      ]
    },
    {
      "cell_type": "code",
      "execution_count": null,
      "metadata": {},
      "outputs": [
        {
          "name": "stdout",
          "output_type": "stream",
          "text": [
            "📊 Calculating centrality measures...\n"
          ]
        },
        {
          "name": "stdout",
          "output_type": "stream",
          "text": [
            "✅ Calculated centrality measures: ['degree', 'betweenness', 'closeness', 'eigenvector', 'pagerank']\n",
            "\n",
            "🏘️ Finding communities...\n",
            "✅ Found 0 communities\n",
            "\n",
            "📈 Calculating network statistics...\n",
            "\n",
            "📊 Network Statistics:\n",
            "  Density: 0.000\n",
            "  Average clustering: 0.000\n",
            "  Is connected: None\n",
            "  Average degree: 0.00\n",
            "  Max degree: 0\n",
            "  Min degree: 0\n"
          ]
        }
      ],
      "source": [
        "# Calculate centrality measures\n",
        "print(\"📊 Calculating centrality measures...\")\n",
        "centrality_measures = calculate_centrality_measures(graph)\n",
        "\n",
        "print(f\"✅ Calculated centrality measures: {list(centrality_measures.keys())}\")\n",
        "\n",
        "# Display degree centrality (most connected nodes)\n",
        "if 'degree_centrality' in centrality_measures:\n",
        "    degree_centrality = centrality_measures['degree_centrality']\n",
        "    print(\"\\n🔗 Degree Centrality (most connected nodes):\")\n",
        "    sorted_nodes = sorted(degree_centrality.items(), key=lambda x: x[1], reverse=True)\n",
        "    for node_id, centrality in sorted_nodes[:5]:\n",
        "        node_data = graph.nodes[node_id]\n",
        "        print(f\"  {node_data.get('label', node_id)}: {centrality:.3f}\")\n",
        "\n",
        "# Find communities\n",
        "print(\"\\n🏘️ Finding communities...\")\n",
        "communities = find_communities(graph)\n",
        "print(f\"✅ Found {len(communities)} communities\")\n",
        "\n",
        "if communities:\n",
        "    print(\"\\nCommunity Structure:\")\n",
        "    for i, community in enumerate(communities[:3]):  # Show first 3 communities\n",
        "        community_labels = [graph.nodes[node_id].get('label', node_id) for node_id in community]\n",
        "        print(f\"  Community {i+1}: {community_labels}\")\n",
        "\n",
        "# Get network statistics\n",
        "print(\"\\n📈 Calculating network statistics...\")\n",
        "network_stats = get_network_statistics(graph)\n",
        "\n",
        "print(\"\\n📊 Network Statistics:\")\n",
        "print(f\"  Density: {network_stats['basic_metrics']['density']:.3f}\")\n",
        "print(f\"  Average clustering: {network_stats['connectivity']['average_clustering']:.3f}\")\n",
        "print(f\"  Is connected: {network_stats['basic_metrics']['is_connected']}\")\n",
        "\n",
        "if 'degree_stats' in network_stats:\n",
        "    degree_stats = network_stats['degree_stats']\n",
        "    print(f\"  Average degree: {degree_stats['avg_degree']:.2f}\")\n",
        "    print(f\"  Max degree: {degree_stats['max_degree']}\")\n",
        "    print(f\"  Min degree: {degree_stats['min_degree']}\")\n"
      ]
    },
    {
      "cell_type": "markdown",
      "metadata": {},
      "source": [
        "## Step 7: Interactive Network Visualization\n",
        "\n",
        "Create an interactive network visualization using Plotly.\n"
      ]
    },
    {
      "cell_type": "code",
      "execution_count": null,
      "metadata": {},
      "outputs": [
        {
          "name": "stdout",
          "output_type": "stream",
          "text": [
            "🎨 Creating interactive network visualization...\n",
            "✅ Generated interactive plot: notebook_output/plots/network_overview.html\n"
          ]
        },
        {
          "data": {
            "application/vnd.plotly.v1+json": {
              "config": {
                "plotlyServerURL": "https://plot.ly"
              },
              "data": [
                {
                  "hoverinfo": "none",
                  "line": {
                    "color": "#888",
                    "width": 2
                  },
                  "mode": "lines",
                  "type": "scatter",
                  "x": [],
                  "y": []
                },
                {
                  "hoverinfo": "text",
                  "hovertext": [
                    "ID: 96bad046-6151-4ca3-a308-03550766ea38<br>Label: Albert Einstein<br>Class: E21",
                    "ID: 0dbb60fb-71bd-4fe6-81a4-9c0413381345<br>Label: in Philadelphia<br>Class: E21",
                    "ID: 7c7bc489-cd8f-4316-86f2-16da2034ddc5<br>Label: said she<br>Class: E21",
                    "ID: c14a90aa-fd07-471d-a82c-f1f177cc434d<br>Label: Ulm<br>Class: E53",
                    "ID: 92ed8c87-e3de-4b8c-8d6d-3f5112d8d4cc<br>Label: Munich<br>Class: E53",
                    "ID: 8c6e9e4d-7ed7-4ca1-9bf0-e258d27fd1d9<br>Label: Munich<br>Class: E53",
                    "ID: 39c70a4f-1dc8-4d15-b35d-094444a35f8b<br>Label: Munich<br>Class: E53",
                    "ID: 89e9ca92-a432-484c-af5e-61067bd8ab77<br>Label: Zurich<br>Class: E53",
                    "ID: 0bccdcec-7207-4adc-9b54-e011400a0a6c<br>Label: Zurich<br>Class: E53",
                    "ID: a0598714-115e-44e5-9917-1a9dbbd93318<br>Label: Princeton<br>Class: E53",
                    "ID: 869a69af-56cd-46f8-af6f-2ce114d1ae8d<br>Label: Princeton<br>Class: E53",
                    "ID: b09355a3-57cc-477a-b7e9-a922178224d2<br>Label: Princeton<br>Class: E53",
                    "ID: 588eaa18-8c2d-434e-9bff-a3d8433b608b<br>Label: Princeton<br>Class: E53",
                    "ID: 14928449-ff5d-4edb-9a66-1414865760d8<br>Label: Princeton<br>Class: E53",
                    "ID: f31936d0-a6d4-40f3-a162-0a5fa98be036<br>Label: Princeton<br>Class: E53",
                    "ID: a96defd8-3b13-4862-b6b5-eae3b5b2c2e6<br>Label: New York<br>Class: E53",
                    "ID: 0b7cc43e-4b53-4e5e-a7b0-6c3c0299a4a8<br>Label: Switzerland<br>Class: E53",
                    "ID: 0239cbd8-3a47-429b-8196-16de80cb026b<br>Label: Germany<br>Class: E53",
                    "ID: 4e732ecd-4a18-48b1-b48b-f8a02b9f342d<br>Label: Germany<br>Class: E53",
                    "ID: 291685bf-d879-426c-bda4-41cb54843b93<br>Label: Germany<br>Class: E53",
                    "ID: 7a6fb0fb-e55c-4db5-a22f-13390f2ec39c<br>Label: Germany<br>Class: E53",
                    "ID: 0a4e07a1-dd5d-44e5-82d5-2fd70672a3e9<br>Label: Italy<br>Class: E53",
                    "ID: 34e0881f-a74f-4fd9-bb90-490790fcc021<br>Label: Italy<br>Class: E53",
                    "ID: e2f347f8-830e-496e-9ed5-6a70356830a7<br>Label: United States<br>Class: E53",
                    "ID: de77135d-9f2a-4c89-8e63-26a8b85d8f9c<br>Label: United States<br>Class: E53",
                    "ID: a11ba249-6f88-4ec7-95c3-bafa53af4557<br>Label: United States<br>Class: E53",
                    "ID: 08c47753-500d-41cf-a0c5-ed025c43911a<br>Label: United States<br>Class: E53",
                    "ID: 78e7f85f-a9e3-40dd-ad5a-ded0fa577c16<br>Label: theory of relativity<br>Class: E22",
                    "ID: 3bf38e4c-4dc3-450c-8e3b-bc499bc9f2d0<br>Label: theory of relativity and the equation E<br>Class: E22",
                    "ID: 1e28a47e-d086-4c92-ab7c-99340b80b214<br>Label: theory of relativity in <br>Class: E22",
                    "ID: 2ab934c6-7d91-496b-8dd5-6ae88cfc6b85<br>Label: theory explains that space and time are actually connected<br>Class: E22",
                    "ID: f755c592-ca40-41d2-a3f6-106321e9b576<br>Label: theory of relativity<br>Class: E22",
                    "ID: 8bb4b78c-f40b-4b85-a5f3-bd8544a29523<br>Label: theory the culmination of his life research<br>Class: E22",
                    "ID: 5cbd04ff-f7c7-45d0-9b23-dbc78f470079<br>Label: theory and key aspects of his general theory of relativity<br>Class: E22",
                    "ID: de8646c7-f71a-4f45-9fe7-6c7ed1573eb3<br>Label: theory of relativity allegedly came to him in a dream about cows being electrocuted<br>Class: E22",
                    "ID: 6feb2b20-a3e6-4fa3-87ce-768384575b64<br>Label: paper on the matter<br>Class: E22",
                    "ID: 695a51e1-4ba7-4dce-99ec-04bd1f95133c<br>Label: Nobel Prize in Physics for his explanation of the photoelectric effect<br>Class: E22",
                    "ID: 39ca61ae-1964-47f2-b08b-a727c244e643<br>Label: Nobel Prize in the future<br>Class: E22",
                    "ID: 30bfa204-8f4f-4015-8570-603d5d1e0cdb<br>Label: theory of relativity<br>Class: E22",
                    "ID: 41d4d77f-fc60-4ef8-a82d-4e983285907a<br>Label: theory of relativity<br>Class: E22",
                    "ID: 37d04a37-6f06-4c6f-b656-71a6792466f6<br>Label: theory of relativity<br>Class: E22",
                    "ID: 82a5983d-89d3-40f4-9de0-39a5ea3ad9c4<br>Label: theory of relativity<br>Class: E22",
                    "ID: b3f93a93-00f2-4144-9174-a69f42b8ab95<br>Label: theory of relativity<br>Class: E22",
                    "ID: 76484aca-1a42-4a97-ac84-68a91f0ae784<br>Label: theory of relativity<br>Class: E22",
                    "ID: f4668656-bc0c-47a8-9adc-41a20aa67875<br>Label: photoelectric effect<br>Class: E22",
                    "ID: fc1aea2c-9afc-4a3c-be3c-44f5c3038ea3<br>Label: photoelectric effect<br>Class: E22",
                    "ID: 9bc9f35d-c439-48d3-8916-d30d33a0b658<br>Label: atomic bomb<br>Class: E22",
                    "ID: 2ecbd18f-5c91-450c-8e26-4d8b4b5c9d40<br>Label: Manhattan Project<br>Class: E22",
                    "ID: 4acb827b-a92c-4dda-9831-e0f2f2a4e140<br>Label: atomic bomb<br>Class: E22",
                    "ID: 0d2b8360-bd96-4f07-be23-1d50c66edbd4<br>Label: born in 1902<br>Class: E52",
                    "ID: 77bee981-0d05-405e-8091-73fb9a1d0dee<br>Label: March 14, 1879<br>Class: E52",
                    "ID: 11d90f9f-a4fc-4b88-bb11-40ecbab71a07<br>Label: January 6, 1903<br>Class: E52",
                    "ID: fe0cba01-bfd3-46ba-a926-c4be9c1c2045<br>Label: March 14, 1951<br>Class: E52",
                    "ID: eca7cfb0-8d1a-422c-9dce-002d22e3150c<br>Label: April 18, 1955<br>Class: E52",
                    "ID: d3ed2baf-008b-49e1-acbe-78753181f43e<br>Label: late 1940s<br>Class: E52",
                    "ID: 066ac864-8d37-4fb5-b5e5-f81128539dd5<br>Label: 1880s<br>Class: E52",
                    "ID: 9dca2be8-e983-4d16-8acd-015b985bb8da<br>Label: 1890s<br>Class: E52",
                    "ID: 172d10c3-d497-4ccf-baf9-f5dbc8b0b8b3<br>Label: 1940s<br>Class: E52",
                    "ID: 973e487e-23e0-4f10-9f97-a52a16848720<br>Label: 1879<br>Class: E52",
                    "ID: 7512a9e8-e909-4347-aa2f-1952dfc88e25<br>Label: 1902<br>Class: E52",
                    "ID: 9721b54c-8a54-4156-af99-e444b5a4b693<br>Label: 1905<br>Class: E52",
                    "ID: 795fcabd-8c3d-48a3-bad3-607b8ff7aa5a<br>Label: 1905<br>Class: E52",
                    "ID: a66f2c60-0d03-414a-be25-0494e12f3cb8<br>Label: 1915<br>Class: E52",
                    "ID: 8f73df94-5ef6-45e0-8e21-efbc6ee1f23c<br>Label: 1919<br>Class: E52",
                    "ID: bbcc4522-eebb-43e5-a1af-03a41247948a<br>Label: 1905<br>Class: E52",
                    "ID: 69445020-819d-4a3e-bfde-e0b334c74899<br>Label: 1917<br>Class: E52",
                    "ID: f9069d39-197a-4fc4-ba7b-f78a21498a91<br>Label: 1933<br>Class: E52",
                    "ID: 2c77a00b-a50c-41ed-b607-e56f36e4b709<br>Label: 1921<br>Class: E52",
                    "ID: 86be109a-c779-4c16-9ba3-c920793da2bc<br>Label: 1903<br>Class: E52",
                    "ID: a51c5755-526a-436c-84a5-c665914f055e<br>Label: 1902<br>Class: E52",
                    "ID: 650d592b-0150-4a18-a503-9e4c09878d7c<br>Label: 1902<br>Class: E52",
                    "ID: ea4cf590-c674-4a43-ac25-e2061b69edc7<br>Label: 1919<br>Class: E52",
                    "ID: a145329d-4a16-4571-8fdc-4809490fd130<br>Label: 1919<br>Class: E52",
                    "ID: d1e4f380-a79e-4078-8685-4afa47f36d67<br>Label: 1936<br>Class: E52",
                    "ID: 4429a1f3-4b7e-42c3-ad5a-e4c6f62b362c<br>Label: 1933<br>Class: E52",
                    "ID: e5ef21d5-bea5-4a80-9d6c-60e3315d0d80<br>Label: 1935<br>Class: E52",
                    "ID: de74bbef-7d70-4f5a-b24f-348f1b699029<br>Label: 1939<br>Class: E52",
                    "ID: 2ed6469a-fc20-494e-992b-fd8863ce50db<br>Label: 1940<br>Class: E52",
                    "ID: 5517bd7f-e031-4cb3-b4dc-6c6a934f4938<br>Label: 1945<br>Class: E52",
                    "ID: dfb6d3b0-52a6-4115-9c5d-17d2d06928b3<br>Label: 1947<br>Class: E52",
                    "ID: 6dae5f29-6817-499a-8d22-e19bd4d647af<br>Label: 1946<br>Class: E52",
                    "ID: 6105354b-4d79-4ffe-a4ba-1df2cff00d2d<br>Label: 1951<br>Class: E52",
                    "ID: 1c082125-224c-4bf5-a70d-fcea3d942242<br>Label: 2017<br>Class: E52",
                    "ID: 15dd3d01-b460-40e4-9567-c39bb50e53fe<br>Label: 1955<br>Class: E52",
                    "ID: b6714260-662a-4aaa-9c78-f3e0e9d91fda<br>Label: 2014<br>Class: E52",
                    "ID: 0181924d-6002-442d-9e11-d6a234291d71<br>Label: 1999<br>Class: E52",
                    "ID: 5495d943-d7df-4425-9943-cce5d670ead0<br>Label: 2011<br>Class: E52"
                  ],
                  "marker": {
                    "color": [
                      "red",
                      "red",
                      "red",
                      "green",
                      "green",
                      "green",
                      "green",
                      "green",
                      "green",
                      "green",
                      "green",
                      "green",
                      "green",
                      "green",
                      "green",
                      "green",
                      "green",
                      "green",
                      "green",
                      "green",
                      "green",
                      "green",
                      "green",
                      "green",
                      "green",
                      "green",
                      "green",
                      "orange",
                      "orange",
                      "orange",
                      "orange",
                      "orange",
                      "orange",
                      "orange",
                      "orange",
                      "orange",
                      "orange",
                      "orange",
                      "orange",
                      "orange",
                      "orange",
                      "orange",
                      "orange",
                      "orange",
                      "orange",
                      "orange",
                      "orange",
                      "orange",
                      "orange",
                      "purple",
                      "purple",
                      "purple",
                      "purple",
                      "purple",
                      "purple",
                      "purple",
                      "purple",
                      "purple",
                      "purple",
                      "purple",
                      "purple",
                      "purple",
                      "purple",
                      "purple",
                      "purple",
                      "purple",
                      "purple",
                      "purple",
                      "purple",
                      "purple",
                      "purple",
                      "purple",
                      "purple",
                      "purple",
                      "purple",
                      "purple",
                      "purple",
                      "purple",
                      "purple",
                      "purple",
                      "purple",
                      "purple",
                      "purple",
                      "purple",
                      "purple",
                      "purple",
                      "purple"
                    ],
                    "line": {
                      "color": "white",
                      "width": 2
                    },
                    "size": [
                      10,
                      10,
                      10,
                      10,
                      10,
                      10,
                      10,
                      10,
                      10,
                      10,
                      10,
                      10,
                      10,
                      10,
                      10,
                      10,
                      10,
                      10,
                      10,
                      10,
                      10,
                      10,
                      10,
                      10,
                      10,
                      10,
                      10,
                      10,
                      10,
                      10,
                      10,
                      10,
                      10,
                      10,
                      10,
                      10,
                      10,
                      10,
                      10,
                      10,
                      10,
                      10,
                      10,
                      10,
                      10,
                      10,
                      10,
                      10,
                      10,
                      10,
                      10,
                      10,
                      10,
                      10,
                      10,
                      10,
                      10,
                      10,
                      10,
                      10,
                      10,
                      10,
                      10,
                      10,
                      10,
                      10,
                      10,
                      10,
                      10,
                      10,
                      10,
                      10,
                      10,
                      10,
                      10,
                      10,
                      10,
                      10,
                      10,
                      10,
                      10,
                      10,
                      10,
                      10,
                      10,
                      10,
                      10
                    ]
                  },
                  "mode": "markers+text",
                  "text": [
                    "Albert Einstein",
                    "in Philadelphia",
                    "said she",
                    "Ulm",
                    "Munich",
                    "Munich",
                    "Munich",
                    "Zurich",
                    "Zurich",
                    "Princeton",
                    "Princeton",
                    "Princeton",
                    "Princeton",
                    "Princeton",
                    "Princeton",
                    "New York",
                    "Switzerland",
                    "Germany",
                    "Germany",
                    "Germany",
                    "Germany",
                    "Italy",
                    "Italy",
                    "United States",
                    "United States",
                    "United States",
                    "United States",
                    "theory of relativity",
                    "theory of relativity and the equation E",
                    "theory of relativity in ",
                    "theory explains that space and time are actually connected",
                    "theory of relativity",
                    "theory the culmination of his life research",
                    "theory and key aspects of his general theory of relativity",
                    "theory of relativity allegedly came to him in a dream about cows being electrocuted",
                    "paper on the matter",
                    "Nobel Prize in Physics for his explanation of the photoelectric effect",
                    "Nobel Prize in the future",
                    "theory of relativity",
                    "theory of relativity",
                    "theory of relativity",
                    "theory of relativity",
                    "theory of relativity",
                    "theory of relativity",
                    "photoelectric effect",
                    "photoelectric effect",
                    "atomic bomb",
                    "Manhattan Project",
                    "atomic bomb",
                    "born in 1902",
                    "March 14, 1879",
                    "January 6, 1903",
                    "March 14, 1951",
                    "April 18, 1955",
                    "late 1940s",
                    "1880s",
                    "1890s",
                    "1940s",
                    "1879",
                    "1902",
                    "1905",
                    "1905",
                    "1915",
                    "1919",
                    "1905",
                    "1917",
                    "1933",
                    "1921",
                    "1903",
                    "1902",
                    "1902",
                    "1919",
                    "1919",
                    "1936",
                    "1933",
                    "1935",
                    "1939",
                    "1940",
                    "1945",
                    "1947",
                    "1946",
                    "1951",
                    "2017",
                    "1955",
                    "2014",
                    "1999",
                    "2011"
                  ],
                  "textposition": "middle center",
                  "type": "scatter",
                  "x": [
                    0.9616834213813801,
                    0.07624835985371259,
                    -0.7573182423101321,
                    -0.979151934946729,
                    -0.8211247341844938,
                    0.489411588545721,
                    -0.6011293751918282,
                    -0.3898435031455941,
                    0.9397895585312601,
                    0.03223005169584544,
                    -0.9647628315262994,
                    -0.44122345176982797,
                    0.6086364115383438,
                    0.9478716259128046,
                    0.34443963528718746,
                    0.8539852760566701,
                    -0.18538233449453062,
                    -0.7394300016276937,
                    -0.09496296922465283,
                    -0.7589454735143943,
                    -0.8871015659535242,
                    0.24395158547118237,
                    -0.24863790398474178,
                    -0.8194985417000179,
                    0.701897031392223,
                    0.7388864470461567,
                    -0.8847945909877768,
                    0.149618184900567,
                    0.595841078415366,
                    -0.8138923473196475,
                    -0.9369629376382318,
                    -0.6160390580127915,
                    0.9202479979700219,
                    -0.9344120265819877,
                    0.5026887232311836,
                    0.8376339075929917,
                    -0.9472168334177281,
                    -0.47511227122861366,
                    0.5086252345326144,
                    0.34526014307347863,
                    0.9451964471070117,
                    0.030284718615460046,
                    0.6918296154168254,
                    0.9142179653654959,
                    -0.9836959179457676,
                    0.8701365040755816,
                    -0.022161000145362767,
                    0.9030093940001276,
                    -0.09158209861742912,
                    -0.3924722242065785,
                    0.6365962763022325,
                    -0.557264373969425,
                    0.8713590378142284,
                    -0.9226504548869789,
                    -0.19589330485655318,
                    0.8059276450894501,
                    0.15228199825622776,
                    0.8641345196508092,
                    0.29428971455214203,
                    0.787796172378208,
                    -0.8424767628024409,
                    -0.9257374475581943,
                    -0.8757751109977057,
                    -0.859901501888634,
                    0.3986538751205602,
                    -0.24689129518578617,
                    -0.6199908755425002,
                    0.9065503076442178,
                    -0.7141529218263938,
                    0.5096126794401283,
                    0.6703188080633524,
                    0.4542681127118425,
                    -0.7412058626490488,
                    0.9845644823969485,
                    -0.09203887631653221,
                    0.3379853102699227,
                    0.04984841834745192,
                    0.973797913503395,
                    -0.9250467494579179,
                    -0.3247065219917267,
                    0.8170905050296708,
                    -0.6570503557664413,
                    -0.5545282478950712,
                    -0.32045837274549976,
                    0.2379760233476931,
                    0.7665008178390252,
                    -0.5105503187534941
                  ],
                  "y": [
                    0.04254560882578773,
                    -1,
                    -0.6964994127959032,
                    0.21335821843498617,
                    0.45865268100466744,
                    0.7724487657133737,
                    -0.6605009584319942,
                    0.8438142549159444,
                    0.287308606947094,
                    -0.8623952352139661,
                    -0.06094619769373594,
                    -0.9075942554341738,
                    0.7267318236628189,
                    -0.2624491171961494,
                    0.791964183101378,
                    -0.2872626647895263,
                    -0.9711402597134816,
                    0.7341032536096954,
                    -0.9949070814029326,
                    0.635849803636591,
                    -0.34529904241433146,
                    0.9803873102768768,
                    -0.9115850045303406,
                    -0.5559839058791041,
                    0.6990265524089155,
                    0.5583698431935983,
                    -0.2650851907447467,
                    0.9431323042953946,
                    -0.8187265606201386,
                    -0.4781575706578759,
                    -0.13838447167095191,
                    0.838436860753633,
                    0.12559367698427523,
                    0.32173463546766284,
                    -0.811531580863744,
                    0.5390848186068256,
                    -0.22301632247218375,
                    0.8937462445172302,
                    0.8757927151878738,
                    -0.8635607409353232,
                    -0.16838444210436115,
                    0.9093889015107938,
                    -0.7465517325767576,
                    0.4524718800898959,
                    0.06902764878883032,
                    0.4074662312067652,
                    -0.9536312866565273,
                    -0.37131483581736735,
                    0.9469232315616725,
                    -0.8538549739111636,
                    0.8183616925780556,
                    -0.7954701011925784,
                    -0.46483384590999394,
                    0.014847655005688446,
                    0.9819802571992476,
                    -0.5736656088125168,
                    -0.9447155435498324,
                    0.29531394867873595,
                    0.8909592272830094,
                    0.6491943399250449,
                    0.30233198239158077,
                    0.4341802273011475,
                    -0.4233198953409324,
                    0.5610918180599662,
                    0.9370879099812125,
                    0.8545153974624371,
                    0.718024078868821,
                    -0.06132179066139837,
                    0.5672362315364842,
                    -0.6673494150788509,
                    -0.6496465279331092,
                    -0.8946820625576983,
                    -0.6102090532781498,
                    -0.06407480280576056,
                    0.8184917929754602,
                    -0.9391063262696763,
                    0.9992091296911673,
                    0.18129962817730214,
                    0.15606690348658567,
                    -0.9524419799198803,
                    -0.6599867701612182,
                    -0.7485790082748466,
                    -0.8651854697367042,
                    0.931697992538907,
                    -0.9543644911588384,
                    -0.4812056118398447,
                    0.7796708811651837
                  ]
                }
              ],
              "layout": {
                "annotations": [
                  {
                    "font": {
                      "color": "#888",
                      "size": 12
                    },
                    "showarrow": false,
                    "text": "Interactive CRM Network Visualization",
                    "x": 0.005,
                    "xanchor": "left",
                    "xref": "paper",
                    "y": -0.002,
                    "yanchor": "bottom",
                    "yref": "paper"
                  }
                ],
                "hovermode": "closest",
                "margin": {
                  "b": 20,
                  "l": 5,
                  "r": 5,
                  "t": 40
                },
                "showlegend": false,
                "template": {
                  "data": {
                    "bar": [
                      {
                        "error_x": {
                          "color": "#2a3f5f"
                        },
                        "error_y": {
                          "color": "#2a3f5f"
                        },
                        "marker": {
                          "line": {
                            "color": "#E5ECF6",
                            "width": 0.5
                          },
                          "pattern": {
                            "fillmode": "overlay",
                            "size": 10,
                            "solidity": 0.2
                          }
                        },
                        "type": "bar"
                      }
                    ],
                    "barpolar": [
                      {
                        "marker": {
                          "line": {
                            "color": "#E5ECF6",
                            "width": 0.5
                          },
                          "pattern": {
                            "fillmode": "overlay",
                            "size": 10,
                            "solidity": 0.2
                          }
                        },
                        "type": "barpolar"
                      }
                    ],
                    "carpet": [
                      {
                        "aaxis": {
                          "endlinecolor": "#2a3f5f",
                          "gridcolor": "white",
                          "linecolor": "white",
                          "minorgridcolor": "white",
                          "startlinecolor": "#2a3f5f"
                        },
                        "baxis": {
                          "endlinecolor": "#2a3f5f",
                          "gridcolor": "white",
                          "linecolor": "white",
                          "minorgridcolor": "white",
                          "startlinecolor": "#2a3f5f"
                        },
                        "type": "carpet"
                      }
                    ],
                    "choropleth": [
                      {
                        "colorbar": {
                          "outlinewidth": 0,
                          "ticks": ""
                        },
                        "type": "choropleth"
                      }
                    ],
                    "contour": [
                      {
                        "colorbar": {
                          "outlinewidth": 0,
                          "ticks": ""
                        },
                        "colorscale": [
                          [
                            0,
                            "#0d0887"
                          ],
                          [
                            0.1111111111111111,
                            "#46039f"
                          ],
                          [
                            0.2222222222222222,
                            "#7201a8"
                          ],
                          [
                            0.3333333333333333,
                            "#9c179e"
                          ],
                          [
                            0.4444444444444444,
                            "#bd3786"
                          ],
                          [
                            0.5555555555555556,
                            "#d8576b"
                          ],
                          [
                            0.6666666666666666,
                            "#ed7953"
                          ],
                          [
                            0.7777777777777778,
                            "#fb9f3a"
                          ],
                          [
                            0.8888888888888888,
                            "#fdca26"
                          ],
                          [
                            1,
                            "#f0f921"
                          ]
                        ],
                        "type": "contour"
                      }
                    ],
                    "contourcarpet": [
                      {
                        "colorbar": {
                          "outlinewidth": 0,
                          "ticks": ""
                        },
                        "type": "contourcarpet"
                      }
                    ],
                    "heatmap": [
                      {
                        "colorbar": {
                          "outlinewidth": 0,
                          "ticks": ""
                        },
                        "colorscale": [
                          [
                            0,
                            "#0d0887"
                          ],
                          [
                            0.1111111111111111,
                            "#46039f"
                          ],
                          [
                            0.2222222222222222,
                            "#7201a8"
                          ],
                          [
                            0.3333333333333333,
                            "#9c179e"
                          ],
                          [
                            0.4444444444444444,
                            "#bd3786"
                          ],
                          [
                            0.5555555555555556,
                            "#d8576b"
                          ],
                          [
                            0.6666666666666666,
                            "#ed7953"
                          ],
                          [
                            0.7777777777777778,
                            "#fb9f3a"
                          ],
                          [
                            0.8888888888888888,
                            "#fdca26"
                          ],
                          [
                            1,
                            "#f0f921"
                          ]
                        ],
                        "type": "heatmap"
                      }
                    ],
                    "histogram": [
                      {
                        "marker": {
                          "pattern": {
                            "fillmode": "overlay",
                            "size": 10,
                            "solidity": 0.2
                          }
                        },
                        "type": "histogram"
                      }
                    ],
                    "histogram2d": [
                      {
                        "colorbar": {
                          "outlinewidth": 0,
                          "ticks": ""
                        },
                        "colorscale": [
                          [
                            0,
                            "#0d0887"
                          ],
                          [
                            0.1111111111111111,
                            "#46039f"
                          ],
                          [
                            0.2222222222222222,
                            "#7201a8"
                          ],
                          [
                            0.3333333333333333,
                            "#9c179e"
                          ],
                          [
                            0.4444444444444444,
                            "#bd3786"
                          ],
                          [
                            0.5555555555555556,
                            "#d8576b"
                          ],
                          [
                            0.6666666666666666,
                            "#ed7953"
                          ],
                          [
                            0.7777777777777778,
                            "#fb9f3a"
                          ],
                          [
                            0.8888888888888888,
                            "#fdca26"
                          ],
                          [
                            1,
                            "#f0f921"
                          ]
                        ],
                        "type": "histogram2d"
                      }
                    ],
                    "histogram2dcontour": [
                      {
                        "colorbar": {
                          "outlinewidth": 0,
                          "ticks": ""
                        },
                        "colorscale": [
                          [
                            0,
                            "#0d0887"
                          ],
                          [
                            0.1111111111111111,
                            "#46039f"
                          ],
                          [
                            0.2222222222222222,
                            "#7201a8"
                          ],
                          [
                            0.3333333333333333,
                            "#9c179e"
                          ],
                          [
                            0.4444444444444444,
                            "#bd3786"
                          ],
                          [
                            0.5555555555555556,
                            "#d8576b"
                          ],
                          [
                            0.6666666666666666,
                            "#ed7953"
                          ],
                          [
                            0.7777777777777778,
                            "#fb9f3a"
                          ],
                          [
                            0.8888888888888888,
                            "#fdca26"
                          ],
                          [
                            1,
                            "#f0f921"
                          ]
                        ],
                        "type": "histogram2dcontour"
                      }
                    ],
                    "mesh3d": [
                      {
                        "colorbar": {
                          "outlinewidth": 0,
                          "ticks": ""
                        },
                        "type": "mesh3d"
                      }
                    ],
                    "parcoords": [
                      {
                        "line": {
                          "colorbar": {
                            "outlinewidth": 0,
                            "ticks": ""
                          }
                        },
                        "type": "parcoords"
                      }
                    ],
                    "pie": [
                      {
                        "automargin": true,
                        "type": "pie"
                      }
                    ],
                    "scatter": [
                      {
                        "fillpattern": {
                          "fillmode": "overlay",
                          "size": 10,
                          "solidity": 0.2
                        },
                        "type": "scatter"
                      }
                    ],
                    "scatter3d": [
                      {
                        "line": {
                          "colorbar": {
                            "outlinewidth": 0,
                            "ticks": ""
                          }
                        },
                        "marker": {
                          "colorbar": {
                            "outlinewidth": 0,
                            "ticks": ""
                          }
                        },
                        "type": "scatter3d"
                      }
                    ],
                    "scattercarpet": [
                      {
                        "marker": {
                          "colorbar": {
                            "outlinewidth": 0,
                            "ticks": ""
                          }
                        },
                        "type": "scattercarpet"
                      }
                    ],
                    "scattergeo": [
                      {
                        "marker": {
                          "colorbar": {
                            "outlinewidth": 0,
                            "ticks": ""
                          }
                        },
                        "type": "scattergeo"
                      }
                    ],
                    "scattergl": [
                      {
                        "marker": {
                          "colorbar": {
                            "outlinewidth": 0,
                            "ticks": ""
                          }
                        },
                        "type": "scattergl"
                      }
                    ],
                    "scattermap": [
                      {
                        "marker": {
                          "colorbar": {
                            "outlinewidth": 0,
                            "ticks": ""
                          }
                        },
                        "type": "scattermap"
                      }
                    ],
                    "scattermapbox": [
                      {
                        "marker": {
                          "colorbar": {
                            "outlinewidth": 0,
                            "ticks": ""
                          }
                        },
                        "type": "scattermapbox"
                      }
                    ],
                    "scatterpolar": [
                      {
                        "marker": {
                          "colorbar": {
                            "outlinewidth": 0,
                            "ticks": ""
                          }
                        },
                        "type": "scatterpolar"
                      }
                    ],
                    "scatterpolargl": [
                      {
                        "marker": {
                          "colorbar": {
                            "outlinewidth": 0,
                            "ticks": ""
                          }
                        },
                        "type": "scatterpolargl"
                      }
                    ],
                    "scatterternary": [
                      {
                        "marker": {
                          "colorbar": {
                            "outlinewidth": 0,
                            "ticks": ""
                          }
                        },
                        "type": "scatterternary"
                      }
                    ],
                    "surface": [
                      {
                        "colorbar": {
                          "outlinewidth": 0,
                          "ticks": ""
                        },
                        "colorscale": [
                          [
                            0,
                            "#0d0887"
                          ],
                          [
                            0.1111111111111111,
                            "#46039f"
                          ],
                          [
                            0.2222222222222222,
                            "#7201a8"
                          ],
                          [
                            0.3333333333333333,
                            "#9c179e"
                          ],
                          [
                            0.4444444444444444,
                            "#bd3786"
                          ],
                          [
                            0.5555555555555556,
                            "#d8576b"
                          ],
                          [
                            0.6666666666666666,
                            "#ed7953"
                          ],
                          [
                            0.7777777777777778,
                            "#fb9f3a"
                          ],
                          [
                            0.8888888888888888,
                            "#fdca26"
                          ],
                          [
                            1,
                            "#f0f921"
                          ]
                        ],
                        "type": "surface"
                      }
                    ],
                    "table": [
                      {
                        "cells": {
                          "fill": {
                            "color": "#EBF0F8"
                          },
                          "line": {
                            "color": "white"
                          }
                        },
                        "header": {
                          "fill": {
                            "color": "#C8D4E3"
                          },
                          "line": {
                            "color": "white"
                          }
                        },
                        "type": "table"
                      }
                    ]
                  },
                  "layout": {
                    "annotationdefaults": {
                      "arrowcolor": "#2a3f5f",
                      "arrowhead": 0,
                      "arrowwidth": 1
                    },
                    "autotypenumbers": "strict",
                    "coloraxis": {
                      "colorbar": {
                        "outlinewidth": 0,
                        "ticks": ""
                      }
                    },
                    "colorscale": {
                      "diverging": [
                        [
                          0,
                          "#8e0152"
                        ],
                        [
                          0.1,
                          "#c51b7d"
                        ],
                        [
                          0.2,
                          "#de77ae"
                        ],
                        [
                          0.3,
                          "#f1b6da"
                        ],
                        [
                          0.4,
                          "#fde0ef"
                        ],
                        [
                          0.5,
                          "#f7f7f7"
                        ],
                        [
                          0.6,
                          "#e6f5d0"
                        ],
                        [
                          0.7,
                          "#b8e186"
                        ],
                        [
                          0.8,
                          "#7fbc41"
                        ],
                        [
                          0.9,
                          "#4d9221"
                        ],
                        [
                          1,
                          "#276419"
                        ]
                      ],
                      "sequential": [
                        [
                          0,
                          "#0d0887"
                        ],
                        [
                          0.1111111111111111,
                          "#46039f"
                        ],
                        [
                          0.2222222222222222,
                          "#7201a8"
                        ],
                        [
                          0.3333333333333333,
                          "#9c179e"
                        ],
                        [
                          0.4444444444444444,
                          "#bd3786"
                        ],
                        [
                          0.5555555555555556,
                          "#d8576b"
                        ],
                        [
                          0.6666666666666666,
                          "#ed7953"
                        ],
                        [
                          0.7777777777777778,
                          "#fb9f3a"
                        ],
                        [
                          0.8888888888888888,
                          "#fdca26"
                        ],
                        [
                          1,
                          "#f0f921"
                        ]
                      ],
                      "sequentialminus": [
                        [
                          0,
                          "#0d0887"
                        ],
                        [
                          0.1111111111111111,
                          "#46039f"
                        ],
                        [
                          0.2222222222222222,
                          "#7201a8"
                        ],
                        [
                          0.3333333333333333,
                          "#9c179e"
                        ],
                        [
                          0.4444444444444444,
                          "#bd3786"
                        ],
                        [
                          0.5555555555555556,
                          "#d8576b"
                        ],
                        [
                          0.6666666666666666,
                          "#ed7953"
                        ],
                        [
                          0.7777777777777778,
                          "#fb9f3a"
                        ],
                        [
                          0.8888888888888888,
                          "#fdca26"
                        ],
                        [
                          1,
                          "#f0f921"
                        ]
                      ]
                    },
                    "colorway": [
                      "#636efa",
                      "#EF553B",
                      "#00cc96",
                      "#ab63fa",
                      "#FFA15A",
                      "#19d3f3",
                      "#FF6692",
                      "#B6E880",
                      "#FF97FF",
                      "#FECB52"
                    ],
                    "font": {
                      "color": "#2a3f5f"
                    },
                    "geo": {
                      "bgcolor": "white",
                      "lakecolor": "white",
                      "landcolor": "#E5ECF6",
                      "showlakes": true,
                      "showland": true,
                      "subunitcolor": "white"
                    },
                    "hoverlabel": {
                      "align": "left"
                    },
                    "hovermode": "closest",
                    "mapbox": {
                      "style": "light"
                    },
                    "paper_bgcolor": "white",
                    "plot_bgcolor": "#E5ECF6",
                    "polar": {
                      "angularaxis": {
                        "gridcolor": "white",
                        "linecolor": "white",
                        "ticks": ""
                      },
                      "bgcolor": "#E5ECF6",
                      "radialaxis": {
                        "gridcolor": "white",
                        "linecolor": "white",
                        "ticks": ""
                      }
                    },
                    "scene": {
                      "xaxis": {
                        "backgroundcolor": "#E5ECF6",
                        "gridcolor": "white",
                        "gridwidth": 2,
                        "linecolor": "white",
                        "showbackground": true,
                        "ticks": "",
                        "zerolinecolor": "white"
                      },
                      "yaxis": {
                        "backgroundcolor": "#E5ECF6",
                        "gridcolor": "white",
                        "gridwidth": 2,
                        "linecolor": "white",
                        "showbackground": true,
                        "ticks": "",
                        "zerolinecolor": "white"
                      },
                      "zaxis": {
                        "backgroundcolor": "#E5ECF6",
                        "gridcolor": "white",
                        "gridwidth": 2,
                        "linecolor": "white",
                        "showbackground": true,
                        "ticks": "",
                        "zerolinecolor": "white"
                      }
                    },
                    "shapedefaults": {
                      "line": {
                        "color": "#2a3f5f"
                      }
                    },
                    "ternary": {
                      "aaxis": {
                        "gridcolor": "white",
                        "linecolor": "white",
                        "ticks": ""
                      },
                      "baxis": {
                        "gridcolor": "white",
                        "linecolor": "white",
                        "ticks": ""
                      },
                      "bgcolor": "#E5ECF6",
                      "caxis": {
                        "gridcolor": "white",
                        "linecolor": "white",
                        "ticks": ""
                      }
                    },
                    "title": {
                      "x": 0.05
                    },
                    "xaxis": {
                      "automargin": true,
                      "gridcolor": "white",
                      "linecolor": "white",
                      "ticks": "",
                      "title": {
                        "standoff": 15
                      },
                      "zerolinecolor": "white",
                      "zerolinewidth": 2
                    },
                    "yaxis": {
                      "automargin": true,
                      "gridcolor": "white",
                      "linecolor": "white",
                      "ticks": "",
                      "title": {
                        "standoff": 15
                      },
                      "zerolinecolor": "white",
                      "zerolinewidth": 2
                    }
                  }
                },
                "title": {
                  "font": {
                    "size": 16
                  },
                  "text": "Einstein's Life Network"
                },
                "xaxis": {
                  "showgrid": false,
                  "showticklabels": false,
                  "zeroline": false
                },
                "yaxis": {
                  "showgrid": false,
                  "showticklabels": false,
                  "zeroline": false
                }
              }
            }
          },
          "metadata": {},
          "output_type": "display_data"
        }
      ],
      "source": [
        "# Create plots directory\n",
        "plots_dir = output_dir / \"plots\"\n",
        "plots_dir.mkdir(exist_ok=True)\n",
        "\n",
        "# Create interactive network plot\n",
        "print(\"🎨 Creating interactive network visualization...\")\n",
        "interactive_fig = create_interactive_plot(\n",
        "    graph,\n",
        "    title=\"Einstein's Life Network\",\n",
        "    node_size_multiplier=20,\n",
        "    edge_width_multiplier=2\n",
        ")\n",
        "\n",
        "# Save interactive plot\n",
        "interactive_file = plots_dir / \"network_overview.html\"\n",
        "interactive_fig.write_html(str(interactive_file))\n",
        "print(f\"✅ Generated interactive plot: {interactive_file}\")\n",
        "\n",
        "# Display in notebook - using alternative method\n",
        "try:\n",
        "    interactive_fig.show()\n",
        "except ValueError as e:\n",
        "    print(f\"⚠️  Display issue: {e}\")\n",
        "    print(\"📁 Plot saved as HTML file - you can open it in your browser\")\n",
        "    print(f\"🔗 File location: {interactive_file}\")\n",
        "    print(\"💡 Tip: Open the HTML file in your browser to view the interactive plot\")\n"
      ]
    },
    {
      "cell_type": "markdown",
      "metadata": {},
      "source": [
        "## Step 8: Enhanced Interactive Features\n",
        "\n",
        "Create additional interactive visualizations with community structure and centrality analysis.\n"
      ]
    },
    {
      "cell_type": "code",
      "execution_count": null,
      "metadata": {},
      "outputs": [
        {
          "name": "stdout",
          "output_type": "stream",
          "text": [
            "🎨 Creating enhanced interactive visualizations...\n",
            "📊 Creating centrality analysis visualization...\n",
            "✅ Generated centrality plot: notebook_output/plots/centrality_analysis.html\n"
          ]
        },
        {
          "data": {
            "application/vnd.plotly.v1+json": {
              "config": {
                "plotlyServerURL": "https://plot.ly"
              },
              "data": [
                {
                  "hoverinfo": "none",
                  "line": {
                    "color": "#888",
                    "width": 1.5
                  },
                  "mode": "lines",
                  "type": "scatter",
                  "x": [],
                  "y": []
                },
                {
                  "hoverinfo": "text",
                  "hovertext": [
                    "ID: 96bad046-6151-4ca3-a308-03550766ea38<br>Label: Albert Einstein<br>Class: E21",
                    "ID: 0dbb60fb-71bd-4fe6-81a4-9c0413381345<br>Label: in Philadelphia<br>Class: E21",
                    "ID: 7c7bc489-cd8f-4316-86f2-16da2034ddc5<br>Label: said she<br>Class: E21",
                    "ID: c14a90aa-fd07-471d-a82c-f1f177cc434d<br>Label: Ulm<br>Class: E53",
                    "ID: 92ed8c87-e3de-4b8c-8d6d-3f5112d8d4cc<br>Label: Munich<br>Class: E53",
                    "ID: 8c6e9e4d-7ed7-4ca1-9bf0-e258d27fd1d9<br>Label: Munich<br>Class: E53",
                    "ID: 39c70a4f-1dc8-4d15-b35d-094444a35f8b<br>Label: Munich<br>Class: E53",
                    "ID: 89e9ca92-a432-484c-af5e-61067bd8ab77<br>Label: Zurich<br>Class: E53",
                    "ID: 0bccdcec-7207-4adc-9b54-e011400a0a6c<br>Label: Zurich<br>Class: E53",
                    "ID: a0598714-115e-44e5-9917-1a9dbbd93318<br>Label: Princeton<br>Class: E53",
                    "ID: 869a69af-56cd-46f8-af6f-2ce114d1ae8d<br>Label: Princeton<br>Class: E53",
                    "ID: b09355a3-57cc-477a-b7e9-a922178224d2<br>Label: Princeton<br>Class: E53",
                    "ID: 588eaa18-8c2d-434e-9bff-a3d8433b608b<br>Label: Princeton<br>Class: E53",
                    "ID: 14928449-ff5d-4edb-9a66-1414865760d8<br>Label: Princeton<br>Class: E53",
                    "ID: f31936d0-a6d4-40f3-a162-0a5fa98be036<br>Label: Princeton<br>Class: E53",
                    "ID: a96defd8-3b13-4862-b6b5-eae3b5b2c2e6<br>Label: New York<br>Class: E53",
                    "ID: 0b7cc43e-4b53-4e5e-a7b0-6c3c0299a4a8<br>Label: Switzerland<br>Class: E53",
                    "ID: 0239cbd8-3a47-429b-8196-16de80cb026b<br>Label: Germany<br>Class: E53",
                    "ID: 4e732ecd-4a18-48b1-b48b-f8a02b9f342d<br>Label: Germany<br>Class: E53",
                    "ID: 291685bf-d879-426c-bda4-41cb54843b93<br>Label: Germany<br>Class: E53",
                    "ID: 7a6fb0fb-e55c-4db5-a22f-13390f2ec39c<br>Label: Germany<br>Class: E53",
                    "ID: 0a4e07a1-dd5d-44e5-82d5-2fd70672a3e9<br>Label: Italy<br>Class: E53",
                    "ID: 34e0881f-a74f-4fd9-bb90-490790fcc021<br>Label: Italy<br>Class: E53",
                    "ID: e2f347f8-830e-496e-9ed5-6a70356830a7<br>Label: United States<br>Class: E53",
                    "ID: de77135d-9f2a-4c89-8e63-26a8b85d8f9c<br>Label: United States<br>Class: E53",
                    "ID: a11ba249-6f88-4ec7-95c3-bafa53af4557<br>Label: United States<br>Class: E53",
                    "ID: 08c47753-500d-41cf-a0c5-ed025c43911a<br>Label: United States<br>Class: E53",
                    "ID: 78e7f85f-a9e3-40dd-ad5a-ded0fa577c16<br>Label: theory of relativity<br>Class: E22",
                    "ID: 3bf38e4c-4dc3-450c-8e3b-bc499bc9f2d0<br>Label: theory of relativity and the equation E<br>Class: E22",
                    "ID: 1e28a47e-d086-4c92-ab7c-99340b80b214<br>Label: theory of relativity in <br>Class: E22",
                    "ID: 2ab934c6-7d91-496b-8dd5-6ae88cfc6b85<br>Label: theory explains that space and time are actually connected<br>Class: E22",
                    "ID: f755c592-ca40-41d2-a3f6-106321e9b576<br>Label: theory of relativity<br>Class: E22",
                    "ID: 8bb4b78c-f40b-4b85-a5f3-bd8544a29523<br>Label: theory the culmination of his life research<br>Class: E22",
                    "ID: 5cbd04ff-f7c7-45d0-9b23-dbc78f470079<br>Label: theory and key aspects of his general theory of relativity<br>Class: E22",
                    "ID: de8646c7-f71a-4f45-9fe7-6c7ed1573eb3<br>Label: theory of relativity allegedly came to him in a dream about cows being electrocuted<br>Class: E22",
                    "ID: 6feb2b20-a3e6-4fa3-87ce-768384575b64<br>Label: paper on the matter<br>Class: E22",
                    "ID: 695a51e1-4ba7-4dce-99ec-04bd1f95133c<br>Label: Nobel Prize in Physics for his explanation of the photoelectric effect<br>Class: E22",
                    "ID: 39ca61ae-1964-47f2-b08b-a727c244e643<br>Label: Nobel Prize in the future<br>Class: E22",
                    "ID: 30bfa204-8f4f-4015-8570-603d5d1e0cdb<br>Label: theory of relativity<br>Class: E22",
                    "ID: 41d4d77f-fc60-4ef8-a82d-4e983285907a<br>Label: theory of relativity<br>Class: E22",
                    "ID: 37d04a37-6f06-4c6f-b656-71a6792466f6<br>Label: theory of relativity<br>Class: E22",
                    "ID: 82a5983d-89d3-40f4-9de0-39a5ea3ad9c4<br>Label: theory of relativity<br>Class: E22",
                    "ID: b3f93a93-00f2-4144-9174-a69f42b8ab95<br>Label: theory of relativity<br>Class: E22",
                    "ID: 76484aca-1a42-4a97-ac84-68a91f0ae784<br>Label: theory of relativity<br>Class: E22",
                    "ID: f4668656-bc0c-47a8-9adc-41a20aa67875<br>Label: photoelectric effect<br>Class: E22",
                    "ID: fc1aea2c-9afc-4a3c-be3c-44f5c3038ea3<br>Label: photoelectric effect<br>Class: E22",
                    "ID: 9bc9f35d-c439-48d3-8916-d30d33a0b658<br>Label: atomic bomb<br>Class: E22",
                    "ID: 2ecbd18f-5c91-450c-8e26-4d8b4b5c9d40<br>Label: Manhattan Project<br>Class: E22",
                    "ID: 4acb827b-a92c-4dda-9831-e0f2f2a4e140<br>Label: atomic bomb<br>Class: E22",
                    "ID: 0d2b8360-bd96-4f07-be23-1d50c66edbd4<br>Label: born in 1902<br>Class: E52",
                    "ID: 77bee981-0d05-405e-8091-73fb9a1d0dee<br>Label: March 14, 1879<br>Class: E52",
                    "ID: 11d90f9f-a4fc-4b88-bb11-40ecbab71a07<br>Label: January 6, 1903<br>Class: E52",
                    "ID: fe0cba01-bfd3-46ba-a926-c4be9c1c2045<br>Label: March 14, 1951<br>Class: E52",
                    "ID: eca7cfb0-8d1a-422c-9dce-002d22e3150c<br>Label: April 18, 1955<br>Class: E52",
                    "ID: d3ed2baf-008b-49e1-acbe-78753181f43e<br>Label: late 1940s<br>Class: E52",
                    "ID: 066ac864-8d37-4fb5-b5e5-f81128539dd5<br>Label: 1880s<br>Class: E52",
                    "ID: 9dca2be8-e983-4d16-8acd-015b985bb8da<br>Label: 1890s<br>Class: E52",
                    "ID: 172d10c3-d497-4ccf-baf9-f5dbc8b0b8b3<br>Label: 1940s<br>Class: E52",
                    "ID: 973e487e-23e0-4f10-9f97-a52a16848720<br>Label: 1879<br>Class: E52",
                    "ID: 7512a9e8-e909-4347-aa2f-1952dfc88e25<br>Label: 1902<br>Class: E52",
                    "ID: 9721b54c-8a54-4156-af99-e444b5a4b693<br>Label: 1905<br>Class: E52",
                    "ID: 795fcabd-8c3d-48a3-bad3-607b8ff7aa5a<br>Label: 1905<br>Class: E52",
                    "ID: a66f2c60-0d03-414a-be25-0494e12f3cb8<br>Label: 1915<br>Class: E52",
                    "ID: 8f73df94-5ef6-45e0-8e21-efbc6ee1f23c<br>Label: 1919<br>Class: E52",
                    "ID: bbcc4522-eebb-43e5-a1af-03a41247948a<br>Label: 1905<br>Class: E52",
                    "ID: 69445020-819d-4a3e-bfde-e0b334c74899<br>Label: 1917<br>Class: E52",
                    "ID: f9069d39-197a-4fc4-ba7b-f78a21498a91<br>Label: 1933<br>Class: E52",
                    "ID: 2c77a00b-a50c-41ed-b607-e56f36e4b709<br>Label: 1921<br>Class: E52",
                    "ID: 86be109a-c779-4c16-9ba3-c920793da2bc<br>Label: 1903<br>Class: E52",
                    "ID: a51c5755-526a-436c-84a5-c665914f055e<br>Label: 1902<br>Class: E52",
                    "ID: 650d592b-0150-4a18-a503-9e4c09878d7c<br>Label: 1902<br>Class: E52",
                    "ID: ea4cf590-c674-4a43-ac25-e2061b69edc7<br>Label: 1919<br>Class: E52",
                    "ID: a145329d-4a16-4571-8fdc-4809490fd130<br>Label: 1919<br>Class: E52",
                    "ID: d1e4f380-a79e-4078-8685-4afa47f36d67<br>Label: 1936<br>Class: E52",
                    "ID: 4429a1f3-4b7e-42c3-ad5a-e4c6f62b362c<br>Label: 1933<br>Class: E52",
                    "ID: e5ef21d5-bea5-4a80-9d6c-60e3315d0d80<br>Label: 1935<br>Class: E52",
                    "ID: de74bbef-7d70-4f5a-b24f-348f1b699029<br>Label: 1939<br>Class: E52",
                    "ID: 2ed6469a-fc20-494e-992b-fd8863ce50db<br>Label: 1940<br>Class: E52",
                    "ID: 5517bd7f-e031-4cb3-b4dc-6c6a934f4938<br>Label: 1945<br>Class: E52",
                    "ID: dfb6d3b0-52a6-4115-9c5d-17d2d06928b3<br>Label: 1947<br>Class: E52",
                    "ID: 6dae5f29-6817-499a-8d22-e19bd4d647af<br>Label: 1946<br>Class: E52",
                    "ID: 6105354b-4d79-4ffe-a4ba-1df2cff00d2d<br>Label: 1951<br>Class: E52",
                    "ID: 1c082125-224c-4bf5-a70d-fcea3d942242<br>Label: 2017<br>Class: E52",
                    "ID: 15dd3d01-b460-40e4-9567-c39bb50e53fe<br>Label: 1955<br>Class: E52",
                    "ID: b6714260-662a-4aaa-9c78-f3e0e9d91fda<br>Label: 2014<br>Class: E52",
                    "ID: 0181924d-6002-442d-9e11-d6a234291d71<br>Label: 1999<br>Class: E52",
                    "ID: 5495d943-d7df-4425-9943-cce5d670ead0<br>Label: 2011<br>Class: E52"
                  ],
                  "marker": {
                    "color": [
                      "red",
                      "red",
                      "red",
                      "green",
                      "green",
                      "green",
                      "green",
                      "green",
                      "green",
                      "green",
                      "green",
                      "green",
                      "green",
                      "green",
                      "green",
                      "green",
                      "green",
                      "green",
                      "green",
                      "green",
                      "green",
                      "green",
                      "green",
                      "green",
                      "green",
                      "green",
                      "green",
                      "orange",
                      "orange",
                      "orange",
                      "orange",
                      "orange",
                      "orange",
                      "orange",
                      "orange",
                      "orange",
                      "orange",
                      "orange",
                      "orange",
                      "orange",
                      "orange",
                      "orange",
                      "orange",
                      "orange",
                      "orange",
                      "orange",
                      "orange",
                      "orange",
                      "orange",
                      "purple",
                      "purple",
                      "purple",
                      "purple",
                      "purple",
                      "purple",
                      "purple",
                      "purple",
                      "purple",
                      "purple",
                      "purple",
                      "purple",
                      "purple",
                      "purple",
                      "purple",
                      "purple",
                      "purple",
                      "purple",
                      "purple",
                      "purple",
                      "purple",
                      "purple",
                      "purple",
                      "purple",
                      "purple",
                      "purple",
                      "purple",
                      "purple",
                      "purple",
                      "purple",
                      "purple",
                      "purple",
                      "purple",
                      "purple",
                      "purple",
                      "purple",
                      "purple",
                      "purple"
                    ],
                    "line": {
                      "color": "white",
                      "width": 2
                    },
                    "size": [
                      10,
                      10,
                      10,
                      10,
                      10,
                      10,
                      10,
                      10,
                      10,
                      10,
                      10,
                      10,
                      10,
                      10,
                      10,
                      10,
                      10,
                      10,
                      10,
                      10,
                      10,
                      10,
                      10,
                      10,
                      10,
                      10,
                      10,
                      10,
                      10,
                      10,
                      10,
                      10,
                      10,
                      10,
                      10,
                      10,
                      10,
                      10,
                      10,
                      10,
                      10,
                      10,
                      10,
                      10,
                      10,
                      10,
                      10,
                      10,
                      10,
                      10,
                      10,
                      10,
                      10,
                      10,
                      10,
                      10,
                      10,
                      10,
                      10,
                      10,
                      10,
                      10,
                      10,
                      10,
                      10,
                      10,
                      10,
                      10,
                      10,
                      10,
                      10,
                      10,
                      10,
                      10,
                      10,
                      10,
                      10,
                      10,
                      10,
                      10,
                      10,
                      10,
                      10,
                      10,
                      10,
                      10,
                      10
                    ]
                  },
                  "mode": "markers+text",
                  "text": [
                    "Albert Einstein",
                    "in Philadelphia",
                    "said she",
                    "Ulm",
                    "Munich",
                    "Munich",
                    "Munich",
                    "Zurich",
                    "Zurich",
                    "Princeton",
                    "Princeton",
                    "Princeton",
                    "Princeton",
                    "Princeton",
                    "Princeton",
                    "New York",
                    "Switzerland",
                    "Germany",
                    "Germany",
                    "Germany",
                    "Germany",
                    "Italy",
                    "Italy",
                    "United States",
                    "United States",
                    "United States",
                    "United States",
                    "theory of relativity",
                    "theory of relativity and the equation E",
                    "theory of relativity in ",
                    "theory explains that space and time are actually connected",
                    "theory of relativity",
                    "theory the culmination of his life research",
                    "theory and key aspects of his general theory of relativity",
                    "theory of relativity allegedly came to him in a dream about cows being electrocuted",
                    "paper on the matter",
                    "Nobel Prize in Physics for his explanation of the photoelectric effect",
                    "Nobel Prize in the future",
                    "theory of relativity",
                    "theory of relativity",
                    "theory of relativity",
                    "theory of relativity",
                    "theory of relativity",
                    "theory of relativity",
                    "photoelectric effect",
                    "photoelectric effect",
                    "atomic bomb",
                    "Manhattan Project",
                    "atomic bomb",
                    "born in 1902",
                    "March 14, 1879",
                    "January 6, 1903",
                    "March 14, 1951",
                    "April 18, 1955",
                    "late 1940s",
                    "1880s",
                    "1890s",
                    "1940s",
                    "1879",
                    "1902",
                    "1905",
                    "1905",
                    "1915",
                    "1919",
                    "1905",
                    "1917",
                    "1933",
                    "1921",
                    "1903",
                    "1902",
                    "1902",
                    "1919",
                    "1919",
                    "1936",
                    "1933",
                    "1935",
                    "1939",
                    "1940",
                    "1945",
                    "1947",
                    "1946",
                    "1951",
                    "2017",
                    "1955",
                    "2014",
                    "1999",
                    "2011"
                  ],
                  "textposition": "middle center",
                  "type": "scatter",
                  "x": [
                    -0.24483892429628779,
                    -0.8449279273641103,
                    0.6455306850783921,
                    -0.7672943646909206,
                    -0.9737049077803848,
                    -0.06829257335034739,
                    0.880030448039605,
                    0.8370457659606388,
                    -0.9414284127166618,
                    0.8765093527392618,
                    -0.824695772676601,
                    0.5741251808806651,
                    0.584984225704059,
                    0.5334011338065052,
                    -0.7779717949310593,
                    0.04608725738414761,
                    -0.8101251401570778,
                    0.014247612405676699,
                    -0.4476700048466347,
                    -0.45813680465969314,
                    0.7331639742208405,
                    0.7480102870205804,
                    0.5220619264084753,
                    -0.15314245103855392,
                    0.8887119940432832,
                    0.9804143785045223,
                    -0.9555985606770973,
                    -0.6354276806485403,
                    0.10486297762636834,
                    -0.6284203933770408,
                    0.915159359873679,
                    0.049529654735473584,
                    0.36123210400069794,
                    0.9332381306255624,
                    0.4586362546401396,
                    0.851160115937781,
                    -0.39106531882004875,
                    0.9222177443206038,
                    -0.9591020940022826,
                    -0.4351783114707631,
                    -0.26763945394670424,
                    0.7450526500909336,
                    -0.47229954028749144,
                    0.6230403169298252,
                    0.4631794617252675,
                    0.25992100703632676,
                    0.9487546463018581,
                    0.4159237116350424,
                    0.15478994221041123,
                    -0.8097989890597029,
                    0.25841549917746337,
                    0.8444431289825468,
                    0.8474556475053966,
                    0.7282045634105893,
                    0.15890783254375296,
                    -0.538537617787914,
                    -0.6455693900702002,
                    -0.3299713391595467,
                    0.3765248739600181,
                    0.261602949221294,
                    -0.35049112135193644,
                    -0.9278046706396648,
                    -0.10717674462358126,
                    -0.9497439859171745,
                    -0.06122224113722129,
                    -0.9716252608115651,
                    -0.9253637079336722,
                    -0.5709697337860827,
                    1,
                    -0.9923035798056651,
                    0.7330268887983309,
                    -0.9052884042030725,
                    0.9929630494519041,
                    0.9718243153024582,
                    -0.7230348608636521,
                    0.6294941202464074,
                    -0.6670696092682794,
                    0.7833657376965002,
                    -0.570135026342095,
                    0.264267141673106,
                    -0.21416833982250946,
                    -0.8722222275673941,
                    -0.8947636540701438,
                    -0.7862695513276021,
                    -0.18644314389347957,
                    0.9413521775335021,
                    -0.8059365942094338
                  ],
                  "y": [
                    0.9282546980156647,
                    -0.14668180560612407,
                    -0.6769497781495178,
                    0.7006907490296025,
                    -0.021298499607066805,
                    -0.9110586993815741,
                    0.3888970372331414,
                    0.24179508749272327,
                    0.30454437980841464,
                    0.058560978479139256,
                    -0.37238690503761573,
                    -0.7772254976016378,
                    0.6055471977878144,
                    0.7636495373528408,
                    -0.6475245570444094,
                    0.9924725984438865,
                    -0.5206544050117773,
                    -0.9609241903234862,
                    -0.9163765332387085,
                    -0.5545935058592932,
                    0.7305889357395903,
                    -0.44820242117169956,
                    0.8867860412500042,
                    0.9698370333652642,
                    -0.21593202136704603,
                    0.20306703527707648,
                    -0.2082624775618742,
                    0.6063792836464296,
                    -0.9830041866399427,
                    -0.8043474607452633,
                    0.4703487002795833,
                    0.9145606621452683,
                    -0.8847879001604857,
                    -0.3120197450177853,
                    -0.889172172370136,
                    -0.4119268725444553,
                    0.8695074998076177,
                    -0.441473104209932,
                    0.12724747648297136,
                    -0.8163605394358173,
                    -0.9334338518805868,
                    -0.7115663549976744,
                    0.8836602978787632,
                    -0.8388471170324879,
                    -0.782117998187429,
                    -0.9434246702867017,
                    -0.09979795139557997,
                    0.8535166577128611,
                    -0.9228027851260532,
                    0.2839385352591755,
                    0.9615701615760417,
                    -0.5865612171770299,
                    0.5960079736648787,
                    -0.5764595971421788,
                    0.9576599679317204,
                    -0.83141900164185,
                    -0.6393000093978609,
                    0.9614677246178104,
                    0.9508251484297782,
                    -0.8497762494695587,
                    -0.9311714870616553,
                    0.04983708338555479,
                    -0.9917383486450219,
                    -0.3057229625102822,
                    0.9696316302714714,
                    0.21270227554573212,
                    -0.41453486318756066,
                    0.7554338230203453,
                    0.09694545628537429,
                    -0.11363736948982167,
                    0.6336116291224013,
                    0.3985552725074062,
                    -0.19449985107283155,
                    -0.005718045398039244,
                    -0.7495355752232747,
                    0.7967250628898004,
                    0.7623536471661198,
                    0.49911033755185624,
                    0.863619672949326,
                    0.8432609877566971,
                    0.8268526507472428,
                    -0.5506056373559679,
                    0.502862474025931,
                    0.49349166843767306,
                    -0.9250710230348943,
                    0.30237101805806127,
                    0.6001591563709384
                  ]
                }
              ],
              "layout": {
                "annotations": [
                  {
                    "font": {
                      "color": "#888",
                      "size": 12
                    },
                    "showarrow": false,
                    "text": "Interactive CRM Network Visualization",
                    "x": 0.005,
                    "xanchor": "left",
                    "xref": "paper",
                    "y": -0.002,
                    "yanchor": "bottom",
                    "yref": "paper"
                  }
                ],
                "hovermode": "closest",
                "margin": {
                  "b": 20,
                  "l": 5,
                  "r": 5,
                  "t": 40
                },
                "showlegend": false,
                "template": {
                  "data": {
                    "bar": [
                      {
                        "error_x": {
                          "color": "#2a3f5f"
                        },
                        "error_y": {
                          "color": "#2a3f5f"
                        },
                        "marker": {
                          "line": {
                            "color": "#E5ECF6",
                            "width": 0.5
                          },
                          "pattern": {
                            "fillmode": "overlay",
                            "size": 10,
                            "solidity": 0.2
                          }
                        },
                        "type": "bar"
                      }
                    ],
                    "barpolar": [
                      {
                        "marker": {
                          "line": {
                            "color": "#E5ECF6",
                            "width": 0.5
                          },
                          "pattern": {
                            "fillmode": "overlay",
                            "size": 10,
                            "solidity": 0.2
                          }
                        },
                        "type": "barpolar"
                      }
                    ],
                    "carpet": [
                      {
                        "aaxis": {
                          "endlinecolor": "#2a3f5f",
                          "gridcolor": "white",
                          "linecolor": "white",
                          "minorgridcolor": "white",
                          "startlinecolor": "#2a3f5f"
                        },
                        "baxis": {
                          "endlinecolor": "#2a3f5f",
                          "gridcolor": "white",
                          "linecolor": "white",
                          "minorgridcolor": "white",
                          "startlinecolor": "#2a3f5f"
                        },
                        "type": "carpet"
                      }
                    ],
                    "choropleth": [
                      {
                        "colorbar": {
                          "outlinewidth": 0,
                          "ticks": ""
                        },
                        "type": "choropleth"
                      }
                    ],
                    "contour": [
                      {
                        "colorbar": {
                          "outlinewidth": 0,
                          "ticks": ""
                        },
                        "colorscale": [
                          [
                            0,
                            "#0d0887"
                          ],
                          [
                            0.1111111111111111,
                            "#46039f"
                          ],
                          [
                            0.2222222222222222,
                            "#7201a8"
                          ],
                          [
                            0.3333333333333333,
                            "#9c179e"
                          ],
                          [
                            0.4444444444444444,
                            "#bd3786"
                          ],
                          [
                            0.5555555555555556,
                            "#d8576b"
                          ],
                          [
                            0.6666666666666666,
                            "#ed7953"
                          ],
                          [
                            0.7777777777777778,
                            "#fb9f3a"
                          ],
                          [
                            0.8888888888888888,
                            "#fdca26"
                          ],
                          [
                            1,
                            "#f0f921"
                          ]
                        ],
                        "type": "contour"
                      }
                    ],
                    "contourcarpet": [
                      {
                        "colorbar": {
                          "outlinewidth": 0,
                          "ticks": ""
                        },
                        "type": "contourcarpet"
                      }
                    ],
                    "heatmap": [
                      {
                        "colorbar": {
                          "outlinewidth": 0,
                          "ticks": ""
                        },
                        "colorscale": [
                          [
                            0,
                            "#0d0887"
                          ],
                          [
                            0.1111111111111111,
                            "#46039f"
                          ],
                          [
                            0.2222222222222222,
                            "#7201a8"
                          ],
                          [
                            0.3333333333333333,
                            "#9c179e"
                          ],
                          [
                            0.4444444444444444,
                            "#bd3786"
                          ],
                          [
                            0.5555555555555556,
                            "#d8576b"
                          ],
                          [
                            0.6666666666666666,
                            "#ed7953"
                          ],
                          [
                            0.7777777777777778,
                            "#fb9f3a"
                          ],
                          [
                            0.8888888888888888,
                            "#fdca26"
                          ],
                          [
                            1,
                            "#f0f921"
                          ]
                        ],
                        "type": "heatmap"
                      }
                    ],
                    "histogram": [
                      {
                        "marker": {
                          "pattern": {
                            "fillmode": "overlay",
                            "size": 10,
                            "solidity": 0.2
                          }
                        },
                        "type": "histogram"
                      }
                    ],
                    "histogram2d": [
                      {
                        "colorbar": {
                          "outlinewidth": 0,
                          "ticks": ""
                        },
                        "colorscale": [
                          [
                            0,
                            "#0d0887"
                          ],
                          [
                            0.1111111111111111,
                            "#46039f"
                          ],
                          [
                            0.2222222222222222,
                            "#7201a8"
                          ],
                          [
                            0.3333333333333333,
                            "#9c179e"
                          ],
                          [
                            0.4444444444444444,
                            "#bd3786"
                          ],
                          [
                            0.5555555555555556,
                            "#d8576b"
                          ],
                          [
                            0.6666666666666666,
                            "#ed7953"
                          ],
                          [
                            0.7777777777777778,
                            "#fb9f3a"
                          ],
                          [
                            0.8888888888888888,
                            "#fdca26"
                          ],
                          [
                            1,
                            "#f0f921"
                          ]
                        ],
                        "type": "histogram2d"
                      }
                    ],
                    "histogram2dcontour": [
                      {
                        "colorbar": {
                          "outlinewidth": 0,
                          "ticks": ""
                        },
                        "colorscale": [
                          [
                            0,
                            "#0d0887"
                          ],
                          [
                            0.1111111111111111,
                            "#46039f"
                          ],
                          [
                            0.2222222222222222,
                            "#7201a8"
                          ],
                          [
                            0.3333333333333333,
                            "#9c179e"
                          ],
                          [
                            0.4444444444444444,
                            "#bd3786"
                          ],
                          [
                            0.5555555555555556,
                            "#d8576b"
                          ],
                          [
                            0.6666666666666666,
                            "#ed7953"
                          ],
                          [
                            0.7777777777777778,
                            "#fb9f3a"
                          ],
                          [
                            0.8888888888888888,
                            "#fdca26"
                          ],
                          [
                            1,
                            "#f0f921"
                          ]
                        ],
                        "type": "histogram2dcontour"
                      }
                    ],
                    "mesh3d": [
                      {
                        "colorbar": {
                          "outlinewidth": 0,
                          "ticks": ""
                        },
                        "type": "mesh3d"
                      }
                    ],
                    "parcoords": [
                      {
                        "line": {
                          "colorbar": {
                            "outlinewidth": 0,
                            "ticks": ""
                          }
                        },
                        "type": "parcoords"
                      }
                    ],
                    "pie": [
                      {
                        "automargin": true,
                        "type": "pie"
                      }
                    ],
                    "scatter": [
                      {
                        "fillpattern": {
                          "fillmode": "overlay",
                          "size": 10,
                          "solidity": 0.2
                        },
                        "type": "scatter"
                      }
                    ],
                    "scatter3d": [
                      {
                        "line": {
                          "colorbar": {
                            "outlinewidth": 0,
                            "ticks": ""
                          }
                        },
                        "marker": {
                          "colorbar": {
                            "outlinewidth": 0,
                            "ticks": ""
                          }
                        },
                        "type": "scatter3d"
                      }
                    ],
                    "scattercarpet": [
                      {
                        "marker": {
                          "colorbar": {
                            "outlinewidth": 0,
                            "ticks": ""
                          }
                        },
                        "type": "scattercarpet"
                      }
                    ],
                    "scattergeo": [
                      {
                        "marker": {
                          "colorbar": {
                            "outlinewidth": 0,
                            "ticks": ""
                          }
                        },
                        "type": "scattergeo"
                      }
                    ],
                    "scattergl": [
                      {
                        "marker": {
                          "colorbar": {
                            "outlinewidth": 0,
                            "ticks": ""
                          }
                        },
                        "type": "scattergl"
                      }
                    ],
                    "scattermap": [
                      {
                        "marker": {
                          "colorbar": {
                            "outlinewidth": 0,
                            "ticks": ""
                          }
                        },
                        "type": "scattermap"
                      }
                    ],
                    "scattermapbox": [
                      {
                        "marker": {
                          "colorbar": {
                            "outlinewidth": 0,
                            "ticks": ""
                          }
                        },
                        "type": "scattermapbox"
                      }
                    ],
                    "scatterpolar": [
                      {
                        "marker": {
                          "colorbar": {
                            "outlinewidth": 0,
                            "ticks": ""
                          }
                        },
                        "type": "scatterpolar"
                      }
                    ],
                    "scatterpolargl": [
                      {
                        "marker": {
                          "colorbar": {
                            "outlinewidth": 0,
                            "ticks": ""
                          }
                        },
                        "type": "scatterpolargl"
                      }
                    ],
                    "scatterternary": [
                      {
                        "marker": {
                          "colorbar": {
                            "outlinewidth": 0,
                            "ticks": ""
                          }
                        },
                        "type": "scatterternary"
                      }
                    ],
                    "surface": [
                      {
                        "colorbar": {
                          "outlinewidth": 0,
                          "ticks": ""
                        },
                        "colorscale": [
                          [
                            0,
                            "#0d0887"
                          ],
                          [
                            0.1111111111111111,
                            "#46039f"
                          ],
                          [
                            0.2222222222222222,
                            "#7201a8"
                          ],
                          [
                            0.3333333333333333,
                            "#9c179e"
                          ],
                          [
                            0.4444444444444444,
                            "#bd3786"
                          ],
                          [
                            0.5555555555555556,
                            "#d8576b"
                          ],
                          [
                            0.6666666666666666,
                            "#ed7953"
                          ],
                          [
                            0.7777777777777778,
                            "#fb9f3a"
                          ],
                          [
                            0.8888888888888888,
                            "#fdca26"
                          ],
                          [
                            1,
                            "#f0f921"
                          ]
                        ],
                        "type": "surface"
                      }
                    ],
                    "table": [
                      {
                        "cells": {
                          "fill": {
                            "color": "#EBF0F8"
                          },
                          "line": {
                            "color": "white"
                          }
                        },
                        "header": {
                          "fill": {
                            "color": "#C8D4E3"
                          },
                          "line": {
                            "color": "white"
                          }
                        },
                        "type": "table"
                      }
                    ]
                  },
                  "layout": {
                    "annotationdefaults": {
                      "arrowcolor": "#2a3f5f",
                      "arrowhead": 0,
                      "arrowwidth": 1
                    },
                    "autotypenumbers": "strict",
                    "coloraxis": {
                      "colorbar": {
                        "outlinewidth": 0,
                        "ticks": ""
                      }
                    },
                    "colorscale": {
                      "diverging": [
                        [
                          0,
                          "#8e0152"
                        ],
                        [
                          0.1,
                          "#c51b7d"
                        ],
                        [
                          0.2,
                          "#de77ae"
                        ],
                        [
                          0.3,
                          "#f1b6da"
                        ],
                        [
                          0.4,
                          "#fde0ef"
                        ],
                        [
                          0.5,
                          "#f7f7f7"
                        ],
                        [
                          0.6,
                          "#e6f5d0"
                        ],
                        [
                          0.7,
                          "#b8e186"
                        ],
                        [
                          0.8,
                          "#7fbc41"
                        ],
                        [
                          0.9,
                          "#4d9221"
                        ],
                        [
                          1,
                          "#276419"
                        ]
                      ],
                      "sequential": [
                        [
                          0,
                          "#0d0887"
                        ],
                        [
                          0.1111111111111111,
                          "#46039f"
                        ],
                        [
                          0.2222222222222222,
                          "#7201a8"
                        ],
                        [
                          0.3333333333333333,
                          "#9c179e"
                        ],
                        [
                          0.4444444444444444,
                          "#bd3786"
                        ],
                        [
                          0.5555555555555556,
                          "#d8576b"
                        ],
                        [
                          0.6666666666666666,
                          "#ed7953"
                        ],
                        [
                          0.7777777777777778,
                          "#fb9f3a"
                        ],
                        [
                          0.8888888888888888,
                          "#fdca26"
                        ],
                        [
                          1,
                          "#f0f921"
                        ]
                      ],
                      "sequentialminus": [
                        [
                          0,
                          "#0d0887"
                        ],
                        [
                          0.1111111111111111,
                          "#46039f"
                        ],
                        [
                          0.2222222222222222,
                          "#7201a8"
                        ],
                        [
                          0.3333333333333333,
                          "#9c179e"
                        ],
                        [
                          0.4444444444444444,
                          "#bd3786"
                        ],
                        [
                          0.5555555555555556,
                          "#d8576b"
                        ],
                        [
                          0.6666666666666666,
                          "#ed7953"
                        ],
                        [
                          0.7777777777777778,
                          "#fb9f3a"
                        ],
                        [
                          0.8888888888888888,
                          "#fdca26"
                        ],
                        [
                          1,
                          "#f0f921"
                        ]
                      ]
                    },
                    "colorway": [
                      "#636efa",
                      "#EF553B",
                      "#00cc96",
                      "#ab63fa",
                      "#FFA15A",
                      "#19d3f3",
                      "#FF6692",
                      "#B6E880",
                      "#FF97FF",
                      "#FECB52"
                    ],
                    "font": {
                      "color": "#2a3f5f"
                    },
                    "geo": {
                      "bgcolor": "white",
                      "lakecolor": "white",
                      "landcolor": "#E5ECF6",
                      "showlakes": true,
                      "showland": true,
                      "subunitcolor": "white"
                    },
                    "hoverlabel": {
                      "align": "left"
                    },
                    "hovermode": "closest",
                    "mapbox": {
                      "style": "light"
                    },
                    "paper_bgcolor": "white",
                    "plot_bgcolor": "#E5ECF6",
                    "polar": {
                      "angularaxis": {
                        "gridcolor": "white",
                        "linecolor": "white",
                        "ticks": ""
                      },
                      "bgcolor": "#E5ECF6",
                      "radialaxis": {
                        "gridcolor": "white",
                        "linecolor": "white",
                        "ticks": ""
                      }
                    },
                    "scene": {
                      "xaxis": {
                        "backgroundcolor": "#E5ECF6",
                        "gridcolor": "white",
                        "gridwidth": 2,
                        "linecolor": "white",
                        "showbackground": true,
                        "ticks": "",
                        "zerolinecolor": "white"
                      },
                      "yaxis": {
                        "backgroundcolor": "#E5ECF6",
                        "gridcolor": "white",
                        "gridwidth": 2,
                        "linecolor": "white",
                        "showbackground": true,
                        "ticks": "",
                        "zerolinecolor": "white"
                      },
                      "zaxis": {
                        "backgroundcolor": "#E5ECF6",
                        "gridcolor": "white",
                        "gridwidth": 2,
                        "linecolor": "white",
                        "showbackground": true,
                        "ticks": "",
                        "zerolinecolor": "white"
                      }
                    },
                    "shapedefaults": {
                      "line": {
                        "color": "#2a3f5f"
                      }
                    },
                    "ternary": {
                      "aaxis": {
                        "gridcolor": "white",
                        "linecolor": "white",
                        "ticks": ""
                      },
                      "baxis": {
                        "gridcolor": "white",
                        "linecolor": "white",
                        "ticks": ""
                      },
                      "bgcolor": "#E5ECF6",
                      "caxis": {
                        "gridcolor": "white",
                        "linecolor": "white",
                        "ticks": ""
                      }
                    },
                    "title": {
                      "x": 0.05
                    },
                    "xaxis": {
                      "automargin": true,
                      "gridcolor": "white",
                      "linecolor": "white",
                      "ticks": "",
                      "title": {
                        "standoff": 15
                      },
                      "zerolinecolor": "white",
                      "zerolinewidth": 2
                    },
                    "yaxis": {
                      "automargin": true,
                      "gridcolor": "white",
                      "linecolor": "white",
                      "ticks": "",
                      "title": {
                        "standoff": 15
                      },
                      "zerolinecolor": "white",
                      "zerolinewidth": 2
                    }
                  }
                },
                "title": {
                  "font": {
                    "size": 16
                  },
                  "text": "Centrality Analysis - Einstein's Network"
                },
                "xaxis": {
                  "showgrid": false,
                  "showticklabels": false,
                  "zeroline": false
                },
                "yaxis": {
                  "showgrid": false,
                  "showticklabels": false,
                  "zeroline": false
                }
              }
            }
          },
          "metadata": {},
          "output_type": "display_data"
        },
        {
          "name": "stdout",
          "output_type": "stream",
          "text": [
            "📊 Creating main interactive network...\n",
            "✅ Generated main interactive plot: notebook_output/plots/interactive_network.html\n"
          ]
        },
        {
          "data": {
            "application/vnd.plotly.v1+json": {
              "config": {
                "plotlyServerURL": "https://plot.ly"
              },
              "data": [
                {
                  "hoverinfo": "none",
                  "line": {
                    "color": "#888",
                    "width": 2
                  },
                  "mode": "lines",
                  "type": "scatter",
                  "x": [],
                  "y": []
                },
                {
                  "hoverinfo": "text",
                  "hovertext": [
                    "ID: 96bad046-6151-4ca3-a308-03550766ea38<br>Label: Albert Einstein<br>Class: E21",
                    "ID: 0dbb60fb-71bd-4fe6-81a4-9c0413381345<br>Label: in Philadelphia<br>Class: E21",
                    "ID: 7c7bc489-cd8f-4316-86f2-16da2034ddc5<br>Label: said she<br>Class: E21",
                    "ID: c14a90aa-fd07-471d-a82c-f1f177cc434d<br>Label: Ulm<br>Class: E53",
                    "ID: 92ed8c87-e3de-4b8c-8d6d-3f5112d8d4cc<br>Label: Munich<br>Class: E53",
                    "ID: 8c6e9e4d-7ed7-4ca1-9bf0-e258d27fd1d9<br>Label: Munich<br>Class: E53",
                    "ID: 39c70a4f-1dc8-4d15-b35d-094444a35f8b<br>Label: Munich<br>Class: E53",
                    "ID: 89e9ca92-a432-484c-af5e-61067bd8ab77<br>Label: Zurich<br>Class: E53",
                    "ID: 0bccdcec-7207-4adc-9b54-e011400a0a6c<br>Label: Zurich<br>Class: E53",
                    "ID: a0598714-115e-44e5-9917-1a9dbbd93318<br>Label: Princeton<br>Class: E53",
                    "ID: 869a69af-56cd-46f8-af6f-2ce114d1ae8d<br>Label: Princeton<br>Class: E53",
                    "ID: b09355a3-57cc-477a-b7e9-a922178224d2<br>Label: Princeton<br>Class: E53",
                    "ID: 588eaa18-8c2d-434e-9bff-a3d8433b608b<br>Label: Princeton<br>Class: E53",
                    "ID: 14928449-ff5d-4edb-9a66-1414865760d8<br>Label: Princeton<br>Class: E53",
                    "ID: f31936d0-a6d4-40f3-a162-0a5fa98be036<br>Label: Princeton<br>Class: E53",
                    "ID: a96defd8-3b13-4862-b6b5-eae3b5b2c2e6<br>Label: New York<br>Class: E53",
                    "ID: 0b7cc43e-4b53-4e5e-a7b0-6c3c0299a4a8<br>Label: Switzerland<br>Class: E53",
                    "ID: 0239cbd8-3a47-429b-8196-16de80cb026b<br>Label: Germany<br>Class: E53",
                    "ID: 4e732ecd-4a18-48b1-b48b-f8a02b9f342d<br>Label: Germany<br>Class: E53",
                    "ID: 291685bf-d879-426c-bda4-41cb54843b93<br>Label: Germany<br>Class: E53",
                    "ID: 7a6fb0fb-e55c-4db5-a22f-13390f2ec39c<br>Label: Germany<br>Class: E53",
                    "ID: 0a4e07a1-dd5d-44e5-82d5-2fd70672a3e9<br>Label: Italy<br>Class: E53",
                    "ID: 34e0881f-a74f-4fd9-bb90-490790fcc021<br>Label: Italy<br>Class: E53",
                    "ID: e2f347f8-830e-496e-9ed5-6a70356830a7<br>Label: United States<br>Class: E53",
                    "ID: de77135d-9f2a-4c89-8e63-26a8b85d8f9c<br>Label: United States<br>Class: E53",
                    "ID: a11ba249-6f88-4ec7-95c3-bafa53af4557<br>Label: United States<br>Class: E53",
                    "ID: 08c47753-500d-41cf-a0c5-ed025c43911a<br>Label: United States<br>Class: E53",
                    "ID: 78e7f85f-a9e3-40dd-ad5a-ded0fa577c16<br>Label: theory of relativity<br>Class: E22",
                    "ID: 3bf38e4c-4dc3-450c-8e3b-bc499bc9f2d0<br>Label: theory of relativity and the equation E<br>Class: E22",
                    "ID: 1e28a47e-d086-4c92-ab7c-99340b80b214<br>Label: theory of relativity in <br>Class: E22",
                    "ID: 2ab934c6-7d91-496b-8dd5-6ae88cfc6b85<br>Label: theory explains that space and time are actually connected<br>Class: E22",
                    "ID: f755c592-ca40-41d2-a3f6-106321e9b576<br>Label: theory of relativity<br>Class: E22",
                    "ID: 8bb4b78c-f40b-4b85-a5f3-bd8544a29523<br>Label: theory the culmination of his life research<br>Class: E22",
                    "ID: 5cbd04ff-f7c7-45d0-9b23-dbc78f470079<br>Label: theory and key aspects of his general theory of relativity<br>Class: E22",
                    "ID: de8646c7-f71a-4f45-9fe7-6c7ed1573eb3<br>Label: theory of relativity allegedly came to him in a dream about cows being electrocuted<br>Class: E22",
                    "ID: 6feb2b20-a3e6-4fa3-87ce-768384575b64<br>Label: paper on the matter<br>Class: E22",
                    "ID: 695a51e1-4ba7-4dce-99ec-04bd1f95133c<br>Label: Nobel Prize in Physics for his explanation of the photoelectric effect<br>Class: E22",
                    "ID: 39ca61ae-1964-47f2-b08b-a727c244e643<br>Label: Nobel Prize in the future<br>Class: E22",
                    "ID: 30bfa204-8f4f-4015-8570-603d5d1e0cdb<br>Label: theory of relativity<br>Class: E22",
                    "ID: 41d4d77f-fc60-4ef8-a82d-4e983285907a<br>Label: theory of relativity<br>Class: E22",
                    "ID: 37d04a37-6f06-4c6f-b656-71a6792466f6<br>Label: theory of relativity<br>Class: E22",
                    "ID: 82a5983d-89d3-40f4-9de0-39a5ea3ad9c4<br>Label: theory of relativity<br>Class: E22",
                    "ID: b3f93a93-00f2-4144-9174-a69f42b8ab95<br>Label: theory of relativity<br>Class: E22",
                    "ID: 76484aca-1a42-4a97-ac84-68a91f0ae784<br>Label: theory of relativity<br>Class: E22",
                    "ID: f4668656-bc0c-47a8-9adc-41a20aa67875<br>Label: photoelectric effect<br>Class: E22",
                    "ID: fc1aea2c-9afc-4a3c-be3c-44f5c3038ea3<br>Label: photoelectric effect<br>Class: E22",
                    "ID: 9bc9f35d-c439-48d3-8916-d30d33a0b658<br>Label: atomic bomb<br>Class: E22",
                    "ID: 2ecbd18f-5c91-450c-8e26-4d8b4b5c9d40<br>Label: Manhattan Project<br>Class: E22",
                    "ID: 4acb827b-a92c-4dda-9831-e0f2f2a4e140<br>Label: atomic bomb<br>Class: E22",
                    "ID: 0d2b8360-bd96-4f07-be23-1d50c66edbd4<br>Label: born in 1902<br>Class: E52",
                    "ID: 77bee981-0d05-405e-8091-73fb9a1d0dee<br>Label: March 14, 1879<br>Class: E52",
                    "ID: 11d90f9f-a4fc-4b88-bb11-40ecbab71a07<br>Label: January 6, 1903<br>Class: E52",
                    "ID: fe0cba01-bfd3-46ba-a926-c4be9c1c2045<br>Label: March 14, 1951<br>Class: E52",
                    "ID: eca7cfb0-8d1a-422c-9dce-002d22e3150c<br>Label: April 18, 1955<br>Class: E52",
                    "ID: d3ed2baf-008b-49e1-acbe-78753181f43e<br>Label: late 1940s<br>Class: E52",
                    "ID: 066ac864-8d37-4fb5-b5e5-f81128539dd5<br>Label: 1880s<br>Class: E52",
                    "ID: 9dca2be8-e983-4d16-8acd-015b985bb8da<br>Label: 1890s<br>Class: E52",
                    "ID: 172d10c3-d497-4ccf-baf9-f5dbc8b0b8b3<br>Label: 1940s<br>Class: E52",
                    "ID: 973e487e-23e0-4f10-9f97-a52a16848720<br>Label: 1879<br>Class: E52",
                    "ID: 7512a9e8-e909-4347-aa2f-1952dfc88e25<br>Label: 1902<br>Class: E52",
                    "ID: 9721b54c-8a54-4156-af99-e444b5a4b693<br>Label: 1905<br>Class: E52",
                    "ID: 795fcabd-8c3d-48a3-bad3-607b8ff7aa5a<br>Label: 1905<br>Class: E52",
                    "ID: a66f2c60-0d03-414a-be25-0494e12f3cb8<br>Label: 1915<br>Class: E52",
                    "ID: 8f73df94-5ef6-45e0-8e21-efbc6ee1f23c<br>Label: 1919<br>Class: E52",
                    "ID: bbcc4522-eebb-43e5-a1af-03a41247948a<br>Label: 1905<br>Class: E52",
                    "ID: 69445020-819d-4a3e-bfde-e0b334c74899<br>Label: 1917<br>Class: E52",
                    "ID: f9069d39-197a-4fc4-ba7b-f78a21498a91<br>Label: 1933<br>Class: E52",
                    "ID: 2c77a00b-a50c-41ed-b607-e56f36e4b709<br>Label: 1921<br>Class: E52",
                    "ID: 86be109a-c779-4c16-9ba3-c920793da2bc<br>Label: 1903<br>Class: E52",
                    "ID: a51c5755-526a-436c-84a5-c665914f055e<br>Label: 1902<br>Class: E52",
                    "ID: 650d592b-0150-4a18-a503-9e4c09878d7c<br>Label: 1902<br>Class: E52",
                    "ID: ea4cf590-c674-4a43-ac25-e2061b69edc7<br>Label: 1919<br>Class: E52",
                    "ID: a145329d-4a16-4571-8fdc-4809490fd130<br>Label: 1919<br>Class: E52",
                    "ID: d1e4f380-a79e-4078-8685-4afa47f36d67<br>Label: 1936<br>Class: E52",
                    "ID: 4429a1f3-4b7e-42c3-ad5a-e4c6f62b362c<br>Label: 1933<br>Class: E52",
                    "ID: e5ef21d5-bea5-4a80-9d6c-60e3315d0d80<br>Label: 1935<br>Class: E52",
                    "ID: de74bbef-7d70-4f5a-b24f-348f1b699029<br>Label: 1939<br>Class: E52",
                    "ID: 2ed6469a-fc20-494e-992b-fd8863ce50db<br>Label: 1940<br>Class: E52",
                    "ID: 5517bd7f-e031-4cb3-b4dc-6c6a934f4938<br>Label: 1945<br>Class: E52",
                    "ID: dfb6d3b0-52a6-4115-9c5d-17d2d06928b3<br>Label: 1947<br>Class: E52",
                    "ID: 6dae5f29-6817-499a-8d22-e19bd4d647af<br>Label: 1946<br>Class: E52",
                    "ID: 6105354b-4d79-4ffe-a4ba-1df2cff00d2d<br>Label: 1951<br>Class: E52",
                    "ID: 1c082125-224c-4bf5-a70d-fcea3d942242<br>Label: 2017<br>Class: E52",
                    "ID: 15dd3d01-b460-40e4-9567-c39bb50e53fe<br>Label: 1955<br>Class: E52",
                    "ID: b6714260-662a-4aaa-9c78-f3e0e9d91fda<br>Label: 2014<br>Class: E52",
                    "ID: 0181924d-6002-442d-9e11-d6a234291d71<br>Label: 1999<br>Class: E52",
                    "ID: 5495d943-d7df-4425-9943-cce5d670ead0<br>Label: 2011<br>Class: E52"
                  ],
                  "marker": {
                    "color": [
                      "red",
                      "red",
                      "red",
                      "green",
                      "green",
                      "green",
                      "green",
                      "green",
                      "green",
                      "green",
                      "green",
                      "green",
                      "green",
                      "green",
                      "green",
                      "green",
                      "green",
                      "green",
                      "green",
                      "green",
                      "green",
                      "green",
                      "green",
                      "green",
                      "green",
                      "green",
                      "green",
                      "orange",
                      "orange",
                      "orange",
                      "orange",
                      "orange",
                      "orange",
                      "orange",
                      "orange",
                      "orange",
                      "orange",
                      "orange",
                      "orange",
                      "orange",
                      "orange",
                      "orange",
                      "orange",
                      "orange",
                      "orange",
                      "orange",
                      "orange",
                      "orange",
                      "orange",
                      "purple",
                      "purple",
                      "purple",
                      "purple",
                      "purple",
                      "purple",
                      "purple",
                      "purple",
                      "purple",
                      "purple",
                      "purple",
                      "purple",
                      "purple",
                      "purple",
                      "purple",
                      "purple",
                      "purple",
                      "purple",
                      "purple",
                      "purple",
                      "purple",
                      "purple",
                      "purple",
                      "purple",
                      "purple",
                      "purple",
                      "purple",
                      "purple",
                      "purple",
                      "purple",
                      "purple",
                      "purple",
                      "purple",
                      "purple",
                      "purple",
                      "purple",
                      "purple",
                      "purple"
                    ],
                    "line": {
                      "color": "white",
                      "width": 2
                    },
                    "size": [
                      10,
                      10,
                      10,
                      10,
                      10,
                      10,
                      10,
                      10,
                      10,
                      10,
                      10,
                      10,
                      10,
                      10,
                      10,
                      10,
                      10,
                      10,
                      10,
                      10,
                      10,
                      10,
                      10,
                      10,
                      10,
                      10,
                      10,
                      10,
                      10,
                      10,
                      10,
                      10,
                      10,
                      10,
                      10,
                      10,
                      10,
                      10,
                      10,
                      10,
                      10,
                      10,
                      10,
                      10,
                      10,
                      10,
                      10,
                      10,
                      10,
                      10,
                      10,
                      10,
                      10,
                      10,
                      10,
                      10,
                      10,
                      10,
                      10,
                      10,
                      10,
                      10,
                      10,
                      10,
                      10,
                      10,
                      10,
                      10,
                      10,
                      10,
                      10,
                      10,
                      10,
                      10,
                      10,
                      10,
                      10,
                      10,
                      10,
                      10,
                      10,
                      10,
                      10,
                      10,
                      10,
                      10,
                      10
                    ]
                  },
                  "mode": "markers+text",
                  "text": [
                    "Albert Einstein",
                    "in Philadelphia",
                    "said she",
                    "Ulm",
                    "Munich",
                    "Munich",
                    "Munich",
                    "Zurich",
                    "Zurich",
                    "Princeton",
                    "Princeton",
                    "Princeton",
                    "Princeton",
                    "Princeton",
                    "Princeton",
                    "New York",
                    "Switzerland",
                    "Germany",
                    "Germany",
                    "Germany",
                    "Germany",
                    "Italy",
                    "Italy",
                    "United States",
                    "United States",
                    "United States",
                    "United States",
                    "theory of relativity",
                    "theory of relativity and the equation E",
                    "theory of relativity in ",
                    "theory explains that space and time are actually connected",
                    "theory of relativity",
                    "theory the culmination of his life research",
                    "theory and key aspects of his general theory of relativity",
                    "theory of relativity allegedly came to him in a dream about cows being electrocuted",
                    "paper on the matter",
                    "Nobel Prize in Physics for his explanation of the photoelectric effect",
                    "Nobel Prize in the future",
                    "theory of relativity",
                    "theory of relativity",
                    "theory of relativity",
                    "theory of relativity",
                    "theory of relativity",
                    "theory of relativity",
                    "photoelectric effect",
                    "photoelectric effect",
                    "atomic bomb",
                    "Manhattan Project",
                    "atomic bomb",
                    "born in 1902",
                    "March 14, 1879",
                    "January 6, 1903",
                    "March 14, 1951",
                    "April 18, 1955",
                    "late 1940s",
                    "1880s",
                    "1890s",
                    "1940s",
                    "1879",
                    "1902",
                    "1905",
                    "1905",
                    "1915",
                    "1919",
                    "1905",
                    "1917",
                    "1933",
                    "1921",
                    "1903",
                    "1902",
                    "1902",
                    "1919",
                    "1919",
                    "1936",
                    "1933",
                    "1935",
                    "1939",
                    "1940",
                    "1945",
                    "1947",
                    "1946",
                    "1951",
                    "2017",
                    "1955",
                    "2014",
                    "1999",
                    "2011"
                  ],
                  "textposition": "middle center",
                  "type": "scatter",
                  "x": [
                    0.4140662021464652,
                    0.9583426255297659,
                    0.9020700640858572,
                    0.624735785118804,
                    0.9165702894901444,
                    -0.6723824553420475,
                    0.7417667698563072,
                    -0.8030897524001878,
                    0.4380303164402794,
                    0.8546547319712142,
                    0.3204539084444272,
                    -0.9651181324004052,
                    0.9378555803021327,
                    -0.6006696819892425,
                    0.5054536302041093,
                    0.9152113153194136,
                    -0.574570947174161,
                    -0.4467153382797992,
                    -0.12129071946715099,
                    0.9520022750783206,
                    -0.9546683460558311,
                    0.8367118677121463,
                    -0.9513724753576722,
                    0.1691630986390285,
                    0.9650393273252348,
                    0.8872191216633388,
                    0.36592606060458915,
                    -0.8900068854830357,
                    0.6886042564236958,
                    -0.40131498176808517,
                    0.5285406286374744,
                    0.8320892634393967,
                    0.704901166732842,
                    -0.8676038992070325,
                    -0.24125282383231414,
                    0.048732828277304824,
                    -0.6064287836322215,
                    0.9817255677111578,
                    0.7139287385625818,
                    -0.9657813429427313,
                    0.16225550690459592,
                    0.39728287764647435,
                    -0.6034629805866115,
                    -0.8615807389745136,
                    0.9999999999999999,
                    0.213488528009377,
                    0.6113561754210641,
                    0.037950309229146134,
                    0.7443299963010408,
                    -0.3866467316045919,
                    -0.9596107333915644,
                    0.23129693464149095,
                    0.9785051939314942,
                    0.46790178506154984,
                    -0.2551662955731782,
                    -0.07136278413230705,
                    0.6830911422379713,
                    -0.14155346284924258,
                    0.12134742418275879,
                    -0.28919162947983174,
                    -0.988640975289805,
                    -0.15817095611728918,
                    0.6746578967978731,
                    -0.9312337491075857,
                    -0.8843490606654645,
                    -0.9986283538528224,
                    0.8167973789712227,
                    -0.7778829181977216,
                    -0.4896646605086537,
                    -0.7634057452232363,
                    0.9015020021957122,
                    -0.8764593625765359,
                    0.8444200816818171,
                    -0.8836694290007528,
                    -0.01142094599309768,
                    0.27612005760684066,
                    -0.6785702661876359,
                    -0.31126014013077086,
                    -0.5638627863614514,
                    -0.0272145493754532,
                    -0.7833704247090263,
                    0.612413965492581,
                    -0.7782571102388833,
                    -0.7059916710854187,
                    -0.8351962394087611,
                    -0.5202631293924491,
                    -0.38015828068247426
                  ],
                  "y": [
                    0.8728696505438428,
                    -0.02409427276583965,
                    -0.4480425874425139,
                    -0.7489245542920676,
                    0.35766729313580575,
                    0.6126108286721716,
                    -0.716768681268498,
                    -0.5875604817397366,
                    0.7901079879108142,
                    -0.17516307498573705,
                    -0.9316246297891979,
                    0.20092172000277705,
                    0.26667693020451994,
                    -0.4917080776057277,
                    -0.7644024304613646,
                    0.4506303076864047,
                    0.8754673793279354,
                    -0.835862791532132,
                    -0.8721642762233459,
                    -0.19384080816801721,
                    -0.16384557292551905,
                    0.6239296101135355,
                    0.10736112645476162,
                    0.8956919858871725,
                    0.06326348718696348,
                    0.1691361867805921,
                    0.9522943020937186,
                    0.38438724385033934,
                    0.6621482512252762,
                    0.931534780781329,
                    0.8112151648595227,
                    0.5191347519656985,
                    -0.6197242984160071,
                    -0.06614705681899562,
                    0.9586183457257114,
                    0.9753866172223941,
                    -0.8053725930074096,
                    0.16071058095680488,
                    0.5599948112242823,
                    -0.06097653720384668,
                    0.9708676522008667,
                    -0.8525877980250418,
                    0.734507844187254,
                    -0.4933399724062595,
                    -0.09907493335432664,
                    -0.9727646326619441,
                    -0.8678067702995355,
                    -0.928128556822374,
                    0.3626198561733749,
                    0.7767252352400532,
                    0.33034206695798246,
                    -0.8517438368221851,
                    -0.3214116273932106,
                    -0.9070097484488141,
                    -0.9515779607953623,
                    0.9706169231978105,
                    0.7857215720433504,
                    -0.9741168710583017,
                    -0.9540126400640843,
                    -0.8566692263449199,
                    -0.23696449165784264,
                    0.9356233861910069,
                    -0.5153452696515489,
                    -0.31296994445279597,
                    0.48339352664029,
                    0.030643508957302806,
                    -0.48217943744185615,
                    0.48928025835708866,
                    0.8345917645029872,
                    -0.6816614021677343,
                    -0.3348450258193289,
                    0.24657216287573952,
                    -0.5938033912182318,
                    -0.38554703381067823,
                    0.8966292000121546,
                    0.9151807460888765,
                    -0.7201287115015979,
                    0.8968209484409488,
                    -0.6946486243624609,
                    -0.9764907648892533,
                    -0.4471685840844349,
                    0.7592361792387821,
                    0.6923502111466481,
                    0.7978965665551285,
                    0.592009715671569,
                    -0.8746657044454245,
                    -0.9105029838460877
                  ]
                }
              ],
              "layout": {
                "annotations": [
                  {
                    "font": {
                      "color": "#888",
                      "size": 12
                    },
                    "showarrow": false,
                    "text": "Interactive CRM Network Visualization",
                    "x": 0.005,
                    "xanchor": "left",
                    "xref": "paper",
                    "y": -0.002,
                    "yanchor": "bottom",
                    "yref": "paper"
                  }
                ],
                "hovermode": "closest",
                "margin": {
                  "b": 20,
                  "l": 5,
                  "r": 5,
                  "t": 40
                },
                "showlegend": false,
                "template": {
                  "data": {
                    "bar": [
                      {
                        "error_x": {
                          "color": "#2a3f5f"
                        },
                        "error_y": {
                          "color": "#2a3f5f"
                        },
                        "marker": {
                          "line": {
                            "color": "#E5ECF6",
                            "width": 0.5
                          },
                          "pattern": {
                            "fillmode": "overlay",
                            "size": 10,
                            "solidity": 0.2
                          }
                        },
                        "type": "bar"
                      }
                    ],
                    "barpolar": [
                      {
                        "marker": {
                          "line": {
                            "color": "#E5ECF6",
                            "width": 0.5
                          },
                          "pattern": {
                            "fillmode": "overlay",
                            "size": 10,
                            "solidity": 0.2
                          }
                        },
                        "type": "barpolar"
                      }
                    ],
                    "carpet": [
                      {
                        "aaxis": {
                          "endlinecolor": "#2a3f5f",
                          "gridcolor": "white",
                          "linecolor": "white",
                          "minorgridcolor": "white",
                          "startlinecolor": "#2a3f5f"
                        },
                        "baxis": {
                          "endlinecolor": "#2a3f5f",
                          "gridcolor": "white",
                          "linecolor": "white",
                          "minorgridcolor": "white",
                          "startlinecolor": "#2a3f5f"
                        },
                        "type": "carpet"
                      }
                    ],
                    "choropleth": [
                      {
                        "colorbar": {
                          "outlinewidth": 0,
                          "ticks": ""
                        },
                        "type": "choropleth"
                      }
                    ],
                    "contour": [
                      {
                        "colorbar": {
                          "outlinewidth": 0,
                          "ticks": ""
                        },
                        "colorscale": [
                          [
                            0,
                            "#0d0887"
                          ],
                          [
                            0.1111111111111111,
                            "#46039f"
                          ],
                          [
                            0.2222222222222222,
                            "#7201a8"
                          ],
                          [
                            0.3333333333333333,
                            "#9c179e"
                          ],
                          [
                            0.4444444444444444,
                            "#bd3786"
                          ],
                          [
                            0.5555555555555556,
                            "#d8576b"
                          ],
                          [
                            0.6666666666666666,
                            "#ed7953"
                          ],
                          [
                            0.7777777777777778,
                            "#fb9f3a"
                          ],
                          [
                            0.8888888888888888,
                            "#fdca26"
                          ],
                          [
                            1,
                            "#f0f921"
                          ]
                        ],
                        "type": "contour"
                      }
                    ],
                    "contourcarpet": [
                      {
                        "colorbar": {
                          "outlinewidth": 0,
                          "ticks": ""
                        },
                        "type": "contourcarpet"
                      }
                    ],
                    "heatmap": [
                      {
                        "colorbar": {
                          "outlinewidth": 0,
                          "ticks": ""
                        },
                        "colorscale": [
                          [
                            0,
                            "#0d0887"
                          ],
                          [
                            0.1111111111111111,
                            "#46039f"
                          ],
                          [
                            0.2222222222222222,
                            "#7201a8"
                          ],
                          [
                            0.3333333333333333,
                            "#9c179e"
                          ],
                          [
                            0.4444444444444444,
                            "#bd3786"
                          ],
                          [
                            0.5555555555555556,
                            "#d8576b"
                          ],
                          [
                            0.6666666666666666,
                            "#ed7953"
                          ],
                          [
                            0.7777777777777778,
                            "#fb9f3a"
                          ],
                          [
                            0.8888888888888888,
                            "#fdca26"
                          ],
                          [
                            1,
                            "#f0f921"
                          ]
                        ],
                        "type": "heatmap"
                      }
                    ],
                    "histogram": [
                      {
                        "marker": {
                          "pattern": {
                            "fillmode": "overlay",
                            "size": 10,
                            "solidity": 0.2
                          }
                        },
                        "type": "histogram"
                      }
                    ],
                    "histogram2d": [
                      {
                        "colorbar": {
                          "outlinewidth": 0,
                          "ticks": ""
                        },
                        "colorscale": [
                          [
                            0,
                            "#0d0887"
                          ],
                          [
                            0.1111111111111111,
                            "#46039f"
                          ],
                          [
                            0.2222222222222222,
                            "#7201a8"
                          ],
                          [
                            0.3333333333333333,
                            "#9c179e"
                          ],
                          [
                            0.4444444444444444,
                            "#bd3786"
                          ],
                          [
                            0.5555555555555556,
                            "#d8576b"
                          ],
                          [
                            0.6666666666666666,
                            "#ed7953"
                          ],
                          [
                            0.7777777777777778,
                            "#fb9f3a"
                          ],
                          [
                            0.8888888888888888,
                            "#fdca26"
                          ],
                          [
                            1,
                            "#f0f921"
                          ]
                        ],
                        "type": "histogram2d"
                      }
                    ],
                    "histogram2dcontour": [
                      {
                        "colorbar": {
                          "outlinewidth": 0,
                          "ticks": ""
                        },
                        "colorscale": [
                          [
                            0,
                            "#0d0887"
                          ],
                          [
                            0.1111111111111111,
                            "#46039f"
                          ],
                          [
                            0.2222222222222222,
                            "#7201a8"
                          ],
                          [
                            0.3333333333333333,
                            "#9c179e"
                          ],
                          [
                            0.4444444444444444,
                            "#bd3786"
                          ],
                          [
                            0.5555555555555556,
                            "#d8576b"
                          ],
                          [
                            0.6666666666666666,
                            "#ed7953"
                          ],
                          [
                            0.7777777777777778,
                            "#fb9f3a"
                          ],
                          [
                            0.8888888888888888,
                            "#fdca26"
                          ],
                          [
                            1,
                            "#f0f921"
                          ]
                        ],
                        "type": "histogram2dcontour"
                      }
                    ],
                    "mesh3d": [
                      {
                        "colorbar": {
                          "outlinewidth": 0,
                          "ticks": ""
                        },
                        "type": "mesh3d"
                      }
                    ],
                    "parcoords": [
                      {
                        "line": {
                          "colorbar": {
                            "outlinewidth": 0,
                            "ticks": ""
                          }
                        },
                        "type": "parcoords"
                      }
                    ],
                    "pie": [
                      {
                        "automargin": true,
                        "type": "pie"
                      }
                    ],
                    "scatter": [
                      {
                        "fillpattern": {
                          "fillmode": "overlay",
                          "size": 10,
                          "solidity": 0.2
                        },
                        "type": "scatter"
                      }
                    ],
                    "scatter3d": [
                      {
                        "line": {
                          "colorbar": {
                            "outlinewidth": 0,
                            "ticks": ""
                          }
                        },
                        "marker": {
                          "colorbar": {
                            "outlinewidth": 0,
                            "ticks": ""
                          }
                        },
                        "type": "scatter3d"
                      }
                    ],
                    "scattercarpet": [
                      {
                        "marker": {
                          "colorbar": {
                            "outlinewidth": 0,
                            "ticks": ""
                          }
                        },
                        "type": "scattercarpet"
                      }
                    ],
                    "scattergeo": [
                      {
                        "marker": {
                          "colorbar": {
                            "outlinewidth": 0,
                            "ticks": ""
                          }
                        },
                        "type": "scattergeo"
                      }
                    ],
                    "scattergl": [
                      {
                        "marker": {
                          "colorbar": {
                            "outlinewidth": 0,
                            "ticks": ""
                          }
                        },
                        "type": "scattergl"
                      }
                    ],
                    "scattermap": [
                      {
                        "marker": {
                          "colorbar": {
                            "outlinewidth": 0,
                            "ticks": ""
                          }
                        },
                        "type": "scattermap"
                      }
                    ],
                    "scattermapbox": [
                      {
                        "marker": {
                          "colorbar": {
                            "outlinewidth": 0,
                            "ticks": ""
                          }
                        },
                        "type": "scattermapbox"
                      }
                    ],
                    "scatterpolar": [
                      {
                        "marker": {
                          "colorbar": {
                            "outlinewidth": 0,
                            "ticks": ""
                          }
                        },
                        "type": "scatterpolar"
                      }
                    ],
                    "scatterpolargl": [
                      {
                        "marker": {
                          "colorbar": {
                            "outlinewidth": 0,
                            "ticks": ""
                          }
                        },
                        "type": "scatterpolargl"
                      }
                    ],
                    "scatterternary": [
                      {
                        "marker": {
                          "colorbar": {
                            "outlinewidth": 0,
                            "ticks": ""
                          }
                        },
                        "type": "scatterternary"
                      }
                    ],
                    "surface": [
                      {
                        "colorbar": {
                          "outlinewidth": 0,
                          "ticks": ""
                        },
                        "colorscale": [
                          [
                            0,
                            "#0d0887"
                          ],
                          [
                            0.1111111111111111,
                            "#46039f"
                          ],
                          [
                            0.2222222222222222,
                            "#7201a8"
                          ],
                          [
                            0.3333333333333333,
                            "#9c179e"
                          ],
                          [
                            0.4444444444444444,
                            "#bd3786"
                          ],
                          [
                            0.5555555555555556,
                            "#d8576b"
                          ],
                          [
                            0.6666666666666666,
                            "#ed7953"
                          ],
                          [
                            0.7777777777777778,
                            "#fb9f3a"
                          ],
                          [
                            0.8888888888888888,
                            "#fdca26"
                          ],
                          [
                            1,
                            "#f0f921"
                          ]
                        ],
                        "type": "surface"
                      }
                    ],
                    "table": [
                      {
                        "cells": {
                          "fill": {
                            "color": "#EBF0F8"
                          },
                          "line": {
                            "color": "white"
                          }
                        },
                        "header": {
                          "fill": {
                            "color": "#C8D4E3"
                          },
                          "line": {
                            "color": "white"
                          }
                        },
                        "type": "table"
                      }
                    ]
                  },
                  "layout": {
                    "annotationdefaults": {
                      "arrowcolor": "#2a3f5f",
                      "arrowhead": 0,
                      "arrowwidth": 1
                    },
                    "autotypenumbers": "strict",
                    "coloraxis": {
                      "colorbar": {
                        "outlinewidth": 0,
                        "ticks": ""
                      }
                    },
                    "colorscale": {
                      "diverging": [
                        [
                          0,
                          "#8e0152"
                        ],
                        [
                          0.1,
                          "#c51b7d"
                        ],
                        [
                          0.2,
                          "#de77ae"
                        ],
                        [
                          0.3,
                          "#f1b6da"
                        ],
                        [
                          0.4,
                          "#fde0ef"
                        ],
                        [
                          0.5,
                          "#f7f7f7"
                        ],
                        [
                          0.6,
                          "#e6f5d0"
                        ],
                        [
                          0.7,
                          "#b8e186"
                        ],
                        [
                          0.8,
                          "#7fbc41"
                        ],
                        [
                          0.9,
                          "#4d9221"
                        ],
                        [
                          1,
                          "#276419"
                        ]
                      ],
                      "sequential": [
                        [
                          0,
                          "#0d0887"
                        ],
                        [
                          0.1111111111111111,
                          "#46039f"
                        ],
                        [
                          0.2222222222222222,
                          "#7201a8"
                        ],
                        [
                          0.3333333333333333,
                          "#9c179e"
                        ],
                        [
                          0.4444444444444444,
                          "#bd3786"
                        ],
                        [
                          0.5555555555555556,
                          "#d8576b"
                        ],
                        [
                          0.6666666666666666,
                          "#ed7953"
                        ],
                        [
                          0.7777777777777778,
                          "#fb9f3a"
                        ],
                        [
                          0.8888888888888888,
                          "#fdca26"
                        ],
                        [
                          1,
                          "#f0f921"
                        ]
                      ],
                      "sequentialminus": [
                        [
                          0,
                          "#0d0887"
                        ],
                        [
                          0.1111111111111111,
                          "#46039f"
                        ],
                        [
                          0.2222222222222222,
                          "#7201a8"
                        ],
                        [
                          0.3333333333333333,
                          "#9c179e"
                        ],
                        [
                          0.4444444444444444,
                          "#bd3786"
                        ],
                        [
                          0.5555555555555556,
                          "#d8576b"
                        ],
                        [
                          0.6666666666666666,
                          "#ed7953"
                        ],
                        [
                          0.7777777777777778,
                          "#fb9f3a"
                        ],
                        [
                          0.8888888888888888,
                          "#fdca26"
                        ],
                        [
                          1,
                          "#f0f921"
                        ]
                      ]
                    },
                    "colorway": [
                      "#636efa",
                      "#EF553B",
                      "#00cc96",
                      "#ab63fa",
                      "#FFA15A",
                      "#19d3f3",
                      "#FF6692",
                      "#B6E880",
                      "#FF97FF",
                      "#FECB52"
                    ],
                    "font": {
                      "color": "#2a3f5f"
                    },
                    "geo": {
                      "bgcolor": "white",
                      "lakecolor": "white",
                      "landcolor": "#E5ECF6",
                      "showlakes": true,
                      "showland": true,
                      "subunitcolor": "white"
                    },
                    "hoverlabel": {
                      "align": "left"
                    },
                    "hovermode": "closest",
                    "mapbox": {
                      "style": "light"
                    },
                    "paper_bgcolor": "white",
                    "plot_bgcolor": "#E5ECF6",
                    "polar": {
                      "angularaxis": {
                        "gridcolor": "white",
                        "linecolor": "white",
                        "ticks": ""
                      },
                      "bgcolor": "#E5ECF6",
                      "radialaxis": {
                        "gridcolor": "white",
                        "linecolor": "white",
                        "ticks": ""
                      }
                    },
                    "scene": {
                      "xaxis": {
                        "backgroundcolor": "#E5ECF6",
                        "gridcolor": "white",
                        "gridwidth": 2,
                        "linecolor": "white",
                        "showbackground": true,
                        "ticks": "",
                        "zerolinecolor": "white"
                      },
                      "yaxis": {
                        "backgroundcolor": "#E5ECF6",
                        "gridcolor": "white",
                        "gridwidth": 2,
                        "linecolor": "white",
                        "showbackground": true,
                        "ticks": "",
                        "zerolinecolor": "white"
                      },
                      "zaxis": {
                        "backgroundcolor": "#E5ECF6",
                        "gridcolor": "white",
                        "gridwidth": 2,
                        "linecolor": "white",
                        "showbackground": true,
                        "ticks": "",
                        "zerolinecolor": "white"
                      }
                    },
                    "shapedefaults": {
                      "line": {
                        "color": "#2a3f5f"
                      }
                    },
                    "ternary": {
                      "aaxis": {
                        "gridcolor": "white",
                        "linecolor": "white",
                        "ticks": ""
                      },
                      "baxis": {
                        "gridcolor": "white",
                        "linecolor": "white",
                        "ticks": ""
                      },
                      "bgcolor": "#E5ECF6",
                      "caxis": {
                        "gridcolor": "white",
                        "linecolor": "white",
                        "ticks": ""
                      }
                    },
                    "title": {
                      "x": 0.05
                    },
                    "xaxis": {
                      "automargin": true,
                      "gridcolor": "white",
                      "linecolor": "white",
                      "ticks": "",
                      "title": {
                        "standoff": 15
                      },
                      "zerolinecolor": "white",
                      "zerolinewidth": 2
                    },
                    "yaxis": {
                      "automargin": true,
                      "gridcolor": "white",
                      "linecolor": "white",
                      "ticks": "",
                      "title": {
                        "standoff": 15
                      },
                      "zerolinecolor": "white",
                      "zerolinewidth": 2
                    }
                  }
                },
                "title": {
                  "font": {
                    "size": 16
                  },
                  "text": "Interactive Einstein Network - Complete View"
                },
                "xaxis": {
                  "showgrid": false,
                  "showticklabels": false,
                  "zeroline": false
                },
                "yaxis": {
                  "showgrid": false,
                  "showticklabels": false,
                  "zeroline": false
                }
              }
            }
          },
          "metadata": {},
          "output_type": "display_data"
        }
      ],
      "source": [
        "# Create enhanced interactive visualizations\n",
        "print(\"🎨 Creating enhanced interactive visualizations...\")\n",
        "\n",
        "# 1. Community Structure Visualization\n",
        "if communities:\n",
        "    print(\"📊 Creating community structure visualization...\")\n",
        "    community_fig = create_interactive_plot(\n",
        "        graph,\n",
        "        title=\"Community Structure - Einstein's Network\",\n",
        "        node_size_multiplier=25,\n",
        "        edge_width_multiplier=2\n",
        "    )\n",
        "    \n",
        "    # Add community colors\n",
        "    community_colors = px.colors.qualitative.Set3[:len(communities)]\n",
        "    for i, community in enumerate(communities):\n",
        "        for node_id in community:\n",
        "            if node_id in community_fig.data[1].marker.color:\n",
        "                # Update node color for community\n",
        "                pass\n",
        "    \n",
        "    community_file = plots_dir / \"community_structure.html\"\n",
        "    community_fig.write_html(str(community_file))\n",
        "    print(f\"✅ Generated community plot: {community_file}\")\n",
        "    \n",
        "    # Display community visualization\n",
        "    try:\n",
        "        community_fig.show()\n",
        "    except ValueError as e:\n",
        "        print(f\"⚠️  Display issue: {e}\")\n",
        "        print(f\"📁 Community plot saved: {community_file}\")\n",
        "\n",
        "# 2. Centrality Analysis Visualization\n",
        "print(\"📊 Creating centrality analysis visualization...\")\n",
        "centrality_fig = create_interactive_plot(\n",
        "    graph,\n",
        "    title=\"Centrality Analysis - Einstein's Network\",\n",
        "    node_size_multiplier=30,\n",
        "    edge_width_multiplier=1.5\n",
        ")\n",
        "\n",
        "centrality_file = plots_dir / \"centrality_analysis.html\"\n",
        "centrality_fig.write_html(str(centrality_file))\n",
        "print(f\"✅ Generated centrality plot: {centrality_file}\")\n",
        "\n",
        "# Display centrality visualization\n",
        "try:\n",
        "    centrality_fig.show()\n",
        "except ValueError as e:\n",
        "    print(f\"⚠️  Display issue: {e}\")\n",
        "    print(f\"📁 Centrality plot saved: {centrality_file}\")\n",
        "\n",
        "# 3. Main Interactive Network\n",
        "print(\"📊 Creating main interactive network...\")\n",
        "main_fig = create_interactive_plot(\n",
        "    graph,\n",
        "    title=\"Interactive Einstein Network - Complete View\",\n",
        "    node_size_multiplier=20,\n",
        "    edge_width_multiplier=2\n",
        ")\n",
        "\n",
        "main_file = plots_dir / \"interactive_network.html\"\n",
        "main_fig.write_html(str(main_file))\n",
        "print(f\"✅ Generated main interactive plot: {main_file}\")\n",
        "\n",
        "# Display main visualization\n",
        "try:\n",
        "    main_fig.show()\n",
        "except ValueError as e:\n",
        "    print(f\"⚠️  Display issue: {e}\")\n",
        "    print(f\"📁 Main plot saved: {main_file}\")\n"
      ]
    },
    {
      "cell_type": "markdown",
      "metadata": {},
      "source": [
        "## Step 9: Advanced Interactive Features\n",
        "\n",
        "Create advanced interactive visualizations with filtering, enhanced hover information, and dynamic layouts.\n"
      ]
    },
    {
      "cell_type": "code",
      "execution_count": null,
      "metadata": {},
      "outputs": [
        {
          "name": "stdout",
          "output_type": "stream",
          "text": [
            "🎨 Creating advanced interactive visualizations...\n",
            "✅ Generated enhanced interactive plot: notebook_output/plots/enhanced_interactive_network.html\n"
          ]
        },
        {
          "data": {
            "application/vnd.plotly.v1+json": {
              "config": {
                "plotlyServerURL": "https://plot.ly"
              },
              "data": [
                {
                  "hoverinfo": "none",
                  "line": {
                    "color": "#888",
                    "width": 2
                  },
                  "mode": "lines",
                  "name": "Relationships",
                  "type": "scatter",
                  "x": [],
                  "y": []
                },
                {
                  "hoverinfo": "text",
                  "hovertext": [
                    "\n        <b>Albert Einstein</b><br>\n        ID: 96bad046-6151-4ca3-a308-03550766ea38<br>\n        Class: E21<br>\n        Degree: 0<br>\n        Type: ['E21']\n        ",
                    "\n        <b>in Philadelphia</b><br>\n        ID: 0dbb60fb-71bd-4fe6-81a4-9c0413381345<br>\n        Class: E21<br>\n        Degree: 0<br>\n        Type: ['E21']\n        ",
                    "\n        <b>said she</b><br>\n        ID: 7c7bc489-cd8f-4316-86f2-16da2034ddc5<br>\n        Class: E21<br>\n        Degree: 0<br>\n        Type: ['E21']\n        ",
                    "\n        <b>Ulm</b><br>\n        ID: c14a90aa-fd07-471d-a82c-f1f177cc434d<br>\n        Class: E53<br>\n        Degree: 0<br>\n        Type: ['E53']\n        ",
                    "\n        <b>Munich</b><br>\n        ID: 92ed8c87-e3de-4b8c-8d6d-3f5112d8d4cc<br>\n        Class: E53<br>\n        Degree: 0<br>\n        Type: ['E53']\n        ",
                    "\n        <b>Munich</b><br>\n        ID: 8c6e9e4d-7ed7-4ca1-9bf0-e258d27fd1d9<br>\n        Class: E53<br>\n        Degree: 0<br>\n        Type: ['E53']\n        ",
                    "\n        <b>Munich</b><br>\n        ID: 39c70a4f-1dc8-4d15-b35d-094444a35f8b<br>\n        Class: E53<br>\n        Degree: 0<br>\n        Type: ['E53']\n        ",
                    "\n        <b>Zurich</b><br>\n        ID: 89e9ca92-a432-484c-af5e-61067bd8ab77<br>\n        Class: E53<br>\n        Degree: 0<br>\n        Type: ['E53']\n        ",
                    "\n        <b>Zurich</b><br>\n        ID: 0bccdcec-7207-4adc-9b54-e011400a0a6c<br>\n        Class: E53<br>\n        Degree: 0<br>\n        Type: ['E53']\n        ",
                    "\n        <b>Princeton</b><br>\n        ID: a0598714-115e-44e5-9917-1a9dbbd93318<br>\n        Class: E53<br>\n        Degree: 0<br>\n        Type: ['E53']\n        ",
                    "\n        <b>Princeton</b><br>\n        ID: 869a69af-56cd-46f8-af6f-2ce114d1ae8d<br>\n        Class: E53<br>\n        Degree: 0<br>\n        Type: ['E53']\n        ",
                    "\n        <b>Princeton</b><br>\n        ID: b09355a3-57cc-477a-b7e9-a922178224d2<br>\n        Class: E53<br>\n        Degree: 0<br>\n        Type: ['E53']\n        ",
                    "\n        <b>Princeton</b><br>\n        ID: 588eaa18-8c2d-434e-9bff-a3d8433b608b<br>\n        Class: E53<br>\n        Degree: 0<br>\n        Type: ['E53']\n        ",
                    "\n        <b>Princeton</b><br>\n        ID: 14928449-ff5d-4edb-9a66-1414865760d8<br>\n        Class: E53<br>\n        Degree: 0<br>\n        Type: ['E53']\n        ",
                    "\n        <b>Princeton</b><br>\n        ID: f31936d0-a6d4-40f3-a162-0a5fa98be036<br>\n        Class: E53<br>\n        Degree: 0<br>\n        Type: ['E53']\n        ",
                    "\n        <b>New York</b><br>\n        ID: a96defd8-3b13-4862-b6b5-eae3b5b2c2e6<br>\n        Class: E53<br>\n        Degree: 0<br>\n        Type: ['E53']\n        ",
                    "\n        <b>Switzerland</b><br>\n        ID: 0b7cc43e-4b53-4e5e-a7b0-6c3c0299a4a8<br>\n        Class: E53<br>\n        Degree: 0<br>\n        Type: ['E53']\n        ",
                    "\n        <b>Germany</b><br>\n        ID: 0239cbd8-3a47-429b-8196-16de80cb026b<br>\n        Class: E53<br>\n        Degree: 0<br>\n        Type: ['E53']\n        ",
                    "\n        <b>Germany</b><br>\n        ID: 4e732ecd-4a18-48b1-b48b-f8a02b9f342d<br>\n        Class: E53<br>\n        Degree: 0<br>\n        Type: ['E53']\n        ",
                    "\n        <b>Germany</b><br>\n        ID: 291685bf-d879-426c-bda4-41cb54843b93<br>\n        Class: E53<br>\n        Degree: 0<br>\n        Type: ['E53']\n        ",
                    "\n        <b>Germany</b><br>\n        ID: 7a6fb0fb-e55c-4db5-a22f-13390f2ec39c<br>\n        Class: E53<br>\n        Degree: 0<br>\n        Type: ['E53']\n        ",
                    "\n        <b>Italy</b><br>\n        ID: 0a4e07a1-dd5d-44e5-82d5-2fd70672a3e9<br>\n        Class: E53<br>\n        Degree: 0<br>\n        Type: ['E53']\n        ",
                    "\n        <b>Italy</b><br>\n        ID: 34e0881f-a74f-4fd9-bb90-490790fcc021<br>\n        Class: E53<br>\n        Degree: 0<br>\n        Type: ['E53']\n        ",
                    "\n        <b>United States</b><br>\n        ID: e2f347f8-830e-496e-9ed5-6a70356830a7<br>\n        Class: E53<br>\n        Degree: 0<br>\n        Type: ['E53']\n        ",
                    "\n        <b>United States</b><br>\n        ID: de77135d-9f2a-4c89-8e63-26a8b85d8f9c<br>\n        Class: E53<br>\n        Degree: 0<br>\n        Type: ['E53']\n        ",
                    "\n        <b>United States</b><br>\n        ID: a11ba249-6f88-4ec7-95c3-bafa53af4557<br>\n        Class: E53<br>\n        Degree: 0<br>\n        Type: ['E53']\n        ",
                    "\n        <b>United States</b><br>\n        ID: 08c47753-500d-41cf-a0c5-ed025c43911a<br>\n        Class: E53<br>\n        Degree: 0<br>\n        Type: ['E53']\n        ",
                    "\n        <b>theory of relativity</b><br>\n        ID: 78e7f85f-a9e3-40dd-ad5a-ded0fa577c16<br>\n        Class: E22<br>\n        Degree: 0<br>\n        Type: ['E22']\n        ",
                    "\n        <b>theory of relativity and the equation E</b><br>\n        ID: 3bf38e4c-4dc3-450c-8e3b-bc499bc9f2d0<br>\n        Class: E22<br>\n        Degree: 0<br>\n        Type: ['E22']\n        ",
                    "\n        <b>theory of relativity in </b><br>\n        ID: 1e28a47e-d086-4c92-ab7c-99340b80b214<br>\n        Class: E22<br>\n        Degree: 0<br>\n        Type: ['E22']\n        ",
                    "\n        <b>theory explains that space and time are actually connected</b><br>\n        ID: 2ab934c6-7d91-496b-8dd5-6ae88cfc6b85<br>\n        Class: E22<br>\n        Degree: 0<br>\n        Type: ['E22']\n        ",
                    "\n        <b>theory of relativity</b><br>\n        ID: f755c592-ca40-41d2-a3f6-106321e9b576<br>\n        Class: E22<br>\n        Degree: 0<br>\n        Type: ['E22']\n        ",
                    "\n        <b>theory the culmination of his life research</b><br>\n        ID: 8bb4b78c-f40b-4b85-a5f3-bd8544a29523<br>\n        Class: E22<br>\n        Degree: 0<br>\n        Type: ['E22']\n        ",
                    "\n        <b>theory and key aspects of his general theory of relativity</b><br>\n        ID: 5cbd04ff-f7c7-45d0-9b23-dbc78f470079<br>\n        Class: E22<br>\n        Degree: 0<br>\n        Type: ['E22']\n        ",
                    "\n        <b>theory of relativity allegedly came to him in a dream about cows being electrocuted</b><br>\n        ID: de8646c7-f71a-4f45-9fe7-6c7ed1573eb3<br>\n        Class: E22<br>\n        Degree: 0<br>\n        Type: ['E22']\n        ",
                    "\n        <b>paper on the matter</b><br>\n        ID: 6feb2b20-a3e6-4fa3-87ce-768384575b64<br>\n        Class: E22<br>\n        Degree: 0<br>\n        Type: ['E22']\n        ",
                    "\n        <b>Nobel Prize in Physics for his explanation of the photoelectric effect</b><br>\n        ID: 695a51e1-4ba7-4dce-99ec-04bd1f95133c<br>\n        Class: E22<br>\n        Degree: 0<br>\n        Type: ['E22']\n        ",
                    "\n        <b>Nobel Prize in the future</b><br>\n        ID: 39ca61ae-1964-47f2-b08b-a727c244e643<br>\n        Class: E22<br>\n        Degree: 0<br>\n        Type: ['E22']\n        ",
                    "\n        <b>theory of relativity</b><br>\n        ID: 30bfa204-8f4f-4015-8570-603d5d1e0cdb<br>\n        Class: E22<br>\n        Degree: 0<br>\n        Type: ['E22']\n        ",
                    "\n        <b>theory of relativity</b><br>\n        ID: 41d4d77f-fc60-4ef8-a82d-4e983285907a<br>\n        Class: E22<br>\n        Degree: 0<br>\n        Type: ['E22']\n        ",
                    "\n        <b>theory of relativity</b><br>\n        ID: 37d04a37-6f06-4c6f-b656-71a6792466f6<br>\n        Class: E22<br>\n        Degree: 0<br>\n        Type: ['E22']\n        ",
                    "\n        <b>theory of relativity</b><br>\n        ID: 82a5983d-89d3-40f4-9de0-39a5ea3ad9c4<br>\n        Class: E22<br>\n        Degree: 0<br>\n        Type: ['E22']\n        ",
                    "\n        <b>theory of relativity</b><br>\n        ID: b3f93a93-00f2-4144-9174-a69f42b8ab95<br>\n        Class: E22<br>\n        Degree: 0<br>\n        Type: ['E22']\n        ",
                    "\n        <b>theory of relativity</b><br>\n        ID: 76484aca-1a42-4a97-ac84-68a91f0ae784<br>\n        Class: E22<br>\n        Degree: 0<br>\n        Type: ['E22']\n        ",
                    "\n        <b>photoelectric effect</b><br>\n        ID: f4668656-bc0c-47a8-9adc-41a20aa67875<br>\n        Class: E22<br>\n        Degree: 0<br>\n        Type: ['E22']\n        ",
                    "\n        <b>photoelectric effect</b><br>\n        ID: fc1aea2c-9afc-4a3c-be3c-44f5c3038ea3<br>\n        Class: E22<br>\n        Degree: 0<br>\n        Type: ['E22']\n        ",
                    "\n        <b>atomic bomb</b><br>\n        ID: 9bc9f35d-c439-48d3-8916-d30d33a0b658<br>\n        Class: E22<br>\n        Degree: 0<br>\n        Type: ['E22']\n        ",
                    "\n        <b>Manhattan Project</b><br>\n        ID: 2ecbd18f-5c91-450c-8e26-4d8b4b5c9d40<br>\n        Class: E22<br>\n        Degree: 0<br>\n        Type: ['E22']\n        ",
                    "\n        <b>atomic bomb</b><br>\n        ID: 4acb827b-a92c-4dda-9831-e0f2f2a4e140<br>\n        Class: E22<br>\n        Degree: 0<br>\n        Type: ['E22']\n        ",
                    "\n        <b>born in 1902</b><br>\n        ID: 0d2b8360-bd96-4f07-be23-1d50c66edbd4<br>\n        Class: E52<br>\n        Degree: 0<br>\n        Type: ['E52']\n        ",
                    "\n        <b>March 14, 1879</b><br>\n        ID: 77bee981-0d05-405e-8091-73fb9a1d0dee<br>\n        Class: E52<br>\n        Degree: 0<br>\n        Type: ['E52']\n        ",
                    "\n        <b>January 6, 1903</b><br>\n        ID: 11d90f9f-a4fc-4b88-bb11-40ecbab71a07<br>\n        Class: E52<br>\n        Degree: 0<br>\n        Type: ['E52']\n        ",
                    "\n        <b>March 14, 1951</b><br>\n        ID: fe0cba01-bfd3-46ba-a926-c4be9c1c2045<br>\n        Class: E52<br>\n        Degree: 0<br>\n        Type: ['E52']\n        ",
                    "\n        <b>April 18, 1955</b><br>\n        ID: eca7cfb0-8d1a-422c-9dce-002d22e3150c<br>\n        Class: E52<br>\n        Degree: 0<br>\n        Type: ['E52']\n        ",
                    "\n        <b>late 1940s</b><br>\n        ID: d3ed2baf-008b-49e1-acbe-78753181f43e<br>\n        Class: E52<br>\n        Degree: 0<br>\n        Type: ['E52']\n        ",
                    "\n        <b>1880s</b><br>\n        ID: 066ac864-8d37-4fb5-b5e5-f81128539dd5<br>\n        Class: E52<br>\n        Degree: 0<br>\n        Type: ['E52']\n        ",
                    "\n        <b>1890s</b><br>\n        ID: 9dca2be8-e983-4d16-8acd-015b985bb8da<br>\n        Class: E52<br>\n        Degree: 0<br>\n        Type: ['E52']\n        ",
                    "\n        <b>1940s</b><br>\n        ID: 172d10c3-d497-4ccf-baf9-f5dbc8b0b8b3<br>\n        Class: E52<br>\n        Degree: 0<br>\n        Type: ['E52']\n        ",
                    "\n        <b>1879</b><br>\n        ID: 973e487e-23e0-4f10-9f97-a52a16848720<br>\n        Class: E52<br>\n        Degree: 0<br>\n        Type: ['E52']\n        ",
                    "\n        <b>1902</b><br>\n        ID: 7512a9e8-e909-4347-aa2f-1952dfc88e25<br>\n        Class: E52<br>\n        Degree: 0<br>\n        Type: ['E52']\n        ",
                    "\n        <b>1905</b><br>\n        ID: 9721b54c-8a54-4156-af99-e444b5a4b693<br>\n        Class: E52<br>\n        Degree: 0<br>\n        Type: ['E52']\n        ",
                    "\n        <b>1905</b><br>\n        ID: 795fcabd-8c3d-48a3-bad3-607b8ff7aa5a<br>\n        Class: E52<br>\n        Degree: 0<br>\n        Type: ['E52']\n        ",
                    "\n        <b>1915</b><br>\n        ID: a66f2c60-0d03-414a-be25-0494e12f3cb8<br>\n        Class: E52<br>\n        Degree: 0<br>\n        Type: ['E52']\n        ",
                    "\n        <b>1919</b><br>\n        ID: 8f73df94-5ef6-45e0-8e21-efbc6ee1f23c<br>\n        Class: E52<br>\n        Degree: 0<br>\n        Type: ['E52']\n        ",
                    "\n        <b>1905</b><br>\n        ID: bbcc4522-eebb-43e5-a1af-03a41247948a<br>\n        Class: E52<br>\n        Degree: 0<br>\n        Type: ['E52']\n        ",
                    "\n        <b>1917</b><br>\n        ID: 69445020-819d-4a3e-bfde-e0b334c74899<br>\n        Class: E52<br>\n        Degree: 0<br>\n        Type: ['E52']\n        ",
                    "\n        <b>1933</b><br>\n        ID: f9069d39-197a-4fc4-ba7b-f78a21498a91<br>\n        Class: E52<br>\n        Degree: 0<br>\n        Type: ['E52']\n        ",
                    "\n        <b>1921</b><br>\n        ID: 2c77a00b-a50c-41ed-b607-e56f36e4b709<br>\n        Class: E52<br>\n        Degree: 0<br>\n        Type: ['E52']\n        ",
                    "\n        <b>1903</b><br>\n        ID: 86be109a-c779-4c16-9ba3-c920793da2bc<br>\n        Class: E52<br>\n        Degree: 0<br>\n        Type: ['E52']\n        ",
                    "\n        <b>1902</b><br>\n        ID: a51c5755-526a-436c-84a5-c665914f055e<br>\n        Class: E52<br>\n        Degree: 0<br>\n        Type: ['E52']\n        ",
                    "\n        <b>1902</b><br>\n        ID: 650d592b-0150-4a18-a503-9e4c09878d7c<br>\n        Class: E52<br>\n        Degree: 0<br>\n        Type: ['E52']\n        ",
                    "\n        <b>1919</b><br>\n        ID: ea4cf590-c674-4a43-ac25-e2061b69edc7<br>\n        Class: E52<br>\n        Degree: 0<br>\n        Type: ['E52']\n        ",
                    "\n        <b>1919</b><br>\n        ID: a145329d-4a16-4571-8fdc-4809490fd130<br>\n        Class: E52<br>\n        Degree: 0<br>\n        Type: ['E52']\n        ",
                    "\n        <b>1936</b><br>\n        ID: d1e4f380-a79e-4078-8685-4afa47f36d67<br>\n        Class: E52<br>\n        Degree: 0<br>\n        Type: ['E52']\n        ",
                    "\n        <b>1933</b><br>\n        ID: 4429a1f3-4b7e-42c3-ad5a-e4c6f62b362c<br>\n        Class: E52<br>\n        Degree: 0<br>\n        Type: ['E52']\n        ",
                    "\n        <b>1935</b><br>\n        ID: e5ef21d5-bea5-4a80-9d6c-60e3315d0d80<br>\n        Class: E52<br>\n        Degree: 0<br>\n        Type: ['E52']\n        ",
                    "\n        <b>1939</b><br>\n        ID: de74bbef-7d70-4f5a-b24f-348f1b699029<br>\n        Class: E52<br>\n        Degree: 0<br>\n        Type: ['E52']\n        ",
                    "\n        <b>1940</b><br>\n        ID: 2ed6469a-fc20-494e-992b-fd8863ce50db<br>\n        Class: E52<br>\n        Degree: 0<br>\n        Type: ['E52']\n        ",
                    "\n        <b>1945</b><br>\n        ID: 5517bd7f-e031-4cb3-b4dc-6c6a934f4938<br>\n        Class: E52<br>\n        Degree: 0<br>\n        Type: ['E52']\n        ",
                    "\n        <b>1947</b><br>\n        ID: dfb6d3b0-52a6-4115-9c5d-17d2d06928b3<br>\n        Class: E52<br>\n        Degree: 0<br>\n        Type: ['E52']\n        ",
                    "\n        <b>1946</b><br>\n        ID: 6dae5f29-6817-499a-8d22-e19bd4d647af<br>\n        Class: E52<br>\n        Degree: 0<br>\n        Type: ['E52']\n        ",
                    "\n        <b>1951</b><br>\n        ID: 6105354b-4d79-4ffe-a4ba-1df2cff00d2d<br>\n        Class: E52<br>\n        Degree: 0<br>\n        Type: ['E52']\n        ",
                    "\n        <b>2017</b><br>\n        ID: 1c082125-224c-4bf5-a70d-fcea3d942242<br>\n        Class: E52<br>\n        Degree: 0<br>\n        Type: ['E52']\n        ",
                    "\n        <b>1955</b><br>\n        ID: 15dd3d01-b460-40e4-9567-c39bb50e53fe<br>\n        Class: E52<br>\n        Degree: 0<br>\n        Type: ['E52']\n        ",
                    "\n        <b>2014</b><br>\n        ID: b6714260-662a-4aaa-9c78-f3e0e9d91fda<br>\n        Class: E52<br>\n        Degree: 0<br>\n        Type: ['E52']\n        ",
                    "\n        <b>1999</b><br>\n        ID: 0181924d-6002-442d-9e11-d6a234291d71<br>\n        Class: E52<br>\n        Degree: 0<br>\n        Type: ['E52']\n        ",
                    "\n        <b>2011</b><br>\n        ID: 5495d943-d7df-4425-9943-cce5d670ead0<br>\n        Class: E52<br>\n        Degree: 0<br>\n        Type: ['E52']\n        "
                  ],
                  "marker": {
                    "color": [
                      "#FF6B6B",
                      "#FF6B6B",
                      "#FF6B6B",
                      "#45B7D1",
                      "#45B7D1",
                      "#45B7D1",
                      "#45B7D1",
                      "#45B7D1",
                      "#45B7D1",
                      "#45B7D1",
                      "#45B7D1",
                      "#45B7D1",
                      "#45B7D1",
                      "#45B7D1",
                      "#45B7D1",
                      "#45B7D1",
                      "#45B7D1",
                      "#45B7D1",
                      "#45B7D1",
                      "#45B7D1",
                      "#45B7D1",
                      "#45B7D1",
                      "#45B7D1",
                      "#45B7D1",
                      "#45B7D1",
                      "#45B7D1",
                      "#45B7D1",
                      "#96CEB4",
                      "#96CEB4",
                      "#96CEB4",
                      "#96CEB4",
                      "#96CEB4",
                      "#96CEB4",
                      "#96CEB4",
                      "#96CEB4",
                      "#96CEB4",
                      "#96CEB4",
                      "#96CEB4",
                      "#96CEB4",
                      "#96CEB4",
                      "#96CEB4",
                      "#96CEB4",
                      "#96CEB4",
                      "#96CEB4",
                      "#96CEB4",
                      "#96CEB4",
                      "#96CEB4",
                      "#96CEB4",
                      "#96CEB4",
                      "#FFEAA7",
                      "#FFEAA7",
                      "#FFEAA7",
                      "#FFEAA7",
                      "#FFEAA7",
                      "#FFEAA7",
                      "#FFEAA7",
                      "#FFEAA7",
                      "#FFEAA7",
                      "#FFEAA7",
                      "#FFEAA7",
                      "#FFEAA7",
                      "#FFEAA7",
                      "#FFEAA7",
                      "#FFEAA7",
                      "#FFEAA7",
                      "#FFEAA7",
                      "#FFEAA7",
                      "#FFEAA7",
                      "#FFEAA7",
                      "#FFEAA7",
                      "#FFEAA7",
                      "#FFEAA7",
                      "#FFEAA7",
                      "#FFEAA7",
                      "#FFEAA7",
                      "#FFEAA7",
                      "#FFEAA7",
                      "#FFEAA7",
                      "#FFEAA7",
                      "#FFEAA7",
                      "#FFEAA7",
                      "#FFEAA7",
                      "#FFEAA7",
                      "#FFEAA7",
                      "#FFEAA7",
                      "#FFEAA7",
                      "#FFEAA7"
                    ],
                    "line": {
                      "color": "white",
                      "width": 2
                    },
                    "opacity": 0.8,
                    "size": [
                      15,
                      15,
                      15,
                      15,
                      15,
                      15,
                      15,
                      15,
                      15,
                      15,
                      15,
                      15,
                      15,
                      15,
                      15,
                      15,
                      15,
                      15,
                      15,
                      15,
                      15,
                      15,
                      15,
                      15,
                      15,
                      15,
                      15,
                      15,
                      15,
                      15,
                      15,
                      15,
                      15,
                      15,
                      15,
                      15,
                      15,
                      15,
                      15,
                      15,
                      15,
                      15,
                      15,
                      15,
                      15,
                      15,
                      15,
                      15,
                      15,
                      15,
                      15,
                      15,
                      15,
                      15,
                      15,
                      15,
                      15,
                      15,
                      15,
                      15,
                      15,
                      15,
                      15,
                      15,
                      15,
                      15,
                      15,
                      15,
                      15,
                      15,
                      15,
                      15,
                      15,
                      15,
                      15,
                      15,
                      15,
                      15,
                      15,
                      15,
                      15,
                      15,
                      15,
                      15,
                      15,
                      15,
                      15
                    ]
                  },
                  "mode": "markers+text",
                  "name": "Entities",
                  "text": [
                    "Albert Einstein",
                    "in Philadelphia",
                    "said she",
                    "Ulm",
                    "Munich",
                    "Munich",
                    "Munich",
                    "Zurich",
                    "Zurich",
                    "Princeton",
                    "Princeton",
                    "Princeton",
                    "Princeton",
                    "Princeton",
                    "Princeton",
                    "New York",
                    "Switzerland",
                    "Germany",
                    "Germany",
                    "Germany",
                    "Germany",
                    "Italy",
                    "Italy",
                    "United States",
                    "United States",
                    "United States",
                    "United States",
                    "theory of relativity",
                    "theory of relativity and the equation E",
                    "theory of relativity in ",
                    "theory explains that space and time are actually connected",
                    "theory of relativity",
                    "theory the culmination of his life research",
                    "theory and key aspects of his general theory of relativity",
                    "theory of relativity allegedly came to him in a dream about cows being electrocuted",
                    "paper on the matter",
                    "Nobel Prize in Physics for his explanation of the photoelectric effect",
                    "Nobel Prize in the future",
                    "theory of relativity",
                    "theory of relativity",
                    "theory of relativity",
                    "theory of relativity",
                    "theory of relativity",
                    "theory of relativity",
                    "photoelectric effect",
                    "photoelectric effect",
                    "atomic bomb",
                    "Manhattan Project",
                    "atomic bomb",
                    "born in 1902",
                    "March 14, 1879",
                    "January 6, 1903",
                    "March 14, 1951",
                    "April 18, 1955",
                    "late 1940s",
                    "1880s",
                    "1890s",
                    "1940s",
                    "1879",
                    "1902",
                    "1905",
                    "1905",
                    "1915",
                    "1919",
                    "1905",
                    "1917",
                    "1933",
                    "1921",
                    "1903",
                    "1902",
                    "1902",
                    "1919",
                    "1919",
                    "1936",
                    "1933",
                    "1935",
                    "1939",
                    "1940",
                    "1945",
                    "1947",
                    "1946",
                    "1951",
                    "2017",
                    "1955",
                    "2014",
                    "1999",
                    "2011"
                  ],
                  "textfont": {
                    "color": "white",
                    "size": 10
                  },
                  "textposition": "middle center",
                  "type": "scatter",
                  "x": [
                    0.8396708938606455,
                    -0.8426805536893462,
                    -0.22852849701273664,
                    0.7767728445313673,
                    0.4593516543500206,
                    -0.9136695569492601,
                    0.48491135482988357,
                    -1,
                    -0.7642504113212323,
                    0.5093429260002784,
                    -0.3499230284538005,
                    0.21477710659228755,
                    -0.8280794381709097,
                    -0.6353506472358179,
                    -0.4574950568487412,
                    -0.7313360160926691,
                    0.8994582827580717,
                    -0.6322618137839309,
                    0.9520007775451114,
                    0.10085689161353961,
                    -0.37333751796240555,
                    -0.9348501733551096,
                    -0.9532183525712604,
                    0.9019648052836446,
                    0.8802435925219093,
                    0.031496887550767225,
                    0.8557027925179768,
                    0.9294887026223067,
                    -0.9010768336647204,
                    0.8112859852940002,
                    -0.7830035329086286,
                    0.9440740234352845,
                    -0.07285040674233599,
                    0.5115587932745218,
                    0.9598238310748074,
                    -0.04229867658565867,
                    0.19112632266673601,
                    -0.6449992399905141,
                    0.9249507394770771,
                    -0.980018337806233,
                    -0.4993743165893293,
                    -0.8568977794239949,
                    -0.936449717506402,
                    0.3208213239872937,
                    -0.8256590866369047,
                    -0.749924604059166,
                    0.6536595112208782,
                    0.8579692925665752,
                    0.6281886034456032,
                    -0.6285058428446253,
                    -0.9341214376919619,
                    -0.4664594912840675,
                    -0.8303493326290352,
                    -0.522351926838422,
                    -0.13725809187513896,
                    0.6172826447955486,
                    0.8876458712154506,
                    0.3263160497332428,
                    0.35560418079582656,
                    -0.628589525522731,
                    -0.21400541925739172,
                    -0.6223100307776565,
                    0.6352515209771079,
                    -0.005008607204914656,
                    -0.20237950252304293,
                    -0.10682403202245257,
                    -0.8510471116426218,
                    0.5260851102335168,
                    -0.3311468713068795,
                    0.7080856971926817,
                    0.7530751895107219,
                    0.16545561036019846,
                    -0.7736429341916519,
                    -0.919612019229454,
                    0.7075845085412705,
                    -0.3641292130101986,
                    0.8382737368436839,
                    0.7643046647837279,
                    0.8618437969094163,
                    -0.24271779512687106,
                    0.9613848867010086,
                    0.29770927048129747,
                    0.07940575856977901,
                    0.18979121552182193,
                    0.9836218375125466,
                    -0.9977390929824004,
                    0.41751238362319343
                  ],
                  "y": [
                    0.4219531627554793,
                    0.46759129190403625,
                    -0.9696941285075771,
                    0.5477119158427359,
                    -0.925813761902631,
                    0.4025012577635097,
                    -0.732800182368933,
                    -0.1184438071492555,
                    0.5239931772962965,
                    0.8781782790134401,
                    0.8468713035907963,
                    0.9654122407675687,
                    -0.34182159628139824,
                    -0.5653850443138042,
                    0.8507505221506949,
                    -0.5974021648332172,
                    0.2976915990011172,
                    0.6298563325070708,
                    -0.18565561618621237,
                    -0.9974765583255708,
                    -0.8171306124789016,
                    0.045751651646052,
                    -0.2733841789530537,
                    -0.45669243856687064,
                    0.2036000609253368,
                    -0.9360563908979169,
                    0.5068554435692891,
                    -0.10556867357827018,
                    0.3013403133940893,
                    -0.5209941556282042,
                    -0.7081971638012523,
                    -0.2874075219638624,
                    -0.9851979636530809,
                    -0.8367521719269871,
                    0.08658610802369522,
                    0.9157145217420807,
                    -0.9444668937787071,
                    0.8251285726390826,
                    0.3717907889791922,
                    0.2414930782502442,
                    -0.7513836485988336,
                    -0.07525339887761577,
                    0.15355780011954562,
                    0.8543874421818544,
                    -0.5645389212720933,
                    0.6407199945651052,
                    0.7180730868407162,
                    -0.27923633827230265,
                    -0.706998382447344,
                    0.7302563615114182,
                    -0.3873402198701969,
                    -0.8606798406505921,
                    0.6552196566049042,
                    0.7848194073522317,
                    0.9465708198498252,
                    0.8007742745609652,
                    0.015265768828310171,
                    0.9530680554402976,
                    -0.8814005485598023,
                    -0.8026482004625499,
                    -0.847437244985375,
                    -0.7183859190380929,
                    -0.8373627774028265,
                    0.9868857144012888,
                    0.8454346092214023,
                    -0.9122842708830523,
                    -0.46364174029785427,
                    0.779962464403804,
                    -0.9080864657887902,
                    0.6282507818124632,
                    -0.733883922567995,
                    0.9278365528197233,
                    0.2874249867252195,
                    -0.1848407369321845,
                    -0.6009859690529933,
                    0.9260384400261475,
                    -0.6144705968904794,
                    0.6722538327235084,
                    -0.3902403108207098,
                    0.95481020843479,
                    0.1883882934219158,
                    -0.9611047311846741,
                    0.9406448326708046,
                    -0.8096037481388194,
                    -0.024626983160627378,
                    0.0228524233548211,
                    0.8785085116186381
                  ]
                }
              ],
              "layout": {
                "annotations": [
                  {
                    "font": {
                      "color": "#7F8C8D",
                      "size": 12
                    },
                    "showarrow": false,
                    "text": "Interactive CRM Network - Hover over nodes for details",
                    "x": 0.005,
                    "xanchor": "left",
                    "xref": "paper",
                    "y": -0.002,
                    "yanchor": "bottom",
                    "yref": "paper"
                  }
                ],
                "font": {
                  "family": "Arial, sans-serif"
                },
                "hovermode": "closest",
                "margin": {
                  "b": 20,
                  "l": 5,
                  "r": 5,
                  "t": 60
                },
                "paper_bgcolor": "white",
                "plot_bgcolor": "white",
                "showlegend": true,
                "template": {
                  "data": {
                    "bar": [
                      {
                        "error_x": {
                          "color": "#2a3f5f"
                        },
                        "error_y": {
                          "color": "#2a3f5f"
                        },
                        "marker": {
                          "line": {
                            "color": "#E5ECF6",
                            "width": 0.5
                          },
                          "pattern": {
                            "fillmode": "overlay",
                            "size": 10,
                            "solidity": 0.2
                          }
                        },
                        "type": "bar"
                      }
                    ],
                    "barpolar": [
                      {
                        "marker": {
                          "line": {
                            "color": "#E5ECF6",
                            "width": 0.5
                          },
                          "pattern": {
                            "fillmode": "overlay",
                            "size": 10,
                            "solidity": 0.2
                          }
                        },
                        "type": "barpolar"
                      }
                    ],
                    "carpet": [
                      {
                        "aaxis": {
                          "endlinecolor": "#2a3f5f",
                          "gridcolor": "white",
                          "linecolor": "white",
                          "minorgridcolor": "white",
                          "startlinecolor": "#2a3f5f"
                        },
                        "baxis": {
                          "endlinecolor": "#2a3f5f",
                          "gridcolor": "white",
                          "linecolor": "white",
                          "minorgridcolor": "white",
                          "startlinecolor": "#2a3f5f"
                        },
                        "type": "carpet"
                      }
                    ],
                    "choropleth": [
                      {
                        "colorbar": {
                          "outlinewidth": 0,
                          "ticks": ""
                        },
                        "type": "choropleth"
                      }
                    ],
                    "contour": [
                      {
                        "colorbar": {
                          "outlinewidth": 0,
                          "ticks": ""
                        },
                        "colorscale": [
                          [
                            0,
                            "#0d0887"
                          ],
                          [
                            0.1111111111111111,
                            "#46039f"
                          ],
                          [
                            0.2222222222222222,
                            "#7201a8"
                          ],
                          [
                            0.3333333333333333,
                            "#9c179e"
                          ],
                          [
                            0.4444444444444444,
                            "#bd3786"
                          ],
                          [
                            0.5555555555555556,
                            "#d8576b"
                          ],
                          [
                            0.6666666666666666,
                            "#ed7953"
                          ],
                          [
                            0.7777777777777778,
                            "#fb9f3a"
                          ],
                          [
                            0.8888888888888888,
                            "#fdca26"
                          ],
                          [
                            1,
                            "#f0f921"
                          ]
                        ],
                        "type": "contour"
                      }
                    ],
                    "contourcarpet": [
                      {
                        "colorbar": {
                          "outlinewidth": 0,
                          "ticks": ""
                        },
                        "type": "contourcarpet"
                      }
                    ],
                    "heatmap": [
                      {
                        "colorbar": {
                          "outlinewidth": 0,
                          "ticks": ""
                        },
                        "colorscale": [
                          [
                            0,
                            "#0d0887"
                          ],
                          [
                            0.1111111111111111,
                            "#46039f"
                          ],
                          [
                            0.2222222222222222,
                            "#7201a8"
                          ],
                          [
                            0.3333333333333333,
                            "#9c179e"
                          ],
                          [
                            0.4444444444444444,
                            "#bd3786"
                          ],
                          [
                            0.5555555555555556,
                            "#d8576b"
                          ],
                          [
                            0.6666666666666666,
                            "#ed7953"
                          ],
                          [
                            0.7777777777777778,
                            "#fb9f3a"
                          ],
                          [
                            0.8888888888888888,
                            "#fdca26"
                          ],
                          [
                            1,
                            "#f0f921"
                          ]
                        ],
                        "type": "heatmap"
                      }
                    ],
                    "histogram": [
                      {
                        "marker": {
                          "pattern": {
                            "fillmode": "overlay",
                            "size": 10,
                            "solidity": 0.2
                          }
                        },
                        "type": "histogram"
                      }
                    ],
                    "histogram2d": [
                      {
                        "colorbar": {
                          "outlinewidth": 0,
                          "ticks": ""
                        },
                        "colorscale": [
                          [
                            0,
                            "#0d0887"
                          ],
                          [
                            0.1111111111111111,
                            "#46039f"
                          ],
                          [
                            0.2222222222222222,
                            "#7201a8"
                          ],
                          [
                            0.3333333333333333,
                            "#9c179e"
                          ],
                          [
                            0.4444444444444444,
                            "#bd3786"
                          ],
                          [
                            0.5555555555555556,
                            "#d8576b"
                          ],
                          [
                            0.6666666666666666,
                            "#ed7953"
                          ],
                          [
                            0.7777777777777778,
                            "#fb9f3a"
                          ],
                          [
                            0.8888888888888888,
                            "#fdca26"
                          ],
                          [
                            1,
                            "#f0f921"
                          ]
                        ],
                        "type": "histogram2d"
                      }
                    ],
                    "histogram2dcontour": [
                      {
                        "colorbar": {
                          "outlinewidth": 0,
                          "ticks": ""
                        },
                        "colorscale": [
                          [
                            0,
                            "#0d0887"
                          ],
                          [
                            0.1111111111111111,
                            "#46039f"
                          ],
                          [
                            0.2222222222222222,
                            "#7201a8"
                          ],
                          [
                            0.3333333333333333,
                            "#9c179e"
                          ],
                          [
                            0.4444444444444444,
                            "#bd3786"
                          ],
                          [
                            0.5555555555555556,
                            "#d8576b"
                          ],
                          [
                            0.6666666666666666,
                            "#ed7953"
                          ],
                          [
                            0.7777777777777778,
                            "#fb9f3a"
                          ],
                          [
                            0.8888888888888888,
                            "#fdca26"
                          ],
                          [
                            1,
                            "#f0f921"
                          ]
                        ],
                        "type": "histogram2dcontour"
                      }
                    ],
                    "mesh3d": [
                      {
                        "colorbar": {
                          "outlinewidth": 0,
                          "ticks": ""
                        },
                        "type": "mesh3d"
                      }
                    ],
                    "parcoords": [
                      {
                        "line": {
                          "colorbar": {
                            "outlinewidth": 0,
                            "ticks": ""
                          }
                        },
                        "type": "parcoords"
                      }
                    ],
                    "pie": [
                      {
                        "automargin": true,
                        "type": "pie"
                      }
                    ],
                    "scatter": [
                      {
                        "fillpattern": {
                          "fillmode": "overlay",
                          "size": 10,
                          "solidity": 0.2
                        },
                        "type": "scatter"
                      }
                    ],
                    "scatter3d": [
                      {
                        "line": {
                          "colorbar": {
                            "outlinewidth": 0,
                            "ticks": ""
                          }
                        },
                        "marker": {
                          "colorbar": {
                            "outlinewidth": 0,
                            "ticks": ""
                          }
                        },
                        "type": "scatter3d"
                      }
                    ],
                    "scattercarpet": [
                      {
                        "marker": {
                          "colorbar": {
                            "outlinewidth": 0,
                            "ticks": ""
                          }
                        },
                        "type": "scattercarpet"
                      }
                    ],
                    "scattergeo": [
                      {
                        "marker": {
                          "colorbar": {
                            "outlinewidth": 0,
                            "ticks": ""
                          }
                        },
                        "type": "scattergeo"
                      }
                    ],
                    "scattergl": [
                      {
                        "marker": {
                          "colorbar": {
                            "outlinewidth": 0,
                            "ticks": ""
                          }
                        },
                        "type": "scattergl"
                      }
                    ],
                    "scattermap": [
                      {
                        "marker": {
                          "colorbar": {
                            "outlinewidth": 0,
                            "ticks": ""
                          }
                        },
                        "type": "scattermap"
                      }
                    ],
                    "scattermapbox": [
                      {
                        "marker": {
                          "colorbar": {
                            "outlinewidth": 0,
                            "ticks": ""
                          }
                        },
                        "type": "scattermapbox"
                      }
                    ],
                    "scatterpolar": [
                      {
                        "marker": {
                          "colorbar": {
                            "outlinewidth": 0,
                            "ticks": ""
                          }
                        },
                        "type": "scatterpolar"
                      }
                    ],
                    "scatterpolargl": [
                      {
                        "marker": {
                          "colorbar": {
                            "outlinewidth": 0,
                            "ticks": ""
                          }
                        },
                        "type": "scatterpolargl"
                      }
                    ],
                    "scatterternary": [
                      {
                        "marker": {
                          "colorbar": {
                            "outlinewidth": 0,
                            "ticks": ""
                          }
                        },
                        "type": "scatterternary"
                      }
                    ],
                    "surface": [
                      {
                        "colorbar": {
                          "outlinewidth": 0,
                          "ticks": ""
                        },
                        "colorscale": [
                          [
                            0,
                            "#0d0887"
                          ],
                          [
                            0.1111111111111111,
                            "#46039f"
                          ],
                          [
                            0.2222222222222222,
                            "#7201a8"
                          ],
                          [
                            0.3333333333333333,
                            "#9c179e"
                          ],
                          [
                            0.4444444444444444,
                            "#bd3786"
                          ],
                          [
                            0.5555555555555556,
                            "#d8576b"
                          ],
                          [
                            0.6666666666666666,
                            "#ed7953"
                          ],
                          [
                            0.7777777777777778,
                            "#fb9f3a"
                          ],
                          [
                            0.8888888888888888,
                            "#fdca26"
                          ],
                          [
                            1,
                            "#f0f921"
                          ]
                        ],
                        "type": "surface"
                      }
                    ],
                    "table": [
                      {
                        "cells": {
                          "fill": {
                            "color": "#EBF0F8"
                          },
                          "line": {
                            "color": "white"
                          }
                        },
                        "header": {
                          "fill": {
                            "color": "#C8D4E3"
                          },
                          "line": {
                            "color": "white"
                          }
                        },
                        "type": "table"
                      }
                    ]
                  },
                  "layout": {
                    "annotationdefaults": {
                      "arrowcolor": "#2a3f5f",
                      "arrowhead": 0,
                      "arrowwidth": 1
                    },
                    "autotypenumbers": "strict",
                    "coloraxis": {
                      "colorbar": {
                        "outlinewidth": 0,
                        "ticks": ""
                      }
                    },
                    "colorscale": {
                      "diverging": [
                        [
                          0,
                          "#8e0152"
                        ],
                        [
                          0.1,
                          "#c51b7d"
                        ],
                        [
                          0.2,
                          "#de77ae"
                        ],
                        [
                          0.3,
                          "#f1b6da"
                        ],
                        [
                          0.4,
                          "#fde0ef"
                        ],
                        [
                          0.5,
                          "#f7f7f7"
                        ],
                        [
                          0.6,
                          "#e6f5d0"
                        ],
                        [
                          0.7,
                          "#b8e186"
                        ],
                        [
                          0.8,
                          "#7fbc41"
                        ],
                        [
                          0.9,
                          "#4d9221"
                        ],
                        [
                          1,
                          "#276419"
                        ]
                      ],
                      "sequential": [
                        [
                          0,
                          "#0d0887"
                        ],
                        [
                          0.1111111111111111,
                          "#46039f"
                        ],
                        [
                          0.2222222222222222,
                          "#7201a8"
                        ],
                        [
                          0.3333333333333333,
                          "#9c179e"
                        ],
                        [
                          0.4444444444444444,
                          "#bd3786"
                        ],
                        [
                          0.5555555555555556,
                          "#d8576b"
                        ],
                        [
                          0.6666666666666666,
                          "#ed7953"
                        ],
                        [
                          0.7777777777777778,
                          "#fb9f3a"
                        ],
                        [
                          0.8888888888888888,
                          "#fdca26"
                        ],
                        [
                          1,
                          "#f0f921"
                        ]
                      ],
                      "sequentialminus": [
                        [
                          0,
                          "#0d0887"
                        ],
                        [
                          0.1111111111111111,
                          "#46039f"
                        ],
                        [
                          0.2222222222222222,
                          "#7201a8"
                        ],
                        [
                          0.3333333333333333,
                          "#9c179e"
                        ],
                        [
                          0.4444444444444444,
                          "#bd3786"
                        ],
                        [
                          0.5555555555555556,
                          "#d8576b"
                        ],
                        [
                          0.6666666666666666,
                          "#ed7953"
                        ],
                        [
                          0.7777777777777778,
                          "#fb9f3a"
                        ],
                        [
                          0.8888888888888888,
                          "#fdca26"
                        ],
                        [
                          1,
                          "#f0f921"
                        ]
                      ]
                    },
                    "colorway": [
                      "#636efa",
                      "#EF553B",
                      "#00cc96",
                      "#ab63fa",
                      "#FFA15A",
                      "#19d3f3",
                      "#FF6692",
                      "#B6E880",
                      "#FF97FF",
                      "#FECB52"
                    ],
                    "font": {
                      "color": "#2a3f5f"
                    },
                    "geo": {
                      "bgcolor": "white",
                      "lakecolor": "white",
                      "landcolor": "#E5ECF6",
                      "showlakes": true,
                      "showland": true,
                      "subunitcolor": "white"
                    },
                    "hoverlabel": {
                      "align": "left"
                    },
                    "hovermode": "closest",
                    "mapbox": {
                      "style": "light"
                    },
                    "paper_bgcolor": "white",
                    "plot_bgcolor": "#E5ECF6",
                    "polar": {
                      "angularaxis": {
                        "gridcolor": "white",
                        "linecolor": "white",
                        "ticks": ""
                      },
                      "bgcolor": "#E5ECF6",
                      "radialaxis": {
                        "gridcolor": "white",
                        "linecolor": "white",
                        "ticks": ""
                      }
                    },
                    "scene": {
                      "xaxis": {
                        "backgroundcolor": "#E5ECF6",
                        "gridcolor": "white",
                        "gridwidth": 2,
                        "linecolor": "white",
                        "showbackground": true,
                        "ticks": "",
                        "zerolinecolor": "white"
                      },
                      "yaxis": {
                        "backgroundcolor": "#E5ECF6",
                        "gridcolor": "white",
                        "gridwidth": 2,
                        "linecolor": "white",
                        "showbackground": true,
                        "ticks": "",
                        "zerolinecolor": "white"
                      },
                      "zaxis": {
                        "backgroundcolor": "#E5ECF6",
                        "gridcolor": "white",
                        "gridwidth": 2,
                        "linecolor": "white",
                        "showbackground": true,
                        "ticks": "",
                        "zerolinecolor": "white"
                      }
                    },
                    "shapedefaults": {
                      "line": {
                        "color": "#2a3f5f"
                      }
                    },
                    "ternary": {
                      "aaxis": {
                        "gridcolor": "white",
                        "linecolor": "white",
                        "ticks": ""
                      },
                      "baxis": {
                        "gridcolor": "white",
                        "linecolor": "white",
                        "ticks": ""
                      },
                      "bgcolor": "#E5ECF6",
                      "caxis": {
                        "gridcolor": "white",
                        "linecolor": "white",
                        "ticks": ""
                      }
                    },
                    "title": {
                      "x": 0.05
                    },
                    "xaxis": {
                      "automargin": true,
                      "gridcolor": "white",
                      "linecolor": "white",
                      "ticks": "",
                      "title": {
                        "standoff": 15
                      },
                      "zerolinecolor": "white",
                      "zerolinewidth": 2
                    },
                    "yaxis": {
                      "automargin": true,
                      "gridcolor": "white",
                      "linecolor": "white",
                      "ticks": "",
                      "title": {
                        "standoff": 15
                      },
                      "zerolinecolor": "white",
                      "zerolinewidth": 2
                    }
                  }
                },
                "title": {
                  "font": {
                    "color": "#2C3E50",
                    "size": 20
                  },
                  "text": "Enhanced Interactive Einstein Network",
                  "x": 0.5
                },
                "xaxis": {
                  "showgrid": false,
                  "showticklabels": false,
                  "zeroline": false
                },
                "yaxis": {
                  "showgrid": false,
                  "showticklabels": false,
                  "zeroline": false
                }
              }
            }
          },
          "metadata": {},
          "output_type": "display_data"
        },
        {
          "name": "stdout",
          "output_type": "stream",
          "text": [
            "\n",
            "🎯 Enhanced Features:\n",
            "  - Better hover information with entity details\n",
            "  - Improved color scheme for entity types\n",
            "  - Dynamic node sizing based on degree\n",
            "  - Enhanced styling and layout\n",
            "  - Interactive zoom and pan capabilities\n"
          ]
        }
      ],
      "source": [
        "# Create advanced interactive visualizations with enhanced features\n",
        "print(\"🎨 Creating advanced interactive visualizations...\")\n",
        "\n",
        "# Enhanced interactive plot with better hover information\n",
        "def create_enhanced_interactive_plot(graph, title, node_size_multiplier=20, edge_width_multiplier=2):\n",
        "    \"\"\"Create an enhanced interactive plot with better hover information and styling.\"\"\"\n",
        "    \n",
        "    # Get layout positions\n",
        "    pos = nx.spring_layout(graph, k=3, iterations=50)\n",
        "    \n",
        "    # Prepare edge traces with enhanced styling\n",
        "    edge_x = []\n",
        "    edge_y = []\n",
        "    edge_hovertext = []\n",
        "    \n",
        "    for edge in graph.edges(data=True):\n",
        "        x0, y0 = pos[edge[0]]\n",
        "        x1, y1 = pos[edge[1]]\n",
        "        edge_x.extend([x0, x1, None])\n",
        "        edge_y.extend([y0, y1, None])\n",
        "        \n",
        "        # Enhanced edge hover information\n",
        "        edge_data = edge[2]\n",
        "        property_code = edge_data.get('property_code', 'Unknown')\n",
        "        edge_hovertext.append(f\"Relationship: {property_code}<br>From: {edge[0]}<br>To: {edge[1]}\")\n",
        "    \n",
        "    edge_trace = go.Scatter(\n",
        "        x=edge_x, y=edge_y,\n",
        "        line=dict(width=edge_width_multiplier, color=\"#888\"),\n",
        "        hoverinfo=\"none\",\n",
        "        mode=\"lines\",\n",
        "        name=\"Relationships\"\n",
        "    )\n",
        "    \n",
        "    # Prepare node traces with enhanced information\n",
        "    node_x = []\n",
        "    node_y = []\n",
        "    node_text = []\n",
        "    node_hovertext = []\n",
        "    node_colors = []\n",
        "    node_sizes = []\n",
        "    node_labels = []\n",
        "    \n",
        "    for node in graph.nodes():\n",
        "        x, y = pos[node]\n",
        "        node_x.append(x)\n",
        "        node_y.append(y)\n",
        "        \n",
        "        node_data = graph.nodes[node]\n",
        "        label = node_data.get('label', node)\n",
        "        class_code = node_data.get('class_code', 'Unknown')\n",
        "        degree = graph.degree(node)\n",
        "        \n",
        "        node_text.append(label)\n",
        "        node_labels.append(label)\n",
        "        \n",
        "        # Enhanced hover information\n",
        "        hover_info = f\"\"\"\n",
        "        <b>{label}</b><br>\n",
        "        ID: {node}<br>\n",
        "        Class: {class_code}<br>\n",
        "        Degree: {degree}<br>\n",
        "        Type: {node_data.get('type', 'Unknown')}\n",
        "        \"\"\"\n",
        "        node_hovertext.append(hover_info)\n",
        "        \n",
        "        # Color by class code with better color scheme\n",
        "        color_map = {\n",
        "            \"E21\": \"#FF6B6B\",      # Person - Red\n",
        "            \"E5\": \"#4ECDC4\",       # Event - Teal\n",
        "            \"E53\": \"#45B7D1\",      # Place - Blue\n",
        "            \"E22\": \"#96CEB4\",      # Object - Green\n",
        "            \"E52\": \"#FFEAA7\",      # Time - Yellow\n",
        "            \"E12\": \"#DDA0DD\",      # Production - Purple\n",
        "            \"E39\": \"#F39C12\",      # Actor - Orange\n",
        "        }\n",
        "        node_colors.append(color_map.get(class_code, \"#95A5A6\"))\n",
        "        \n",
        "        # Size by degree with better scaling\n",
        "        node_sizes.append(max(15, degree * node_size_multiplier + 10))\n",
        "    \n",
        "    node_trace = go.Scatter(\n",
        "        x=node_x, y=node_y,\n",
        "        mode=\"markers+text\",\n",
        "        hoverinfo=\"text\",\n",
        "        hovertext=node_hovertext,\n",
        "        text=node_text,\n",
        "        textposition=\"middle center\",\n",
        "        textfont=dict(size=10, color=\"white\"),\n",
        "        marker=dict(\n",
        "            size=node_sizes,\n",
        "            color=node_colors,\n",
        "            line=dict(width=2, color=\"white\"),\n",
        "            opacity=0.8\n",
        "        ),\n",
        "        name=\"Entities\"\n",
        "    )\n",
        "    \n",
        "    # Create figure with enhanced layout\n",
        "    fig = go.Figure(\n",
        "        data=[edge_trace, node_trace],\n",
        "        layout=go.Layout(\n",
        "            title=dict(\n",
        "                text=title,\n",
        "                font=dict(size=20, color=\"#2C3E50\"),\n",
        "                x=0.5\n",
        "            ),\n",
        "            showlegend=True,\n",
        "            hovermode=\"closest\",\n",
        "            margin=dict(b=20, l=5, r=5, t=60),\n",
        "            annotations=[\n",
        "                dict(\n",
        "                    text=\"Interactive CRM Network - Hover over nodes for details\",\n",
        "                    showarrow=False,\n",
        "                    xref=\"paper\", yref=\"paper\",\n",
        "                    x=0.005, y=-0.002,\n",
        "                    xanchor=\"left\", yanchor=\"bottom\",\n",
        "                    font=dict(color=\"#7F8C8D\", size=12)\n",
        "                )\n",
        "            ],\n",
        "            xaxis=dict(showgrid=False, zeroline=False, showticklabels=False),\n",
        "            yaxis=dict(showgrid=False, zeroline=False, showticklabels=False),\n",
        "            plot_bgcolor=\"white\",\n",
        "            paper_bgcolor=\"white\",\n",
        "            font=dict(family=\"Arial, sans-serif\")\n",
        "        )\n",
        "    )\n",
        "    \n",
        "    return fig\n",
        "\n",
        "# Create enhanced interactive plot\n",
        "enhanced_fig = create_enhanced_interactive_plot(\n",
        "    graph,\n",
        "    title=\"Enhanced Interactive Einstein Network\",\n",
        "    node_size_multiplier=25,\n",
        "    edge_width_multiplier=2\n",
        ")\n",
        "\n",
        "# Save enhanced plot\n",
        "enhanced_file = plots_dir / \"enhanced_interactive_network.html\"\n",
        "enhanced_fig.write_html(str(enhanced_file))\n",
        "print(f\"✅ Generated enhanced interactive plot: {enhanced_file}\")\n",
        "\n",
        "# Display enhanced visualization\n",
        "try:\n",
        "    enhanced_fig.show()\n",
        "except ValueError as e:\n",
        "    print(f\"⚠️  Display issue: {e}\")\n",
        "    print(f\"📁 Enhanced plot saved: {enhanced_file}\")\n",
        "    print(\"💡 Tip: Open the HTML file in your browser to view the interactive plot\")\n",
        "\n",
        "print(\"\\n🎯 Enhanced Features:\")\n",
        "print(\"  - Better hover information with entity details\")\n",
        "print(\"  - Improved color scheme for entity types\")\n",
        "print(\"  - Dynamic node sizing based on degree\")\n",
        "print(\"  - Enhanced styling and layout\")\n",
        "print(\"  - Interactive zoom and pan capabilities\")\n"
      ]
    },
    {
      "cell_type": "markdown",
      "metadata": {},
      "source": [
        "## 📋 How to View Your Interactive Plots\n",
        "\n",
        "If you encountered display issues in the notebook, here are several ways to view your interactive Plotly visualizations:\n",
        "\n",
        "### Method 1: Open HTML Files in Browser\n",
        "All interactive plots are saved as HTML files in the `plots/` directory. You can:\n",
        "1. Navigate to the `notebook_output/plots/` folder\n",
        "2. Double-click any `.html` file to open it in your browser\n",
        "3. Enjoy the full interactive experience with zoom, pan, and hover features\n",
        "\n",
        "### Method 2: Use Alternative Display Methods\n",
        "```python\n",
        "# Alternative 1: Display with specific renderer\n",
        "import plotly.io as pio\n",
        "pio.renderers.default = \"browser\"  # Opens in browser\n",
        "fig.show()\n",
        "\n",
        "# Alternative 2: Display as static image\n",
        "fig.show(\"png\")  # Saves as PNG\n",
        "\n",
        "# Alternative 3: Display in iframe\n",
        "from IPython.display import HTML\n",
        "HTML(fig.to_html(include_plotlyjs='cdn'))\n",
        "```\n",
        "\n",
        "### Method 3: Fix Jupyter Environment\n",
        "To fix the display issue permanently:\n",
        "1. Restart your Jupyter server\n",
        "2. Change kernel to \"Collie (uv)\" in your notebook\n",
        "3. Re-run the cells\n",
        "\n",
        "### Generated Files\n",
        "- `network_overview.html` - Main interactive network\n",
        "- `community_structure.html` - Community analysis\n",
        "- `centrality_analysis.html` - Centrality analysis  \n",
        "- `interactive_network.html` - Complete network view\n",
        "- `enhanced_interactive_network.html` - Enhanced version with rich hover info\n"
      ]
    },
    {
      "cell_type": "code",
      "execution_count": null,
      "metadata": {},
      "outputs": [
        {
          "name": "stdout",
          "output_type": "stream",
          "text": [
            "🔧 Alternative Display Methods\n",
            "\n",
            "1. Browser Display:\n",
            "✅ Browser renderer set - plots will open in browser\n",
            "\n",
            "2. Static Image Display:\n",
            "❌ Static image display failed: \n",
            "Image export using the \"kaleido\" engine requires the Kaleido package,\n",
            "which can be installed using pip:\n",
            "\n",
            "    $ pip install --upgrade kaleido\n",
            "\n",
            "\n",
            "3. HTML Display:\n",
            "✅ HTML display ready - you can use HTML(html_content) to display\n",
            "\n",
            "💡 Recommendation: Use the HTML files in your browser for the best interactive experience!\n"
          ]
        }
      ],
      "source": [
        "# Alternative display methods for Plotly visualizations\n",
        "print(\"🔧 Alternative Display Methods\")\n",
        "\n",
        "# Method 1: Display with browser renderer\n",
        "print(\"\\n1. Browser Display:\")\n",
        "try:\n",
        "    import plotly.io as pio\n",
        "    pio.renderers.default = \"browser\"\n",
        "    print(\"✅ Browser renderer set - plots will open in browser\")\n",
        "except Exception as e:\n",
        "    print(f\"❌ Browser renderer failed: {e}\")\n",
        "\n",
        "# Method 2: Display as static image\n",
        "print(\"\\n2. Static Image Display:\")\n",
        "try:\n",
        "    # Create a simple test plot\n",
        "    import plotly.graph_objects as go\n",
        "    test_fig = go.Figure(data=go.Scatter(x=[1, 2, 3], y=[4, 5, 6]))\n",
        "    \n",
        "    # Save as PNG\n",
        "    test_fig.write_image(plots_dir / \"test_plot.png\")\n",
        "    print(\"✅ Static image display works - test plot saved as PNG\")\n",
        "except Exception as e:\n",
        "    print(f\"❌ Static image display failed: {e}\")\n",
        "\n",
        "# Method 3: HTML display with IPython\n",
        "print(\"\\n3. HTML Display:\")\n",
        "try:\n",
        "    from IPython.display import HTML\n",
        "    html_content = enhanced_fig.to_html(include_plotlyjs='cdn')\n",
        "    print(\"✅ HTML display ready - you can use HTML(html_content) to display\")\n",
        "except Exception as e:\n",
        "    print(f\"❌ HTML display failed: {e}\")\n",
        "\n",
        "print(\"\\n💡 Recommendation: Use the HTML files in your browser for the best interactive experience!\")\n"
      ]
    },
    {
      "cell_type": "markdown",
      "metadata": {},
      "source": [
        "## Step 10: Export to Cypher\n",
        "\n",
        "Generate Cypher scripts for importing the data into graph databases like Neo4j or Memgraph.\n"
      ]
    },
    {
      "cell_type": "code",
      "execution_count": null,
      "metadata": {},
      "outputs": [
        {
          "name": "stdout",
          "output_type": "stream",
          "text": [
            "🔗 Generating Cypher script...\n",
            "✅ Generated Cypher script: notebook_output/network.cypher\n",
            "\n",
            "📋 Cypher Script Preview:\n",
            "-- Create constraints\n",
            "CREATE CONSTRAINT crm_id IF NOT EXISTS FOR (n:CRM) REQUIRE n.id IS UNIQUE;\n",
            "CREATE CONSTRAINT crm_class_code IF NOT EXISTS FOR (n:CRM) REQUIRE n.class_code IS NOT NULL;\n",
            "\n",
            "-- Create nodes\n",
            "UNWIND $nodes_0 AS n\n",
            "MERGE (x:CRM {id: n.id})\n",
            "SET x.label = coalesce(n.label, x.label)\n",
            "SET x.class_code = n.class_code\n",
            "SET x.notes = coalesce(n.notes, x.notes)\n",
            "SET x.type = coalesce(n.type, x.type);\n",
            "\n"
          ]
        }
      ],
      "source": [
        "# Generate Cypher script\n",
        "print(\"🔗 Generating Cypher script...\")\n",
        "cypher_script = generate_cypher_script(crm_entities)\n",
        "\n",
        "# Save Cypher script\n",
        "cypher_file = output_dir / \"network.cypher\"\n",
        "with open(cypher_file, \"w\") as f:\n",
        "    f.write(cypher_script)\n",
        "\n",
        "print(f\"✅ Generated Cypher script: {cypher_file}\")\n",
        "\n",
        "# Display first part of Cypher script\n",
        "print(\"\\n📋 Cypher Script Preview:\")\n",
        "cypher_lines = cypher_script.split('\\n')\n",
        "for line in cypher_lines[:20]:  # Show first 20 lines\n",
        "    print(line)\n",
        "if len(cypher_lines) > 20:\n",
        "    print(f\"... ({len(cypher_lines) - 20} more lines)\")\n"
      ]
    },
    {
      "cell_type": "markdown",
      "metadata": {},
      "source": [
        "## Step 11: Create Summary Report\n",
        "\n",
        "Generate a comprehensive summary report of the entire workflow.\n"
      ]
    },
    {
      "cell_type": "code",
      "execution_count": null,
      "metadata": {},
      "outputs": [
        {
          "name": "stdout",
          "output_type": "stream",
          "text": [
            "📋 Creating summary report...\n",
            "✅ Created summary report: notebook_output/workflow_summary.md\n",
            "\n",
            "📊 Workflow Summary:\n",
            "  Input text length: 14569 characters\n",
            "  Entities extracted: 87\n",
            "  Relationships extracted: 0\n",
            "  Network nodes: 87\n",
            "  Network edges: 0\n",
            "  Communities found: 0\n",
            "  Output directory: notebook_output\n"
          ]
        }
      ],
      "source": [
        "# Create summary report\n",
        "print(\"📋 Creating summary report...\")\n",
        "\n",
        "summary_file = output_dir / \"workflow_summary.md\"\n",
        "with open(summary_file, \"w\") as f:\n",
        "    f.write(\"# COLLIE Workflow Summary\\n\\n\")\n",
        "    f.write(f\"## Input Text\\n\\n{sample_text[:200]}...\\n\\n\")\n",
        "    f.write(f\"## Extraction Results\\n\\n\")\n",
        "    f.write(f\"- Entities extracted: {len(extraction_result.entities)}\\n\")\n",
        "    f.write(f\"- Relationships extracted: {len(extraction_result.relationships)}\\n\\n\")\n",
        "    f.write(f\"## Network Analysis\\n\\n\")\n",
        "    f.write(f\"- Nodes: {graph.number_of_nodes()}\\n\")\n",
        "    f.write(f\"- Edges: {graph.number_of_edges()}\\n\")\n",
        "    f.write(f\"- Density: {network_stats['basic_metrics']['density']:.3f}\\n\")\n",
        "    f.write(f\"- Communities: {len(communities)}\\n\\n\")\n",
        "    f.write(f\"## Output Files\\n\\n\")\n",
        "    f.write(f\"- Canonical JSON: {json_file}\\n\")\n",
        "    f.write(f\"- Markdown reports: {markdown_dir}\\n\")\n",
        "    f.write(f\"- Network plots: {plots_dir}\\n\")\n",
        "    f.write(f\"- Cypher script: {cypher_file}\\n\")\n",
        "\n",
        "print(f\"✅ Created summary report: {summary_file}\")\n",
        "\n",
        "# Display summary\n",
        "print(\"\\n📊 Workflow Summary:\")\n",
        "print(f\"  Input text length: {len(sample_text)} characters\")\n",
        "print(f\"  Entities extracted: {len(extraction_result.entities)}\")\n",
        "print(f\"  Relationships extracted: {len(extraction_result.relationships)}\")\n",
        "print(f\"  Network nodes: {graph.number_of_nodes()}\")\n",
        "print(f\"  Network edges: {graph.number_of_edges()}\")\n",
        "print(f\"  Communities found: {len(communities)}\")\n",
        "print(f\"  Output directory: {output_dir}\")\n"
      ]
    },
    {
      "cell_type": "markdown",
      "metadata": {},
      "source": [
        "## 🎉 Complete Workflow Demo Finished!\n",
        "\n",
        "### What We Accomplished:\n",
        "\n",
        "1. **✅ AI Extraction**: Used PydanticAI to extract CRM entities from text\n",
        "2. **✅ Canonical JSON**: Serialized entities for async/future processing\n",
        "3. **✅ Markdown Reports**: Generated human-readable documentation\n",
        "4. **✅ Network Analysis**: Created NetworkX graph and performed analysis\n",
        "5. **✅ Interactive Visualizations**: Created multiple Plotly-based interactive plots\n",
        "6. **✅ Enhanced Features**: Added advanced hover information and styling\n",
        "7. **✅ Cypher Export**: Generated scripts for graph database import\n",
        "8. **✅ Summary Report**: Documented the complete workflow\n",
        "\n",
        "### Key Improvements with Plotly:\n",
        "\n",
        "- **Interactive Exploration**: Zoom, pan, and hover over nodes for detailed information\n",
        "- **Enhanced Styling**: Better color schemes and visual design\n",
        "- **Multiple Views**: Community structure, centrality analysis, and complete network views\n",
        "- **Rich Hover Information**: Detailed entity information on hover\n",
        "- **Export Capabilities**: Save interactive HTML files for sharing\n",
        "\n",
        "### Key Files Generated:\n",
        "\n",
        "- `canonical_entities.json` - **Most important!** Ready for graph databases\n",
        "- `network_overview.png` - Static visualization\n",
        "- `interactive_network.html` - Interactive Plotly visualization\n",
        "- `network.cypher` - Neo4j/Memgraph import script\n",
        "- `workflow_summary.md` - Complete analysis report\n",
        "\n",
        "### Next Steps:\n",
        "\n",
        "1. **Import to Graph Database**: Use the Cypher script with Neo4j or Memgraph\n",
        "2. **API Integration**: Use canonical JSON for web services\n",
        "3. **Batch Processing**: Process multiple texts using the same workflow\n",
        "4. **Advanced Analysis**: Explore more NetworkX algorithms and visualizations\n",
        "\n",
        "The canonical JSON serialization ensures your extracted data is ready for any future processing needs! 🚀\n"
      ]
    },
    {
      "cell_type": "markdown",
      "metadata": {},
      "source": [
        "## 🔧 Advanced Usage Examples\n",
        "\n",
        "### Custom Entity Creation\n",
        "\n",
        "You can also create entities manually and add them to the workflow:\n"
      ]
    },
    {
      "cell_type": "code",
      "execution_count": null,
      "metadata": {},
      "outputs": [
        {
          "name": "stdout",
          "output_type": "stream",
          "text": [
            "✅ Created 3 custom entities\n",
            "✅ Total entities: 90\n",
            "✅ Extended graph: 90 nodes, 0 edges\n"
          ]
        }
      ],
      "source": [
        "# Create custom entities\n",
        "custom_entities = [\n",
        "    CRMEntity(id=\"custom1\", class_code=\"E21\", label=\"Marie Curie\"),\n",
        "    CRMEntity(id=\"custom2\", class_code=\"E53\", label=\"Paris\"),\n",
        "    CRMEntity(id=\"custom3\", class_code=\"E5\", label=\"Nobel Prize in Physics 1903\")\n",
        "]\n",
        "\n",
        "# Add to existing entities\n",
        "all_entities = crm_entities + custom_entities\n",
        "\n",
        "print(f\"✅ Created {len(custom_entities)} custom entities\")\n",
        "print(f\"✅ Total entities: {len(all_entities)}\")\n",
        "\n",
        "# Create new graph with all entities\n",
        "extended_graph = to_networkx_graph(all_entities)\n",
        "print(f\"✅ Extended graph: {extended_graph.number_of_nodes()} nodes, {extended_graph.number_of_edges()} edges\")\n"
      ]
    },
    {
      "cell_type": "markdown",
      "metadata": {},
      "source": [
        "### Batch Processing Multiple Texts\n",
        "\n",
        "Process multiple texts and combine the results:\n"
      ]
    },
    {
      "cell_type": "code",
      "execution_count": null,
      "metadata": {},
      "outputs": [
        {
          "name": "stdout",
          "output_type": "stream",
          "text": [
            "🔄 Processing multiple texts...\n",
            "\n",
            "Processing text 1: Isaac Newton discovered the laws of motion in Engl...\n",
            "  Extracted 1 entities\n",
            "\n",
            "Processing text 2: Galileo Galilei was an Italian astronomer and phys...\n",
            "  Extracted 2 entities\n",
            "\n",
            "Processing text 3: Charles Darwin developed the theory of evolution b...\n",
            "  Extracted 2 entities\n",
            "\n",
            "✅ Total entities from all texts: 5\n",
            "✅ Saved batch canonical JSON: notebook_output/batch_canonical_entities.json\n"
          ]
        }
      ],
      "source": [
        "# Multiple texts for batch processing\n",
        "texts = [\n",
        "    \"Isaac Newton discovered the laws of motion in England.\",\n",
        "    \"Galileo Galilei was an Italian astronomer and physicist.\",\n",
        "    \"Charles Darwin developed the theory of evolution by natural selection.\"\n",
        "]\n",
        "\n",
        "print(\"🔄 Processing multiple texts...\")\n",
        "all_extracted_entities = []\n",
        "\n",
        "for i, text in enumerate(texts, 1):\n",
        "    print(f\"\\nProcessing text {i}: {text[:50]}...\")\n",
        "    result = await extractor.extract_from_text(text)\n",
        "    all_extracted_entities.extend(result.entities)\n",
        "    print(f\"  Extracted {len(result.entities)} entities\")\n",
        "\n",
        "print(f\"\\n✅ Total entities from all texts: {len(all_extracted_entities)}\")\n",
        "\n",
        "# Convert to CRM entities\n",
        "batch_crm_entities = []\n",
        "for entity in all_extracted_entities:\n",
        "    crm_entity = CRMEntity(\n",
        "        id=str(entity.id),\n",
        "        class_code=entity.class_code,\n",
        "        label=entity.label,\n",
        "        notes=entity.description\n",
        "    )\n",
        "    batch_crm_entities.append(crm_entity)\n",
        "\n",
        "# Serialize batch results\n",
        "batch_json = [entity.model_dump(mode='json') for entity in batch_crm_entities]\n",
        "batch_file = output_dir / \"batch_canonical_entities.json\"\n",
        "with open(batch_file, \"w\") as f:\n",
        "    json.dump(batch_json, f, indent=2)\n",
        "\n",
        "print(f\"✅ Saved batch canonical JSON: {batch_file}\")\n"
      ]
    },
    {
      "cell_type": "markdown",
      "metadata": {},
      "source": [
        "### Loading and Analyzing Existing Data\n",
        "\n",
        "Load previously saved canonical JSON and analyze it:\n"
      ]
    },
    {
      "cell_type": "code",
      "execution_count": null,
      "metadata": {},
      "outputs": [
        {
          "name": "stdout",
          "output_type": "stream",
          "text": [
            "📖 Loading existing canonical JSON...\n",
            "✅ Loaded 87 entities from existing JSON\n",
            "✅ Recreated graph: 87 nodes, 0 edges\n",
            "✅ Found 0 communities\n"
          ]
        }
      ],
      "source": [
        "# Load existing canonical JSON\n",
        "print(\"📖 Loading existing canonical JSON...\")\n",
        "with open(json_file, \"r\") as f:\n",
        "    existing_data = json.load(f)\n",
        "\n",
        "# Convert back to CRM entities\n",
        "loaded_entities = []\n",
        "for entity_data in existing_data:\n",
        "    entity = CRMEntity(**entity_data)\n",
        "    loaded_entities.append(entity)\n",
        "\n",
        "print(f\"✅ Loaded {len(loaded_entities)} entities from existing JSON\")\n",
        "\n",
        "# Create new analysis\n",
        "loaded_graph = to_networkx_graph(loaded_entities)\n",
        "loaded_centrality = calculate_centrality_measures(loaded_graph)\n",
        "loaded_communities = find_communities(loaded_graph)\n",
        "\n",
        "print(f\"✅ Recreated graph: {loaded_graph.number_of_nodes()} nodes, {loaded_graph.number_of_edges()} edges\")\n",
        "print(f\"✅ Found {len(loaded_communities)} communities\")\n",
        "\n",
        "# This demonstrates the power of canonical JSON - you can always recreate the analysis!\n"
      ]
    }
  ],
  "metadata": {
    "kernelspec": {
      "display_name": ".venv",
      "language": "python",
      "name": "python3"
    },
    "language_info": {
      "codemirror_mode": {
        "name": "ipython",
        "version": 3
      },
      "file_extension": ".py",
      "mimetype": "text/x-python",
      "name": "python",
      "nbconvert_exporter": "python",
      "pygments_lexer": "ipython3",
      "version": "3.13.7"
    }
  },
  "nbformat": 4,
  "nbformat_minor": 2
}
