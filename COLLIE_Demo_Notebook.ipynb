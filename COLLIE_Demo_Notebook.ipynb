{
  "cells": [
    {
      "cell_type": "markdown",
      "metadata": {},
      "source": [
        "# COLLIE: Complete Workflow Demo\n",
        "\n",
        "This notebook demonstrates the complete COLLIE workflow for cultural heritage information extraction and analysis:\n",
        "\n",
        "1. **AI-powered Information Extraction** using PydanticAI\n",
        "2. **Canonical JSON Serialization** for async/future processing\n",
        "3. **Markdown Rendering** for human-readable reports\n",
        "4. **NetworkX Graph Analysis** for social network analysis\n",
        "5. **Interactive Visualization** with Plotly\n",
        "6. **Cypher Export** for graph database integration\n",
        "\n",
        "## Setup\n",
        "\n",
        "First, let's import all necessary libraries and set up our environment.\n"
      ]
    },
    {
      "cell_type": "code",
      "execution_count": null,
      "metadata": {},
      "outputs": [
        {
          "name": "stdout",
          "output_type": "stream",
          "text": [
            "✅ All imports successful!\n",
            "📁 Working directory: /Users/davidspencer/Documents/GitHub/collie\n"
          ]
        }
      ],
      "source": [
        "import asyncio\n",
        "import json\n",
        "import sys\n",
        "from pathlib import Path\n",
        "from typing import List\n",
        "\n",
        "# Add src to path for imports\n",
        "sys.path.insert(0, str(Path.cwd() / \"src\"))\n",
        "\n",
        "# COLLIE imports\n",
        "from collie.models.base import CRMEntity\n",
        "from collie.extraction import InformationExtractor\n",
        "from collie.io.to_networkx import (\n",
        "    to_networkx_graph,\n",
        "    calculate_centrality_measures,\n",
        "    find_communities,\n",
        "    get_network_statistics\n",
        ")\n",
        "from collie.visualization import (\n",
        "    create_interactive_plot,\n",
        "    plot_community_network,\n",
        "    plot_centrality_network\n",
        ")\n",
        "from collie.io.to_cypher import generate_cypher_script\n",
        "from collie.io.to_markdown import render_table, to_markdown, MarkdownStyle\n",
        "\n",
        "# Standard libraries\n",
        "import networkx as nx\n",
        "import plotly.graph_objects as go\n",
        "import plotly.express as px\n",
        "from plotly.offline import plot\n",
        "import plotly.io as pio\n",
        "\n",
        "print(\"✅ All imports successful!\")\n",
        "print(f\"📁 Working directory: {Path.cwd()}\")\n"
      ]
    },
    {
      "cell_type": "markdown",
      "metadata": {},
      "source": [
        "## Sample Text: Albert Einstein Biography\n",
        "\n",
        "We'll use a sample text about Albert Einstein to demonstrate the complete workflow.\n"
      ]
    },
    {
      "cell_type": "code",
      "execution_count": 2,
      "metadata": {},
      "outputs": [
        {
          "name": "stdout",
          "output_type": "stream",
          "text": [
            "📝 Sample Text:\n",
            "==================================================\n",
            "\n",
            "Albert Einstein was born on March 14, 1879, in Ulm, Württemberg, Germany. He grew up in a secular Jewish family. His father, Hermann Einstein, was a salesman and engineer who, with his brother, founded Elektrotechnische Fabrik J. Einstein & Cie, a Munich-based company that mass-produced electrical equipment. Einstein's mother, the former Pauline Koch, ran the family household. Einstein had one sister, Maja, born two years after him.\n",
            "\n",
            "Einstein attended elementary school at the Luitpold Gymnasium...\n",
            "==================================================\n",
            "Text length: 14569 characters\n",
            "Preview: First 500 characters shown above\n"
          ]
        }
      ],
      "source": [
        "# Sample text about Albert Einstein - Full Biography\n",
        "sample_text = \"\"\"\n",
        "Albert Einstein was born on March 14, 1879, in Ulm, Württemberg, Germany. He grew up in a secular Jewish family. His father, Hermann Einstein, was a salesman and engineer who, with his brother, founded Elektrotechnische Fabrik J. Einstein & Cie, a Munich-based company that mass-produced electrical equipment. Einstein's mother, the former Pauline Koch, ran the family household. Einstein had one sister, Maja, born two years after him.\n",
        "\n",
        "Einstein attended elementary school at the Luitpold Gymnasium in Munich. However, he felt alienated there and struggled with the institution's rigid pedagogical style. He also had what were considered speech challenges. However, he developed a passion for classical music and playing the violin, which would stay with him into his later years. Most significantly, Einstein's youth was marked by deep inquisitiveness and inquiry.\n",
        "\n",
        "Toward the end of the 1880s, Max Talmud, a Polish medical student who sometimes dined with the Einstein family, became an informal tutor to young Einstein. Talmud had introduced his pupil to a children's science text that inspired Einstein to dream about the nature of light. Thus, during his teens, Einstein penned what would be seen as his first major paper, \"The Investigation of the State of Aether in Magnetic Fields.\"\n",
        "\n",
        "Hermann relocated the family to Milan, Italy, in the mid-1890s after his business lost out on a major contract. Einstein was left at a relative's boarding house in Munich to complete his schooling at the Luitpold.\n",
        "\n",
        "Faced with military duty when he turned of age, Einstein allegedly withdrew from classes, using a doctor's note to excuse himself and claim nervous exhaustion. With their son rejoining them in Italy, his parents understood Einstein's perspective but were concerned about his future prospects as a school dropout and draft dodger.\n",
        "\n",
        "Einstein was eventually able to gain admission into the Swiss Federal Institute of Technology in Zurich, specifically due to his superb mathematics and physics scores on the entrance exam. He was still required to complete his pre-university education first and thus attended a high school in Aarau, Switzerland, helmed by Jost Winteler. Einstein lived with the schoolmaster's family and fell in love with Winteler's daughter Marie. Einstein later renounced his German citizenship and became a Swiss citizen at the dawn of the new century.\n",
        "\n",
        "After graduating from university, Einstein faced major challenges in terms of finding academic positions, having alienated some professors over not attending class more regularly in lieu of studying independently.\n",
        "\n",
        "Einstein eventually found steady work in 1902 after receiving a referral for a clerk position in a Swiss patent office. While working at the patent office, Einstein had the time to further explore ideas that had taken hold during his university studies and thus cemented his theorems on what would be known as the principle of relativity.\n",
        "\n",
        "In 1905—seen by many as a \"miracle year\" for the theorist—Einstein had four papers published in the Annalen der Physik, one of the best-known physics journals of the era. Two focused on the photoelectric effect and Brownian motion. The two others, which outlined E=MC2 and the special theory of relativity, were defining for Einstein's career and the course of the study of physics.\n",
        "\n",
        "As a physicist, Einstein had many discoveries, but he is perhaps best known for his theory of relativity and the equation E=MC2, which foreshadowed the development of atomic power and the atomic bomb.\n",
        "\n",
        "Einstein first proposed a special theory of relativity in 1905 in his paper \"On the Electrodynamics of Moving Bodies,\" which took physics in an electrifying new direction. The theory explains that space and time are actually connected, and Einstein called this joint structure space-time.\n",
        "\n",
        "By November 1915, Einstein completed the general theory of relativity, which accounted for gravity's relationship to space-time. Einstein considered this theory the culmination of his life research. He was convinced of the merits of general relativity because it allowed for a more accurate prediction of planetary orbits around the sun, which fell short in Isaac Newton's theory. It also offered a more expansive, nuanced explanation of how gravitational forces worked.\n",
        "\n",
        "Einstein's assertions were affirmed via observations and measurements by British astronomers Sir Frank Dyson and Sir Arthur Eddington during the 1919 solar eclipse, and thus a global science icon was born. Today, the theories of relativity underpin the accuracy of GPS technology, among other phenomena.\n",
        "\n",
        "Einstein's 1905 paper on the matter-energy relationship proposed the equation E=MC²: the energy of a body (E) is equal to the mass (M) of that body times the speed of light squared (C²). This equation suggested that tiny particles of matter could be converted into huge amounts of energy, a discovery that heralded atomic power.\n",
        "\n",
        "Famed quantum theorist Max Planck backed up the assertions of Einstein, who thus became a star of the lecture circuit and academia, taking on various positions before becoming director of the Kaiser Wilhelm Institute for Physics (today is known as the Max Planck Institute for Physics) from 1917 to 1933.\n",
        "\n",
        "In 1921, Einstein won the Nobel Prize in Physics for his explanation of the photoelectric effect, since his ideas on relativity were still considered questionable. He wasn't actually given the award until the following year due to a bureaucratic ruling, and during his acceptance speech, he still opted to speak about relativity.\n",
        "\n",
        "Einstein married Mileva Maric on January 6, 1903. While attending school in Zurich, Einstein met Maric, a Serbian physics student. Einstein continued to grow closer to Maric, but his parents were strongly against the relationship due to her ethnic background.\n",
        "\n",
        "Nonetheless, Einstein continued to see her, with the two developing a correspondence via letters in which he expressed many of his scientific ideas. Einstein's father passed away in 1902, and the couple married shortly thereafter.\n",
        "\n",
        "Einstein and Mavic had three children. Their daughter, Lieserl, was born in 1902 before their wedding and might have been later raised by Maric's relatives or given up for adoption. Her ultimate fate and whereabouts remain a mystery. The couple also had two sons: Hans Albert Einstein, who became a well-known hydraulic engineer, and Eduard \"Tete\" Einstein, who was diagnosed with schizophrenia as a young man.\n",
        "\n",
        "The Einsteins' marriage would not be a happy one, with the two divorcing in 1919 and Maric having an emotional breakdown in connection to the split. Einstein, as part of a settlement, agreed to give Maric any funds he might receive from possibly winning the Nobel Prize in the future.\n",
        "\n",
        "During his marriage to Maric, Einstein had also begun an affair some time earlier with a cousin, Elsa Löwenthal. The couple wed in 1919, the same year of Einstein's divorce. He would continue to see other women throughout his second marriage, which ended with Löwenthal's death in 1936.\n",
        "\n",
        "In 1933, Einstein took on a position at the Institute for Advanced Study in Princeton, New Jersey, where he would spend the rest of his life.\n",
        "\n",
        "At the time the Nazis, led by Adolf Hitler, were gaining prominence with violent propaganda and vitriol in an impoverished post-World War I Germany. The Nazi Party influenced other scientists to label Einstein's work \"Jewish physics.\" Jewish citizens were barred from university work and other official jobs, and Einstein himself was targeted to be killed. Meanwhile, other European scientists also left regions threatened by Germany and immigrated to the United States, with concern over Nazi strategies to create an atomic weapon.\n",
        "\n",
        "Not long after moving and beginning his career at IAS, Einstein expressed an appreciation for American meritocracy and the opportunities people had for free thought, a stark contrast to his own experiences coming of age. In 1935, Einstein was granted permanent residency in his adopted country and became an American citizen five years later.\n",
        "\n",
        "In America, Einstein mostly devoted himself to working on a unified field theory, an all-embracing paradigm meant to unify the varied laws of physics. However, during World War II, he worked on Navy-based weapons systems and made big monetary donations to the military by auctioning off manuscripts worth millions.\n",
        "\n",
        "In 1939, Einstein and fellow physicist Leo Szilard wrote to President Franklin D. Roosevelt to alert him of the possibility of a Nazi bomb and to galvanize the United States to create its own nuclear weapons.\n",
        "\n",
        "The United States would eventually initiate the Manhattan Project, though Einstein wouldn't take a direct part in its implementation due to his pacifist and socialist affiliations. Einstein was also the recipient of much scrutiny and major distrust from FBI director J. Edgar Hoover. In July 1940, the U.S. Army Intelligence office denied Einstein a security clearance to participate in the project, meaning J. Robert Oppenheimer and the scientists working in Los Alamos were forbidden from consulting with him.\n",
        "\n",
        "Einstein had no knowledge of the U.S. plan to use atomic bombs in Japan in 1945. When he heard of the first bombing at Hiroshima, he reportedly said, \"Ach! The world is not ready for it.\"\n",
        "\n",
        "Einstein became a major player in efforts to curtail usage of the A-bomb. The following year, he and Szilard founded the Emergency Committee of Atomic Scientists, and in 1947, via an essay for The Atlantic Monthly, Einstein espoused working with the United Nations to maintain nuclear weapons as a deterrent to conflict.\n",
        "\n",
        "After World War II, Einstein continued to work on his unified field theory and key aspects of his general theory of relativity, including time travel, wormholes, black holes, and the origins of the universe.\n",
        "\n",
        "However, he felt isolated in his endeavors since the majority of his colleagues had begun focusing their attention on quantum theory. In the last decade of his life, Einstein, who had always seen himself as a loner, withdrew even further from any sort of spotlight, preferring to stay close to Princeton and immerse himself in processing ideas with colleagues.\n",
        "\n",
        "In the late 1940s, Einstein became a member of the National Association for the Advancement of Colored People (NAACP), seeing the parallels between the treatment of Jews in Germany and Black people in the United States. He corresponded with scholar and activist W.E.B. Du Bois as well as performer Paul Robeson and campaigned for civil rights, calling racism a \"disease\" in a 1946 Lincoln University speech.\n",
        "\n",
        "Einstein was very particular about his sleep schedule, claiming he needed 10 hours of sleep per day to function well. His theory of relativity allegedly came to him in a dream about cows being electrocuted. He was also known to take regular naps. He is said to have held objects like a spoon or pencil in his hand while falling asleep. That way, he could wake up before hitting the second stage of sleep—a hypnagogic process believed to boost creativity and capture sleep-inspired ideas.\n",
        "\n",
        "Although sleep was important to Einstein, socks were not. He was famous for refusing to wear them. According to a letter he wrote to future wife Elsa, he stopped wearing them because he was annoyed by his big toe pushing through the material and creating a hole.\n",
        "\n",
        "One of the most recognizable photos of the 20th century shows Einstein sticking out his tongue while leaving his 72nd birthday party on March 14, 1951.\n",
        "\n",
        "According to Discovery.com, Einstein was leaving his party at Princeton when a swarm of reporters and photographers approached and asked him to smile. Tired from doing so all night, he refused and rebelliously stuck his tongue out at the crowd for a moment before turning away. UPI photographer Arthur Sasse captured the shot.\n",
        "\n",
        "Einstein was amused by the picture and ordered several prints to give to his friends. He also signed a copy of the photo that sold for $125,000 at a 2017 auction.\n",
        "\n",
        "Einstein died on April 18, 1955, at age 76 at the University Medical Center at Princeton. The previous day, while working on a speech to honor Israel's seventh anniversary, Einstein suffered an abdominal aortic aneurysm.\n",
        "\n",
        "He was taken to the hospital for treatment but refused surgery, believing that he had lived his life and was content to accept his fate. \"I want to go when I want,\" he stated at the time. \"It is tasteless to prolong life artificially. I have done my share, it is time to go. I will do it elegantly.\"\n",
        "\n",
        "According to the BBC, Einstein muttered a few words in German at the moment of his death. However, the nurse on duty didn't speak German so their translation was lost forever.\n",
        "\n",
        "In a 2014 interview, Life magazine photographer Ralph Morse said the hospital was swarmed by journalists, photographers, and onlookers once word of Einstein's death spread. Morse decided to travel to Einstein's office at the Institute for Advanced Studies, offering the superintendent alcohol to gain access. He was able to photograph the office just as Einstein left it.\n",
        "\n",
        "After an autopsy, Einstein's corpse was moved to a Princeton funeral home later that afternoon and then taken to Trenton, New Jersey, for a cremation ceremony. Morse said he was the only photographer present for the cremation, but Life managing editor Ed Thompson decided not to publish an exclusive story at the request of Einstein's son Hans.\n",
        "\n",
        "During Einstein's autopsy, pathologist Thomas Stoltz Harvey had removed his brain, reportedly without his family's consent, for preservation and future study by doctors of neuroscience.\n",
        "\n",
        "However, during his life, Einstein participated in brain studies, and at least one biography claimed he hoped researchers would study his brain after he died. Einstein's brain is now located at the Princeton University Medical Center. In keeping with his wishes, the rest of his body was cremated and the ashes scattered in a secret location.\n",
        "\n",
        "In 1999, Canadian scientists who were studying Einstein's brain found that his inferior parietal lobe, the area that processes spatial relationships, 3D-visualization, and mathematical thought, was 15 percent wider than in people who possess normal intelligence. According to The New York Times, the researchers believe it might help explain why Einstein was so intelligent.\n",
        "\n",
        "In 2011, the Mütter Museum in Philadelphia received thin slices of Einstein's brain from Dr. Lucy Rorke-Adams, a neuropathologist at the Children's Hospital of Philadelphia, and put them on display. Rorke-Adams said she received the brain slides from Harvey.\n",
        "\"\"\"\n",
        "\n",
        "print(\"📝 Sample Text:\")\n",
        "print(\"=\" * 50)\n",
        "print(sample_text[:500] + \"...\" if len(sample_text) > 500 else sample_text)\n",
        "print(\"=\" * 50)\n",
        "print(f\"Text length: {len(sample_text)} characters\")\n",
        "print(f\"Preview: First 500 characters shown above\")\n"
      ]
    },
    {
      "cell_type": "markdown",
      "metadata": {},
      "source": [
        "## Step 1: AI-Powered Information Extraction\n",
        "\n",
        "Use PydanticAI to extract CRM entities and relationships from the text.\n"
      ]
    },
    {
      "cell_type": "code",
      "execution_count": 3,
      "metadata": {},
      "outputs": [
        {
          "name": "stdout",
          "output_type": "stream",
          "text": [
            "🔍 Extracting entities using PydanticAI...\n",
            "✅ Extracted 87 entities\n",
            "✅ Extracted 0 relationships\n",
            "\n",
            "📋 Extracted Entities:\n",
            "1. Albert Einstein (E21) - Confidence: 0.80\n",
            "2. in Philadelphia (E21) - Confidence: 0.80\n",
            "3. said she (E21) - Confidence: 0.80\n",
            "4. Ulm (E53) - Confidence: 0.90\n",
            "5. Munich (E53) - Confidence: 0.90\n",
            "6. Munich (E53) - Confidence: 0.90\n",
            "7. Munich (E53) - Confidence: 0.90\n",
            "8. Zurich (E53) - Confidence: 0.90\n",
            "9. Zurich (E53) - Confidence: 0.90\n",
            "10. Princeton (E53) - Confidence: 0.90\n",
            "11. Princeton (E53) - Confidence: 0.90\n",
            "12. Princeton (E53) - Confidence: 0.90\n",
            "13. Princeton (E53) - Confidence: 0.90\n",
            "14. Princeton (E53) - Confidence: 0.90\n",
            "15. Princeton (E53) - Confidence: 0.90\n",
            "16. New York (E53) - Confidence: 0.90\n",
            "17. Switzerland (E53) - Confidence: 0.90\n",
            "18. Germany (E53) - Confidence: 0.90\n",
            "19. Germany (E53) - Confidence: 0.90\n",
            "20. Germany (E53) - Confidence: 0.90\n",
            "21. Germany (E53) - Confidence: 0.90\n",
            "22. Italy (E53) - Confidence: 0.90\n",
            "23. Italy (E53) - Confidence: 0.90\n",
            "24. United States (E53) - Confidence: 0.90\n",
            "25. United States (E53) - Confidence: 0.90\n",
            "26. United States (E53) - Confidence: 0.90\n",
            "27. United States (E53) - Confidence: 0.90\n",
            "28. theory of relativity (E22) - Confidence: 0.80\n",
            "29. theory of relativity and the equation E (E22) - Confidence: 0.80\n",
            "30. theory of relativity in  (E22) - Confidence: 0.80\n",
            "31. theory explains that space and time are actually connected (E22) - Confidence: 0.80\n",
            "32. theory of relativity (E22) - Confidence: 0.80\n",
            "33. theory the culmination of his life research (E22) - Confidence: 0.80\n",
            "34. theory and key aspects of his general theory of relativity (E22) - Confidence: 0.80\n",
            "35. theory of relativity allegedly came to him in a dream about cows being electrocuted (E22) - Confidence: 0.80\n",
            "36. paper on the matter (E22) - Confidence: 0.80\n",
            "37. Nobel Prize in Physics for his explanation of the photoelectric effect (E22) - Confidence: 0.80\n",
            "38. Nobel Prize in the future (E22) - Confidence: 0.80\n",
            "39. theory of relativity (E22) - Confidence: 0.80\n",
            "40. theory of relativity (E22) - Confidence: 0.80\n",
            "41. theory of relativity (E22) - Confidence: 0.80\n",
            "42. theory of relativity (E22) - Confidence: 0.80\n",
            "43. theory of relativity (E22) - Confidence: 0.80\n",
            "44. theory of relativity (E22) - Confidence: 0.80\n",
            "45. photoelectric effect (E22) - Confidence: 0.80\n",
            "46. photoelectric effect (E22) - Confidence: 0.80\n",
            "47. atomic bomb (E22) - Confidence: 0.80\n",
            "48. Manhattan Project (E22) - Confidence: 0.80\n",
            "49. atomic bomb (E22) - Confidence: 0.80\n",
            "50. born in 1902 (E52) - Confidence: 0.80\n",
            "51. March 14, 1879 (E52) - Confidence: 0.80\n",
            "52. January 6, 1903 (E52) - Confidence: 0.80\n",
            "53. March 14, 1951 (E52) - Confidence: 0.80\n",
            "54. April 18, 1955 (E52) - Confidence: 0.80\n",
            "55. late 1940s (E52) - Confidence: 0.80\n",
            "56. 1880s (E52) - Confidence: 0.80\n",
            "57. 1890s (E52) - Confidence: 0.80\n",
            "58. 1940s (E52) - Confidence: 0.80\n",
            "59. 1879 (E52) - Confidence: 0.80\n",
            "60. 1902 (E52) - Confidence: 0.80\n",
            "61. 1905 (E52) - Confidence: 0.80\n",
            "62. 1905 (E52) - Confidence: 0.80\n",
            "63. 1915 (E52) - Confidence: 0.80\n",
            "64. 1919 (E52) - Confidence: 0.80\n",
            "65. 1905 (E52) - Confidence: 0.80\n",
            "66. 1917 (E52) - Confidence: 0.80\n",
            "67. 1933 (E52) - Confidence: 0.80\n",
            "68. 1921 (E52) - Confidence: 0.80\n",
            "69. 1903 (E52) - Confidence: 0.80\n",
            "70. 1902 (E52) - Confidence: 0.80\n",
            "71. 1902 (E52) - Confidence: 0.80\n",
            "72. 1919 (E52) - Confidence: 0.80\n",
            "73. 1919 (E52) - Confidence: 0.80\n",
            "74. 1936 (E52) - Confidence: 0.80\n",
            "75. 1933 (E52) - Confidence: 0.80\n",
            "76. 1935 (E52) - Confidence: 0.80\n",
            "77. 1939 (E52) - Confidence: 0.80\n",
            "78. 1940 (E52) - Confidence: 0.80\n",
            "79. 1945 (E52) - Confidence: 0.80\n",
            "80. 1947 (E52) - Confidence: 0.80\n",
            "81. 1946 (E52) - Confidence: 0.80\n",
            "82. 1951 (E52) - Confidence: 0.80\n",
            "83. 2017 (E52) - Confidence: 0.80\n",
            "84. 1955 (E52) - Confidence: 0.80\n",
            "85. 2014 (E52) - Confidence: 0.80\n",
            "86. 1999 (E52) - Confidence: 0.80\n",
            "87. 2011 (E52) - Confidence: 0.80\n"
          ]
        }
      ],
      "source": [
        "# Initialize the information extractor\n",
        "extractor = InformationExtractor()\n",
        "\n",
        "# Extract entities and relationships\n",
        "print(\"🔍 Extracting entities using PydanticAI...\")\n",
        "extraction_result = await extractor.extract_from_text(sample_text)\n",
        "\n",
        "print(f\"✅ Extracted {len(extraction_result.entities)} entities\")\n",
        "print(f\"✅ Extracted {len(extraction_result.relationships)} relationships\")\n",
        "\n",
        "# Display extracted entities\n",
        "print(\"\\n📋 Extracted Entities:\")\n",
        "for i, entity in enumerate(extraction_result.entities, 1):\n",
        "    print(f\"{i}. {entity.label} ({entity.class_code}) - Confidence: {entity.confidence:.2f}\")\n",
        "\n",
        "# Display extracted relationships\n",
        "if extraction_result.relationships:\n",
        "    print(\"\\n🔗 Extracted Relationships:\")\n",
        "    for i, rel in enumerate(extraction_result.relationships, 1):\n",
        "        print(f\"{i}. {rel.property_label} - Confidence: {rel.confidence:.2f}\")\n"
      ]
    },
    {
      "cell_type": "markdown",
      "metadata": {},
      "source": [
        "## Step 2: Convert to CRM Entities\n",
        "\n",
        "Transform the extracted data into proper CIDOC CRM entities.\n"
      ]
    },
    {
      "cell_type": "code",
      "execution_count": 4,
      "metadata": {},
      "outputs": [
        {
          "name": "stdout",
          "output_type": "stream",
          "text": [
            "✅ Created 87 CRM entities\n",
            "\n",
            "🏗️ CRM Entities:\n",
            "1. Albert Einstein (E21)\n",
            "   ID: 797b5fe7-2a10-4efd-a4a7-91239a0aca22\n",
            "   Notes: Person mentioned in context: Albert Einstein was born on March 14, 1879, in Ulm, Württemberg, German...\n",
            "\n",
            "2. in Philadelphia (E21)\n",
            "   ID: 720a3369-c06e-45c2-b4bf-1322c83ed633\n",
            "   Notes: Person mentioned in context: earchers believe it might help explain why Einstein was so intelligent....\n",
            "\n",
            "3. said she (E21)\n",
            "   ID: d2dc38f9-c68e-4fe9-aa02-20112aa57122\n",
            "   Notes: Person mentioned in context: a neuropathologist at the Children's Hospital of Philadelphia, and put ...\n",
            "\n",
            "4. Ulm (E53)\n",
            "   ID: 64502329-0a36-4b7c-af81-6b30da10ed6a\n",
            "   Notes: Place mentioned in context: Albert Einstein was born on March 14, 1879, in Ulm, Württemberg, Germany...\n",
            "\n",
            "5. Munich (E53)\n",
            "   ID: 9d34e357-6730-46ff-a459-33d005ee1e0f\n",
            "   Notes: Place mentioned in context: ded Elektrotechnische Fabrik J. Einstein & Cie, a Munich-based company t...\n",
            "\n",
            "6. Munich (E53)\n",
            "   ID: a1ae5da1-d471-491d-a02d-cc7c2767f014\n",
            "   Notes: Place mentioned in context: ed elementary school at the Luitpold Gymnasium in Munich. However, he fe...\n",
            "\n",
            "7. Munich (E53)\n",
            "   ID: d81a0267-136e-4984-8218-249ca0893d27\n",
            "   Notes: Place mentioned in context: nstein was left at a relative's boarding house in Munich to complete his...\n",
            "\n",
            "8. Zurich (E53)\n",
            "   ID: 7cf6ed68-bbf3-4d28-9eae-77b2f794fb6b\n",
            "   Notes: Place mentioned in context: into the Swiss Federal Institute of Technology in Zurich, specifically d...\n",
            "\n",
            "9. Zurich (E53)\n",
            "   ID: c7be0797-afbe-47e5-91d5-d8960bcd514c\n",
            "   Notes: Place mentioned in context: ric on January 6, 1903. While attending school in Zurich, Einstein met M...\n",
            "\n",
            "10. Princeton (E53)\n",
            "   ID: 29355bc8-9837-4f4b-a734-cbbbc6ea4e12\n",
            "   Notes: Place mentioned in context: a position at the Institute for Advanced Study in Princeton, New Jersey,...\n",
            "\n",
            "11. Princeton (E53)\n",
            "   ID: 46a44a65-ca92-4eff-a8dd-9c09476a1fa1\n",
            "   Notes: Place mentioned in context: ny sort of spotlight, preferring to stay close to Princeton and immerse ...\n",
            "\n",
            "12. Princeton (E53)\n",
            "   ID: 9100a1fb-684f-43a4-aac2-de752780f97a\n",
            "   Notes: Place mentioned in context: Discovery.com, Einstein was leaving his party at Princeton when a swarm ...\n",
            "\n",
            "13. Princeton (E53)\n",
            "   ID: 951ec7d6-30b2-4aea-9894-4d633ed5d850\n",
            "   Notes: Place mentioned in context: 55, at age 76 at the University Medical Center at Princeton. The previou...\n",
            "\n",
            "14. Princeton (E53)\n",
            "   ID: 88763c20-0745-46b9-944e-98c8cc6d42d7\n",
            "   Notes: Place mentioned in context: fter an autopsy, Einstein's corpse was moved to a Princeton funeral home...\n",
            "\n",
            "15. Princeton (E53)\n",
            "   ID: 8f08b484-a836-476f-a872-251580160563\n",
            "   Notes: Place mentioned in context: r he died. Einstein's brain is now located at the Princeton University M...\n",
            "\n",
            "16. New York (E53)\n",
            "   ID: b1ae096d-b94e-492c-a017-2f9ef417cc47\n",
            "   Notes: Place mentioned in context: who possess normal intelligence. According to The New York Times, the re...\n",
            "\n",
            "17. Switzerland (E53)\n",
            "   ID: 44468a5b-fc66-4145-a56f-18f3c5942468\n",
            "   Notes: Place mentioned in context: n first and thus attended a high school in Aarau, Switzerland, helmed by...\n",
            "\n",
            "18. Germany (E53)\n",
            "   ID: 09a59d37-d890-4d09-95de-225d49395b42\n",
            "   Notes: Place mentioned in context: was born on March 14, 1879, in Ulm, Württemberg, Germany. He grew up in ...\n",
            "\n",
            "19. Germany (E53)\n",
            "   ID: 8be1a9c1-bf6f-4c2c-8f81-6ca705245be9\n",
            "   Notes: Place mentioned in context: a and vitriol in an impoverished post-World War I Germany. The Nazi Part...\n",
            "\n",
            "20. Germany (E53)\n",
            "   ID: febf9ba4-6639-41af-b26f-b674a72cdbea\n",
            "   Notes: Place mentioned in context: ropean scientists also left regions threatened by Germany and immigrated...\n",
            "\n",
            "21. Germany (E53)\n",
            "   ID: cd149c79-e905-42d6-b532-67c9e901b0d3\n",
            "   Notes: Place mentioned in context: ng the parallels between the treatment of Jews in Germany and Black peop...\n",
            "\n",
            "22. Italy (E53)\n",
            "   ID: 9047b03f-0f28-41c2-aa49-807e8bf04b63\n",
            "   Notes: Place mentioned in context: Fields.\"\n",
            "\n",
            "Hermann relocated the family to Milan, Italy, in the mid-1890s...\n",
            "\n",
            "23. Italy (E53)\n",
            "   ID: ee0d412d-ffff-4205-b321-a39e2946883e\n",
            "   Notes: Place mentioned in context: vous exhaustion. With their son rejoining them in Italy, his parents und...\n",
            "\n",
            "24. United States (E53)\n",
            "   ID: 886f940c-563e-454a-8f63-12534ea7e0c8\n",
            "   Notes: Place mentioned in context: gions threatened by Germany and immigrated to the United States, with co...\n",
            "\n",
            "25. United States (E53)\n",
            "   ID: 30e278af-1f7b-4745-8acf-84221c1f139a\n",
            "   Notes: Place mentioned in context: e possibility of a Nazi bomb and to galvanize the United States to creat...\n",
            "\n",
            "26. United States (E53)\n",
            "   ID: c2044bbb-a8f0-436a-9afe-c83653def569\n",
            "   Notes: Place mentioned in context: ed States to create its own nuclear weapons.\n",
            "\n",
            "The United States would ev...\n",
            "\n",
            "27. United States (E53)\n",
            "   ID: 5c80139f-11cc-4672-ba38-3a5dfaacbf3f\n",
            "   Notes: Place mentioned in context: atment of Jews in Germany and Black people in the United States. He corr...\n",
            "\n",
            "28. theory of relativity (E22)\n",
            "   ID: 9b0b536b-55c6-48cf-8746-ad2b6d47a2db\n",
            "   Notes: Object or concept mentioned in context: the photoelectric effect and Brownian motion. The two others...\n",
            "\n",
            "29. theory of relativity and the equation E (E22)\n",
            "   ID: 299e9c9c-06f1-4739-a885-4df2ca638902\n",
            "   Notes: Object or concept mentioned in context: dy of physics.\n",
            "\n",
            "As a physicist, Einstein had many discoverie...\n",
            "\n",
            "30. theory of relativity in  (E22)\n",
            "   ID: 1d3ce3a5-17d7-4eb5-8299-2ecb540de1ca\n",
            "   Notes: Object or concept mentioned in context: oreshadowed the development of atomic power and the atomic b...\n",
            "\n",
            "31. theory explains that space and time are actually connected (E22)\n",
            "   ID: 6246f06f-ea55-493c-93ec-e1cd28e96cd6\n",
            "   Notes: Object or concept mentioned in context: \"On the Electrodynamics of Moving Bodies,\" which took physic...\n",
            "\n",
            "32. theory of relativity (E22)\n",
            "   ID: ab4f517d-ccc3-4ee4-9535-8f5efc7951c5\n",
            "   Notes: Object or concept mentioned in context: Einstein called this joint structure space-time.\n",
            "\n",
            "By Novembe...\n",
            "\n",
            "33. theory the culmination of his life research (E22)\n",
            "   ID: 0dc9ba9d-2dc1-4ef4-9596-4feb19656422\n",
            "   Notes: Object or concept mentioned in context: y of relativity, which accounted for gravity's relationship ...\n",
            "\n",
            "34. theory and key aspects of his general theory of relativity (E22)\n",
            "   ID: 3e8db6eb-7dae-402f-b7b2-54c4e51a431d\n",
            "   Notes: Object or concept mentioned in context: ns as a deterrent to conflict.\n",
            "\n",
            "After World War II, Einstein...\n",
            "\n",
            "35. theory of relativity allegedly came to him in a dream about cows being electrocuted (E22)\n",
            "   ID: c8ce630c-78a1-4a0a-b822-6e421b932c02\n",
            "   Notes: Object or concept mentioned in context: icular about his sleep schedule, claiming he needed 10 hours...\n",
            "\n",
            "36. paper on the matter (E22)\n",
            "   ID: 88391b98-297c-4664-9b96-34d2c291feb3\n",
            "   Notes: Object or concept mentioned in context: ries of relativity underpin the accuracy of GPS technology, ...\n",
            "\n",
            "37. Nobel Prize in Physics for his explanation of the photoelectric effect (E22)\n",
            "   ID: 6d001b1f-779f-433b-b8e1-935c8dae37ed\n",
            "   Notes: Object or concept mentioned in context: day is known as the Max Planck Institute for Physics) from 1...\n",
            "\n",
            "38. Nobel Prize in the future (E22)\n",
            "   ID: cfdfb65d-7808-42bd-8277-8666c2e30fc2\n",
            "   Notes: Object or concept mentioned in context: as part of a settlement, agreed to give Maric any funds he m...\n",
            "\n",
            "39. theory of relativity (E22)\n",
            "   ID: e10a769a-5ea1-47db-b1cc-5e4d66885cd8\n",
            "   Notes: Object or concept mentioned in context: the photoelectric effect and Brownian motion. The two others...\n",
            "\n",
            "40. theory of relativity (E22)\n",
            "   ID: d9e3947f-e7a8-4192-a3d6-812457c71235\n",
            "   Notes: Object or concept mentioned in context: dy of physics.\n",
            "\n",
            "As a physicist, Einstein had many discoverie...\n",
            "\n",
            "41. theory of relativity (E22)\n",
            "   ID: 13d2e636-7ede-4297-a1cf-82943ac1618e\n",
            "   Notes: Object or concept mentioned in context: oreshadowed the development of atomic power and the atomic b...\n",
            "\n",
            "42. theory of relativity (E22)\n",
            "   ID: 8893c8a0-c98b-4d3f-a4f5-ddd9eac844f9\n",
            "   Notes: Object or concept mentioned in context: Einstein called this joint structure space-time.\n",
            "\n",
            "By Novembe...\n",
            "\n",
            "43. theory of relativity (E22)\n",
            "   ID: f5c4879c-329a-419c-a6d7-6c0222b8c600\n",
            "   Notes: Object or concept mentioned in context: World War II, Einstein continued to work on his unified fiel...\n",
            "\n",
            "44. theory of relativity (E22)\n",
            "   ID: 0e435f4d-fe91-45ec-b9c6-fb7aeec86167\n",
            "   Notes: Object or concept mentioned in context: icular about his sleep schedule, claiming he needed 10 hours...\n",
            "\n",
            "45. photoelectric effect (E22)\n",
            "   ID: 56d3fb52-1186-4e2f-9544-7bf77b28bb85\n",
            "   Notes: Object or concept mentioned in context: ed in the Annalen der Physik, one of the best-known physics ...\n",
            "\n",
            "46. photoelectric effect (E22)\n",
            "   ID: 2fc43e81-788e-455f-85e6-abf16aa6a79c\n",
            "   Notes: Object or concept mentioned in context: cs) from 1917 to 1933.\n",
            "\n",
            "In 1921, Einstein won the Nobel Priz...\n",
            "\n",
            "47. atomic bomb (E22)\n",
            "   ID: ca1e3d86-03ff-46d0-9995-7e4aa0466c09\n",
            "   Notes: Object or concept mentioned in context: ry of relativity and the equation E=MC2, which foreshadowed ...\n",
            "\n",
            "48. Manhattan Project (E22)\n",
            "   ID: 785d0d94-47fc-4628-998d-69a0aeafbc8f\n",
            "   Notes: Object or concept mentioned in context: e United States to create its own nuclear weapons.\n",
            "\n",
            "The Unit...\n",
            "\n",
            "49. atomic bomb (E22)\n",
            "   ID: 38f4be2c-5661-4711-8e8a-aa9ff9d4c060\n",
            "   Notes: Object or concept mentioned in context: Alamos were forbidden from consulting with him.\n",
            "\n",
            "Einstein ha...\n",
            "\n",
            "50. born in 1902 (E52)\n",
            "   ID: 4a43f93d-9ab5-49b5-ae46-d47f9754435d\n",
            "   Notes: Time period mentioned in context: le married shortly thereafter.\n",
            "\n",
            "Einstein and Mavic had three child...\n",
            "\n",
            "51. March 14, 1879 (E52)\n",
            "   ID: 5f711ede-8aeb-4668-86d7-5fa9ab96d932\n",
            "   Notes: Time period mentioned in context: Albert Einstein was born on March 14, 1879, in Ulm, Württemberg, G...\n",
            "\n",
            "52. January 6, 1903 (E52)\n",
            "   ID: 0aba9f6d-ebef-4de5-b76c-7bf827d1db9e\n",
            "   Notes: Time period mentioned in context: his acceptance speech, he still opted to speak about relativity.\n",
            "\n",
            "...\n",
            "\n",
            "53. March 14, 1951 (E52)\n",
            "   ID: 0ad2e915-54d4-4084-ba7c-c73c898144c4\n",
            "   Notes: Time period mentioned in context: of the 20th century shows Einstein sticking out his tongue while l...\n",
            "\n",
            "54. April 18, 1955 (E52)\n",
            "   ID: 8c51853c-d0e0-461c-8153-8252743806cd\n",
            "   Notes: Time period mentioned in context: nds. He also signed a copy of the photo that sold for $125,000 at ...\n",
            "\n",
            "55. late 1940s (E52)\n",
            "   ID: c7aebf6c-2665-499c-90ab-9cbdccb2aafc\n",
            "   Notes: Time period mentioned in context: ferring to stay close to Princeton and immerse himself in processi...\n",
            "\n",
            "56. 1880s (E52)\n",
            "   ID: 9b558b4a-9e16-4fd0-b10f-308b2402d513\n",
            "   Notes: Time period mentioned in context: nificantly, Einstein's youth was marked by deep inquisitiveness an...\n",
            "\n",
            "57. 1890s (E52)\n",
            "   ID: 0ebbe327-2160-45aa-b199-e0d0ea511df7\n",
            "   Notes: Time period mentioned in context: the State of Aether in Magnetic Fields.\"\n",
            "\n",
            "Hermann relocated the fa...\n",
            "\n",
            "58. 1940s (E52)\n",
            "   ID: a4a04263-f2eb-4919-90ec-a69f56aacb33\n",
            "   Notes: Time period mentioned in context: ng to stay close to Princeton and immerse himself in processing id...\n",
            "\n",
            "59. 1879 (E52)\n",
            "   ID: 21173323-8982-47d0-97e0-a9990c836783\n",
            "   Notes: Time period mentioned in context: Albert Einstein was born on March 14, 1879, in Ulm, Württemberg, G...\n",
            "\n",
            "60. 1902 (E52)\n",
            "   ID: de03cbc9-9895-4064-96ef-632fd1a8f2f9\n",
            "   Notes: Time period mentioned in context: g class more regularly in lieu of studying independently.\n",
            "\n",
            "Einstei...\n",
            "\n",
            "61. 1905 (E52)\n",
            "   ID: df6f8b42-795f-4e9a-bdc9-b834934134c1\n",
            "   Notes: Time period mentioned in context: y studies and thus cemented his theorems on what would be known as...\n",
            "\n",
            "62. 1905 (E52)\n",
            "   ID: 5c5bb23a-a731-42a0-8158-3214976826ae\n",
            "   Notes: Time period mentioned in context: ent of atomic power and the atomic bomb.\n",
            "\n",
            "Einstein first proposed ...\n",
            "\n",
            "63. 1915 (E52)\n",
            "   ID: 8d083651-18f8-4475-b6e0-3fcbc902da0f\n",
            "   Notes: Time period mentioned in context: and time are actually connected, and Einstein called this joint st...\n",
            "\n",
            "64. 1919 (E52)\n",
            "   ID: d47effbf-d67b-466d-a90d-87f8b5101de5\n",
            "   Notes: Time period mentioned in context: vations and measurements by British astronomers Sir Frank Dyson an...\n",
            "\n",
            "65. 1905 (E52)\n",
            "   ID: 688f043e-767b-4870-8311-9bb74e41e905\n",
            "   Notes: Time period mentioned in context: theories of relativity underpin the accuracy of GPS technology, am...\n",
            "\n",
            "66. 1917 (E52)\n",
            "   ID: aa09bafa-9d6b-4ce6-8188-80eb51429ab9\n",
            "   Notes: Time period mentioned in context: Kaiser Wilhelm Institute for Physics (today is known as the Max Pl...\n",
            "\n",
            "67. 1933 (E52)\n",
            "   ID: 90155c0c-40e3-4a73-b7de-a6e295b21e5a\n",
            "   Notes: Time period mentioned in context: Wilhelm Institute for Physics (today is known as the Max Planck In...\n",
            "\n",
            "68. 1921 (E52)\n",
            "   ID: 4a3c0769-9c0a-496d-b698-8047e18db611\n",
            "   Notes: Time period mentioned in context: stitute for Physics (today is known as the Max Planck Institute fo...\n",
            "\n",
            "69. 1903 (E52)\n",
            "   ID: 4c3b5cff-3b86-4b9a-867d-5bf4a460749e\n",
            "   Notes: Time period mentioned in context: ance speech, he still opted to speak about relativity.\n",
            "\n",
            "Einstein m...\n",
            "\n",
            "70. 1902 (E52)\n",
            "   ID: 565979d4-56bf-41a7-b375-d559e879eeb4\n",
            "   Notes: Time period mentioned in context: ce via letters in which he expressed many of his scientific ideas....\n",
            "\n",
            "71. 1902 (E52)\n",
            "   ID: d1db46c9-ad68-41da-9412-f96d8ecb7f8f\n",
            "   Notes: Time period mentioned in context: ed shortly thereafter.\n",
            "\n",
            "Einstein and Mavic had three children. The...\n",
            "\n",
            "72. 1919 (E52)\n",
            "   ID: 3fd4e4ae-cf3f-4761-95b0-c90ef3d9b6af\n",
            "   Notes: Time period mentioned in context: hrenia as a young man.\n",
            "\n",
            "The Einsteins' marriage would not be a hap...\n",
            "\n",
            "73. 1919 (E52)\n",
            "   ID: 0c97c5ca-789e-4bdf-9103-7ca65b4e750f\n",
            "   Notes: Time period mentioned in context: instein had also begun an affair some time earlier with a cousin, ...\n",
            "\n",
            "74. 1936 (E52)\n",
            "   ID: a99e21d2-c8a6-4ed5-9ba2-98d426fe6d7c\n",
            "   Notes: Time period mentioned in context: d continue to see other women throughout his second marriage, whic...\n",
            "\n",
            "75. 1933 (E52)\n",
            "   ID: 75f7b3e6-461a-4811-8ab1-5cd6428ba432\n",
            "   Notes: Time period mentioned in context: to see other women throughout his second marriage, which ended wit...\n",
            "\n",
            "76. 1935 (E52)\n",
            "   ID: 7b084e92-469a-41de-a7d6-89c862ffc69c\n",
            "   Notes: Time period mentioned in context: pportunities people had for free thought, a stark contrast to his ...\n",
            "\n",
            "77. 1939 (E52)\n",
            "   ID: 61b9b760-a6a5-4222-9414-2faa010b30a1\n",
            "   Notes: Time period mentioned in context: s and made big monetary donations to the military by auctioning of...\n",
            "\n",
            "78. 1940 (E52)\n",
            "   ID: 306a3b00-796b-40c1-a16a-daa0e1f7af09\n",
            "   Notes: Time period mentioned in context: s also the recipient of much scrutiny and major distrust from FBI ...\n",
            "\n",
            "79. 1945 (E52)\n",
            "   ID: 3996349a-8e82-44ad-ad21-41ca50b37104\n",
            "   Notes: Time period mentioned in context: om consulting with him.\n",
            "\n",
            "Einstein had no knowledge of the U.S. pla...\n",
            "\n",
            "80. 1947 (E52)\n",
            "   ID: 71e8f952-1ed1-4de2-8e28-dffb7158d490\n",
            "   Notes: Time period mentioned in context: mb. The following year, he and Szilard founded the Emergency Commi...\n",
            "\n",
            "81. 1946 (E52)\n",
            "   ID: c6c0ce05-8bf5-460f-b1cb-8b6be7d459a5\n",
            "   Notes: Time period mentioned in context: as well as performer Paul Robeson and campaigned for civil rights,...\n",
            "\n",
            "82. 1951 (E52)\n",
            "   ID: c53b8952-082a-404a-899e-62398c6c30e1\n",
            "   Notes: Time period mentioned in context: h century shows Einstein sticking out his tongue while leaving his...\n",
            "\n",
            "83. 2017 (E52)\n",
            "   ID: 5e90837c-f64b-45ec-9266-66d8eb948149\n",
            "   Notes: Time period mentioned in context: veral prints to give to his friends. He also signed a copy of the ...\n",
            "\n",
            "84. 1955 (E52)\n",
            "   ID: ef367e09-09f7-4d08-a078-c6a1ec9f294d\n",
            "   Notes: Time period mentioned in context: so signed a copy of the photo that sold for $125,000 at a 2017 auc...\n",
            "\n",
            "85. 2014 (E52)\n",
            "   ID: 8b64fed8-c857-4dca-82aa-03b04ed7db72\n",
            "   Notes: Time period mentioned in context: death. However, the nurse on duty didn't speak German so their tra...\n",
            "\n",
            "86. 1999 (E52)\n",
            "   ID: ba435b36-eb13-4b6b-b4e7-877291f5efbd\n",
            "   Notes: Time period mentioned in context: ith his wishes, the rest of his body was cremated and the ashes sc...\n",
            "\n",
            "87. 2011 (E52)\n",
            "   ID: 29ad4c18-9ebf-4c61-b432-1903acc66a05\n",
            "   Notes: Time period mentioned in context: New York Times, the researchers believe it might help explain why ...\n",
            "\n"
          ]
        }
      ],
      "source": [
        "# Convert extracted entities to CRM entities\n",
        "crm_entities = []\n",
        "for entity in extraction_result.entities:\n",
        "    crm_entity = CRMEntity(\n",
        "        id=str(entity.id),\n",
        "        class_code=entity.class_code,\n",
        "        label=entity.label,\n",
        "        notes=entity.description,\n",
        "        type=[entity.class_code]\n",
        "    )\n",
        "    crm_entities.append(crm_entity)\n",
        "\n",
        "print(f\"✅ Created {len(crm_entities)} CRM entities\")\n",
        "\n",
        "# Display CRM entities\n",
        "print(\"\\n🏗️ CRM Entities:\")\n",
        "for i, entity in enumerate(crm_entities, 1):\n",
        "    print(f\"{i}. {entity.label} ({entity.class_code})\")\n",
        "    print(f\"   ID: {entity.id}\")\n",
        "    print(f\"   Notes: {entity.notes[:100]}...\" if entity.notes and len(entity.notes) > 100 else f\"   Notes: {entity.notes}\")\n",
        "    print()\n"
      ]
    },
    {
      "cell_type": "markdown",
      "metadata": {},
      "source": [
        "## Step 3: Serialize as Canonical JSON\n",
        "\n",
        "**This is the crucial step for async/future processing!** Serialize the CRM entities as canonical JSON that can be easily loaded into graph databases, APIs, or other processing pipelines.\n"
      ]
    },
    {
      "cell_type": "code",
      "execution_count": 5,
      "metadata": {},
      "outputs": [
        {
          "name": "stdout",
          "output_type": "stream",
          "text": [
            "💾 Serialized 87 entities to canonical JSON\n",
            "✅ Saved canonical JSON to: notebook_output/canonical_entities.json\n",
            "\n",
            "📋 Canonical JSON Structure (first entity):\n",
            "{\n",
            "  \"id\": \"797b5fe7-2a10-4efd-a4a7-91239a0aca22\",\n",
            "  \"class_code\": \"E21\",\n",
            "  \"label\": \"Albert Einstein\",\n",
            "  \"notes\": \"Person mentioned in context: Albert Einstein was born on March 14, 1879, in Ulm, W\\u00fcrttemberg, Germany. He grew up in a secular Jewish family. His father,\",\n",
            "  \"type\": [\n",
            "    \"E21\"\n",
            "  ]\n",
            "}\n",
            "\n",
            "🔄 Loading back from canonical JSON...\n",
            "✅ Successfully loaded 87 entities from JSON\n",
            "✅ Data integrity verified: True\n"
          ]
        }
      ],
      "source": [
        "# Serialize as canonical JSON using Pydantic models\n",
        "json_data = [entity.model_dump(mode='json') for entity in crm_entities]\n",
        "\n",
        "print(f\"💾 Serialized {len(json_data)} entities to canonical JSON\")\n",
        "\n",
        "# Create output directory\n",
        "output_dir = Path(\"notebook_output\")\n",
        "output_dir.mkdir(exist_ok=True)\n",
        "\n",
        "# Save canonical JSON\n",
        "json_file = output_dir / \"canonical_entities.json\"\n",
        "with open(json_file, \"w\") as f:\n",
        "    json.dump(json_data, f, indent=2)\n",
        "\n",
        "print(f\"✅ Saved canonical JSON to: {json_file}\")\n",
        "\n",
        "# Display the structure of canonical JSON\n",
        "print(\"\\n📋 Canonical JSON Structure (first entity):\")\n",
        "print(json.dumps(json_data[0], indent=2))\n",
        "\n",
        "# Demonstrate loading back from JSON\n",
        "print(\"\\n🔄 Loading back from canonical JSON...\")\n",
        "with open(json_file, \"r\") as f:\n",
        "    loaded_data = json.load(f)\n",
        "\n",
        "loaded_entities = []\n",
        "for entity_data in loaded_data:\n",
        "    entity = CRMEntity(**entity_data)\n",
        "    loaded_entities.append(entity)\n",
        "\n",
        "print(f\"✅ Successfully loaded {len(loaded_entities)} entities from JSON\")\n",
        "print(f\"✅ Data integrity verified: {len(loaded_entities) == len(crm_entities)}\")\n"
      ]
    },
    {
      "cell_type": "markdown",
      "metadata": {},
      "source": [
        "## Step 4: Render to Markdown\n",
        "\n",
        "Generate human-readable reports in Markdown format.\n"
      ]
    },
    {
      "cell_type": "code",
      "execution_count": 6,
      "metadata": {},
      "outputs": [
        {
          "name": "stdout",
          "output_type": "stream",
          "text": [
            "📄 Generating Markdown reports...\n",
            "✅ Generated entity card: notebook_output/markdown/entity_1_E21.md\n",
            "✅ Generated entity card: notebook_output/markdown/entity_2_E21.md\n",
            "✅ Generated entity card: notebook_output/markdown/entity_3_E21.md\n",
            "✅ Generated entity card: notebook_output/markdown/entity_4_E53.md\n",
            "✅ Generated entity card: notebook_output/markdown/entity_5_E53.md\n",
            "✅ Generated summary table: notebook_output/markdown/entities_summary.md\n",
            "\n",
            "📊 Entities Summary Table:\n",
            "| id | class_code | label | type |\n",
            "| --- | --- | --- | --- |\n",
            "| 797b5fe7... | E21 | Albert Einstein | E21 |\n",
            "| 720a3369... | E21 | in Philadelphia | E21 |\n",
            "| d2dc38f9... | E21 | said she | E21 |\n",
            "| 64502329... | E53 | Ulm | E53 |\n",
            "| 9d34e357... | E53 | Munich | E53 |\n",
            "| a1ae5da1... | E53 | Munich | E53 |\n",
            "| d81a0267... | E53 | Munich | E53 |\n",
            "| 7cf6ed68... | E53 | Zurich | E53 |\n",
            "| c7be0797... | E53 | Zurich | E53 |\n",
            "| 29355bc8... | E53 | Princeton | E53 |\n",
            "| 46a44a65... | E53 | Princeton | E53 |\n",
            "| 9100a1fb... | E53 | Princeton | E53 |\n",
            "| 951ec7d6... | E53 | Princeton | E53 |\n",
            "| 88763c20... | E53 | Princeton | E53 |\n",
            "| 8f08b484... | E53 | Princeton | E53 |\n",
            "| b1ae096d... | E53 | New York | E53 |\n",
            "| 44468a5b... | E53 | Switzerland | E53 |\n",
            "| 09a59d37... | E53 | Germany | E53 |\n",
            "| 8be1a9c1... | E53 | Germany | E53 |\n",
            "| febf9ba4... | E53 | Germany | E53 |\n",
            "| cd149c79... | E53 | Germany | E53 |\n",
            "| 9047b03f... | E53 | Italy | E53 |\n",
            "| ee0d412d... | E53 | Italy | E53 |\n",
            "| 886f940c... | E53 | United States | E53 |\n",
            "| 30e278af... | E53 | United States | E53 |\n",
            "| c2044bbb... | E53 | United States | E53 |\n",
            "| 5c80139f... | E53 | United States | E53 |\n",
            "| 9b0b536b... | E22 | theory of relativity | E22 |\n",
            "| 299e9c9c... | E22 | theory of relativity and the equation E | E22 |\n",
            "| 1d3ce3a5... | E22 | theory of relativity in  | E22 |\n",
            "| 6246f06f... | E22 | theory explains that space and time are actually connected | E22 |\n",
            "| ab4f517d... | E22 | theory of relativity | E22 |\n",
            "| 0dc9ba9d... | E22 | theory the culmination of his life research | E22 |\n",
            "| 3e8db6eb... | E22 | theory and key aspects of his general theory of relativity | E22 |\n",
            "| c8ce630c... | E22 | theory of relativity allegedly came to him in a dream about cows being electrocuted | E22 |\n",
            "| 88391b98... | E22 | paper on the matter | E22 |\n",
            "| 6d001b1f... | E22 | Nobel Prize in Physics for his explanation of the photoelectric effect | E22 |\n",
            "| cfdfb65d... | E22 | Nobel Prize in the future | E22 |\n",
            "| e10a769a... | E22 | theory of relativity | E22 |\n",
            "| d9e3947f... | E22 | theory of relativity | E22 |\n",
            "| 13d2e636... | E22 | theory of relativity | E22 |\n",
            "| 8893c8a0... | E22 | theory of relativity | E22 |\n",
            "| f5c4879c... | E22 | theory of relativity | E22 |\n",
            "| 0e435f4d... | E22 | theory of relativity | E22 |\n",
            "| 56d3fb52... | E22 | photoelectric effect | E22 |\n",
            "| 2fc43e81... | E22 | photoelectric effect | E22 |\n",
            "| ca1e3d86... | E22 | atomic bomb | E22 |\n",
            "| 785d0d94... | E22 | Manhattan Project | E22 |\n",
            "| 38f4be2c... | E22 | atomic bomb | E22 |\n",
            "| 4a43f93d... | E52 | born in 1902 | E52 |\n",
            "| 5f711ede... | E52 | March 14, 1879 | E52 |\n",
            "| 0aba9f6d... | E52 | January 6, 1903 | E52 |\n",
            "| 0ad2e915... | E52 | March 14, 1951 | E52 |\n",
            "| 8c51853c... | E52 | April 18, 1955 | E52 |\n",
            "| c7aebf6c... | E52 | late 1940s | E52 |\n",
            "| 9b558b4a... | E52 | 1880s | E52 |\n",
            "| 0ebbe327... | E52 | 1890s | E52 |\n",
            "| a4a04263... | E52 | 1940s | E52 |\n",
            "| 21173323... | E52 | 1879 | E52 |\n",
            "| de03cbc9... | E52 | 1902 | E52 |\n",
            "| df6f8b42... | E52 | 1905 | E52 |\n",
            "| 5c5bb23a... | E52 | 1905 | E52 |\n",
            "| 8d083651... | E52 | 1915 | E52 |\n",
            "| d47effbf... | E52 | 1919 | E52 |\n",
            "| 688f043e... | E52 | 1905 | E52 |\n",
            "| aa09bafa... | E52 | 1917 | E52 |\n",
            "| 90155c0c... | E52 | 1933 | E52 |\n",
            "| 4a3c0769... | E52 | 1921 | E52 |\n",
            "| 4c3b5cff... | E52 | 1903 | E52 |\n",
            "| 565979d4... | E52 | 1902 | E52 |\n",
            "| d1db46c9... | E52 | 1902 | E52 |\n",
            "| 3fd4e4ae... | E52 | 1919 | E52 |\n",
            "| 0c97c5ca... | E52 | 1919 | E52 |\n",
            "| a99e21d2... | E52 | 1936 | E52 |\n",
            "| 75f7b3e6... | E52 | 1933 | E52 |\n",
            "| 7b084e92... | E52 | 1935 | E52 |\n",
            "| 61b9b760... | E52 | 1939 | E52 |\n",
            "| 306a3b00... | E52 | 1940 | E52 |\n",
            "| 3996349a... | E52 | 1945 | E52 |\n",
            "| 71e8f952... | E52 | 1947 | E52 |\n",
            "| c6c0ce05... | E52 | 1946 | E52 |\n",
            "| c53b8952... | E52 | 1951 | E52 |\n",
            "| 5e90837c... | E52 | 2017 | E52 |\n",
            "| ef367e09... | E52 | 1955 | E52 |\n",
            "| 8b64fed8... | E52 | 2014 | E52 |\n",
            "| ba435b36... | E52 | 1999 | E52 |\n",
            "| 29ad4c18... | E52 | 2011 | E52 |\n"
          ]
        }
      ],
      "source": [
        "# Create markdown directory\n",
        "markdown_dir = output_dir / \"markdown\"\n",
        "markdown_dir.mkdir(exist_ok=True)\n",
        "\n",
        "# Generate individual entity cards\n",
        "print(\"📄 Generating Markdown reports...\")\n",
        "for i, entity in enumerate(crm_entities[:5]):  # Show first 5 entities\n",
        "    markdown_card = to_markdown(entity, MarkdownStyle.CARD)\n",
        "    card_file = markdown_dir / f\"entity_{i+1}_{entity.class_code}.md\"\n",
        "    with open(card_file, \"w\") as f:\n",
        "        f.write(markdown_card)\n",
        "    print(f\"✅ Generated entity card: {card_file}\")\n",
        "\n",
        "# Generate summary table\n",
        "table_markdown = render_table(crm_entities)\n",
        "table_file = markdown_dir / \"entities_summary.md\"\n",
        "with open(table_file, \"w\") as f:\n",
        "    f.write(\"# CRM Entities Summary\\n\\n\" + table_markdown)\n",
        "\n",
        "print(f\"✅ Generated summary table: {table_file}\")\n",
        "\n",
        "# Display the summary table\n",
        "print(\"\\n📊 Entities Summary Table:\")\n",
        "print(table_markdown)\n"
      ]
    },
    {
      "cell_type": "markdown",
      "metadata": {},
      "source": [
        "## Step 5: Convert to NetworkX Graph\n",
        "\n",
        "Transform the CRM entities into a NetworkX graph for social network analysis.\n"
      ]
    },
    {
      "cell_type": "code",
      "execution_count": 7,
      "metadata": {},
      "outputs": [
        {
          "name": "stdout",
          "output_type": "stream",
          "text": [
            "🕸️ Created NetworkX graph with 87 nodes and 0 edges\n",
            "\n",
            "📊 Graph Information:\n",
            "Nodes: ['797b5fe7-2a10-4efd-a4a7-91239a0aca22', '720a3369-c06e-45c2-b4bf-1322c83ed633', 'd2dc38f9-c68e-4fe9-aa02-20112aa57122', '64502329-0a36-4b7c-af81-6b30da10ed6a', '9d34e357-6730-46ff-a459-33d005ee1e0f']...\n",
            "Edges: []\n",
            "\n",
            "🏷️ Node Data (first 3 nodes):\n",
            "Node 1: {'class_code': 'E21', 'label': 'Albert Einstein', 'notes': 'Person mentioned in context: Albert Einstein was born on March 14, 1879, in Ulm, Württemberg, Germany. He grew up in a secular Jewish family. His father,', 'type': ['E21']}\n",
            "Node 2: {'class_code': 'E21', 'label': 'in Philadelphia', 'notes': \"Person mentioned in context: earchers believe it might help explain why Einstein was so intelligent.\\n\\nIn 2011, the Mütter Museum in Philadelphia received thin slices of Einstein's brain from Dr. Lucy Rorke-Adams, a neuropathologist at the Children's Hosp\", 'type': ['E21']}\n",
            "Node 3: {'class_code': 'E21', 'label': 'said she', 'notes': \"Person mentioned in context: a neuropathologist at the Children's Hospital of Philadelphia, and put them on display. Rorke-Adams said she received the brain slides from Harvey.\", 'type': ['E21']}\n"
          ]
        }
      ],
      "source": [
        "# Convert to NetworkX graph\n",
        "graph = to_networkx_graph(crm_entities)\n",
        "\n",
        "print(f\"🕸️ Created NetworkX graph with {graph.number_of_nodes()} nodes and {graph.number_of_edges()} edges\")\n",
        "\n",
        "# Display graph information\n",
        "print(\"\\n📊 Graph Information:\")\n",
        "print(f\"Nodes: {list(graph.nodes())[:5]}...\" if len(graph.nodes()) > 5 else f\"Nodes: {list(graph.nodes())}\")\n",
        "print(f\"Edges: {list(graph.edges())[:5]}...\" if len(graph.edges()) > 5 else f\"Edges: {list(graph.edges())}\")\n",
        "\n",
        "# Display node data\n",
        "print(\"\\n🏷️ Node Data (first 3 nodes):\")\n",
        "for i, (node_id, data) in enumerate(list(graph.nodes(data=True))[:3]):\n",
        "    print(f\"Node {i+1}: {data}\")\n"
      ]
    },
    {
      "cell_type": "markdown",
      "metadata": {},
      "source": [
        "## Step 6: Network Analysis\n",
        "\n",
        "Perform comprehensive network analysis including centrality measures, community detection, and network statistics.\n"
      ]
    },
    {
      "cell_type": "code",
      "execution_count": 8,
      "metadata": {},
      "outputs": [
        {
          "name": "stdout",
          "output_type": "stream",
          "text": [
            "📊 Calculating centrality measures...\n",
            "✅ Calculated centrality measures: ['degree', 'betweenness', 'closeness', 'eigenvector', 'pagerank']\n",
            "\n",
            "🏘️ Finding communities...\n",
            "✅ Found 0 communities\n",
            "\n",
            "📈 Calculating network statistics...\n",
            "\n",
            "📊 Network Statistics:\n",
            "  Density: 0.000\n",
            "  Average clustering: 0.000\n",
            "  Is connected: None\n",
            "  Average degree: 0.00\n",
            "  Max degree: 0\n",
            "  Min degree: 0\n"
          ]
        }
      ],
      "source": [
        "# Calculate centrality measures\n",
        "print(\"📊 Calculating centrality measures...\")\n",
        "centrality_measures = calculate_centrality_measures(graph)\n",
        "\n",
        "print(f\"✅ Calculated centrality measures: {list(centrality_measures.keys())}\")\n",
        "\n",
        "# Display degree centrality (most connected nodes)\n",
        "if 'degree_centrality' in centrality_measures:\n",
        "    degree_centrality = centrality_measures['degree_centrality']\n",
        "    print(\"\\n🔗 Degree Centrality (most connected nodes):\")\n",
        "    sorted_nodes = sorted(degree_centrality.items(), key=lambda x: x[1], reverse=True)\n",
        "    for node_id, centrality in sorted_nodes[:5]:\n",
        "        node_data = graph.nodes[node_id]\n",
        "        print(f\"  {node_data.get('label', node_id)}: {centrality:.3f}\")\n",
        "\n",
        "# Find communities\n",
        "print(\"\\n🏘️ Finding communities...\")\n",
        "communities = find_communities(graph)\n",
        "print(f\"✅ Found {len(communities)} communities\")\n",
        "\n",
        "if communities:\n",
        "    print(\"\\nCommunity Structure:\")\n",
        "    for i, community in enumerate(communities[:3]):  # Show first 3 communities\n",
        "        community_labels = [graph.nodes[node_id].get('label', node_id) for node_id in community]\n",
        "        print(f\"  Community {i+1}: {community_labels}\")\n",
        "\n",
        "# Get network statistics\n",
        "print(\"\\n📈 Calculating network statistics...\")\n",
        "network_stats = get_network_statistics(graph)\n",
        "\n",
        "print(\"\\n📊 Network Statistics:\")\n",
        "print(f\"  Density: {network_stats['basic_metrics']['density']:.3f}\")\n",
        "print(f\"  Average clustering: {network_stats['connectivity']['average_clustering']:.3f}\")\n",
        "print(f\"  Is connected: {network_stats['basic_metrics']['is_connected']}\")\n",
        "\n",
        "if 'degree_stats' in network_stats:\n",
        "    degree_stats = network_stats['degree_stats']\n",
        "    print(f\"  Average degree: {degree_stats['avg_degree']:.2f}\")\n",
        "    print(f\"  Max degree: {degree_stats['max_degree']}\")\n",
        "    print(f\"  Min degree: {degree_stats['min_degree']}\")\n"
      ]
    },
    {
      "cell_type": "markdown",
      "metadata": {},
      "source": [
        "## Step 7: Interactive Network Visualization\n",
        "\n",
        "Create an interactive network visualization using Plotly.\n"
      ]
    },
    {
      "cell_type": "code",
      "execution_count": 9,
      "metadata": {},
      "outputs": [
        {
          "name": "stdout",
          "output_type": "stream",
          "text": [
            "🎨 Creating interactive network visualization...\n",
            "✅ Generated interactive plot: notebook_output/plots/network_overview.html\n"
          ]
        },
        {
          "data": {
            "application/vnd.plotly.v1+json": {
              "config": {
                "plotlyServerURL": "https://plot.ly"
              },
              "data": [
                {
                  "hoverinfo": "none",
                  "line": {
                    "color": "#888",
                    "width": 2
                  },
                  "mode": "lines",
                  "type": "scatter",
                  "x": [],
                  "y": []
                },
                {
                  "hoverinfo": "text",
                  "hovertext": [
                    "ID: 797b5fe7-2a10-4efd-a4a7-91239a0aca22<br>Label: Albert Einstein<br>Class: E21",
                    "ID: 720a3369-c06e-45c2-b4bf-1322c83ed633<br>Label: in Philadelphia<br>Class: E21",
                    "ID: d2dc38f9-c68e-4fe9-aa02-20112aa57122<br>Label: said she<br>Class: E21",
                    "ID: 64502329-0a36-4b7c-af81-6b30da10ed6a<br>Label: Ulm<br>Class: E53",
                    "ID: 9d34e357-6730-46ff-a459-33d005ee1e0f<br>Label: Munich<br>Class: E53",
                    "ID: a1ae5da1-d471-491d-a02d-cc7c2767f014<br>Label: Munich<br>Class: E53",
                    "ID: d81a0267-136e-4984-8218-249ca0893d27<br>Label: Munich<br>Class: E53",
                    "ID: 7cf6ed68-bbf3-4d28-9eae-77b2f794fb6b<br>Label: Zurich<br>Class: E53",
                    "ID: c7be0797-afbe-47e5-91d5-d8960bcd514c<br>Label: Zurich<br>Class: E53",
                    "ID: 29355bc8-9837-4f4b-a734-cbbbc6ea4e12<br>Label: Princeton<br>Class: E53",
                    "ID: 46a44a65-ca92-4eff-a8dd-9c09476a1fa1<br>Label: Princeton<br>Class: E53",
                    "ID: 9100a1fb-684f-43a4-aac2-de752780f97a<br>Label: Princeton<br>Class: E53",
                    "ID: 951ec7d6-30b2-4aea-9894-4d633ed5d850<br>Label: Princeton<br>Class: E53",
                    "ID: 88763c20-0745-46b9-944e-98c8cc6d42d7<br>Label: Princeton<br>Class: E53",
                    "ID: 8f08b484-a836-476f-a872-251580160563<br>Label: Princeton<br>Class: E53",
                    "ID: b1ae096d-b94e-492c-a017-2f9ef417cc47<br>Label: New York<br>Class: E53",
                    "ID: 44468a5b-fc66-4145-a56f-18f3c5942468<br>Label: Switzerland<br>Class: E53",
                    "ID: 09a59d37-d890-4d09-95de-225d49395b42<br>Label: Germany<br>Class: E53",
                    "ID: 8be1a9c1-bf6f-4c2c-8f81-6ca705245be9<br>Label: Germany<br>Class: E53",
                    "ID: febf9ba4-6639-41af-b26f-b674a72cdbea<br>Label: Germany<br>Class: E53",
                    "ID: cd149c79-e905-42d6-b532-67c9e901b0d3<br>Label: Germany<br>Class: E53",
                    "ID: 9047b03f-0f28-41c2-aa49-807e8bf04b63<br>Label: Italy<br>Class: E53",
                    "ID: ee0d412d-ffff-4205-b321-a39e2946883e<br>Label: Italy<br>Class: E53",
                    "ID: 886f940c-563e-454a-8f63-12534ea7e0c8<br>Label: United States<br>Class: E53",
                    "ID: 30e278af-1f7b-4745-8acf-84221c1f139a<br>Label: United States<br>Class: E53",
                    "ID: c2044bbb-a8f0-436a-9afe-c83653def569<br>Label: United States<br>Class: E53",
                    "ID: 5c80139f-11cc-4672-ba38-3a5dfaacbf3f<br>Label: United States<br>Class: E53",
                    "ID: 9b0b536b-55c6-48cf-8746-ad2b6d47a2db<br>Label: theory of relativity<br>Class: E22",
                    "ID: 299e9c9c-06f1-4739-a885-4df2ca638902<br>Label: theory of relativity and the equation E<br>Class: E22",
                    "ID: 1d3ce3a5-17d7-4eb5-8299-2ecb540de1ca<br>Label: theory of relativity in <br>Class: E22",
                    "ID: 6246f06f-ea55-493c-93ec-e1cd28e96cd6<br>Label: theory explains that space and time are actually connected<br>Class: E22",
                    "ID: ab4f517d-ccc3-4ee4-9535-8f5efc7951c5<br>Label: theory of relativity<br>Class: E22",
                    "ID: 0dc9ba9d-2dc1-4ef4-9596-4feb19656422<br>Label: theory the culmination of his life research<br>Class: E22",
                    "ID: 3e8db6eb-7dae-402f-b7b2-54c4e51a431d<br>Label: theory and key aspects of his general theory of relativity<br>Class: E22",
                    "ID: c8ce630c-78a1-4a0a-b822-6e421b932c02<br>Label: theory of relativity allegedly came to him in a dream about cows being electrocuted<br>Class: E22",
                    "ID: 88391b98-297c-4664-9b96-34d2c291feb3<br>Label: paper on the matter<br>Class: E22",
                    "ID: 6d001b1f-779f-433b-b8e1-935c8dae37ed<br>Label: Nobel Prize in Physics for his explanation of the photoelectric effect<br>Class: E22",
                    "ID: cfdfb65d-7808-42bd-8277-8666c2e30fc2<br>Label: Nobel Prize in the future<br>Class: E22",
                    "ID: e10a769a-5ea1-47db-b1cc-5e4d66885cd8<br>Label: theory of relativity<br>Class: E22",
                    "ID: d9e3947f-e7a8-4192-a3d6-812457c71235<br>Label: theory of relativity<br>Class: E22",
                    "ID: 13d2e636-7ede-4297-a1cf-82943ac1618e<br>Label: theory of relativity<br>Class: E22",
                    "ID: 8893c8a0-c98b-4d3f-a4f5-ddd9eac844f9<br>Label: theory of relativity<br>Class: E22",
                    "ID: f5c4879c-329a-419c-a6d7-6c0222b8c600<br>Label: theory of relativity<br>Class: E22",
                    "ID: 0e435f4d-fe91-45ec-b9c6-fb7aeec86167<br>Label: theory of relativity<br>Class: E22",
                    "ID: 56d3fb52-1186-4e2f-9544-7bf77b28bb85<br>Label: photoelectric effect<br>Class: E22",
                    "ID: 2fc43e81-788e-455f-85e6-abf16aa6a79c<br>Label: photoelectric effect<br>Class: E22",
                    "ID: ca1e3d86-03ff-46d0-9995-7e4aa0466c09<br>Label: atomic bomb<br>Class: E22",
                    "ID: 785d0d94-47fc-4628-998d-69a0aeafbc8f<br>Label: Manhattan Project<br>Class: E22",
                    "ID: 38f4be2c-5661-4711-8e8a-aa9ff9d4c060<br>Label: atomic bomb<br>Class: E22",
                    "ID: 4a43f93d-9ab5-49b5-ae46-d47f9754435d<br>Label: born in 1902<br>Class: E52",
                    "ID: 5f711ede-8aeb-4668-86d7-5fa9ab96d932<br>Label: March 14, 1879<br>Class: E52",
                    "ID: 0aba9f6d-ebef-4de5-b76c-7bf827d1db9e<br>Label: January 6, 1903<br>Class: E52",
                    "ID: 0ad2e915-54d4-4084-ba7c-c73c898144c4<br>Label: March 14, 1951<br>Class: E52",
                    "ID: 8c51853c-d0e0-461c-8153-8252743806cd<br>Label: April 18, 1955<br>Class: E52",
                    "ID: c7aebf6c-2665-499c-90ab-9cbdccb2aafc<br>Label: late 1940s<br>Class: E52",
                    "ID: 9b558b4a-9e16-4fd0-b10f-308b2402d513<br>Label: 1880s<br>Class: E52",
                    "ID: 0ebbe327-2160-45aa-b199-e0d0ea511df7<br>Label: 1890s<br>Class: E52",
                    "ID: a4a04263-f2eb-4919-90ec-a69f56aacb33<br>Label: 1940s<br>Class: E52",
                    "ID: 21173323-8982-47d0-97e0-a9990c836783<br>Label: 1879<br>Class: E52",
                    "ID: de03cbc9-9895-4064-96ef-632fd1a8f2f9<br>Label: 1902<br>Class: E52",
                    "ID: df6f8b42-795f-4e9a-bdc9-b834934134c1<br>Label: 1905<br>Class: E52",
                    "ID: 5c5bb23a-a731-42a0-8158-3214976826ae<br>Label: 1905<br>Class: E52",
                    "ID: 8d083651-18f8-4475-b6e0-3fcbc902da0f<br>Label: 1915<br>Class: E52",
                    "ID: d47effbf-d67b-466d-a90d-87f8b5101de5<br>Label: 1919<br>Class: E52",
                    "ID: 688f043e-767b-4870-8311-9bb74e41e905<br>Label: 1905<br>Class: E52",
                    "ID: aa09bafa-9d6b-4ce6-8188-80eb51429ab9<br>Label: 1917<br>Class: E52",
                    "ID: 90155c0c-40e3-4a73-b7de-a6e295b21e5a<br>Label: 1933<br>Class: E52",
                    "ID: 4a3c0769-9c0a-496d-b698-8047e18db611<br>Label: 1921<br>Class: E52",
                    "ID: 4c3b5cff-3b86-4b9a-867d-5bf4a460749e<br>Label: 1903<br>Class: E52",
                    "ID: 565979d4-56bf-41a7-b375-d559e879eeb4<br>Label: 1902<br>Class: E52",
                    "ID: d1db46c9-ad68-41da-9412-f96d8ecb7f8f<br>Label: 1902<br>Class: E52",
                    "ID: 3fd4e4ae-cf3f-4761-95b0-c90ef3d9b6af<br>Label: 1919<br>Class: E52",
                    "ID: 0c97c5ca-789e-4bdf-9103-7ca65b4e750f<br>Label: 1919<br>Class: E52",
                    "ID: a99e21d2-c8a6-4ed5-9ba2-98d426fe6d7c<br>Label: 1936<br>Class: E52",
                    "ID: 75f7b3e6-461a-4811-8ab1-5cd6428ba432<br>Label: 1933<br>Class: E52",
                    "ID: 7b084e92-469a-41de-a7d6-89c862ffc69c<br>Label: 1935<br>Class: E52",
                    "ID: 61b9b760-a6a5-4222-9414-2faa010b30a1<br>Label: 1939<br>Class: E52",
                    "ID: 306a3b00-796b-40c1-a16a-daa0e1f7af09<br>Label: 1940<br>Class: E52",
                    "ID: 3996349a-8e82-44ad-ad21-41ca50b37104<br>Label: 1945<br>Class: E52",
                    "ID: 71e8f952-1ed1-4de2-8e28-dffb7158d490<br>Label: 1947<br>Class: E52",
                    "ID: c6c0ce05-8bf5-460f-b1cb-8b6be7d459a5<br>Label: 1946<br>Class: E52",
                    "ID: c53b8952-082a-404a-899e-62398c6c30e1<br>Label: 1951<br>Class: E52",
                    "ID: 5e90837c-f64b-45ec-9266-66d8eb948149<br>Label: 2017<br>Class: E52",
                    "ID: ef367e09-09f7-4d08-a078-c6a1ec9f294d<br>Label: 1955<br>Class: E52",
                    "ID: 8b64fed8-c857-4dca-82aa-03b04ed7db72<br>Label: 2014<br>Class: E52",
                    "ID: ba435b36-eb13-4b6b-b4e7-877291f5efbd<br>Label: 1999<br>Class: E52",
                    "ID: 29ad4c18-9ebf-4c61-b432-1903acc66a05<br>Label: 2011<br>Class: E52"
                  ],
                  "marker": {
                    "color": [
                      "red",
                      "red",
                      "red",
                      "green",
                      "green",
                      "green",
                      "green",
                      "green",
                      "green",
                      "green",
                      "green",
                      "green",
                      "green",
                      "green",
                      "green",
                      "green",
                      "green",
                      "green",
                      "green",
                      "green",
                      "green",
                      "green",
                      "green",
                      "green",
                      "green",
                      "green",
                      "green",
                      "orange",
                      "orange",
                      "orange",
                      "orange",
                      "orange",
                      "orange",
                      "orange",
                      "orange",
                      "orange",
                      "orange",
                      "orange",
                      "orange",
                      "orange",
                      "orange",
                      "orange",
                      "orange",
                      "orange",
                      "orange",
                      "orange",
                      "orange",
                      "orange",
                      "orange",
                      "purple",
                      "purple",
                      "purple",
                      "purple",
                      "purple",
                      "purple",
                      "purple",
                      "purple",
                      "purple",
                      "purple",
                      "purple",
                      "purple",
                      "purple",
                      "purple",
                      "purple",
                      "purple",
                      "purple",
                      "purple",
                      "purple",
                      "purple",
                      "purple",
                      "purple",
                      "purple",
                      "purple",
                      "purple",
                      "purple",
                      "purple",
                      "purple",
                      "purple",
                      "purple",
                      "purple",
                      "purple",
                      "purple",
                      "purple",
                      "purple",
                      "purple",
                      "purple",
                      "purple"
                    ],
                    "line": {
                      "color": "white",
                      "width": 2
                    },
                    "size": [
                      10,
                      10,
                      10,
                      10,
                      10,
                      10,
                      10,
                      10,
                      10,
                      10,
                      10,
                      10,
                      10,
                      10,
                      10,
                      10,
                      10,
                      10,
                      10,
                      10,
                      10,
                      10,
                      10,
                      10,
                      10,
                      10,
                      10,
                      10,
                      10,
                      10,
                      10,
                      10,
                      10,
                      10,
                      10,
                      10,
                      10,
                      10,
                      10,
                      10,
                      10,
                      10,
                      10,
                      10,
                      10,
                      10,
                      10,
                      10,
                      10,
                      10,
                      10,
                      10,
                      10,
                      10,
                      10,
                      10,
                      10,
                      10,
                      10,
                      10,
                      10,
                      10,
                      10,
                      10,
                      10,
                      10,
                      10,
                      10,
                      10,
                      10,
                      10,
                      10,
                      10,
                      10,
                      10,
                      10,
                      10,
                      10,
                      10,
                      10,
                      10,
                      10,
                      10,
                      10,
                      10,
                      10,
                      10
                    ]
                  },
                  "mode": "markers+text",
                  "text": [
                    "Albert Einstein",
                    "in Philadelphia",
                    "said she",
                    "Ulm",
                    "Munich",
                    "Munich",
                    "Munich",
                    "Zurich",
                    "Zurich",
                    "Princeton",
                    "Princeton",
                    "Princeton",
                    "Princeton",
                    "Princeton",
                    "Princeton",
                    "New York",
                    "Switzerland",
                    "Germany",
                    "Germany",
                    "Germany",
                    "Germany",
                    "Italy",
                    "Italy",
                    "United States",
                    "United States",
                    "United States",
                    "United States",
                    "theory of relativity",
                    "theory of relativity and the equation E",
                    "theory of relativity in ",
                    "theory explains that space and time are actually connected",
                    "theory of relativity",
                    "theory the culmination of his life research",
                    "theory and key aspects of his general theory of relativity",
                    "theory of relativity allegedly came to him in a dream about cows being electrocuted",
                    "paper on the matter",
                    "Nobel Prize in Physics for his explanation of the photoelectric effect",
                    "Nobel Prize in the future",
                    "theory of relativity",
                    "theory of relativity",
                    "theory of relativity",
                    "theory of relativity",
                    "theory of relativity",
                    "theory of relativity",
                    "photoelectric effect",
                    "photoelectric effect",
                    "atomic bomb",
                    "Manhattan Project",
                    "atomic bomb",
                    "born in 1902",
                    "March 14, 1879",
                    "January 6, 1903",
                    "March 14, 1951",
                    "April 18, 1955",
                    "late 1940s",
                    "1880s",
                    "1890s",
                    "1940s",
                    "1879",
                    "1902",
                    "1905",
                    "1905",
                    "1915",
                    "1919",
                    "1905",
                    "1917",
                    "1933",
                    "1921",
                    "1903",
                    "1902",
                    "1902",
                    "1919",
                    "1919",
                    "1936",
                    "1933",
                    "1935",
                    "1939",
                    "1940",
                    "1945",
                    "1947",
                    "1946",
                    "1951",
                    "2017",
                    "1955",
                    "2014",
                    "1999",
                    "2011"
                  ],
                  "textposition": "middle center",
                  "type": "scatter",
                  "x": [
                    -0.9731139445213689,
                    0.2836315477065116,
                    0.32093545054642714,
                    0.9797317453293294,
                    0.7708195396112145,
                    0.6437674555944445,
                    -0.59316560255373,
                    0.7633827443168434,
                    -0.42028028997333355,
                    -0.3233324784615984,
                    0.8724977977511609,
                    -0.9029634081831798,
                    0.13766581938871403,
                    -0.6501735965525226,
                    -0.9527931126256276,
                    0.47669278558109274,
                    0.20230790474074994,
                    0.1879871552486896,
                    -0.9145938037970717,
                    0.3447261157282995,
                    0.25265303229281744,
                    0.8550381689208789,
                    -0.7920868734493559,
                    -0.4858555899492359,
                    -0.8427092311097989,
                    -0.5066105674332906,
                    0.5450857733501345,
                    -0.435542884456018,
                    0.5068996561068183,
                    -0.012259249130400466,
                    0.989956742788885,
                    0.06158832842338907,
                    -0.23886774557527304,
                    -0.5799068976118279,
                    0.12149955332380531,
                    -0.5721133293279997,
                    -0.9541471379628207,
                    -0.325588820894365,
                    0.8001333865211744,
                    0.6652593039507793,
                    -0.923183482388426,
                    -0.6966954762340607,
                    0.7890693781327065,
                    -0.09291699259925601,
                    -0.910076183538851,
                    0.4866408230761034,
                    -0.3863519745060025,
                    -0.8217798819722304,
                    0.9437501515351502,
                    -0.8241757711305809,
                    -0.7382763131182996,
                    0.41761167919398284,
                    -0.7488560240915931,
                    0.7556169631317196,
                    -0.9238995896830805,
                    0.5376015944246633,
                    -0.8168598134486337,
                    -0.26044189898824255,
                    0.5444081026218134,
                    -0.08283355022720448,
                    -0.8741349750677727,
                    0.9640412751397194,
                    0.8813063071595706,
                    0.3923110668930451,
                    -0.9468978541982754,
                    0.8418238874898378,
                    -0.7056785217065137,
                    -0.4934196220750329,
                    -0.9268636949785799,
                    -0.16057070708149365,
                    0.9354197134664921,
                    0.8769800456460364,
                    0.8994441363396037,
                    0.9204154002928033,
                    -0.042201438350146746,
                    0.6444406210077329,
                    0.9529026043706823,
                    0.6875570667242182,
                    0.8700463829822123,
                    -0.31665111176240357,
                    -0.18312782005753117,
                    0.032783225102161875,
                    0.8284751319812235,
                    0.9433074508421845,
                    -0.9943007581870856,
                    -0.6986555262833667,
                    -0.8832594695323407
                  ],
                  "y": [
                    -0.020010871076853985,
                    0.9280368643910168,
                    -0.8708293471426695,
                    -0.21508339658660766,
                    0.7077047422501667,
                    -0.8040562090606752,
                    -0.8241132459976688,
                    -0.6806351505550589,
                    0.9149929519154402,
                    0.9281508001408221,
                    0.3709987593470069,
                    0.48605904095088714,
                    0.9859462685029111,
                    -0.7016478967784878,
                    0.24991265086186287,
                    -0.6804602808248645,
                    0.9387739117349856,
                    -1,
                    -0.44129975790105186,
                    0.8705707758149694,
                    -0.9317809384306218,
                    -0.48547948486266723,
                    -0.49552574107944963,
                    0.8489224575501367,
                    -0.5846262499709843,
                    -0.8226151552992773,
                    0.6607477412770814,
                    -0.9250502026087684,
                    0.8588528614369758,
                    0.9401449710462246,
                    0.07235925309452061,
                    0.9641941776820132,
                    0.9642677224027794,
                    0.8372823469187826,
                    -0.9338869895627729,
                    0.7313116701134263,
                    -0.1050375897380829,
                    0.8170007007585776,
                    0.5961771224211193,
                    -0.7039120545132225,
                    0.37649255355089145,
                    0.69690506416055,
                    0.5139272795559863,
                    -0.990339590479894,
                    0.0472804033711538,
                    -0.8698037186654283,
                    -0.8122924380505312,
                    0.49215441530659537,
                    -0.01679144013977897,
                    -0.27013146835061363,
                    0.6159779881608989,
                    0.897530873976648,
                    -0.6229166881341212,
                    -0.5788279298517047,
                    0.1720315480796652,
                    0.7801809345521433,
                    0.5957911839305824,
                    -0.990963073269071,
                    -0.7942822432296202,
                    0.9722579561545571,
                    -0.3740723645897331,
                    0.3787431524696823,
                    0.2677299422319198,
                    -0.9057548585834448,
                    -0.27565342835608797,
                    -0.15131027653368606,
                    -0.7462869496720507,
                    -0.5731577435313499,
                    -0.18417111846845138,
                    0.9448704758020509,
                    -0.37148006467701894,
                    -0.5938848662816464,
                    -0.27762875865114905,
                    0.11112247029600453,
                    -0.9081170190763425,
                    0.781363900750535,
                    -0.10973664381070518,
                    0.6617406479172847,
                    0.47149730667940865,
                    -0.9068290572703248,
                    -0.927453365472431,
                    -0.9769894881227057,
                    -0.40451739649197027,
                    0.2038769880385624,
                    0.10089786939630656,
                    0.7803891376498311,
                    0.32427266910667796
                  ]
                }
              ],
              "layout": {
                "annotations": [
                  {
                    "font": {
                      "color": "#888",
                      "size": 12
                    },
                    "showarrow": false,
                    "text": "Interactive CRM Network Visualization",
                    "x": 0.005,
                    "xanchor": "left",
                    "xref": "paper",
                    "y": -0.002,
                    "yanchor": "bottom",
                    "yref": "paper"
                  }
                ],
                "hovermode": "closest",
                "margin": {
                  "b": 20,
                  "l": 5,
                  "r": 5,
                  "t": 40
                },
                "showlegend": false,
                "template": {
                  "data": {
                    "bar": [
                      {
                        "error_x": {
                          "color": "#2a3f5f"
                        },
                        "error_y": {
                          "color": "#2a3f5f"
                        },
                        "marker": {
                          "line": {
                            "color": "#E5ECF6",
                            "width": 0.5
                          },
                          "pattern": {
                            "fillmode": "overlay",
                            "size": 10,
                            "solidity": 0.2
                          }
                        },
                        "type": "bar"
                      }
                    ],
                    "barpolar": [
                      {
                        "marker": {
                          "line": {
                            "color": "#E5ECF6",
                            "width": 0.5
                          },
                          "pattern": {
                            "fillmode": "overlay",
                            "size": 10,
                            "solidity": 0.2
                          }
                        },
                        "type": "barpolar"
                      }
                    ],
                    "carpet": [
                      {
                        "aaxis": {
                          "endlinecolor": "#2a3f5f",
                          "gridcolor": "white",
                          "linecolor": "white",
                          "minorgridcolor": "white",
                          "startlinecolor": "#2a3f5f"
                        },
                        "baxis": {
                          "endlinecolor": "#2a3f5f",
                          "gridcolor": "white",
                          "linecolor": "white",
                          "minorgridcolor": "white",
                          "startlinecolor": "#2a3f5f"
                        },
                        "type": "carpet"
                      }
                    ],
                    "choropleth": [
                      {
                        "colorbar": {
                          "outlinewidth": 0,
                          "ticks": ""
                        },
                        "type": "choropleth"
                      }
                    ],
                    "contour": [
                      {
                        "colorbar": {
                          "outlinewidth": 0,
                          "ticks": ""
                        },
                        "colorscale": [
                          [
                            0,
                            "#0d0887"
                          ],
                          [
                            0.1111111111111111,
                            "#46039f"
                          ],
                          [
                            0.2222222222222222,
                            "#7201a8"
                          ],
                          [
                            0.3333333333333333,
                            "#9c179e"
                          ],
                          [
                            0.4444444444444444,
                            "#bd3786"
                          ],
                          [
                            0.5555555555555556,
                            "#d8576b"
                          ],
                          [
                            0.6666666666666666,
                            "#ed7953"
                          ],
                          [
                            0.7777777777777778,
                            "#fb9f3a"
                          ],
                          [
                            0.8888888888888888,
                            "#fdca26"
                          ],
                          [
                            1,
                            "#f0f921"
                          ]
                        ],
                        "type": "contour"
                      }
                    ],
                    "contourcarpet": [
                      {
                        "colorbar": {
                          "outlinewidth": 0,
                          "ticks": ""
                        },
                        "type": "contourcarpet"
                      }
                    ],
                    "heatmap": [
                      {
                        "colorbar": {
                          "outlinewidth": 0,
                          "ticks": ""
                        },
                        "colorscale": [
                          [
                            0,
                            "#0d0887"
                          ],
                          [
                            0.1111111111111111,
                            "#46039f"
                          ],
                          [
                            0.2222222222222222,
                            "#7201a8"
                          ],
                          [
                            0.3333333333333333,
                            "#9c179e"
                          ],
                          [
                            0.4444444444444444,
                            "#bd3786"
                          ],
                          [
                            0.5555555555555556,
                            "#d8576b"
                          ],
                          [
                            0.6666666666666666,
                            "#ed7953"
                          ],
                          [
                            0.7777777777777778,
                            "#fb9f3a"
                          ],
                          [
                            0.8888888888888888,
                            "#fdca26"
                          ],
                          [
                            1,
                            "#f0f921"
                          ]
                        ],
                        "type": "heatmap"
                      }
                    ],
                    "histogram": [
                      {
                        "marker": {
                          "pattern": {
                            "fillmode": "overlay",
                            "size": 10,
                            "solidity": 0.2
                          }
                        },
                        "type": "histogram"
                      }
                    ],
                    "histogram2d": [
                      {
                        "colorbar": {
                          "outlinewidth": 0,
                          "ticks": ""
                        },
                        "colorscale": [
                          [
                            0,
                            "#0d0887"
                          ],
                          [
                            0.1111111111111111,
                            "#46039f"
                          ],
                          [
                            0.2222222222222222,
                            "#7201a8"
                          ],
                          [
                            0.3333333333333333,
                            "#9c179e"
                          ],
                          [
                            0.4444444444444444,
                            "#bd3786"
                          ],
                          [
                            0.5555555555555556,
                            "#d8576b"
                          ],
                          [
                            0.6666666666666666,
                            "#ed7953"
                          ],
                          [
                            0.7777777777777778,
                            "#fb9f3a"
                          ],
                          [
                            0.8888888888888888,
                            "#fdca26"
                          ],
                          [
                            1,
                            "#f0f921"
                          ]
                        ],
                        "type": "histogram2d"
                      }
                    ],
                    "histogram2dcontour": [
                      {
                        "colorbar": {
                          "outlinewidth": 0,
                          "ticks": ""
                        },
                        "colorscale": [
                          [
                            0,
                            "#0d0887"
                          ],
                          [
                            0.1111111111111111,
                            "#46039f"
                          ],
                          [
                            0.2222222222222222,
                            "#7201a8"
                          ],
                          [
                            0.3333333333333333,
                            "#9c179e"
                          ],
                          [
                            0.4444444444444444,
                            "#bd3786"
                          ],
                          [
                            0.5555555555555556,
                            "#d8576b"
                          ],
                          [
                            0.6666666666666666,
                            "#ed7953"
                          ],
                          [
                            0.7777777777777778,
                            "#fb9f3a"
                          ],
                          [
                            0.8888888888888888,
                            "#fdca26"
                          ],
                          [
                            1,
                            "#f0f921"
                          ]
                        ],
                        "type": "histogram2dcontour"
                      }
                    ],
                    "mesh3d": [
                      {
                        "colorbar": {
                          "outlinewidth": 0,
                          "ticks": ""
                        },
                        "type": "mesh3d"
                      }
                    ],
                    "parcoords": [
                      {
                        "line": {
                          "colorbar": {
                            "outlinewidth": 0,
                            "ticks": ""
                          }
                        },
                        "type": "parcoords"
                      }
                    ],
                    "pie": [
                      {
                        "automargin": true,
                        "type": "pie"
                      }
                    ],
                    "scatter": [
                      {
                        "fillpattern": {
                          "fillmode": "overlay",
                          "size": 10,
                          "solidity": 0.2
                        },
                        "type": "scatter"
                      }
                    ],
                    "scatter3d": [
                      {
                        "line": {
                          "colorbar": {
                            "outlinewidth": 0,
                            "ticks": ""
                          }
                        },
                        "marker": {
                          "colorbar": {
                            "outlinewidth": 0,
                            "ticks": ""
                          }
                        },
                        "type": "scatter3d"
                      }
                    ],
                    "scattercarpet": [
                      {
                        "marker": {
                          "colorbar": {
                            "outlinewidth": 0,
                            "ticks": ""
                          }
                        },
                        "type": "scattercarpet"
                      }
                    ],
                    "scattergeo": [
                      {
                        "marker": {
                          "colorbar": {
                            "outlinewidth": 0,
                            "ticks": ""
                          }
                        },
                        "type": "scattergeo"
                      }
                    ],
                    "scattergl": [
                      {
                        "marker": {
                          "colorbar": {
                            "outlinewidth": 0,
                            "ticks": ""
                          }
                        },
                        "type": "scattergl"
                      }
                    ],
                    "scattermap": [
                      {
                        "marker": {
                          "colorbar": {
                            "outlinewidth": 0,
                            "ticks": ""
                          }
                        },
                        "type": "scattermap"
                      }
                    ],
                    "scattermapbox": [
                      {
                        "marker": {
                          "colorbar": {
                            "outlinewidth": 0,
                            "ticks": ""
                          }
                        },
                        "type": "scattermapbox"
                      }
                    ],
                    "scatterpolar": [
                      {
                        "marker": {
                          "colorbar": {
                            "outlinewidth": 0,
                            "ticks": ""
                          }
                        },
                        "type": "scatterpolar"
                      }
                    ],
                    "scatterpolargl": [
                      {
                        "marker": {
                          "colorbar": {
                            "outlinewidth": 0,
                            "ticks": ""
                          }
                        },
                        "type": "scatterpolargl"
                      }
                    ],
                    "scatterternary": [
                      {
                        "marker": {
                          "colorbar": {
                            "outlinewidth": 0,
                            "ticks": ""
                          }
                        },
                        "type": "scatterternary"
                      }
                    ],
                    "surface": [
                      {
                        "colorbar": {
                          "outlinewidth": 0,
                          "ticks": ""
                        },
                        "colorscale": [
                          [
                            0,
                            "#0d0887"
                          ],
                          [
                            0.1111111111111111,
                            "#46039f"
                          ],
                          [
                            0.2222222222222222,
                            "#7201a8"
                          ],
                          [
                            0.3333333333333333,
                            "#9c179e"
                          ],
                          [
                            0.4444444444444444,
                            "#bd3786"
                          ],
                          [
                            0.5555555555555556,
                            "#d8576b"
                          ],
                          [
                            0.6666666666666666,
                            "#ed7953"
                          ],
                          [
                            0.7777777777777778,
                            "#fb9f3a"
                          ],
                          [
                            0.8888888888888888,
                            "#fdca26"
                          ],
                          [
                            1,
                            "#f0f921"
                          ]
                        ],
                        "type": "surface"
                      }
                    ],
                    "table": [
                      {
                        "cells": {
                          "fill": {
                            "color": "#EBF0F8"
                          },
                          "line": {
                            "color": "white"
                          }
                        },
                        "header": {
                          "fill": {
                            "color": "#C8D4E3"
                          },
                          "line": {
                            "color": "white"
                          }
                        },
                        "type": "table"
                      }
                    ]
                  },
                  "layout": {
                    "annotationdefaults": {
                      "arrowcolor": "#2a3f5f",
                      "arrowhead": 0,
                      "arrowwidth": 1
                    },
                    "autotypenumbers": "strict",
                    "coloraxis": {
                      "colorbar": {
                        "outlinewidth": 0,
                        "ticks": ""
                      }
                    },
                    "colorscale": {
                      "diverging": [
                        [
                          0,
                          "#8e0152"
                        ],
                        [
                          0.1,
                          "#c51b7d"
                        ],
                        [
                          0.2,
                          "#de77ae"
                        ],
                        [
                          0.3,
                          "#f1b6da"
                        ],
                        [
                          0.4,
                          "#fde0ef"
                        ],
                        [
                          0.5,
                          "#f7f7f7"
                        ],
                        [
                          0.6,
                          "#e6f5d0"
                        ],
                        [
                          0.7,
                          "#b8e186"
                        ],
                        [
                          0.8,
                          "#7fbc41"
                        ],
                        [
                          0.9,
                          "#4d9221"
                        ],
                        [
                          1,
                          "#276419"
                        ]
                      ],
                      "sequential": [
                        [
                          0,
                          "#0d0887"
                        ],
                        [
                          0.1111111111111111,
                          "#46039f"
                        ],
                        [
                          0.2222222222222222,
                          "#7201a8"
                        ],
                        [
                          0.3333333333333333,
                          "#9c179e"
                        ],
                        [
                          0.4444444444444444,
                          "#bd3786"
                        ],
                        [
                          0.5555555555555556,
                          "#d8576b"
                        ],
                        [
                          0.6666666666666666,
                          "#ed7953"
                        ],
                        [
                          0.7777777777777778,
                          "#fb9f3a"
                        ],
                        [
                          0.8888888888888888,
                          "#fdca26"
                        ],
                        [
                          1,
                          "#f0f921"
                        ]
                      ],
                      "sequentialminus": [
                        [
                          0,
                          "#0d0887"
                        ],
                        [
                          0.1111111111111111,
                          "#46039f"
                        ],
                        [
                          0.2222222222222222,
                          "#7201a8"
                        ],
                        [
                          0.3333333333333333,
                          "#9c179e"
                        ],
                        [
                          0.4444444444444444,
                          "#bd3786"
                        ],
                        [
                          0.5555555555555556,
                          "#d8576b"
                        ],
                        [
                          0.6666666666666666,
                          "#ed7953"
                        ],
                        [
                          0.7777777777777778,
                          "#fb9f3a"
                        ],
                        [
                          0.8888888888888888,
                          "#fdca26"
                        ],
                        [
                          1,
                          "#f0f921"
                        ]
                      ]
                    },
                    "colorway": [
                      "#636efa",
                      "#EF553B",
                      "#00cc96",
                      "#ab63fa",
                      "#FFA15A",
                      "#19d3f3",
                      "#FF6692",
                      "#B6E880",
                      "#FF97FF",
                      "#FECB52"
                    ],
                    "font": {
                      "color": "#2a3f5f"
                    },
                    "geo": {
                      "bgcolor": "white",
                      "lakecolor": "white",
                      "landcolor": "#E5ECF6",
                      "showlakes": true,
                      "showland": true,
                      "subunitcolor": "white"
                    },
                    "hoverlabel": {
                      "align": "left"
                    },
                    "hovermode": "closest",
                    "mapbox": {
                      "style": "light"
                    },
                    "paper_bgcolor": "white",
                    "plot_bgcolor": "#E5ECF6",
                    "polar": {
                      "angularaxis": {
                        "gridcolor": "white",
                        "linecolor": "white",
                        "ticks": ""
                      },
                      "bgcolor": "#E5ECF6",
                      "radialaxis": {
                        "gridcolor": "white",
                        "linecolor": "white",
                        "ticks": ""
                      }
                    },
                    "scene": {
                      "xaxis": {
                        "backgroundcolor": "#E5ECF6",
                        "gridcolor": "white",
                        "gridwidth": 2,
                        "linecolor": "white",
                        "showbackground": true,
                        "ticks": "",
                        "zerolinecolor": "white"
                      },
                      "yaxis": {
                        "backgroundcolor": "#E5ECF6",
                        "gridcolor": "white",
                        "gridwidth": 2,
                        "linecolor": "white",
                        "showbackground": true,
                        "ticks": "",
                        "zerolinecolor": "white"
                      },
                      "zaxis": {
                        "backgroundcolor": "#E5ECF6",
                        "gridcolor": "white",
                        "gridwidth": 2,
                        "linecolor": "white",
                        "showbackground": true,
                        "ticks": "",
                        "zerolinecolor": "white"
                      }
                    },
                    "shapedefaults": {
                      "line": {
                        "color": "#2a3f5f"
                      }
                    },
                    "ternary": {
                      "aaxis": {
                        "gridcolor": "white",
                        "linecolor": "white",
                        "ticks": ""
                      },
                      "baxis": {
                        "gridcolor": "white",
                        "linecolor": "white",
                        "ticks": ""
                      },
                      "bgcolor": "#E5ECF6",
                      "caxis": {
                        "gridcolor": "white",
                        "linecolor": "white",
                        "ticks": ""
                      }
                    },
                    "title": {
                      "x": 0.05
                    },
                    "xaxis": {
                      "automargin": true,
                      "gridcolor": "white",
                      "linecolor": "white",
                      "ticks": "",
                      "title": {
                        "standoff": 15
                      },
                      "zerolinecolor": "white",
                      "zerolinewidth": 2
                    },
                    "yaxis": {
                      "automargin": true,
                      "gridcolor": "white",
                      "linecolor": "white",
                      "ticks": "",
                      "title": {
                        "standoff": 15
                      },
                      "zerolinecolor": "white",
                      "zerolinewidth": 2
                    }
                  }
                },
                "title": {
                  "font": {
                    "size": 16
                  },
                  "text": "Einstein's Life Network"
                },
                "xaxis": {
                  "showgrid": false,
                  "showticklabels": false,
                  "zeroline": false
                },
                "yaxis": {
                  "showgrid": false,
                  "showticklabels": false,
                  "zeroline": false
                }
              }
            }
          },
          "metadata": {},
          "output_type": "display_data"
        }
      ],
      "source": [
        "# Create plots directory\n",
        "plots_dir = output_dir / \"plots\"\n",
        "plots_dir.mkdir(exist_ok=True)\n",
        "\n",
        "# Create interactive network plot\n",
        "print(\"🎨 Creating interactive network visualization...\")\n",
        "interactive_fig = create_interactive_plot(\n",
        "    graph,\n",
        "    title=\"Einstein's Life Network\",\n",
        "    node_size_multiplier=20,\n",
        "    edge_width_multiplier=2\n",
        ")\n",
        "\n",
        "# Save interactive plot\n",
        "interactive_file = plots_dir / \"network_overview.html\"\n",
        "interactive_fig.write_html(str(interactive_file))\n",
        "print(f\"✅ Generated interactive plot: {interactive_file}\")\n",
        "\n",
        "# Display in notebook - using alternative method\n",
        "try:\n",
        "    interactive_fig.show()\n",
        "except ValueError as e:\n",
        "    print(f\"⚠️  Display issue: {e}\")\n",
        "    print(\"📁 Plot saved as HTML file - you can open it in your browser\")\n",
        "    print(f\"🔗 File location: {interactive_file}\")\n",
        "    print(\"💡 Tip: Open the HTML file in your browser to view the interactive plot\")\n"
      ]
    },
    {
      "cell_type": "markdown",
      "metadata": {},
      "source": [
        "## Step 8: Enhanced Interactive Features\n",
        "\n",
        "Create additional interactive visualizations with community structure and centrality analysis.\n"
      ]
    },
    {
      "cell_type": "code",
      "execution_count": 10,
      "metadata": {},
      "outputs": [
        {
          "name": "stdout",
          "output_type": "stream",
          "text": [
            "🎨 Creating enhanced interactive visualizations...\n",
            "📊 Creating centrality analysis visualization...\n",
            "✅ Generated centrality plot: notebook_output/plots/centrality_analysis.html\n"
          ]
        },
        {
          "data": {
            "application/vnd.plotly.v1+json": {
              "config": {
                "plotlyServerURL": "https://plot.ly"
              },
              "data": [
                {
                  "hoverinfo": "none",
                  "line": {
                    "color": "#888",
                    "width": 1.5
                  },
                  "mode": "lines",
                  "type": "scatter",
                  "x": [],
                  "y": []
                },
                {
                  "hoverinfo": "text",
                  "hovertext": [
                    "ID: 797b5fe7-2a10-4efd-a4a7-91239a0aca22<br>Label: Albert Einstein<br>Class: E21",
                    "ID: 720a3369-c06e-45c2-b4bf-1322c83ed633<br>Label: in Philadelphia<br>Class: E21",
                    "ID: d2dc38f9-c68e-4fe9-aa02-20112aa57122<br>Label: said she<br>Class: E21",
                    "ID: 64502329-0a36-4b7c-af81-6b30da10ed6a<br>Label: Ulm<br>Class: E53",
                    "ID: 9d34e357-6730-46ff-a459-33d005ee1e0f<br>Label: Munich<br>Class: E53",
                    "ID: a1ae5da1-d471-491d-a02d-cc7c2767f014<br>Label: Munich<br>Class: E53",
                    "ID: d81a0267-136e-4984-8218-249ca0893d27<br>Label: Munich<br>Class: E53",
                    "ID: 7cf6ed68-bbf3-4d28-9eae-77b2f794fb6b<br>Label: Zurich<br>Class: E53",
                    "ID: c7be0797-afbe-47e5-91d5-d8960bcd514c<br>Label: Zurich<br>Class: E53",
                    "ID: 29355bc8-9837-4f4b-a734-cbbbc6ea4e12<br>Label: Princeton<br>Class: E53",
                    "ID: 46a44a65-ca92-4eff-a8dd-9c09476a1fa1<br>Label: Princeton<br>Class: E53",
                    "ID: 9100a1fb-684f-43a4-aac2-de752780f97a<br>Label: Princeton<br>Class: E53",
                    "ID: 951ec7d6-30b2-4aea-9894-4d633ed5d850<br>Label: Princeton<br>Class: E53",
                    "ID: 88763c20-0745-46b9-944e-98c8cc6d42d7<br>Label: Princeton<br>Class: E53",
                    "ID: 8f08b484-a836-476f-a872-251580160563<br>Label: Princeton<br>Class: E53",
                    "ID: b1ae096d-b94e-492c-a017-2f9ef417cc47<br>Label: New York<br>Class: E53",
                    "ID: 44468a5b-fc66-4145-a56f-18f3c5942468<br>Label: Switzerland<br>Class: E53",
                    "ID: 09a59d37-d890-4d09-95de-225d49395b42<br>Label: Germany<br>Class: E53",
                    "ID: 8be1a9c1-bf6f-4c2c-8f81-6ca705245be9<br>Label: Germany<br>Class: E53",
                    "ID: febf9ba4-6639-41af-b26f-b674a72cdbea<br>Label: Germany<br>Class: E53",
                    "ID: cd149c79-e905-42d6-b532-67c9e901b0d3<br>Label: Germany<br>Class: E53",
                    "ID: 9047b03f-0f28-41c2-aa49-807e8bf04b63<br>Label: Italy<br>Class: E53",
                    "ID: ee0d412d-ffff-4205-b321-a39e2946883e<br>Label: Italy<br>Class: E53",
                    "ID: 886f940c-563e-454a-8f63-12534ea7e0c8<br>Label: United States<br>Class: E53",
                    "ID: 30e278af-1f7b-4745-8acf-84221c1f139a<br>Label: United States<br>Class: E53",
                    "ID: c2044bbb-a8f0-436a-9afe-c83653def569<br>Label: United States<br>Class: E53",
                    "ID: 5c80139f-11cc-4672-ba38-3a5dfaacbf3f<br>Label: United States<br>Class: E53",
                    "ID: 9b0b536b-55c6-48cf-8746-ad2b6d47a2db<br>Label: theory of relativity<br>Class: E22",
                    "ID: 299e9c9c-06f1-4739-a885-4df2ca638902<br>Label: theory of relativity and the equation E<br>Class: E22",
                    "ID: 1d3ce3a5-17d7-4eb5-8299-2ecb540de1ca<br>Label: theory of relativity in <br>Class: E22",
                    "ID: 6246f06f-ea55-493c-93ec-e1cd28e96cd6<br>Label: theory explains that space and time are actually connected<br>Class: E22",
                    "ID: ab4f517d-ccc3-4ee4-9535-8f5efc7951c5<br>Label: theory of relativity<br>Class: E22",
                    "ID: 0dc9ba9d-2dc1-4ef4-9596-4feb19656422<br>Label: theory the culmination of his life research<br>Class: E22",
                    "ID: 3e8db6eb-7dae-402f-b7b2-54c4e51a431d<br>Label: theory and key aspects of his general theory of relativity<br>Class: E22",
                    "ID: c8ce630c-78a1-4a0a-b822-6e421b932c02<br>Label: theory of relativity allegedly came to him in a dream about cows being electrocuted<br>Class: E22",
                    "ID: 88391b98-297c-4664-9b96-34d2c291feb3<br>Label: paper on the matter<br>Class: E22",
                    "ID: 6d001b1f-779f-433b-b8e1-935c8dae37ed<br>Label: Nobel Prize in Physics for his explanation of the photoelectric effect<br>Class: E22",
                    "ID: cfdfb65d-7808-42bd-8277-8666c2e30fc2<br>Label: Nobel Prize in the future<br>Class: E22",
                    "ID: e10a769a-5ea1-47db-b1cc-5e4d66885cd8<br>Label: theory of relativity<br>Class: E22",
                    "ID: d9e3947f-e7a8-4192-a3d6-812457c71235<br>Label: theory of relativity<br>Class: E22",
                    "ID: 13d2e636-7ede-4297-a1cf-82943ac1618e<br>Label: theory of relativity<br>Class: E22",
                    "ID: 8893c8a0-c98b-4d3f-a4f5-ddd9eac844f9<br>Label: theory of relativity<br>Class: E22",
                    "ID: f5c4879c-329a-419c-a6d7-6c0222b8c600<br>Label: theory of relativity<br>Class: E22",
                    "ID: 0e435f4d-fe91-45ec-b9c6-fb7aeec86167<br>Label: theory of relativity<br>Class: E22",
                    "ID: 56d3fb52-1186-4e2f-9544-7bf77b28bb85<br>Label: photoelectric effect<br>Class: E22",
                    "ID: 2fc43e81-788e-455f-85e6-abf16aa6a79c<br>Label: photoelectric effect<br>Class: E22",
                    "ID: ca1e3d86-03ff-46d0-9995-7e4aa0466c09<br>Label: atomic bomb<br>Class: E22",
                    "ID: 785d0d94-47fc-4628-998d-69a0aeafbc8f<br>Label: Manhattan Project<br>Class: E22",
                    "ID: 38f4be2c-5661-4711-8e8a-aa9ff9d4c060<br>Label: atomic bomb<br>Class: E22",
                    "ID: 4a43f93d-9ab5-49b5-ae46-d47f9754435d<br>Label: born in 1902<br>Class: E52",
                    "ID: 5f711ede-8aeb-4668-86d7-5fa9ab96d932<br>Label: March 14, 1879<br>Class: E52",
                    "ID: 0aba9f6d-ebef-4de5-b76c-7bf827d1db9e<br>Label: January 6, 1903<br>Class: E52",
                    "ID: 0ad2e915-54d4-4084-ba7c-c73c898144c4<br>Label: March 14, 1951<br>Class: E52",
                    "ID: 8c51853c-d0e0-461c-8153-8252743806cd<br>Label: April 18, 1955<br>Class: E52",
                    "ID: c7aebf6c-2665-499c-90ab-9cbdccb2aafc<br>Label: late 1940s<br>Class: E52",
                    "ID: 9b558b4a-9e16-4fd0-b10f-308b2402d513<br>Label: 1880s<br>Class: E52",
                    "ID: 0ebbe327-2160-45aa-b199-e0d0ea511df7<br>Label: 1890s<br>Class: E52",
                    "ID: a4a04263-f2eb-4919-90ec-a69f56aacb33<br>Label: 1940s<br>Class: E52",
                    "ID: 21173323-8982-47d0-97e0-a9990c836783<br>Label: 1879<br>Class: E52",
                    "ID: de03cbc9-9895-4064-96ef-632fd1a8f2f9<br>Label: 1902<br>Class: E52",
                    "ID: df6f8b42-795f-4e9a-bdc9-b834934134c1<br>Label: 1905<br>Class: E52",
                    "ID: 5c5bb23a-a731-42a0-8158-3214976826ae<br>Label: 1905<br>Class: E52",
                    "ID: 8d083651-18f8-4475-b6e0-3fcbc902da0f<br>Label: 1915<br>Class: E52",
                    "ID: d47effbf-d67b-466d-a90d-87f8b5101de5<br>Label: 1919<br>Class: E52",
                    "ID: 688f043e-767b-4870-8311-9bb74e41e905<br>Label: 1905<br>Class: E52",
                    "ID: aa09bafa-9d6b-4ce6-8188-80eb51429ab9<br>Label: 1917<br>Class: E52",
                    "ID: 90155c0c-40e3-4a73-b7de-a6e295b21e5a<br>Label: 1933<br>Class: E52",
                    "ID: 4a3c0769-9c0a-496d-b698-8047e18db611<br>Label: 1921<br>Class: E52",
                    "ID: 4c3b5cff-3b86-4b9a-867d-5bf4a460749e<br>Label: 1903<br>Class: E52",
                    "ID: 565979d4-56bf-41a7-b375-d559e879eeb4<br>Label: 1902<br>Class: E52",
                    "ID: d1db46c9-ad68-41da-9412-f96d8ecb7f8f<br>Label: 1902<br>Class: E52",
                    "ID: 3fd4e4ae-cf3f-4761-95b0-c90ef3d9b6af<br>Label: 1919<br>Class: E52",
                    "ID: 0c97c5ca-789e-4bdf-9103-7ca65b4e750f<br>Label: 1919<br>Class: E52",
                    "ID: a99e21d2-c8a6-4ed5-9ba2-98d426fe6d7c<br>Label: 1936<br>Class: E52",
                    "ID: 75f7b3e6-461a-4811-8ab1-5cd6428ba432<br>Label: 1933<br>Class: E52",
                    "ID: 7b084e92-469a-41de-a7d6-89c862ffc69c<br>Label: 1935<br>Class: E52",
                    "ID: 61b9b760-a6a5-4222-9414-2faa010b30a1<br>Label: 1939<br>Class: E52",
                    "ID: 306a3b00-796b-40c1-a16a-daa0e1f7af09<br>Label: 1940<br>Class: E52",
                    "ID: 3996349a-8e82-44ad-ad21-41ca50b37104<br>Label: 1945<br>Class: E52",
                    "ID: 71e8f952-1ed1-4de2-8e28-dffb7158d490<br>Label: 1947<br>Class: E52",
                    "ID: c6c0ce05-8bf5-460f-b1cb-8b6be7d459a5<br>Label: 1946<br>Class: E52",
                    "ID: c53b8952-082a-404a-899e-62398c6c30e1<br>Label: 1951<br>Class: E52",
                    "ID: 5e90837c-f64b-45ec-9266-66d8eb948149<br>Label: 2017<br>Class: E52",
                    "ID: ef367e09-09f7-4d08-a078-c6a1ec9f294d<br>Label: 1955<br>Class: E52",
                    "ID: 8b64fed8-c857-4dca-82aa-03b04ed7db72<br>Label: 2014<br>Class: E52",
                    "ID: ba435b36-eb13-4b6b-b4e7-877291f5efbd<br>Label: 1999<br>Class: E52",
                    "ID: 29ad4c18-9ebf-4c61-b432-1903acc66a05<br>Label: 2011<br>Class: E52"
                  ],
                  "marker": {
                    "color": [
                      "red",
                      "red",
                      "red",
                      "green",
                      "green",
                      "green",
                      "green",
                      "green",
                      "green",
                      "green",
                      "green",
                      "green",
                      "green",
                      "green",
                      "green",
                      "green",
                      "green",
                      "green",
                      "green",
                      "green",
                      "green",
                      "green",
                      "green",
                      "green",
                      "green",
                      "green",
                      "green",
                      "orange",
                      "orange",
                      "orange",
                      "orange",
                      "orange",
                      "orange",
                      "orange",
                      "orange",
                      "orange",
                      "orange",
                      "orange",
                      "orange",
                      "orange",
                      "orange",
                      "orange",
                      "orange",
                      "orange",
                      "orange",
                      "orange",
                      "orange",
                      "orange",
                      "orange",
                      "purple",
                      "purple",
                      "purple",
                      "purple",
                      "purple",
                      "purple",
                      "purple",
                      "purple",
                      "purple",
                      "purple",
                      "purple",
                      "purple",
                      "purple",
                      "purple",
                      "purple",
                      "purple",
                      "purple",
                      "purple",
                      "purple",
                      "purple",
                      "purple",
                      "purple",
                      "purple",
                      "purple",
                      "purple",
                      "purple",
                      "purple",
                      "purple",
                      "purple",
                      "purple",
                      "purple",
                      "purple",
                      "purple",
                      "purple",
                      "purple",
                      "purple",
                      "purple",
                      "purple"
                    ],
                    "line": {
                      "color": "white",
                      "width": 2
                    },
                    "size": [
                      10,
                      10,
                      10,
                      10,
                      10,
                      10,
                      10,
                      10,
                      10,
                      10,
                      10,
                      10,
                      10,
                      10,
                      10,
                      10,
                      10,
                      10,
                      10,
                      10,
                      10,
                      10,
                      10,
                      10,
                      10,
                      10,
                      10,
                      10,
                      10,
                      10,
                      10,
                      10,
                      10,
                      10,
                      10,
                      10,
                      10,
                      10,
                      10,
                      10,
                      10,
                      10,
                      10,
                      10,
                      10,
                      10,
                      10,
                      10,
                      10,
                      10,
                      10,
                      10,
                      10,
                      10,
                      10,
                      10,
                      10,
                      10,
                      10,
                      10,
                      10,
                      10,
                      10,
                      10,
                      10,
                      10,
                      10,
                      10,
                      10,
                      10,
                      10,
                      10,
                      10,
                      10,
                      10,
                      10,
                      10,
                      10,
                      10,
                      10,
                      10,
                      10,
                      10,
                      10,
                      10,
                      10,
                      10
                    ]
                  },
                  "mode": "markers+text",
                  "text": [
                    "Albert Einstein",
                    "in Philadelphia",
                    "said she",
                    "Ulm",
                    "Munich",
                    "Munich",
                    "Munich",
                    "Zurich",
                    "Zurich",
                    "Princeton",
                    "Princeton",
                    "Princeton",
                    "Princeton",
                    "Princeton",
                    "Princeton",
                    "New York",
                    "Switzerland",
                    "Germany",
                    "Germany",
                    "Germany",
                    "Germany",
                    "Italy",
                    "Italy",
                    "United States",
                    "United States",
                    "United States",
                    "United States",
                    "theory of relativity",
                    "theory of relativity and the equation E",
                    "theory of relativity in ",
                    "theory explains that space and time are actually connected",
                    "theory of relativity",
                    "theory the culmination of his life research",
                    "theory and key aspects of his general theory of relativity",
                    "theory of relativity allegedly came to him in a dream about cows being electrocuted",
                    "paper on the matter",
                    "Nobel Prize in Physics for his explanation of the photoelectric effect",
                    "Nobel Prize in the future",
                    "theory of relativity",
                    "theory of relativity",
                    "theory of relativity",
                    "theory of relativity",
                    "theory of relativity",
                    "theory of relativity",
                    "photoelectric effect",
                    "photoelectric effect",
                    "atomic bomb",
                    "Manhattan Project",
                    "atomic bomb",
                    "born in 1902",
                    "March 14, 1879",
                    "January 6, 1903",
                    "March 14, 1951",
                    "April 18, 1955",
                    "late 1940s",
                    "1880s",
                    "1890s",
                    "1940s",
                    "1879",
                    "1902",
                    "1905",
                    "1905",
                    "1915",
                    "1919",
                    "1905",
                    "1917",
                    "1933",
                    "1921",
                    "1903",
                    "1902",
                    "1902",
                    "1919",
                    "1919",
                    "1936",
                    "1933",
                    "1935",
                    "1939",
                    "1940",
                    "1945",
                    "1947",
                    "1946",
                    "1951",
                    "2017",
                    "1955",
                    "2014",
                    "1999",
                    "2011"
                  ],
                  "textposition": "middle center",
                  "type": "scatter",
                  "x": [
                    -0.8025633516336969,
                    -0.7198426337674942,
                    -0.01664956113585445,
                    -0.2982093020221995,
                    -0.38001835882675344,
                    0.06751836202243397,
                    0.8869767436207181,
                    0.6372917519142481,
                    -0.8809083291686683,
                    -0.9281444724487707,
                    -0.9350120129628164,
                    -0.8271712475114625,
                    0.9487119957108763,
                    0.2130512791573445,
                    -0.6051025538952159,
                    -0.5990117201067655,
                    0.6461083716765531,
                    -0.8539632703840953,
                    -0.643846148547319,
                    0.22831437486950518,
                    0.08473346924575371,
                    -0.1787140474369415,
                    -0.8866723094606418,
                    -0.28170158692274444,
                    0.8503439969635681,
                    -1,
                    0.8657271178573318,
                    -0.021878764738790045,
                    -0.9936929710599078,
                    -0.5832268219786392,
                    0.6866060834384385,
                    0.8354005134329601,
                    0.9555641127552793,
                    -0.5027617611085368,
                    0.953699272642507,
                    0.08932173484517661,
                    -0.22958811225568604,
                    0.8342061664221774,
                    -0.7835804286400977,
                    0.8902211390790389,
                    0.8167113384494883,
                    0.737012804854917,
                    0.48240601427068586,
                    -0.600642750718896,
                    -0.77680953058995,
                    0.41331445350084384,
                    -0.4425485311083572,
                    -0.7261252765735848,
                    -0.37370737684626687,
                    0.8346120646799383,
                    -0.9260912820939758,
                    -0.8483106158084891,
                    0.8940752902536838,
                    0.5697660474239907,
                    0.9703515910721122,
                    0.8450304702137399,
                    -0.9610252680191328,
                    0.6755218921223471,
                    0.41510905030875445,
                    0.4152817364111301,
                    -0.882067798072019,
                    -0.22576038805151116,
                    -0.34927870539268735,
                    0.3060106201033656,
                    -0.5151339107504349,
                    -0.76951083066065,
                    -0.08118402317248989,
                    -0.6944717215135886,
                    0.9606396662100672,
                    -0.08928324140099014,
                    0.5108846817042599,
                    0.896922724370724,
                    -0.4754600918673722,
                    0.5347186070978146,
                    0.5702950552677883,
                    0.32385441403943704,
                    -0.9220781778056942,
                    0.674744575496042,
                    -0.13424370118327422,
                    0.17022042132854345,
                    0.75208469541383,
                    0.18945671352434124,
                    0.811493721802273,
                    0.7091513368466416,
                    -0.7794648635883361,
                    0.3257668483040446,
                    -0.953775469493921
                  ],
                  "y": [
                    0.5841510879152761,
                    -0.6750726881275552,
                    -0.970980457238794,
                    -0.9596851065351159,
                    0.8884330759343344,
                    0.9215467501408782,
                    0.07961305041265272,
                    -0.8151165806217361,
                    0.3103143507089706,
                    -0.12883569601723172,
                    -0.2979037685531699,
                    0.47873854710456065,
                    -0.11215641032455004,
                    -0.9822680113522505,
                    0.7665250416481392,
                    -0.7318651281388364,
                    -0.637420857977211,
                    -0.3091673027858871,
                    0.6806682159208686,
                    -0.8843227223916662,
                    -0.897152515551905,
                    -0.9445725138509187,
                    -0.4715693148324751,
                    0.9536054263404624,
                    0.4222528663777334,
                    0.07398065637936671,
                    0.5119606115276212,
                    0.9443895207957087,
                    -0.18027692831388553,
                    -0.8171418797655982,
                    0.7705967101517347,
                    -0.40118685052823627,
                    -0.29106225958373966,
                    0.7695787712553274,
                    -0.0049299176730808105,
                    -0.9875806312961619,
                    -0.8598756824039684,
                    -0.48923379092329156,
                    0.700868064267903,
                    0.33870475230598523,
                    0.6490374385796268,
                    -0.7063980867434406,
                    0.8301098416705639,
                    -0.6345867048865136,
                    -0.1864488924830119,
                    -0.7717977295974977,
                    -0.8693012289892058,
                    -0.5933194005422701,
                    0.7968977242397152,
                    -0.08304402844310203,
                    0.16715305254655244,
                    -0.42435977343417797,
                    -0.2040720552661623,
                    0.8519414192796663,
                    0.12500976268196656,
                    -0.3092679601336349,
                    0.24958821401168452,
                    0.44843446316900115,
                    -0.9280141032246552,
                    0.917406699012471,
                    0.06421941281720094,
                    0.8790875399232769,
                    -0.8758063871620761,
                    0.914393298385016,
                    0.8776629861370763,
                    0.3945117431479575,
                    0.8578148203760855,
                    0.5811586374868057,
                    0.2899536225817221,
                    -0.9300526016892817,
                    -0.8598746413867749,
                    0.20971583554426523,
                    -0.7887613603570535,
                    0.7089773669645721,
                    -0.7452898386309442,
                    0.8226898945085958,
                    0.4050005097181206,
                    0.67774971522322,
                    0.9568854742369314,
                    0.9161272418261229,
                    0.5679218382340318,
                    0.9737684387186398,
                    -0.5965647418708516,
                    -0.5148062170007822,
                    -0.5228321243897233,
                    -0.906409275807765,
                    -0.028760323382228208
                  ]
                }
              ],
              "layout": {
                "annotations": [
                  {
                    "font": {
                      "color": "#888",
                      "size": 12
                    },
                    "showarrow": false,
                    "text": "Interactive CRM Network Visualization",
                    "x": 0.005,
                    "xanchor": "left",
                    "xref": "paper",
                    "y": -0.002,
                    "yanchor": "bottom",
                    "yref": "paper"
                  }
                ],
                "hovermode": "closest",
                "margin": {
                  "b": 20,
                  "l": 5,
                  "r": 5,
                  "t": 40
                },
                "showlegend": false,
                "template": {
                  "data": {
                    "bar": [
                      {
                        "error_x": {
                          "color": "#2a3f5f"
                        },
                        "error_y": {
                          "color": "#2a3f5f"
                        },
                        "marker": {
                          "line": {
                            "color": "#E5ECF6",
                            "width": 0.5
                          },
                          "pattern": {
                            "fillmode": "overlay",
                            "size": 10,
                            "solidity": 0.2
                          }
                        },
                        "type": "bar"
                      }
                    ],
                    "barpolar": [
                      {
                        "marker": {
                          "line": {
                            "color": "#E5ECF6",
                            "width": 0.5
                          },
                          "pattern": {
                            "fillmode": "overlay",
                            "size": 10,
                            "solidity": 0.2
                          }
                        },
                        "type": "barpolar"
                      }
                    ],
                    "carpet": [
                      {
                        "aaxis": {
                          "endlinecolor": "#2a3f5f",
                          "gridcolor": "white",
                          "linecolor": "white",
                          "minorgridcolor": "white",
                          "startlinecolor": "#2a3f5f"
                        },
                        "baxis": {
                          "endlinecolor": "#2a3f5f",
                          "gridcolor": "white",
                          "linecolor": "white",
                          "minorgridcolor": "white",
                          "startlinecolor": "#2a3f5f"
                        },
                        "type": "carpet"
                      }
                    ],
                    "choropleth": [
                      {
                        "colorbar": {
                          "outlinewidth": 0,
                          "ticks": ""
                        },
                        "type": "choropleth"
                      }
                    ],
                    "contour": [
                      {
                        "colorbar": {
                          "outlinewidth": 0,
                          "ticks": ""
                        },
                        "colorscale": [
                          [
                            0,
                            "#0d0887"
                          ],
                          [
                            0.1111111111111111,
                            "#46039f"
                          ],
                          [
                            0.2222222222222222,
                            "#7201a8"
                          ],
                          [
                            0.3333333333333333,
                            "#9c179e"
                          ],
                          [
                            0.4444444444444444,
                            "#bd3786"
                          ],
                          [
                            0.5555555555555556,
                            "#d8576b"
                          ],
                          [
                            0.6666666666666666,
                            "#ed7953"
                          ],
                          [
                            0.7777777777777778,
                            "#fb9f3a"
                          ],
                          [
                            0.8888888888888888,
                            "#fdca26"
                          ],
                          [
                            1,
                            "#f0f921"
                          ]
                        ],
                        "type": "contour"
                      }
                    ],
                    "contourcarpet": [
                      {
                        "colorbar": {
                          "outlinewidth": 0,
                          "ticks": ""
                        },
                        "type": "contourcarpet"
                      }
                    ],
                    "heatmap": [
                      {
                        "colorbar": {
                          "outlinewidth": 0,
                          "ticks": ""
                        },
                        "colorscale": [
                          [
                            0,
                            "#0d0887"
                          ],
                          [
                            0.1111111111111111,
                            "#46039f"
                          ],
                          [
                            0.2222222222222222,
                            "#7201a8"
                          ],
                          [
                            0.3333333333333333,
                            "#9c179e"
                          ],
                          [
                            0.4444444444444444,
                            "#bd3786"
                          ],
                          [
                            0.5555555555555556,
                            "#d8576b"
                          ],
                          [
                            0.6666666666666666,
                            "#ed7953"
                          ],
                          [
                            0.7777777777777778,
                            "#fb9f3a"
                          ],
                          [
                            0.8888888888888888,
                            "#fdca26"
                          ],
                          [
                            1,
                            "#f0f921"
                          ]
                        ],
                        "type": "heatmap"
                      }
                    ],
                    "histogram": [
                      {
                        "marker": {
                          "pattern": {
                            "fillmode": "overlay",
                            "size": 10,
                            "solidity": 0.2
                          }
                        },
                        "type": "histogram"
                      }
                    ],
                    "histogram2d": [
                      {
                        "colorbar": {
                          "outlinewidth": 0,
                          "ticks": ""
                        },
                        "colorscale": [
                          [
                            0,
                            "#0d0887"
                          ],
                          [
                            0.1111111111111111,
                            "#46039f"
                          ],
                          [
                            0.2222222222222222,
                            "#7201a8"
                          ],
                          [
                            0.3333333333333333,
                            "#9c179e"
                          ],
                          [
                            0.4444444444444444,
                            "#bd3786"
                          ],
                          [
                            0.5555555555555556,
                            "#d8576b"
                          ],
                          [
                            0.6666666666666666,
                            "#ed7953"
                          ],
                          [
                            0.7777777777777778,
                            "#fb9f3a"
                          ],
                          [
                            0.8888888888888888,
                            "#fdca26"
                          ],
                          [
                            1,
                            "#f0f921"
                          ]
                        ],
                        "type": "histogram2d"
                      }
                    ],
                    "histogram2dcontour": [
                      {
                        "colorbar": {
                          "outlinewidth": 0,
                          "ticks": ""
                        },
                        "colorscale": [
                          [
                            0,
                            "#0d0887"
                          ],
                          [
                            0.1111111111111111,
                            "#46039f"
                          ],
                          [
                            0.2222222222222222,
                            "#7201a8"
                          ],
                          [
                            0.3333333333333333,
                            "#9c179e"
                          ],
                          [
                            0.4444444444444444,
                            "#bd3786"
                          ],
                          [
                            0.5555555555555556,
                            "#d8576b"
                          ],
                          [
                            0.6666666666666666,
                            "#ed7953"
                          ],
                          [
                            0.7777777777777778,
                            "#fb9f3a"
                          ],
                          [
                            0.8888888888888888,
                            "#fdca26"
                          ],
                          [
                            1,
                            "#f0f921"
                          ]
                        ],
                        "type": "histogram2dcontour"
                      }
                    ],
                    "mesh3d": [
                      {
                        "colorbar": {
                          "outlinewidth": 0,
                          "ticks": ""
                        },
                        "type": "mesh3d"
                      }
                    ],
                    "parcoords": [
                      {
                        "line": {
                          "colorbar": {
                            "outlinewidth": 0,
                            "ticks": ""
                          }
                        },
                        "type": "parcoords"
                      }
                    ],
                    "pie": [
                      {
                        "automargin": true,
                        "type": "pie"
                      }
                    ],
                    "scatter": [
                      {
                        "fillpattern": {
                          "fillmode": "overlay",
                          "size": 10,
                          "solidity": 0.2
                        },
                        "type": "scatter"
                      }
                    ],
                    "scatter3d": [
                      {
                        "line": {
                          "colorbar": {
                            "outlinewidth": 0,
                            "ticks": ""
                          }
                        },
                        "marker": {
                          "colorbar": {
                            "outlinewidth": 0,
                            "ticks": ""
                          }
                        },
                        "type": "scatter3d"
                      }
                    ],
                    "scattercarpet": [
                      {
                        "marker": {
                          "colorbar": {
                            "outlinewidth": 0,
                            "ticks": ""
                          }
                        },
                        "type": "scattercarpet"
                      }
                    ],
                    "scattergeo": [
                      {
                        "marker": {
                          "colorbar": {
                            "outlinewidth": 0,
                            "ticks": ""
                          }
                        },
                        "type": "scattergeo"
                      }
                    ],
                    "scattergl": [
                      {
                        "marker": {
                          "colorbar": {
                            "outlinewidth": 0,
                            "ticks": ""
                          }
                        },
                        "type": "scattergl"
                      }
                    ],
                    "scattermap": [
                      {
                        "marker": {
                          "colorbar": {
                            "outlinewidth": 0,
                            "ticks": ""
                          }
                        },
                        "type": "scattermap"
                      }
                    ],
                    "scattermapbox": [
                      {
                        "marker": {
                          "colorbar": {
                            "outlinewidth": 0,
                            "ticks": ""
                          }
                        },
                        "type": "scattermapbox"
                      }
                    ],
                    "scatterpolar": [
                      {
                        "marker": {
                          "colorbar": {
                            "outlinewidth": 0,
                            "ticks": ""
                          }
                        },
                        "type": "scatterpolar"
                      }
                    ],
                    "scatterpolargl": [
                      {
                        "marker": {
                          "colorbar": {
                            "outlinewidth": 0,
                            "ticks": ""
                          }
                        },
                        "type": "scatterpolargl"
                      }
                    ],
                    "scatterternary": [
                      {
                        "marker": {
                          "colorbar": {
                            "outlinewidth": 0,
                            "ticks": ""
                          }
                        },
                        "type": "scatterternary"
                      }
                    ],
                    "surface": [
                      {
                        "colorbar": {
                          "outlinewidth": 0,
                          "ticks": ""
                        },
                        "colorscale": [
                          [
                            0,
                            "#0d0887"
                          ],
                          [
                            0.1111111111111111,
                            "#46039f"
                          ],
                          [
                            0.2222222222222222,
                            "#7201a8"
                          ],
                          [
                            0.3333333333333333,
                            "#9c179e"
                          ],
                          [
                            0.4444444444444444,
                            "#bd3786"
                          ],
                          [
                            0.5555555555555556,
                            "#d8576b"
                          ],
                          [
                            0.6666666666666666,
                            "#ed7953"
                          ],
                          [
                            0.7777777777777778,
                            "#fb9f3a"
                          ],
                          [
                            0.8888888888888888,
                            "#fdca26"
                          ],
                          [
                            1,
                            "#f0f921"
                          ]
                        ],
                        "type": "surface"
                      }
                    ],
                    "table": [
                      {
                        "cells": {
                          "fill": {
                            "color": "#EBF0F8"
                          },
                          "line": {
                            "color": "white"
                          }
                        },
                        "header": {
                          "fill": {
                            "color": "#C8D4E3"
                          },
                          "line": {
                            "color": "white"
                          }
                        },
                        "type": "table"
                      }
                    ]
                  },
                  "layout": {
                    "annotationdefaults": {
                      "arrowcolor": "#2a3f5f",
                      "arrowhead": 0,
                      "arrowwidth": 1
                    },
                    "autotypenumbers": "strict",
                    "coloraxis": {
                      "colorbar": {
                        "outlinewidth": 0,
                        "ticks": ""
                      }
                    },
                    "colorscale": {
                      "diverging": [
                        [
                          0,
                          "#8e0152"
                        ],
                        [
                          0.1,
                          "#c51b7d"
                        ],
                        [
                          0.2,
                          "#de77ae"
                        ],
                        [
                          0.3,
                          "#f1b6da"
                        ],
                        [
                          0.4,
                          "#fde0ef"
                        ],
                        [
                          0.5,
                          "#f7f7f7"
                        ],
                        [
                          0.6,
                          "#e6f5d0"
                        ],
                        [
                          0.7,
                          "#b8e186"
                        ],
                        [
                          0.8,
                          "#7fbc41"
                        ],
                        [
                          0.9,
                          "#4d9221"
                        ],
                        [
                          1,
                          "#276419"
                        ]
                      ],
                      "sequential": [
                        [
                          0,
                          "#0d0887"
                        ],
                        [
                          0.1111111111111111,
                          "#46039f"
                        ],
                        [
                          0.2222222222222222,
                          "#7201a8"
                        ],
                        [
                          0.3333333333333333,
                          "#9c179e"
                        ],
                        [
                          0.4444444444444444,
                          "#bd3786"
                        ],
                        [
                          0.5555555555555556,
                          "#d8576b"
                        ],
                        [
                          0.6666666666666666,
                          "#ed7953"
                        ],
                        [
                          0.7777777777777778,
                          "#fb9f3a"
                        ],
                        [
                          0.8888888888888888,
                          "#fdca26"
                        ],
                        [
                          1,
                          "#f0f921"
                        ]
                      ],
                      "sequentialminus": [
                        [
                          0,
                          "#0d0887"
                        ],
                        [
                          0.1111111111111111,
                          "#46039f"
                        ],
                        [
                          0.2222222222222222,
                          "#7201a8"
                        ],
                        [
                          0.3333333333333333,
                          "#9c179e"
                        ],
                        [
                          0.4444444444444444,
                          "#bd3786"
                        ],
                        [
                          0.5555555555555556,
                          "#d8576b"
                        ],
                        [
                          0.6666666666666666,
                          "#ed7953"
                        ],
                        [
                          0.7777777777777778,
                          "#fb9f3a"
                        ],
                        [
                          0.8888888888888888,
                          "#fdca26"
                        ],
                        [
                          1,
                          "#f0f921"
                        ]
                      ]
                    },
                    "colorway": [
                      "#636efa",
                      "#EF553B",
                      "#00cc96",
                      "#ab63fa",
                      "#FFA15A",
                      "#19d3f3",
                      "#FF6692",
                      "#B6E880",
                      "#FF97FF",
                      "#FECB52"
                    ],
                    "font": {
                      "color": "#2a3f5f"
                    },
                    "geo": {
                      "bgcolor": "white",
                      "lakecolor": "white",
                      "landcolor": "#E5ECF6",
                      "showlakes": true,
                      "showland": true,
                      "subunitcolor": "white"
                    },
                    "hoverlabel": {
                      "align": "left"
                    },
                    "hovermode": "closest",
                    "mapbox": {
                      "style": "light"
                    },
                    "paper_bgcolor": "white",
                    "plot_bgcolor": "#E5ECF6",
                    "polar": {
                      "angularaxis": {
                        "gridcolor": "white",
                        "linecolor": "white",
                        "ticks": ""
                      },
                      "bgcolor": "#E5ECF6",
                      "radialaxis": {
                        "gridcolor": "white",
                        "linecolor": "white",
                        "ticks": ""
                      }
                    },
                    "scene": {
                      "xaxis": {
                        "backgroundcolor": "#E5ECF6",
                        "gridcolor": "white",
                        "gridwidth": 2,
                        "linecolor": "white",
                        "showbackground": true,
                        "ticks": "",
                        "zerolinecolor": "white"
                      },
                      "yaxis": {
                        "backgroundcolor": "#E5ECF6",
                        "gridcolor": "white",
                        "gridwidth": 2,
                        "linecolor": "white",
                        "showbackground": true,
                        "ticks": "",
                        "zerolinecolor": "white"
                      },
                      "zaxis": {
                        "backgroundcolor": "#E5ECF6",
                        "gridcolor": "white",
                        "gridwidth": 2,
                        "linecolor": "white",
                        "showbackground": true,
                        "ticks": "",
                        "zerolinecolor": "white"
                      }
                    },
                    "shapedefaults": {
                      "line": {
                        "color": "#2a3f5f"
                      }
                    },
                    "ternary": {
                      "aaxis": {
                        "gridcolor": "white",
                        "linecolor": "white",
                        "ticks": ""
                      },
                      "baxis": {
                        "gridcolor": "white",
                        "linecolor": "white",
                        "ticks": ""
                      },
                      "bgcolor": "#E5ECF6",
                      "caxis": {
                        "gridcolor": "white",
                        "linecolor": "white",
                        "ticks": ""
                      }
                    },
                    "title": {
                      "x": 0.05
                    },
                    "xaxis": {
                      "automargin": true,
                      "gridcolor": "white",
                      "linecolor": "white",
                      "ticks": "",
                      "title": {
                        "standoff": 15
                      },
                      "zerolinecolor": "white",
                      "zerolinewidth": 2
                    },
                    "yaxis": {
                      "automargin": true,
                      "gridcolor": "white",
                      "linecolor": "white",
                      "ticks": "",
                      "title": {
                        "standoff": 15
                      },
                      "zerolinecolor": "white",
                      "zerolinewidth": 2
                    }
                  }
                },
                "title": {
                  "font": {
                    "size": 16
                  },
                  "text": "Centrality Analysis - Einstein's Network"
                },
                "xaxis": {
                  "showgrid": false,
                  "showticklabels": false,
                  "zeroline": false
                },
                "yaxis": {
                  "showgrid": false,
                  "showticklabels": false,
                  "zeroline": false
                }
              }
            }
          },
          "metadata": {},
          "output_type": "display_data"
        },
        {
          "name": "stdout",
          "output_type": "stream",
          "text": [
            "📊 Creating main interactive network...\n",
            "✅ Generated main interactive plot: notebook_output/plots/interactive_network.html\n"
          ]
        },
        {
          "data": {
            "application/vnd.plotly.v1+json": {
              "config": {
                "plotlyServerURL": "https://plot.ly"
              },
              "data": [
                {
                  "hoverinfo": "none",
                  "line": {
                    "color": "#888",
                    "width": 2
                  },
                  "mode": "lines",
                  "type": "scatter",
                  "x": [],
                  "y": []
                },
                {
                  "hoverinfo": "text",
                  "hovertext": [
                    "ID: 797b5fe7-2a10-4efd-a4a7-91239a0aca22<br>Label: Albert Einstein<br>Class: E21",
                    "ID: 720a3369-c06e-45c2-b4bf-1322c83ed633<br>Label: in Philadelphia<br>Class: E21",
                    "ID: d2dc38f9-c68e-4fe9-aa02-20112aa57122<br>Label: said she<br>Class: E21",
                    "ID: 64502329-0a36-4b7c-af81-6b30da10ed6a<br>Label: Ulm<br>Class: E53",
                    "ID: 9d34e357-6730-46ff-a459-33d005ee1e0f<br>Label: Munich<br>Class: E53",
                    "ID: a1ae5da1-d471-491d-a02d-cc7c2767f014<br>Label: Munich<br>Class: E53",
                    "ID: d81a0267-136e-4984-8218-249ca0893d27<br>Label: Munich<br>Class: E53",
                    "ID: 7cf6ed68-bbf3-4d28-9eae-77b2f794fb6b<br>Label: Zurich<br>Class: E53",
                    "ID: c7be0797-afbe-47e5-91d5-d8960bcd514c<br>Label: Zurich<br>Class: E53",
                    "ID: 29355bc8-9837-4f4b-a734-cbbbc6ea4e12<br>Label: Princeton<br>Class: E53",
                    "ID: 46a44a65-ca92-4eff-a8dd-9c09476a1fa1<br>Label: Princeton<br>Class: E53",
                    "ID: 9100a1fb-684f-43a4-aac2-de752780f97a<br>Label: Princeton<br>Class: E53",
                    "ID: 951ec7d6-30b2-4aea-9894-4d633ed5d850<br>Label: Princeton<br>Class: E53",
                    "ID: 88763c20-0745-46b9-944e-98c8cc6d42d7<br>Label: Princeton<br>Class: E53",
                    "ID: 8f08b484-a836-476f-a872-251580160563<br>Label: Princeton<br>Class: E53",
                    "ID: b1ae096d-b94e-492c-a017-2f9ef417cc47<br>Label: New York<br>Class: E53",
                    "ID: 44468a5b-fc66-4145-a56f-18f3c5942468<br>Label: Switzerland<br>Class: E53",
                    "ID: 09a59d37-d890-4d09-95de-225d49395b42<br>Label: Germany<br>Class: E53",
                    "ID: 8be1a9c1-bf6f-4c2c-8f81-6ca705245be9<br>Label: Germany<br>Class: E53",
                    "ID: febf9ba4-6639-41af-b26f-b674a72cdbea<br>Label: Germany<br>Class: E53",
                    "ID: cd149c79-e905-42d6-b532-67c9e901b0d3<br>Label: Germany<br>Class: E53",
                    "ID: 9047b03f-0f28-41c2-aa49-807e8bf04b63<br>Label: Italy<br>Class: E53",
                    "ID: ee0d412d-ffff-4205-b321-a39e2946883e<br>Label: Italy<br>Class: E53",
                    "ID: 886f940c-563e-454a-8f63-12534ea7e0c8<br>Label: United States<br>Class: E53",
                    "ID: 30e278af-1f7b-4745-8acf-84221c1f139a<br>Label: United States<br>Class: E53",
                    "ID: c2044bbb-a8f0-436a-9afe-c83653def569<br>Label: United States<br>Class: E53",
                    "ID: 5c80139f-11cc-4672-ba38-3a5dfaacbf3f<br>Label: United States<br>Class: E53",
                    "ID: 9b0b536b-55c6-48cf-8746-ad2b6d47a2db<br>Label: theory of relativity<br>Class: E22",
                    "ID: 299e9c9c-06f1-4739-a885-4df2ca638902<br>Label: theory of relativity and the equation E<br>Class: E22",
                    "ID: 1d3ce3a5-17d7-4eb5-8299-2ecb540de1ca<br>Label: theory of relativity in <br>Class: E22",
                    "ID: 6246f06f-ea55-493c-93ec-e1cd28e96cd6<br>Label: theory explains that space and time are actually connected<br>Class: E22",
                    "ID: ab4f517d-ccc3-4ee4-9535-8f5efc7951c5<br>Label: theory of relativity<br>Class: E22",
                    "ID: 0dc9ba9d-2dc1-4ef4-9596-4feb19656422<br>Label: theory the culmination of his life research<br>Class: E22",
                    "ID: 3e8db6eb-7dae-402f-b7b2-54c4e51a431d<br>Label: theory and key aspects of his general theory of relativity<br>Class: E22",
                    "ID: c8ce630c-78a1-4a0a-b822-6e421b932c02<br>Label: theory of relativity allegedly came to him in a dream about cows being electrocuted<br>Class: E22",
                    "ID: 88391b98-297c-4664-9b96-34d2c291feb3<br>Label: paper on the matter<br>Class: E22",
                    "ID: 6d001b1f-779f-433b-b8e1-935c8dae37ed<br>Label: Nobel Prize in Physics for his explanation of the photoelectric effect<br>Class: E22",
                    "ID: cfdfb65d-7808-42bd-8277-8666c2e30fc2<br>Label: Nobel Prize in the future<br>Class: E22",
                    "ID: e10a769a-5ea1-47db-b1cc-5e4d66885cd8<br>Label: theory of relativity<br>Class: E22",
                    "ID: d9e3947f-e7a8-4192-a3d6-812457c71235<br>Label: theory of relativity<br>Class: E22",
                    "ID: 13d2e636-7ede-4297-a1cf-82943ac1618e<br>Label: theory of relativity<br>Class: E22",
                    "ID: 8893c8a0-c98b-4d3f-a4f5-ddd9eac844f9<br>Label: theory of relativity<br>Class: E22",
                    "ID: f5c4879c-329a-419c-a6d7-6c0222b8c600<br>Label: theory of relativity<br>Class: E22",
                    "ID: 0e435f4d-fe91-45ec-b9c6-fb7aeec86167<br>Label: theory of relativity<br>Class: E22",
                    "ID: 56d3fb52-1186-4e2f-9544-7bf77b28bb85<br>Label: photoelectric effect<br>Class: E22",
                    "ID: 2fc43e81-788e-455f-85e6-abf16aa6a79c<br>Label: photoelectric effect<br>Class: E22",
                    "ID: ca1e3d86-03ff-46d0-9995-7e4aa0466c09<br>Label: atomic bomb<br>Class: E22",
                    "ID: 785d0d94-47fc-4628-998d-69a0aeafbc8f<br>Label: Manhattan Project<br>Class: E22",
                    "ID: 38f4be2c-5661-4711-8e8a-aa9ff9d4c060<br>Label: atomic bomb<br>Class: E22",
                    "ID: 4a43f93d-9ab5-49b5-ae46-d47f9754435d<br>Label: born in 1902<br>Class: E52",
                    "ID: 5f711ede-8aeb-4668-86d7-5fa9ab96d932<br>Label: March 14, 1879<br>Class: E52",
                    "ID: 0aba9f6d-ebef-4de5-b76c-7bf827d1db9e<br>Label: January 6, 1903<br>Class: E52",
                    "ID: 0ad2e915-54d4-4084-ba7c-c73c898144c4<br>Label: March 14, 1951<br>Class: E52",
                    "ID: 8c51853c-d0e0-461c-8153-8252743806cd<br>Label: April 18, 1955<br>Class: E52",
                    "ID: c7aebf6c-2665-499c-90ab-9cbdccb2aafc<br>Label: late 1940s<br>Class: E52",
                    "ID: 9b558b4a-9e16-4fd0-b10f-308b2402d513<br>Label: 1880s<br>Class: E52",
                    "ID: 0ebbe327-2160-45aa-b199-e0d0ea511df7<br>Label: 1890s<br>Class: E52",
                    "ID: a4a04263-f2eb-4919-90ec-a69f56aacb33<br>Label: 1940s<br>Class: E52",
                    "ID: 21173323-8982-47d0-97e0-a9990c836783<br>Label: 1879<br>Class: E52",
                    "ID: de03cbc9-9895-4064-96ef-632fd1a8f2f9<br>Label: 1902<br>Class: E52",
                    "ID: df6f8b42-795f-4e9a-bdc9-b834934134c1<br>Label: 1905<br>Class: E52",
                    "ID: 5c5bb23a-a731-42a0-8158-3214976826ae<br>Label: 1905<br>Class: E52",
                    "ID: 8d083651-18f8-4475-b6e0-3fcbc902da0f<br>Label: 1915<br>Class: E52",
                    "ID: d47effbf-d67b-466d-a90d-87f8b5101de5<br>Label: 1919<br>Class: E52",
                    "ID: 688f043e-767b-4870-8311-9bb74e41e905<br>Label: 1905<br>Class: E52",
                    "ID: aa09bafa-9d6b-4ce6-8188-80eb51429ab9<br>Label: 1917<br>Class: E52",
                    "ID: 90155c0c-40e3-4a73-b7de-a6e295b21e5a<br>Label: 1933<br>Class: E52",
                    "ID: 4a3c0769-9c0a-496d-b698-8047e18db611<br>Label: 1921<br>Class: E52",
                    "ID: 4c3b5cff-3b86-4b9a-867d-5bf4a460749e<br>Label: 1903<br>Class: E52",
                    "ID: 565979d4-56bf-41a7-b375-d559e879eeb4<br>Label: 1902<br>Class: E52",
                    "ID: d1db46c9-ad68-41da-9412-f96d8ecb7f8f<br>Label: 1902<br>Class: E52",
                    "ID: 3fd4e4ae-cf3f-4761-95b0-c90ef3d9b6af<br>Label: 1919<br>Class: E52",
                    "ID: 0c97c5ca-789e-4bdf-9103-7ca65b4e750f<br>Label: 1919<br>Class: E52",
                    "ID: a99e21d2-c8a6-4ed5-9ba2-98d426fe6d7c<br>Label: 1936<br>Class: E52",
                    "ID: 75f7b3e6-461a-4811-8ab1-5cd6428ba432<br>Label: 1933<br>Class: E52",
                    "ID: 7b084e92-469a-41de-a7d6-89c862ffc69c<br>Label: 1935<br>Class: E52",
                    "ID: 61b9b760-a6a5-4222-9414-2faa010b30a1<br>Label: 1939<br>Class: E52",
                    "ID: 306a3b00-796b-40c1-a16a-daa0e1f7af09<br>Label: 1940<br>Class: E52",
                    "ID: 3996349a-8e82-44ad-ad21-41ca50b37104<br>Label: 1945<br>Class: E52",
                    "ID: 71e8f952-1ed1-4de2-8e28-dffb7158d490<br>Label: 1947<br>Class: E52",
                    "ID: c6c0ce05-8bf5-460f-b1cb-8b6be7d459a5<br>Label: 1946<br>Class: E52",
                    "ID: c53b8952-082a-404a-899e-62398c6c30e1<br>Label: 1951<br>Class: E52",
                    "ID: 5e90837c-f64b-45ec-9266-66d8eb948149<br>Label: 2017<br>Class: E52",
                    "ID: ef367e09-09f7-4d08-a078-c6a1ec9f294d<br>Label: 1955<br>Class: E52",
                    "ID: 8b64fed8-c857-4dca-82aa-03b04ed7db72<br>Label: 2014<br>Class: E52",
                    "ID: ba435b36-eb13-4b6b-b4e7-877291f5efbd<br>Label: 1999<br>Class: E52",
                    "ID: 29ad4c18-9ebf-4c61-b432-1903acc66a05<br>Label: 2011<br>Class: E52"
                  ],
                  "marker": {
                    "color": [
                      "red",
                      "red",
                      "red",
                      "green",
                      "green",
                      "green",
                      "green",
                      "green",
                      "green",
                      "green",
                      "green",
                      "green",
                      "green",
                      "green",
                      "green",
                      "green",
                      "green",
                      "green",
                      "green",
                      "green",
                      "green",
                      "green",
                      "green",
                      "green",
                      "green",
                      "green",
                      "green",
                      "orange",
                      "orange",
                      "orange",
                      "orange",
                      "orange",
                      "orange",
                      "orange",
                      "orange",
                      "orange",
                      "orange",
                      "orange",
                      "orange",
                      "orange",
                      "orange",
                      "orange",
                      "orange",
                      "orange",
                      "orange",
                      "orange",
                      "orange",
                      "orange",
                      "orange",
                      "purple",
                      "purple",
                      "purple",
                      "purple",
                      "purple",
                      "purple",
                      "purple",
                      "purple",
                      "purple",
                      "purple",
                      "purple",
                      "purple",
                      "purple",
                      "purple",
                      "purple",
                      "purple",
                      "purple",
                      "purple",
                      "purple",
                      "purple",
                      "purple",
                      "purple",
                      "purple",
                      "purple",
                      "purple",
                      "purple",
                      "purple",
                      "purple",
                      "purple",
                      "purple",
                      "purple",
                      "purple",
                      "purple",
                      "purple",
                      "purple",
                      "purple",
                      "purple",
                      "purple"
                    ],
                    "line": {
                      "color": "white",
                      "width": 2
                    },
                    "size": [
                      10,
                      10,
                      10,
                      10,
                      10,
                      10,
                      10,
                      10,
                      10,
                      10,
                      10,
                      10,
                      10,
                      10,
                      10,
                      10,
                      10,
                      10,
                      10,
                      10,
                      10,
                      10,
                      10,
                      10,
                      10,
                      10,
                      10,
                      10,
                      10,
                      10,
                      10,
                      10,
                      10,
                      10,
                      10,
                      10,
                      10,
                      10,
                      10,
                      10,
                      10,
                      10,
                      10,
                      10,
                      10,
                      10,
                      10,
                      10,
                      10,
                      10,
                      10,
                      10,
                      10,
                      10,
                      10,
                      10,
                      10,
                      10,
                      10,
                      10,
                      10,
                      10,
                      10,
                      10,
                      10,
                      10,
                      10,
                      10,
                      10,
                      10,
                      10,
                      10,
                      10,
                      10,
                      10,
                      10,
                      10,
                      10,
                      10,
                      10,
                      10,
                      10,
                      10,
                      10,
                      10,
                      10,
                      10
                    ]
                  },
                  "mode": "markers+text",
                  "text": [
                    "Albert Einstein",
                    "in Philadelphia",
                    "said she",
                    "Ulm",
                    "Munich",
                    "Munich",
                    "Munich",
                    "Zurich",
                    "Zurich",
                    "Princeton",
                    "Princeton",
                    "Princeton",
                    "Princeton",
                    "Princeton",
                    "Princeton",
                    "New York",
                    "Switzerland",
                    "Germany",
                    "Germany",
                    "Germany",
                    "Germany",
                    "Italy",
                    "Italy",
                    "United States",
                    "United States",
                    "United States",
                    "United States",
                    "theory of relativity",
                    "theory of relativity and the equation E",
                    "theory of relativity in ",
                    "theory explains that space and time are actually connected",
                    "theory of relativity",
                    "theory the culmination of his life research",
                    "theory and key aspects of his general theory of relativity",
                    "theory of relativity allegedly came to him in a dream about cows being electrocuted",
                    "paper on the matter",
                    "Nobel Prize in Physics for his explanation of the photoelectric effect",
                    "Nobel Prize in the future",
                    "theory of relativity",
                    "theory of relativity",
                    "theory of relativity",
                    "theory of relativity",
                    "theory of relativity",
                    "theory of relativity",
                    "photoelectric effect",
                    "photoelectric effect",
                    "atomic bomb",
                    "Manhattan Project",
                    "atomic bomb",
                    "born in 1902",
                    "March 14, 1879",
                    "January 6, 1903",
                    "March 14, 1951",
                    "April 18, 1955",
                    "late 1940s",
                    "1880s",
                    "1890s",
                    "1940s",
                    "1879",
                    "1902",
                    "1905",
                    "1905",
                    "1915",
                    "1919",
                    "1905",
                    "1917",
                    "1933",
                    "1921",
                    "1903",
                    "1902",
                    "1902",
                    "1919",
                    "1919",
                    "1936",
                    "1933",
                    "1935",
                    "1939",
                    "1940",
                    "1945",
                    "1947",
                    "1946",
                    "1951",
                    "2017",
                    "1955",
                    "2014",
                    "1999",
                    "2011"
                  ],
                  "textposition": "middle center",
                  "type": "scatter",
                  "x": [
                    -0.805051686816914,
                    -0.4818871321031025,
                    -0.8898275666012725,
                    0.798787912741094,
                    -0.26667980981202993,
                    0.9971570794689865,
                    0.536144685127035,
                    0.9184247881891604,
                    0.6253810682427506,
                    -0.3504788463810767,
                    -0.7663275862147557,
                    0.1945019168600223,
                    -0.07337691502409201,
                    0.7363407267207628,
                    -0.9997830094036084,
                    0.951746681773278,
                    0.39263638112440746,
                    -0.9635759113208823,
                    -0.6820611371496151,
                    0.9067994458420742,
                    0.7455530304567506,
                    -0.11175706143621096,
                    0.8351153428969105,
                    0.9526180386294955,
                    -0.20791703587341734,
                    -0.3702713230047004,
                    0.45257125882135324,
                    0.08564157889960718,
                    0.7204757787893826,
                    0.9507091846830545,
                    0.9207954934472635,
                    -0.8165563244460649,
                    0.5110825590913798,
                    0.860512130593116,
                    0.28618551895164074,
                    0.711333350346262,
                    0.7086393020537667,
                    -0.8361390811247009,
                    -0.83024398980334,
                    -0.38684137703184296,
                    0.9801735312459207,
                    0.9215094557421853,
                    0.7926544563173212,
                    -0.8082511973606917,
                    0.4819624248475422,
                    -0.19053448315456506,
                    -0.10988293262215115,
                    -0.029413948505330446,
                    0.604333903480178,
                    0.8864896533452655,
                    -0.9507240269442372,
                    0.1635425875578268,
                    0.38588050276152996,
                    -0.6611002903412655,
                    0.1636500187986179,
                    0.24017352466161374,
                    0.4179179414984607,
                    -0.9735467859942818,
                    -0.8943797816328651,
                    -0.37441219589335517,
                    -0.5408902330324195,
                    -0.9575598397349628,
                    -0.6526175415901255,
                    -0.28173053860756525,
                    -0.9783238444082358,
                    0.6695259266523046,
                    0.8602857581065284,
                    -0.82725757946583,
                    -0.9403988692135786,
                    -0.5644014409304214,
                    -0.5598815209939948,
                    -0.005233846305211083,
                    -0.9167414877512716,
                    -0.9315378642971561,
                    0.08540193298155131,
                    0.31959509740282543,
                    -0.5573616646872909,
                    -0.9579925202542999,
                    0.9928951135837465,
                    -0.7361805538199812,
                    0.9269333280013106,
                    0.5401728289164007,
                    0.8140546130954783,
                    -0.6116936272446806,
                    0.02589010829346886,
                    -0.7592444468257927,
                    -0.4621271058804422
                  ],
                  "y": [
                    0.5935149779194224,
                    0.9202503492100411,
                    -0.5124623806312398,
                    0.3272182401914974,
                    -0.9204203050016754,
                    -0.04040243057956991,
                    -0.8453708495435661,
                    -0.4167765301551134,
                    -0.811649560031663,
                    -0.8615578851161524,
                    -0.6941162351271621,
                    0.9344918120713748,
                    0.92355978872787,
                    -0.7214698717202688,
                    -0.08634387465201449,
                    0.040794109434609344,
                    -0.9408196223959157,
                    -0.007557239179848985,
                    0.681425338367844,
                    0.18208915178965143,
                    -0.3903754905351602,
                    0.9982521869716723,
                    -0.6464656960683958,
                    0.26653525222431274,
                    0.9364910448917753,
                    0.8290338096243136,
                    -0.8746469927737578,
                    -0.9442310222408064,
                    0.5702478590473898,
                    0.3811083636500466,
                    -0.3274380286231509,
                    -0.5546462841989545,
                    -0.6959911330268026,
                    0.41961690597244705,
                    0.9396123153980874,
                    0.6888159851449515,
                    0.8039515144588854,
                    0.2187370608113035,
                    0.3756311137376119,
                    -0.9376459523982609,
                    0.1308231075774864,
                    -0.23579866806566455,
                    -0.5664290778783072,
                    0.5112606560828823,
                    0.7495897715029287,
                    -0.9543217942947163,
                    -0.9465542676275214,
                    -0.889909483735381,
                    0.74854498680642,
                    -0.510738815306919,
                    0.34863587421504166,
                    0.8401536792372818,
                    0.9317830228390886,
                    -0.7461695043009163,
                    -0.9302108804386016,
                    -0.9304889021119509,
                    0.8562802414559777,
                    0.1401219837844266,
                    0.4601358916094838,
                    0.9142920656874847,
                    0.8335076981590582,
                    -0.3202866127754888,
                    0.7993099363742971,
                    0.9808554329432971,
                    0.24067661700442392,
                    -0.7048150131643857,
                    0.5188818606634858,
                    -0.34125034832534523,
                    -0.14656302749819505,
                    -0.8427124528842057,
                    0.7215117830854418,
                    -0.9658119379694756,
                    -0.41556677600877207,
                    0.07072687465928322,
                    0.940624668695845,
                    -0.9157974709504512,
                    -0.7629342535144782,
                    -0.2300521251430008,
                    -0.1902083315822312,
                    -0.6184150663555663,
                    -0.1008415408451574,
                    0.8577642341351674,
                    0.6204786535090105,
                    -0.5790194676038122,
                    1,
                    0.6838002221768058,
                    -0.8558532394697065
                  ]
                }
              ],
              "layout": {
                "annotations": [
                  {
                    "font": {
                      "color": "#888",
                      "size": 12
                    },
                    "showarrow": false,
                    "text": "Interactive CRM Network Visualization",
                    "x": 0.005,
                    "xanchor": "left",
                    "xref": "paper",
                    "y": -0.002,
                    "yanchor": "bottom",
                    "yref": "paper"
                  }
                ],
                "hovermode": "closest",
                "margin": {
                  "b": 20,
                  "l": 5,
                  "r": 5,
                  "t": 40
                },
                "showlegend": false,
                "template": {
                  "data": {
                    "bar": [
                      {
                        "error_x": {
                          "color": "#2a3f5f"
                        },
                        "error_y": {
                          "color": "#2a3f5f"
                        },
                        "marker": {
                          "line": {
                            "color": "#E5ECF6",
                            "width": 0.5
                          },
                          "pattern": {
                            "fillmode": "overlay",
                            "size": 10,
                            "solidity": 0.2
                          }
                        },
                        "type": "bar"
                      }
                    ],
                    "barpolar": [
                      {
                        "marker": {
                          "line": {
                            "color": "#E5ECF6",
                            "width": 0.5
                          },
                          "pattern": {
                            "fillmode": "overlay",
                            "size": 10,
                            "solidity": 0.2
                          }
                        },
                        "type": "barpolar"
                      }
                    ],
                    "carpet": [
                      {
                        "aaxis": {
                          "endlinecolor": "#2a3f5f",
                          "gridcolor": "white",
                          "linecolor": "white",
                          "minorgridcolor": "white",
                          "startlinecolor": "#2a3f5f"
                        },
                        "baxis": {
                          "endlinecolor": "#2a3f5f",
                          "gridcolor": "white",
                          "linecolor": "white",
                          "minorgridcolor": "white",
                          "startlinecolor": "#2a3f5f"
                        },
                        "type": "carpet"
                      }
                    ],
                    "choropleth": [
                      {
                        "colorbar": {
                          "outlinewidth": 0,
                          "ticks": ""
                        },
                        "type": "choropleth"
                      }
                    ],
                    "contour": [
                      {
                        "colorbar": {
                          "outlinewidth": 0,
                          "ticks": ""
                        },
                        "colorscale": [
                          [
                            0,
                            "#0d0887"
                          ],
                          [
                            0.1111111111111111,
                            "#46039f"
                          ],
                          [
                            0.2222222222222222,
                            "#7201a8"
                          ],
                          [
                            0.3333333333333333,
                            "#9c179e"
                          ],
                          [
                            0.4444444444444444,
                            "#bd3786"
                          ],
                          [
                            0.5555555555555556,
                            "#d8576b"
                          ],
                          [
                            0.6666666666666666,
                            "#ed7953"
                          ],
                          [
                            0.7777777777777778,
                            "#fb9f3a"
                          ],
                          [
                            0.8888888888888888,
                            "#fdca26"
                          ],
                          [
                            1,
                            "#f0f921"
                          ]
                        ],
                        "type": "contour"
                      }
                    ],
                    "contourcarpet": [
                      {
                        "colorbar": {
                          "outlinewidth": 0,
                          "ticks": ""
                        },
                        "type": "contourcarpet"
                      }
                    ],
                    "heatmap": [
                      {
                        "colorbar": {
                          "outlinewidth": 0,
                          "ticks": ""
                        },
                        "colorscale": [
                          [
                            0,
                            "#0d0887"
                          ],
                          [
                            0.1111111111111111,
                            "#46039f"
                          ],
                          [
                            0.2222222222222222,
                            "#7201a8"
                          ],
                          [
                            0.3333333333333333,
                            "#9c179e"
                          ],
                          [
                            0.4444444444444444,
                            "#bd3786"
                          ],
                          [
                            0.5555555555555556,
                            "#d8576b"
                          ],
                          [
                            0.6666666666666666,
                            "#ed7953"
                          ],
                          [
                            0.7777777777777778,
                            "#fb9f3a"
                          ],
                          [
                            0.8888888888888888,
                            "#fdca26"
                          ],
                          [
                            1,
                            "#f0f921"
                          ]
                        ],
                        "type": "heatmap"
                      }
                    ],
                    "histogram": [
                      {
                        "marker": {
                          "pattern": {
                            "fillmode": "overlay",
                            "size": 10,
                            "solidity": 0.2
                          }
                        },
                        "type": "histogram"
                      }
                    ],
                    "histogram2d": [
                      {
                        "colorbar": {
                          "outlinewidth": 0,
                          "ticks": ""
                        },
                        "colorscale": [
                          [
                            0,
                            "#0d0887"
                          ],
                          [
                            0.1111111111111111,
                            "#46039f"
                          ],
                          [
                            0.2222222222222222,
                            "#7201a8"
                          ],
                          [
                            0.3333333333333333,
                            "#9c179e"
                          ],
                          [
                            0.4444444444444444,
                            "#bd3786"
                          ],
                          [
                            0.5555555555555556,
                            "#d8576b"
                          ],
                          [
                            0.6666666666666666,
                            "#ed7953"
                          ],
                          [
                            0.7777777777777778,
                            "#fb9f3a"
                          ],
                          [
                            0.8888888888888888,
                            "#fdca26"
                          ],
                          [
                            1,
                            "#f0f921"
                          ]
                        ],
                        "type": "histogram2d"
                      }
                    ],
                    "histogram2dcontour": [
                      {
                        "colorbar": {
                          "outlinewidth": 0,
                          "ticks": ""
                        },
                        "colorscale": [
                          [
                            0,
                            "#0d0887"
                          ],
                          [
                            0.1111111111111111,
                            "#46039f"
                          ],
                          [
                            0.2222222222222222,
                            "#7201a8"
                          ],
                          [
                            0.3333333333333333,
                            "#9c179e"
                          ],
                          [
                            0.4444444444444444,
                            "#bd3786"
                          ],
                          [
                            0.5555555555555556,
                            "#d8576b"
                          ],
                          [
                            0.6666666666666666,
                            "#ed7953"
                          ],
                          [
                            0.7777777777777778,
                            "#fb9f3a"
                          ],
                          [
                            0.8888888888888888,
                            "#fdca26"
                          ],
                          [
                            1,
                            "#f0f921"
                          ]
                        ],
                        "type": "histogram2dcontour"
                      }
                    ],
                    "mesh3d": [
                      {
                        "colorbar": {
                          "outlinewidth": 0,
                          "ticks": ""
                        },
                        "type": "mesh3d"
                      }
                    ],
                    "parcoords": [
                      {
                        "line": {
                          "colorbar": {
                            "outlinewidth": 0,
                            "ticks": ""
                          }
                        },
                        "type": "parcoords"
                      }
                    ],
                    "pie": [
                      {
                        "automargin": true,
                        "type": "pie"
                      }
                    ],
                    "scatter": [
                      {
                        "fillpattern": {
                          "fillmode": "overlay",
                          "size": 10,
                          "solidity": 0.2
                        },
                        "type": "scatter"
                      }
                    ],
                    "scatter3d": [
                      {
                        "line": {
                          "colorbar": {
                            "outlinewidth": 0,
                            "ticks": ""
                          }
                        },
                        "marker": {
                          "colorbar": {
                            "outlinewidth": 0,
                            "ticks": ""
                          }
                        },
                        "type": "scatter3d"
                      }
                    ],
                    "scattercarpet": [
                      {
                        "marker": {
                          "colorbar": {
                            "outlinewidth": 0,
                            "ticks": ""
                          }
                        },
                        "type": "scattercarpet"
                      }
                    ],
                    "scattergeo": [
                      {
                        "marker": {
                          "colorbar": {
                            "outlinewidth": 0,
                            "ticks": ""
                          }
                        },
                        "type": "scattergeo"
                      }
                    ],
                    "scattergl": [
                      {
                        "marker": {
                          "colorbar": {
                            "outlinewidth": 0,
                            "ticks": ""
                          }
                        },
                        "type": "scattergl"
                      }
                    ],
                    "scattermap": [
                      {
                        "marker": {
                          "colorbar": {
                            "outlinewidth": 0,
                            "ticks": ""
                          }
                        },
                        "type": "scattermap"
                      }
                    ],
                    "scattermapbox": [
                      {
                        "marker": {
                          "colorbar": {
                            "outlinewidth": 0,
                            "ticks": ""
                          }
                        },
                        "type": "scattermapbox"
                      }
                    ],
                    "scatterpolar": [
                      {
                        "marker": {
                          "colorbar": {
                            "outlinewidth": 0,
                            "ticks": ""
                          }
                        },
                        "type": "scatterpolar"
                      }
                    ],
                    "scatterpolargl": [
                      {
                        "marker": {
                          "colorbar": {
                            "outlinewidth": 0,
                            "ticks": ""
                          }
                        },
                        "type": "scatterpolargl"
                      }
                    ],
                    "scatterternary": [
                      {
                        "marker": {
                          "colorbar": {
                            "outlinewidth": 0,
                            "ticks": ""
                          }
                        },
                        "type": "scatterternary"
                      }
                    ],
                    "surface": [
                      {
                        "colorbar": {
                          "outlinewidth": 0,
                          "ticks": ""
                        },
                        "colorscale": [
                          [
                            0,
                            "#0d0887"
                          ],
                          [
                            0.1111111111111111,
                            "#46039f"
                          ],
                          [
                            0.2222222222222222,
                            "#7201a8"
                          ],
                          [
                            0.3333333333333333,
                            "#9c179e"
                          ],
                          [
                            0.4444444444444444,
                            "#bd3786"
                          ],
                          [
                            0.5555555555555556,
                            "#d8576b"
                          ],
                          [
                            0.6666666666666666,
                            "#ed7953"
                          ],
                          [
                            0.7777777777777778,
                            "#fb9f3a"
                          ],
                          [
                            0.8888888888888888,
                            "#fdca26"
                          ],
                          [
                            1,
                            "#f0f921"
                          ]
                        ],
                        "type": "surface"
                      }
                    ],
                    "table": [
                      {
                        "cells": {
                          "fill": {
                            "color": "#EBF0F8"
                          },
                          "line": {
                            "color": "white"
                          }
                        },
                        "header": {
                          "fill": {
                            "color": "#C8D4E3"
                          },
                          "line": {
                            "color": "white"
                          }
                        },
                        "type": "table"
                      }
                    ]
                  },
                  "layout": {
                    "annotationdefaults": {
                      "arrowcolor": "#2a3f5f",
                      "arrowhead": 0,
                      "arrowwidth": 1
                    },
                    "autotypenumbers": "strict",
                    "coloraxis": {
                      "colorbar": {
                        "outlinewidth": 0,
                        "ticks": ""
                      }
                    },
                    "colorscale": {
                      "diverging": [
                        [
                          0,
                          "#8e0152"
                        ],
                        [
                          0.1,
                          "#c51b7d"
                        ],
                        [
                          0.2,
                          "#de77ae"
                        ],
                        [
                          0.3,
                          "#f1b6da"
                        ],
                        [
                          0.4,
                          "#fde0ef"
                        ],
                        [
                          0.5,
                          "#f7f7f7"
                        ],
                        [
                          0.6,
                          "#e6f5d0"
                        ],
                        [
                          0.7,
                          "#b8e186"
                        ],
                        [
                          0.8,
                          "#7fbc41"
                        ],
                        [
                          0.9,
                          "#4d9221"
                        ],
                        [
                          1,
                          "#276419"
                        ]
                      ],
                      "sequential": [
                        [
                          0,
                          "#0d0887"
                        ],
                        [
                          0.1111111111111111,
                          "#46039f"
                        ],
                        [
                          0.2222222222222222,
                          "#7201a8"
                        ],
                        [
                          0.3333333333333333,
                          "#9c179e"
                        ],
                        [
                          0.4444444444444444,
                          "#bd3786"
                        ],
                        [
                          0.5555555555555556,
                          "#d8576b"
                        ],
                        [
                          0.6666666666666666,
                          "#ed7953"
                        ],
                        [
                          0.7777777777777778,
                          "#fb9f3a"
                        ],
                        [
                          0.8888888888888888,
                          "#fdca26"
                        ],
                        [
                          1,
                          "#f0f921"
                        ]
                      ],
                      "sequentialminus": [
                        [
                          0,
                          "#0d0887"
                        ],
                        [
                          0.1111111111111111,
                          "#46039f"
                        ],
                        [
                          0.2222222222222222,
                          "#7201a8"
                        ],
                        [
                          0.3333333333333333,
                          "#9c179e"
                        ],
                        [
                          0.4444444444444444,
                          "#bd3786"
                        ],
                        [
                          0.5555555555555556,
                          "#d8576b"
                        ],
                        [
                          0.6666666666666666,
                          "#ed7953"
                        ],
                        [
                          0.7777777777777778,
                          "#fb9f3a"
                        ],
                        [
                          0.8888888888888888,
                          "#fdca26"
                        ],
                        [
                          1,
                          "#f0f921"
                        ]
                      ]
                    },
                    "colorway": [
                      "#636efa",
                      "#EF553B",
                      "#00cc96",
                      "#ab63fa",
                      "#FFA15A",
                      "#19d3f3",
                      "#FF6692",
                      "#B6E880",
                      "#FF97FF",
                      "#FECB52"
                    ],
                    "font": {
                      "color": "#2a3f5f"
                    },
                    "geo": {
                      "bgcolor": "white",
                      "lakecolor": "white",
                      "landcolor": "#E5ECF6",
                      "showlakes": true,
                      "showland": true,
                      "subunitcolor": "white"
                    },
                    "hoverlabel": {
                      "align": "left"
                    },
                    "hovermode": "closest",
                    "mapbox": {
                      "style": "light"
                    },
                    "paper_bgcolor": "white",
                    "plot_bgcolor": "#E5ECF6",
                    "polar": {
                      "angularaxis": {
                        "gridcolor": "white",
                        "linecolor": "white",
                        "ticks": ""
                      },
                      "bgcolor": "#E5ECF6",
                      "radialaxis": {
                        "gridcolor": "white",
                        "linecolor": "white",
                        "ticks": ""
                      }
                    },
                    "scene": {
                      "xaxis": {
                        "backgroundcolor": "#E5ECF6",
                        "gridcolor": "white",
                        "gridwidth": 2,
                        "linecolor": "white",
                        "showbackground": true,
                        "ticks": "",
                        "zerolinecolor": "white"
                      },
                      "yaxis": {
                        "backgroundcolor": "#E5ECF6",
                        "gridcolor": "white",
                        "gridwidth": 2,
                        "linecolor": "white",
                        "showbackground": true,
                        "ticks": "",
                        "zerolinecolor": "white"
                      },
                      "zaxis": {
                        "backgroundcolor": "#E5ECF6",
                        "gridcolor": "white",
                        "gridwidth": 2,
                        "linecolor": "white",
                        "showbackground": true,
                        "ticks": "",
                        "zerolinecolor": "white"
                      }
                    },
                    "shapedefaults": {
                      "line": {
                        "color": "#2a3f5f"
                      }
                    },
                    "ternary": {
                      "aaxis": {
                        "gridcolor": "white",
                        "linecolor": "white",
                        "ticks": ""
                      },
                      "baxis": {
                        "gridcolor": "white",
                        "linecolor": "white",
                        "ticks": ""
                      },
                      "bgcolor": "#E5ECF6",
                      "caxis": {
                        "gridcolor": "white",
                        "linecolor": "white",
                        "ticks": ""
                      }
                    },
                    "title": {
                      "x": 0.05
                    },
                    "xaxis": {
                      "automargin": true,
                      "gridcolor": "white",
                      "linecolor": "white",
                      "ticks": "",
                      "title": {
                        "standoff": 15
                      },
                      "zerolinecolor": "white",
                      "zerolinewidth": 2
                    },
                    "yaxis": {
                      "automargin": true,
                      "gridcolor": "white",
                      "linecolor": "white",
                      "ticks": "",
                      "title": {
                        "standoff": 15
                      },
                      "zerolinecolor": "white",
                      "zerolinewidth": 2
                    }
                  }
                },
                "title": {
                  "font": {
                    "size": 16
                  },
                  "text": "Interactive Einstein Network - Complete View"
                },
                "xaxis": {
                  "showgrid": false,
                  "showticklabels": false,
                  "zeroline": false
                },
                "yaxis": {
                  "showgrid": false,
                  "showticklabels": false,
                  "zeroline": false
                }
              }
            }
          },
          "metadata": {},
          "output_type": "display_data"
        }
      ],
      "source": [
        "# Create enhanced interactive visualizations\n",
        "print(\"🎨 Creating enhanced interactive visualizations...\")\n",
        "\n",
        "# 1. Community Structure Visualization\n",
        "if communities:\n",
        "    print(\"📊 Creating community structure visualization...\")\n",
        "    community_fig = create_interactive_plot(\n",
        "        graph,\n",
        "        title=\"Community Structure - Einstein's Network\",\n",
        "        node_size_multiplier=25,\n",
        "        edge_width_multiplier=2\n",
        "    )\n",
        "    \n",
        "    # Add community colors\n",
        "    community_colors = px.colors.qualitative.Set3[:len(communities)]\n",
        "    for i, community in enumerate(communities):\n",
        "        for node_id in community:\n",
        "            if node_id in community_fig.data[1].marker.color:\n",
        "                # Update node color for community\n",
        "                pass\n",
        "    \n",
        "    community_file = plots_dir / \"community_structure.html\"\n",
        "    community_fig.write_html(str(community_file))\n",
        "    print(f\"✅ Generated community plot: {community_file}\")\n",
        "    \n",
        "    # Display community visualization\n",
        "    try:\n",
        "        community_fig.show()\n",
        "    except ValueError as e:\n",
        "        print(f\"⚠️  Display issue: {e}\")\n",
        "        print(f\"📁 Community plot saved: {community_file}\")\n",
        "\n",
        "# 2. Centrality Analysis Visualization\n",
        "print(\"📊 Creating centrality analysis visualization...\")\n",
        "centrality_fig = create_interactive_plot(\n",
        "    graph,\n",
        "    title=\"Centrality Analysis - Einstein's Network\",\n",
        "    node_size_multiplier=30,\n",
        "    edge_width_multiplier=1.5\n",
        ")\n",
        "\n",
        "centrality_file = plots_dir / \"centrality_analysis.html\"\n",
        "centrality_fig.write_html(str(centrality_file))\n",
        "print(f\"✅ Generated centrality plot: {centrality_file}\")\n",
        "\n",
        "# Display centrality visualization\n",
        "try:\n",
        "    centrality_fig.show()\n",
        "except ValueError as e:\n",
        "    print(f\"⚠️  Display issue: {e}\")\n",
        "    print(f\"📁 Centrality plot saved: {centrality_file}\")\n",
        "\n",
        "# 3. Main Interactive Network\n",
        "print(\"📊 Creating main interactive network...\")\n",
        "main_fig = create_interactive_plot(\n",
        "    graph,\n",
        "    title=\"Interactive Einstein Network - Complete View\",\n",
        "    node_size_multiplier=20,\n",
        "    edge_width_multiplier=2\n",
        ")\n",
        "\n",
        "main_file = plots_dir / \"interactive_network.html\"\n",
        "main_fig.write_html(str(main_file))\n",
        "print(f\"✅ Generated main interactive plot: {main_file}\")\n",
        "\n",
        "# Display main visualization\n",
        "try:\n",
        "    main_fig.show()\n",
        "except ValueError as e:\n",
        "    print(f\"⚠️  Display issue: {e}\")\n",
        "    print(f\"📁 Main plot saved: {main_file}\")\n"
      ]
    },
    {
      "cell_type": "markdown",
      "metadata": {},
      "source": [
        "## Step 9: Advanced Interactive Features\n",
        "\n",
        "Create advanced interactive visualizations with filtering, enhanced hover information, and dynamic layouts.\n"
      ]
    },
    {
      "cell_type": "code",
      "execution_count": 11,
      "metadata": {},
      "outputs": [
        {
          "name": "stdout",
          "output_type": "stream",
          "text": [
            "🎨 Creating advanced interactive visualizations...\n",
            "✅ Generated enhanced interactive plot: notebook_output/plots/enhanced_interactive_network.html\n"
          ]
        },
        {
          "data": {
            "application/vnd.plotly.v1+json": {
              "config": {
                "plotlyServerURL": "https://plot.ly"
              },
              "data": [
                {
                  "hoverinfo": "none",
                  "line": {
                    "color": "#888",
                    "width": 2
                  },
                  "mode": "lines",
                  "name": "Relationships",
                  "type": "scatter",
                  "x": [],
                  "y": []
                },
                {
                  "hoverinfo": "text",
                  "hovertext": [
                    "\n        <b>Albert Einstein</b><br>\n        ID: 797b5fe7-2a10-4efd-a4a7-91239a0aca22<br>\n        Class: E21<br>\n        Degree: 0<br>\n        Type: ['E21']\n        ",
                    "\n        <b>in Philadelphia</b><br>\n        ID: 720a3369-c06e-45c2-b4bf-1322c83ed633<br>\n        Class: E21<br>\n        Degree: 0<br>\n        Type: ['E21']\n        ",
                    "\n        <b>said she</b><br>\n        ID: d2dc38f9-c68e-4fe9-aa02-20112aa57122<br>\n        Class: E21<br>\n        Degree: 0<br>\n        Type: ['E21']\n        ",
                    "\n        <b>Ulm</b><br>\n        ID: 64502329-0a36-4b7c-af81-6b30da10ed6a<br>\n        Class: E53<br>\n        Degree: 0<br>\n        Type: ['E53']\n        ",
                    "\n        <b>Munich</b><br>\n        ID: 9d34e357-6730-46ff-a459-33d005ee1e0f<br>\n        Class: E53<br>\n        Degree: 0<br>\n        Type: ['E53']\n        ",
                    "\n        <b>Munich</b><br>\n        ID: a1ae5da1-d471-491d-a02d-cc7c2767f014<br>\n        Class: E53<br>\n        Degree: 0<br>\n        Type: ['E53']\n        ",
                    "\n        <b>Munich</b><br>\n        ID: d81a0267-136e-4984-8218-249ca0893d27<br>\n        Class: E53<br>\n        Degree: 0<br>\n        Type: ['E53']\n        ",
                    "\n        <b>Zurich</b><br>\n        ID: 7cf6ed68-bbf3-4d28-9eae-77b2f794fb6b<br>\n        Class: E53<br>\n        Degree: 0<br>\n        Type: ['E53']\n        ",
                    "\n        <b>Zurich</b><br>\n        ID: c7be0797-afbe-47e5-91d5-d8960bcd514c<br>\n        Class: E53<br>\n        Degree: 0<br>\n        Type: ['E53']\n        ",
                    "\n        <b>Princeton</b><br>\n        ID: 29355bc8-9837-4f4b-a734-cbbbc6ea4e12<br>\n        Class: E53<br>\n        Degree: 0<br>\n        Type: ['E53']\n        ",
                    "\n        <b>Princeton</b><br>\n        ID: 46a44a65-ca92-4eff-a8dd-9c09476a1fa1<br>\n        Class: E53<br>\n        Degree: 0<br>\n        Type: ['E53']\n        ",
                    "\n        <b>Princeton</b><br>\n        ID: 9100a1fb-684f-43a4-aac2-de752780f97a<br>\n        Class: E53<br>\n        Degree: 0<br>\n        Type: ['E53']\n        ",
                    "\n        <b>Princeton</b><br>\n        ID: 951ec7d6-30b2-4aea-9894-4d633ed5d850<br>\n        Class: E53<br>\n        Degree: 0<br>\n        Type: ['E53']\n        ",
                    "\n        <b>Princeton</b><br>\n        ID: 88763c20-0745-46b9-944e-98c8cc6d42d7<br>\n        Class: E53<br>\n        Degree: 0<br>\n        Type: ['E53']\n        ",
                    "\n        <b>Princeton</b><br>\n        ID: 8f08b484-a836-476f-a872-251580160563<br>\n        Class: E53<br>\n        Degree: 0<br>\n        Type: ['E53']\n        ",
                    "\n        <b>New York</b><br>\n        ID: b1ae096d-b94e-492c-a017-2f9ef417cc47<br>\n        Class: E53<br>\n        Degree: 0<br>\n        Type: ['E53']\n        ",
                    "\n        <b>Switzerland</b><br>\n        ID: 44468a5b-fc66-4145-a56f-18f3c5942468<br>\n        Class: E53<br>\n        Degree: 0<br>\n        Type: ['E53']\n        ",
                    "\n        <b>Germany</b><br>\n        ID: 09a59d37-d890-4d09-95de-225d49395b42<br>\n        Class: E53<br>\n        Degree: 0<br>\n        Type: ['E53']\n        ",
                    "\n        <b>Germany</b><br>\n        ID: 8be1a9c1-bf6f-4c2c-8f81-6ca705245be9<br>\n        Class: E53<br>\n        Degree: 0<br>\n        Type: ['E53']\n        ",
                    "\n        <b>Germany</b><br>\n        ID: febf9ba4-6639-41af-b26f-b674a72cdbea<br>\n        Class: E53<br>\n        Degree: 0<br>\n        Type: ['E53']\n        ",
                    "\n        <b>Germany</b><br>\n        ID: cd149c79-e905-42d6-b532-67c9e901b0d3<br>\n        Class: E53<br>\n        Degree: 0<br>\n        Type: ['E53']\n        ",
                    "\n        <b>Italy</b><br>\n        ID: 9047b03f-0f28-41c2-aa49-807e8bf04b63<br>\n        Class: E53<br>\n        Degree: 0<br>\n        Type: ['E53']\n        ",
                    "\n        <b>Italy</b><br>\n        ID: ee0d412d-ffff-4205-b321-a39e2946883e<br>\n        Class: E53<br>\n        Degree: 0<br>\n        Type: ['E53']\n        ",
                    "\n        <b>United States</b><br>\n        ID: 886f940c-563e-454a-8f63-12534ea7e0c8<br>\n        Class: E53<br>\n        Degree: 0<br>\n        Type: ['E53']\n        ",
                    "\n        <b>United States</b><br>\n        ID: 30e278af-1f7b-4745-8acf-84221c1f139a<br>\n        Class: E53<br>\n        Degree: 0<br>\n        Type: ['E53']\n        ",
                    "\n        <b>United States</b><br>\n        ID: c2044bbb-a8f0-436a-9afe-c83653def569<br>\n        Class: E53<br>\n        Degree: 0<br>\n        Type: ['E53']\n        ",
                    "\n        <b>United States</b><br>\n        ID: 5c80139f-11cc-4672-ba38-3a5dfaacbf3f<br>\n        Class: E53<br>\n        Degree: 0<br>\n        Type: ['E53']\n        ",
                    "\n        <b>theory of relativity</b><br>\n        ID: 9b0b536b-55c6-48cf-8746-ad2b6d47a2db<br>\n        Class: E22<br>\n        Degree: 0<br>\n        Type: ['E22']\n        ",
                    "\n        <b>theory of relativity and the equation E</b><br>\n        ID: 299e9c9c-06f1-4739-a885-4df2ca638902<br>\n        Class: E22<br>\n        Degree: 0<br>\n        Type: ['E22']\n        ",
                    "\n        <b>theory of relativity in </b><br>\n        ID: 1d3ce3a5-17d7-4eb5-8299-2ecb540de1ca<br>\n        Class: E22<br>\n        Degree: 0<br>\n        Type: ['E22']\n        ",
                    "\n        <b>theory explains that space and time are actually connected</b><br>\n        ID: 6246f06f-ea55-493c-93ec-e1cd28e96cd6<br>\n        Class: E22<br>\n        Degree: 0<br>\n        Type: ['E22']\n        ",
                    "\n        <b>theory of relativity</b><br>\n        ID: ab4f517d-ccc3-4ee4-9535-8f5efc7951c5<br>\n        Class: E22<br>\n        Degree: 0<br>\n        Type: ['E22']\n        ",
                    "\n        <b>theory the culmination of his life research</b><br>\n        ID: 0dc9ba9d-2dc1-4ef4-9596-4feb19656422<br>\n        Class: E22<br>\n        Degree: 0<br>\n        Type: ['E22']\n        ",
                    "\n        <b>theory and key aspects of his general theory of relativity</b><br>\n        ID: 3e8db6eb-7dae-402f-b7b2-54c4e51a431d<br>\n        Class: E22<br>\n        Degree: 0<br>\n        Type: ['E22']\n        ",
                    "\n        <b>theory of relativity allegedly came to him in a dream about cows being electrocuted</b><br>\n        ID: c8ce630c-78a1-4a0a-b822-6e421b932c02<br>\n        Class: E22<br>\n        Degree: 0<br>\n        Type: ['E22']\n        ",
                    "\n        <b>paper on the matter</b><br>\n        ID: 88391b98-297c-4664-9b96-34d2c291feb3<br>\n        Class: E22<br>\n        Degree: 0<br>\n        Type: ['E22']\n        ",
                    "\n        <b>Nobel Prize in Physics for his explanation of the photoelectric effect</b><br>\n        ID: 6d001b1f-779f-433b-b8e1-935c8dae37ed<br>\n        Class: E22<br>\n        Degree: 0<br>\n        Type: ['E22']\n        ",
                    "\n        <b>Nobel Prize in the future</b><br>\n        ID: cfdfb65d-7808-42bd-8277-8666c2e30fc2<br>\n        Class: E22<br>\n        Degree: 0<br>\n        Type: ['E22']\n        ",
                    "\n        <b>theory of relativity</b><br>\n        ID: e10a769a-5ea1-47db-b1cc-5e4d66885cd8<br>\n        Class: E22<br>\n        Degree: 0<br>\n        Type: ['E22']\n        ",
                    "\n        <b>theory of relativity</b><br>\n        ID: d9e3947f-e7a8-4192-a3d6-812457c71235<br>\n        Class: E22<br>\n        Degree: 0<br>\n        Type: ['E22']\n        ",
                    "\n        <b>theory of relativity</b><br>\n        ID: 13d2e636-7ede-4297-a1cf-82943ac1618e<br>\n        Class: E22<br>\n        Degree: 0<br>\n        Type: ['E22']\n        ",
                    "\n        <b>theory of relativity</b><br>\n        ID: 8893c8a0-c98b-4d3f-a4f5-ddd9eac844f9<br>\n        Class: E22<br>\n        Degree: 0<br>\n        Type: ['E22']\n        ",
                    "\n        <b>theory of relativity</b><br>\n        ID: f5c4879c-329a-419c-a6d7-6c0222b8c600<br>\n        Class: E22<br>\n        Degree: 0<br>\n        Type: ['E22']\n        ",
                    "\n        <b>theory of relativity</b><br>\n        ID: 0e435f4d-fe91-45ec-b9c6-fb7aeec86167<br>\n        Class: E22<br>\n        Degree: 0<br>\n        Type: ['E22']\n        ",
                    "\n        <b>photoelectric effect</b><br>\n        ID: 56d3fb52-1186-4e2f-9544-7bf77b28bb85<br>\n        Class: E22<br>\n        Degree: 0<br>\n        Type: ['E22']\n        ",
                    "\n        <b>photoelectric effect</b><br>\n        ID: 2fc43e81-788e-455f-85e6-abf16aa6a79c<br>\n        Class: E22<br>\n        Degree: 0<br>\n        Type: ['E22']\n        ",
                    "\n        <b>atomic bomb</b><br>\n        ID: ca1e3d86-03ff-46d0-9995-7e4aa0466c09<br>\n        Class: E22<br>\n        Degree: 0<br>\n        Type: ['E22']\n        ",
                    "\n        <b>Manhattan Project</b><br>\n        ID: 785d0d94-47fc-4628-998d-69a0aeafbc8f<br>\n        Class: E22<br>\n        Degree: 0<br>\n        Type: ['E22']\n        ",
                    "\n        <b>atomic bomb</b><br>\n        ID: 38f4be2c-5661-4711-8e8a-aa9ff9d4c060<br>\n        Class: E22<br>\n        Degree: 0<br>\n        Type: ['E22']\n        ",
                    "\n        <b>born in 1902</b><br>\n        ID: 4a43f93d-9ab5-49b5-ae46-d47f9754435d<br>\n        Class: E52<br>\n        Degree: 0<br>\n        Type: ['E52']\n        ",
                    "\n        <b>March 14, 1879</b><br>\n        ID: 5f711ede-8aeb-4668-86d7-5fa9ab96d932<br>\n        Class: E52<br>\n        Degree: 0<br>\n        Type: ['E52']\n        ",
                    "\n        <b>January 6, 1903</b><br>\n        ID: 0aba9f6d-ebef-4de5-b76c-7bf827d1db9e<br>\n        Class: E52<br>\n        Degree: 0<br>\n        Type: ['E52']\n        ",
                    "\n        <b>March 14, 1951</b><br>\n        ID: 0ad2e915-54d4-4084-ba7c-c73c898144c4<br>\n        Class: E52<br>\n        Degree: 0<br>\n        Type: ['E52']\n        ",
                    "\n        <b>April 18, 1955</b><br>\n        ID: 8c51853c-d0e0-461c-8153-8252743806cd<br>\n        Class: E52<br>\n        Degree: 0<br>\n        Type: ['E52']\n        ",
                    "\n        <b>late 1940s</b><br>\n        ID: c7aebf6c-2665-499c-90ab-9cbdccb2aafc<br>\n        Class: E52<br>\n        Degree: 0<br>\n        Type: ['E52']\n        ",
                    "\n        <b>1880s</b><br>\n        ID: 9b558b4a-9e16-4fd0-b10f-308b2402d513<br>\n        Class: E52<br>\n        Degree: 0<br>\n        Type: ['E52']\n        ",
                    "\n        <b>1890s</b><br>\n        ID: 0ebbe327-2160-45aa-b199-e0d0ea511df7<br>\n        Class: E52<br>\n        Degree: 0<br>\n        Type: ['E52']\n        ",
                    "\n        <b>1940s</b><br>\n        ID: a4a04263-f2eb-4919-90ec-a69f56aacb33<br>\n        Class: E52<br>\n        Degree: 0<br>\n        Type: ['E52']\n        ",
                    "\n        <b>1879</b><br>\n        ID: 21173323-8982-47d0-97e0-a9990c836783<br>\n        Class: E52<br>\n        Degree: 0<br>\n        Type: ['E52']\n        ",
                    "\n        <b>1902</b><br>\n        ID: de03cbc9-9895-4064-96ef-632fd1a8f2f9<br>\n        Class: E52<br>\n        Degree: 0<br>\n        Type: ['E52']\n        ",
                    "\n        <b>1905</b><br>\n        ID: df6f8b42-795f-4e9a-bdc9-b834934134c1<br>\n        Class: E52<br>\n        Degree: 0<br>\n        Type: ['E52']\n        ",
                    "\n        <b>1905</b><br>\n        ID: 5c5bb23a-a731-42a0-8158-3214976826ae<br>\n        Class: E52<br>\n        Degree: 0<br>\n        Type: ['E52']\n        ",
                    "\n        <b>1915</b><br>\n        ID: 8d083651-18f8-4475-b6e0-3fcbc902da0f<br>\n        Class: E52<br>\n        Degree: 0<br>\n        Type: ['E52']\n        ",
                    "\n        <b>1919</b><br>\n        ID: d47effbf-d67b-466d-a90d-87f8b5101de5<br>\n        Class: E52<br>\n        Degree: 0<br>\n        Type: ['E52']\n        ",
                    "\n        <b>1905</b><br>\n        ID: 688f043e-767b-4870-8311-9bb74e41e905<br>\n        Class: E52<br>\n        Degree: 0<br>\n        Type: ['E52']\n        ",
                    "\n        <b>1917</b><br>\n        ID: aa09bafa-9d6b-4ce6-8188-80eb51429ab9<br>\n        Class: E52<br>\n        Degree: 0<br>\n        Type: ['E52']\n        ",
                    "\n        <b>1933</b><br>\n        ID: 90155c0c-40e3-4a73-b7de-a6e295b21e5a<br>\n        Class: E52<br>\n        Degree: 0<br>\n        Type: ['E52']\n        ",
                    "\n        <b>1921</b><br>\n        ID: 4a3c0769-9c0a-496d-b698-8047e18db611<br>\n        Class: E52<br>\n        Degree: 0<br>\n        Type: ['E52']\n        ",
                    "\n        <b>1903</b><br>\n        ID: 4c3b5cff-3b86-4b9a-867d-5bf4a460749e<br>\n        Class: E52<br>\n        Degree: 0<br>\n        Type: ['E52']\n        ",
                    "\n        <b>1902</b><br>\n        ID: 565979d4-56bf-41a7-b375-d559e879eeb4<br>\n        Class: E52<br>\n        Degree: 0<br>\n        Type: ['E52']\n        ",
                    "\n        <b>1902</b><br>\n        ID: d1db46c9-ad68-41da-9412-f96d8ecb7f8f<br>\n        Class: E52<br>\n        Degree: 0<br>\n        Type: ['E52']\n        ",
                    "\n        <b>1919</b><br>\n        ID: 3fd4e4ae-cf3f-4761-95b0-c90ef3d9b6af<br>\n        Class: E52<br>\n        Degree: 0<br>\n        Type: ['E52']\n        ",
                    "\n        <b>1919</b><br>\n        ID: 0c97c5ca-789e-4bdf-9103-7ca65b4e750f<br>\n        Class: E52<br>\n        Degree: 0<br>\n        Type: ['E52']\n        ",
                    "\n        <b>1936</b><br>\n        ID: a99e21d2-c8a6-4ed5-9ba2-98d426fe6d7c<br>\n        Class: E52<br>\n        Degree: 0<br>\n        Type: ['E52']\n        ",
                    "\n        <b>1933</b><br>\n        ID: 75f7b3e6-461a-4811-8ab1-5cd6428ba432<br>\n        Class: E52<br>\n        Degree: 0<br>\n        Type: ['E52']\n        ",
                    "\n        <b>1935</b><br>\n        ID: 7b084e92-469a-41de-a7d6-89c862ffc69c<br>\n        Class: E52<br>\n        Degree: 0<br>\n        Type: ['E52']\n        ",
                    "\n        <b>1939</b><br>\n        ID: 61b9b760-a6a5-4222-9414-2faa010b30a1<br>\n        Class: E52<br>\n        Degree: 0<br>\n        Type: ['E52']\n        ",
                    "\n        <b>1940</b><br>\n        ID: 306a3b00-796b-40c1-a16a-daa0e1f7af09<br>\n        Class: E52<br>\n        Degree: 0<br>\n        Type: ['E52']\n        ",
                    "\n        <b>1945</b><br>\n        ID: 3996349a-8e82-44ad-ad21-41ca50b37104<br>\n        Class: E52<br>\n        Degree: 0<br>\n        Type: ['E52']\n        ",
                    "\n        <b>1947</b><br>\n        ID: 71e8f952-1ed1-4de2-8e28-dffb7158d490<br>\n        Class: E52<br>\n        Degree: 0<br>\n        Type: ['E52']\n        ",
                    "\n        <b>1946</b><br>\n        ID: c6c0ce05-8bf5-460f-b1cb-8b6be7d459a5<br>\n        Class: E52<br>\n        Degree: 0<br>\n        Type: ['E52']\n        ",
                    "\n        <b>1951</b><br>\n        ID: c53b8952-082a-404a-899e-62398c6c30e1<br>\n        Class: E52<br>\n        Degree: 0<br>\n        Type: ['E52']\n        ",
                    "\n        <b>2017</b><br>\n        ID: 5e90837c-f64b-45ec-9266-66d8eb948149<br>\n        Class: E52<br>\n        Degree: 0<br>\n        Type: ['E52']\n        ",
                    "\n        <b>1955</b><br>\n        ID: ef367e09-09f7-4d08-a078-c6a1ec9f294d<br>\n        Class: E52<br>\n        Degree: 0<br>\n        Type: ['E52']\n        ",
                    "\n        <b>2014</b><br>\n        ID: 8b64fed8-c857-4dca-82aa-03b04ed7db72<br>\n        Class: E52<br>\n        Degree: 0<br>\n        Type: ['E52']\n        ",
                    "\n        <b>1999</b><br>\n        ID: ba435b36-eb13-4b6b-b4e7-877291f5efbd<br>\n        Class: E52<br>\n        Degree: 0<br>\n        Type: ['E52']\n        ",
                    "\n        <b>2011</b><br>\n        ID: 29ad4c18-9ebf-4c61-b432-1903acc66a05<br>\n        Class: E52<br>\n        Degree: 0<br>\n        Type: ['E52']\n        "
                  ],
                  "marker": {
                    "color": [
                      "#FF6B6B",
                      "#FF6B6B",
                      "#FF6B6B",
                      "#45B7D1",
                      "#45B7D1",
                      "#45B7D1",
                      "#45B7D1",
                      "#45B7D1",
                      "#45B7D1",
                      "#45B7D1",
                      "#45B7D1",
                      "#45B7D1",
                      "#45B7D1",
                      "#45B7D1",
                      "#45B7D1",
                      "#45B7D1",
                      "#45B7D1",
                      "#45B7D1",
                      "#45B7D1",
                      "#45B7D1",
                      "#45B7D1",
                      "#45B7D1",
                      "#45B7D1",
                      "#45B7D1",
                      "#45B7D1",
                      "#45B7D1",
                      "#45B7D1",
                      "#96CEB4",
                      "#96CEB4",
                      "#96CEB4",
                      "#96CEB4",
                      "#96CEB4",
                      "#96CEB4",
                      "#96CEB4",
                      "#96CEB4",
                      "#96CEB4",
                      "#96CEB4",
                      "#96CEB4",
                      "#96CEB4",
                      "#96CEB4",
                      "#96CEB4",
                      "#96CEB4",
                      "#96CEB4",
                      "#96CEB4",
                      "#96CEB4",
                      "#96CEB4",
                      "#96CEB4",
                      "#96CEB4",
                      "#96CEB4",
                      "#FFEAA7",
                      "#FFEAA7",
                      "#FFEAA7",
                      "#FFEAA7",
                      "#FFEAA7",
                      "#FFEAA7",
                      "#FFEAA7",
                      "#FFEAA7",
                      "#FFEAA7",
                      "#FFEAA7",
                      "#FFEAA7",
                      "#FFEAA7",
                      "#FFEAA7",
                      "#FFEAA7",
                      "#FFEAA7",
                      "#FFEAA7",
                      "#FFEAA7",
                      "#FFEAA7",
                      "#FFEAA7",
                      "#FFEAA7",
                      "#FFEAA7",
                      "#FFEAA7",
                      "#FFEAA7",
                      "#FFEAA7",
                      "#FFEAA7",
                      "#FFEAA7",
                      "#FFEAA7",
                      "#FFEAA7",
                      "#FFEAA7",
                      "#FFEAA7",
                      "#FFEAA7",
                      "#FFEAA7",
                      "#FFEAA7",
                      "#FFEAA7",
                      "#FFEAA7",
                      "#FFEAA7",
                      "#FFEAA7",
                      "#FFEAA7"
                    ],
                    "line": {
                      "color": "white",
                      "width": 2
                    },
                    "opacity": 0.8,
                    "size": [
                      15,
                      15,
                      15,
                      15,
                      15,
                      15,
                      15,
                      15,
                      15,
                      15,
                      15,
                      15,
                      15,
                      15,
                      15,
                      15,
                      15,
                      15,
                      15,
                      15,
                      15,
                      15,
                      15,
                      15,
                      15,
                      15,
                      15,
                      15,
                      15,
                      15,
                      15,
                      15,
                      15,
                      15,
                      15,
                      15,
                      15,
                      15,
                      15,
                      15,
                      15,
                      15,
                      15,
                      15,
                      15,
                      15,
                      15,
                      15,
                      15,
                      15,
                      15,
                      15,
                      15,
                      15,
                      15,
                      15,
                      15,
                      15,
                      15,
                      15,
                      15,
                      15,
                      15,
                      15,
                      15,
                      15,
                      15,
                      15,
                      15,
                      15,
                      15,
                      15,
                      15,
                      15,
                      15,
                      15,
                      15,
                      15,
                      15,
                      15,
                      15,
                      15,
                      15,
                      15,
                      15,
                      15,
                      15
                    ]
                  },
                  "mode": "markers+text",
                  "name": "Entities",
                  "text": [
                    "Albert Einstein",
                    "in Philadelphia",
                    "said she",
                    "Ulm",
                    "Munich",
                    "Munich",
                    "Munich",
                    "Zurich",
                    "Zurich",
                    "Princeton",
                    "Princeton",
                    "Princeton",
                    "Princeton",
                    "Princeton",
                    "Princeton",
                    "New York",
                    "Switzerland",
                    "Germany",
                    "Germany",
                    "Germany",
                    "Germany",
                    "Italy",
                    "Italy",
                    "United States",
                    "United States",
                    "United States",
                    "United States",
                    "theory of relativity",
                    "theory of relativity and the equation E",
                    "theory of relativity in ",
                    "theory explains that space and time are actually connected",
                    "theory of relativity",
                    "theory the culmination of his life research",
                    "theory and key aspects of his general theory of relativity",
                    "theory of relativity allegedly came to him in a dream about cows being electrocuted",
                    "paper on the matter",
                    "Nobel Prize in Physics for his explanation of the photoelectric effect",
                    "Nobel Prize in the future",
                    "theory of relativity",
                    "theory of relativity",
                    "theory of relativity",
                    "theory of relativity",
                    "theory of relativity",
                    "theory of relativity",
                    "photoelectric effect",
                    "photoelectric effect",
                    "atomic bomb",
                    "Manhattan Project",
                    "atomic bomb",
                    "born in 1902",
                    "March 14, 1879",
                    "January 6, 1903",
                    "March 14, 1951",
                    "April 18, 1955",
                    "late 1940s",
                    "1880s",
                    "1890s",
                    "1940s",
                    "1879",
                    "1902",
                    "1905",
                    "1905",
                    "1915",
                    "1919",
                    "1905",
                    "1917",
                    "1933",
                    "1921",
                    "1903",
                    "1902",
                    "1902",
                    "1919",
                    "1919",
                    "1936",
                    "1933",
                    "1935",
                    "1939",
                    "1940",
                    "1945",
                    "1947",
                    "1946",
                    "1951",
                    "2017",
                    "1955",
                    "2014",
                    "1999",
                    "2011"
                  ],
                  "textfont": {
                    "color": "white",
                    "size": 10
                  },
                  "textposition": "middle center",
                  "type": "scatter",
                  "x": [
                    0.5854222837406384,
                    0.7911047686568764,
                    -0.7948931463069498,
                    -0.43093208090440577,
                    -0.480146917657268,
                    -0.3472909785448543,
                    -0.9178496160377961,
                    -0.2286015650596177,
                    0.6991718673266429,
                    -0.6694454911315768,
                    0.6685855666900029,
                    -0.903025685016773,
                    -0.12978522362592723,
                    -0.08981525146698191,
                    0.24941377752251245,
                    0.8947187490059979,
                    -0.5641447827561163,
                    -0.4230832827849608,
                    0.8241427316420827,
                    0.4635197548330556,
                    -0.5475291722560651,
                    0.981829963504847,
                    -0.16766492581756423,
                    0.8077512821091026,
                    0.8251624751043609,
                    0.85817198287861,
                    -0.6456541029322577,
                    -0.9014477557272991,
                    0.8648500377554547,
                    -0.35771385004906736,
                    0.967055770182425,
                    -0.27952343491514997,
                    -0.9631740680255083,
                    0.5055559090531272,
                    -0.23682974006524213,
                    -0.3153019835063351,
                    -0.020740378880621586,
                    0.9593284749473329,
                    -0.9349220369031221,
                    0.6998656640216859,
                    0.4031509627623863,
                    0.7064014770966011,
                    -0.0851751563838816,
                    -0.7557136004736348,
                    -0.9392383725082415,
                    0.34350813355066157,
                    0.59086512227788,
                    0.8330783227052606,
                    -0.7054735881867576,
                    0.9239118808176711,
                    0.6257346326215932,
                    0.12466428813346894,
                    0.8102907387340298,
                    0.23985238745297974,
                    -0.8000599298483321,
                    -0.993924135625626,
                    0.1684937720431206,
                    -0.0013283701552080358,
                    -0.8243480235081989,
                    -0.6865071814406116,
                    -0.8840512256700265,
                    0.10801216068212553,
                    -0.8884402662779067,
                    0.9394820553069891,
                    -0.8064490761138415,
                    -0.6317485001558143,
                    -0.8920466671304746,
                    0.33415472698096965,
                    0.21963099336890549,
                    0.6022347613520427,
                    -0.48576573460676553,
                    -0.9936817356431606,
                    0.9780643406738058,
                    -0.9170442963230274,
                    0.9899813757046811,
                    -0.8254168018011099,
                    0.369383648925677,
                    -0.9475440817655453,
                    0.8944037900007328,
                    0.9350733920022375,
                    0.4779517621736797,
                    -0.5909840246292829,
                    0.06587761377037935,
                    0.49023658760432426,
                    0.8032580484299824,
                    0.09858736843837487,
                    -0.7174791639664092
                  ],
                  "y": [
                    0.8514773608775172,
                    0.4836525440101826,
                    0.41925967172988904,
                    0.9244398376472946,
                    -0.8982319663574867,
                    -0.8874433603442025,
                    -0.18334973891097625,
                    -0.9061975479444833,
                    -0.5945993829331804,
                    0.7181015343821583,
                    0.5755067430038378,
                    -0.07643476254928196,
                    -0.9006757093052586,
                    0.940079130126821,
                    0.9235535374156307,
                    0.18853120676868856,
                    0.8183906061126786,
                    -0.7944487051965018,
                    -0.5389178360289266,
                    0.8895056174406257,
                    -0.7752938199290892,
                    0.06634444316539594,
                    0.978192058135159,
                    -0.6396072519594455,
                    0.33044893589435387,
                    0.5253412648206134,
                    -0.846384806571724,
                    -0.4767115498557532,
                    -0.2906050536638152,
                    0.8886444603534146,
                    -0.32088796357251936,
                    0.9707391639419379,
                    0.17888796374758245,
                    0.7443633884770184,
                    0.8788611315131221,
                    -0.9832690590702264,
                    0.987793850171181,
                    0.29899619977445097,
                    0.1036469523810489,
                    -0.7172671908696929,
                    0.8497213883950717,
                    0.7239665907762616,
                    -0.9912714389592018,
                    0.6580551468468717,
                    0.01914318523688521,
                    -0.9458918848501969,
                    -0.8315530222384275,
                    -0.092002748178595,
                    0.604941296498655,
                    0.412895452888783,
                    0.727593951356092,
                    0.8735095590856218,
                    -0.44955410938427975,
                    -0.7919493250663779,
                    -0.5073171470300109,
                    0.2797260337895043,
                    0.9739963517671526,
                    -0.9345816737254201,
                    -0.3574173256561145,
                    -0.7476843233437929,
                    0.5293624044060135,
                    -1,
                    0.38265368905748937,
                    -0.011201204779141681,
                    0.5405008059793907,
                    -0.6018121233845731,
                    0.2732671670816938,
                    0.9175903771462195,
                    -0.9398484550037357,
                    -0.7223256553034825,
                    0.8522389446032356,
                    -0.08778443687483145,
                    0.17391707974464152,
                    -0.35977795947074037,
                    -0.10056971812313022,
                    -0.6190464610151882,
                    -0.8427675542385472,
                    -0.2583133809360822,
                    -0.4121997866394943,
                    -0.19169378337562007,
                    -0.7570782670813786,
                    0.7467980815616205,
                    0.9666285337220641,
                    -0.9229420904708404,
                    0.6416476394601829,
                    -0.8824279448276049,
                    -0.643573756274688
                  ]
                }
              ],
              "layout": {
                "annotations": [
                  {
                    "font": {
                      "color": "#7F8C8D",
                      "size": 12
                    },
                    "showarrow": false,
                    "text": "Interactive CRM Network - Hover over nodes for details",
                    "x": 0.005,
                    "xanchor": "left",
                    "xref": "paper",
                    "y": -0.002,
                    "yanchor": "bottom",
                    "yref": "paper"
                  }
                ],
                "font": {
                  "family": "Arial, sans-serif"
                },
                "hovermode": "closest",
                "margin": {
                  "b": 20,
                  "l": 5,
                  "r": 5,
                  "t": 60
                },
                "paper_bgcolor": "white",
                "plot_bgcolor": "white",
                "showlegend": true,
                "template": {
                  "data": {
                    "bar": [
                      {
                        "error_x": {
                          "color": "#2a3f5f"
                        },
                        "error_y": {
                          "color": "#2a3f5f"
                        },
                        "marker": {
                          "line": {
                            "color": "#E5ECF6",
                            "width": 0.5
                          },
                          "pattern": {
                            "fillmode": "overlay",
                            "size": 10,
                            "solidity": 0.2
                          }
                        },
                        "type": "bar"
                      }
                    ],
                    "barpolar": [
                      {
                        "marker": {
                          "line": {
                            "color": "#E5ECF6",
                            "width": 0.5
                          },
                          "pattern": {
                            "fillmode": "overlay",
                            "size": 10,
                            "solidity": 0.2
                          }
                        },
                        "type": "barpolar"
                      }
                    ],
                    "carpet": [
                      {
                        "aaxis": {
                          "endlinecolor": "#2a3f5f",
                          "gridcolor": "white",
                          "linecolor": "white",
                          "minorgridcolor": "white",
                          "startlinecolor": "#2a3f5f"
                        },
                        "baxis": {
                          "endlinecolor": "#2a3f5f",
                          "gridcolor": "white",
                          "linecolor": "white",
                          "minorgridcolor": "white",
                          "startlinecolor": "#2a3f5f"
                        },
                        "type": "carpet"
                      }
                    ],
                    "choropleth": [
                      {
                        "colorbar": {
                          "outlinewidth": 0,
                          "ticks": ""
                        },
                        "type": "choropleth"
                      }
                    ],
                    "contour": [
                      {
                        "colorbar": {
                          "outlinewidth": 0,
                          "ticks": ""
                        },
                        "colorscale": [
                          [
                            0,
                            "#0d0887"
                          ],
                          [
                            0.1111111111111111,
                            "#46039f"
                          ],
                          [
                            0.2222222222222222,
                            "#7201a8"
                          ],
                          [
                            0.3333333333333333,
                            "#9c179e"
                          ],
                          [
                            0.4444444444444444,
                            "#bd3786"
                          ],
                          [
                            0.5555555555555556,
                            "#d8576b"
                          ],
                          [
                            0.6666666666666666,
                            "#ed7953"
                          ],
                          [
                            0.7777777777777778,
                            "#fb9f3a"
                          ],
                          [
                            0.8888888888888888,
                            "#fdca26"
                          ],
                          [
                            1,
                            "#f0f921"
                          ]
                        ],
                        "type": "contour"
                      }
                    ],
                    "contourcarpet": [
                      {
                        "colorbar": {
                          "outlinewidth": 0,
                          "ticks": ""
                        },
                        "type": "contourcarpet"
                      }
                    ],
                    "heatmap": [
                      {
                        "colorbar": {
                          "outlinewidth": 0,
                          "ticks": ""
                        },
                        "colorscale": [
                          [
                            0,
                            "#0d0887"
                          ],
                          [
                            0.1111111111111111,
                            "#46039f"
                          ],
                          [
                            0.2222222222222222,
                            "#7201a8"
                          ],
                          [
                            0.3333333333333333,
                            "#9c179e"
                          ],
                          [
                            0.4444444444444444,
                            "#bd3786"
                          ],
                          [
                            0.5555555555555556,
                            "#d8576b"
                          ],
                          [
                            0.6666666666666666,
                            "#ed7953"
                          ],
                          [
                            0.7777777777777778,
                            "#fb9f3a"
                          ],
                          [
                            0.8888888888888888,
                            "#fdca26"
                          ],
                          [
                            1,
                            "#f0f921"
                          ]
                        ],
                        "type": "heatmap"
                      }
                    ],
                    "histogram": [
                      {
                        "marker": {
                          "pattern": {
                            "fillmode": "overlay",
                            "size": 10,
                            "solidity": 0.2
                          }
                        },
                        "type": "histogram"
                      }
                    ],
                    "histogram2d": [
                      {
                        "colorbar": {
                          "outlinewidth": 0,
                          "ticks": ""
                        },
                        "colorscale": [
                          [
                            0,
                            "#0d0887"
                          ],
                          [
                            0.1111111111111111,
                            "#46039f"
                          ],
                          [
                            0.2222222222222222,
                            "#7201a8"
                          ],
                          [
                            0.3333333333333333,
                            "#9c179e"
                          ],
                          [
                            0.4444444444444444,
                            "#bd3786"
                          ],
                          [
                            0.5555555555555556,
                            "#d8576b"
                          ],
                          [
                            0.6666666666666666,
                            "#ed7953"
                          ],
                          [
                            0.7777777777777778,
                            "#fb9f3a"
                          ],
                          [
                            0.8888888888888888,
                            "#fdca26"
                          ],
                          [
                            1,
                            "#f0f921"
                          ]
                        ],
                        "type": "histogram2d"
                      }
                    ],
                    "histogram2dcontour": [
                      {
                        "colorbar": {
                          "outlinewidth": 0,
                          "ticks": ""
                        },
                        "colorscale": [
                          [
                            0,
                            "#0d0887"
                          ],
                          [
                            0.1111111111111111,
                            "#46039f"
                          ],
                          [
                            0.2222222222222222,
                            "#7201a8"
                          ],
                          [
                            0.3333333333333333,
                            "#9c179e"
                          ],
                          [
                            0.4444444444444444,
                            "#bd3786"
                          ],
                          [
                            0.5555555555555556,
                            "#d8576b"
                          ],
                          [
                            0.6666666666666666,
                            "#ed7953"
                          ],
                          [
                            0.7777777777777778,
                            "#fb9f3a"
                          ],
                          [
                            0.8888888888888888,
                            "#fdca26"
                          ],
                          [
                            1,
                            "#f0f921"
                          ]
                        ],
                        "type": "histogram2dcontour"
                      }
                    ],
                    "mesh3d": [
                      {
                        "colorbar": {
                          "outlinewidth": 0,
                          "ticks": ""
                        },
                        "type": "mesh3d"
                      }
                    ],
                    "parcoords": [
                      {
                        "line": {
                          "colorbar": {
                            "outlinewidth": 0,
                            "ticks": ""
                          }
                        },
                        "type": "parcoords"
                      }
                    ],
                    "pie": [
                      {
                        "automargin": true,
                        "type": "pie"
                      }
                    ],
                    "scatter": [
                      {
                        "fillpattern": {
                          "fillmode": "overlay",
                          "size": 10,
                          "solidity": 0.2
                        },
                        "type": "scatter"
                      }
                    ],
                    "scatter3d": [
                      {
                        "line": {
                          "colorbar": {
                            "outlinewidth": 0,
                            "ticks": ""
                          }
                        },
                        "marker": {
                          "colorbar": {
                            "outlinewidth": 0,
                            "ticks": ""
                          }
                        },
                        "type": "scatter3d"
                      }
                    ],
                    "scattercarpet": [
                      {
                        "marker": {
                          "colorbar": {
                            "outlinewidth": 0,
                            "ticks": ""
                          }
                        },
                        "type": "scattercarpet"
                      }
                    ],
                    "scattergeo": [
                      {
                        "marker": {
                          "colorbar": {
                            "outlinewidth": 0,
                            "ticks": ""
                          }
                        },
                        "type": "scattergeo"
                      }
                    ],
                    "scattergl": [
                      {
                        "marker": {
                          "colorbar": {
                            "outlinewidth": 0,
                            "ticks": ""
                          }
                        },
                        "type": "scattergl"
                      }
                    ],
                    "scattermap": [
                      {
                        "marker": {
                          "colorbar": {
                            "outlinewidth": 0,
                            "ticks": ""
                          }
                        },
                        "type": "scattermap"
                      }
                    ],
                    "scattermapbox": [
                      {
                        "marker": {
                          "colorbar": {
                            "outlinewidth": 0,
                            "ticks": ""
                          }
                        },
                        "type": "scattermapbox"
                      }
                    ],
                    "scatterpolar": [
                      {
                        "marker": {
                          "colorbar": {
                            "outlinewidth": 0,
                            "ticks": ""
                          }
                        },
                        "type": "scatterpolar"
                      }
                    ],
                    "scatterpolargl": [
                      {
                        "marker": {
                          "colorbar": {
                            "outlinewidth": 0,
                            "ticks": ""
                          }
                        },
                        "type": "scatterpolargl"
                      }
                    ],
                    "scatterternary": [
                      {
                        "marker": {
                          "colorbar": {
                            "outlinewidth": 0,
                            "ticks": ""
                          }
                        },
                        "type": "scatterternary"
                      }
                    ],
                    "surface": [
                      {
                        "colorbar": {
                          "outlinewidth": 0,
                          "ticks": ""
                        },
                        "colorscale": [
                          [
                            0,
                            "#0d0887"
                          ],
                          [
                            0.1111111111111111,
                            "#46039f"
                          ],
                          [
                            0.2222222222222222,
                            "#7201a8"
                          ],
                          [
                            0.3333333333333333,
                            "#9c179e"
                          ],
                          [
                            0.4444444444444444,
                            "#bd3786"
                          ],
                          [
                            0.5555555555555556,
                            "#d8576b"
                          ],
                          [
                            0.6666666666666666,
                            "#ed7953"
                          ],
                          [
                            0.7777777777777778,
                            "#fb9f3a"
                          ],
                          [
                            0.8888888888888888,
                            "#fdca26"
                          ],
                          [
                            1,
                            "#f0f921"
                          ]
                        ],
                        "type": "surface"
                      }
                    ],
                    "table": [
                      {
                        "cells": {
                          "fill": {
                            "color": "#EBF0F8"
                          },
                          "line": {
                            "color": "white"
                          }
                        },
                        "header": {
                          "fill": {
                            "color": "#C8D4E3"
                          },
                          "line": {
                            "color": "white"
                          }
                        },
                        "type": "table"
                      }
                    ]
                  },
                  "layout": {
                    "annotationdefaults": {
                      "arrowcolor": "#2a3f5f",
                      "arrowhead": 0,
                      "arrowwidth": 1
                    },
                    "autotypenumbers": "strict",
                    "coloraxis": {
                      "colorbar": {
                        "outlinewidth": 0,
                        "ticks": ""
                      }
                    },
                    "colorscale": {
                      "diverging": [
                        [
                          0,
                          "#8e0152"
                        ],
                        [
                          0.1,
                          "#c51b7d"
                        ],
                        [
                          0.2,
                          "#de77ae"
                        ],
                        [
                          0.3,
                          "#f1b6da"
                        ],
                        [
                          0.4,
                          "#fde0ef"
                        ],
                        [
                          0.5,
                          "#f7f7f7"
                        ],
                        [
                          0.6,
                          "#e6f5d0"
                        ],
                        [
                          0.7,
                          "#b8e186"
                        ],
                        [
                          0.8,
                          "#7fbc41"
                        ],
                        [
                          0.9,
                          "#4d9221"
                        ],
                        [
                          1,
                          "#276419"
                        ]
                      ],
                      "sequential": [
                        [
                          0,
                          "#0d0887"
                        ],
                        [
                          0.1111111111111111,
                          "#46039f"
                        ],
                        [
                          0.2222222222222222,
                          "#7201a8"
                        ],
                        [
                          0.3333333333333333,
                          "#9c179e"
                        ],
                        [
                          0.4444444444444444,
                          "#bd3786"
                        ],
                        [
                          0.5555555555555556,
                          "#d8576b"
                        ],
                        [
                          0.6666666666666666,
                          "#ed7953"
                        ],
                        [
                          0.7777777777777778,
                          "#fb9f3a"
                        ],
                        [
                          0.8888888888888888,
                          "#fdca26"
                        ],
                        [
                          1,
                          "#f0f921"
                        ]
                      ],
                      "sequentialminus": [
                        [
                          0,
                          "#0d0887"
                        ],
                        [
                          0.1111111111111111,
                          "#46039f"
                        ],
                        [
                          0.2222222222222222,
                          "#7201a8"
                        ],
                        [
                          0.3333333333333333,
                          "#9c179e"
                        ],
                        [
                          0.4444444444444444,
                          "#bd3786"
                        ],
                        [
                          0.5555555555555556,
                          "#d8576b"
                        ],
                        [
                          0.6666666666666666,
                          "#ed7953"
                        ],
                        [
                          0.7777777777777778,
                          "#fb9f3a"
                        ],
                        [
                          0.8888888888888888,
                          "#fdca26"
                        ],
                        [
                          1,
                          "#f0f921"
                        ]
                      ]
                    },
                    "colorway": [
                      "#636efa",
                      "#EF553B",
                      "#00cc96",
                      "#ab63fa",
                      "#FFA15A",
                      "#19d3f3",
                      "#FF6692",
                      "#B6E880",
                      "#FF97FF",
                      "#FECB52"
                    ],
                    "font": {
                      "color": "#2a3f5f"
                    },
                    "geo": {
                      "bgcolor": "white",
                      "lakecolor": "white",
                      "landcolor": "#E5ECF6",
                      "showlakes": true,
                      "showland": true,
                      "subunitcolor": "white"
                    },
                    "hoverlabel": {
                      "align": "left"
                    },
                    "hovermode": "closest",
                    "mapbox": {
                      "style": "light"
                    },
                    "paper_bgcolor": "white",
                    "plot_bgcolor": "#E5ECF6",
                    "polar": {
                      "angularaxis": {
                        "gridcolor": "white",
                        "linecolor": "white",
                        "ticks": ""
                      },
                      "bgcolor": "#E5ECF6",
                      "radialaxis": {
                        "gridcolor": "white",
                        "linecolor": "white",
                        "ticks": ""
                      }
                    },
                    "scene": {
                      "xaxis": {
                        "backgroundcolor": "#E5ECF6",
                        "gridcolor": "white",
                        "gridwidth": 2,
                        "linecolor": "white",
                        "showbackground": true,
                        "ticks": "",
                        "zerolinecolor": "white"
                      },
                      "yaxis": {
                        "backgroundcolor": "#E5ECF6",
                        "gridcolor": "white",
                        "gridwidth": 2,
                        "linecolor": "white",
                        "showbackground": true,
                        "ticks": "",
                        "zerolinecolor": "white"
                      },
                      "zaxis": {
                        "backgroundcolor": "#E5ECF6",
                        "gridcolor": "white",
                        "gridwidth": 2,
                        "linecolor": "white",
                        "showbackground": true,
                        "ticks": "",
                        "zerolinecolor": "white"
                      }
                    },
                    "shapedefaults": {
                      "line": {
                        "color": "#2a3f5f"
                      }
                    },
                    "ternary": {
                      "aaxis": {
                        "gridcolor": "white",
                        "linecolor": "white",
                        "ticks": ""
                      },
                      "baxis": {
                        "gridcolor": "white",
                        "linecolor": "white",
                        "ticks": ""
                      },
                      "bgcolor": "#E5ECF6",
                      "caxis": {
                        "gridcolor": "white",
                        "linecolor": "white",
                        "ticks": ""
                      }
                    },
                    "title": {
                      "x": 0.05
                    },
                    "xaxis": {
                      "automargin": true,
                      "gridcolor": "white",
                      "linecolor": "white",
                      "ticks": "",
                      "title": {
                        "standoff": 15
                      },
                      "zerolinecolor": "white",
                      "zerolinewidth": 2
                    },
                    "yaxis": {
                      "automargin": true,
                      "gridcolor": "white",
                      "linecolor": "white",
                      "ticks": "",
                      "title": {
                        "standoff": 15
                      },
                      "zerolinecolor": "white",
                      "zerolinewidth": 2
                    }
                  }
                },
                "title": {
                  "font": {
                    "color": "#2C3E50",
                    "size": 20
                  },
                  "text": "Enhanced Interactive Einstein Network",
                  "x": 0.5
                },
                "xaxis": {
                  "showgrid": false,
                  "showticklabels": false,
                  "zeroline": false
                },
                "yaxis": {
                  "showgrid": false,
                  "showticklabels": false,
                  "zeroline": false
                }
              }
            }
          },
          "metadata": {},
          "output_type": "display_data"
        },
        {
          "name": "stdout",
          "output_type": "stream",
          "text": [
            "\n",
            "🎯 Enhanced Features:\n",
            "  - Better hover information with entity details\n",
            "  - Improved color scheme for entity types\n",
            "  - Dynamic node sizing based on degree\n",
            "  - Enhanced styling and layout\n",
            "  - Interactive zoom and pan capabilities\n"
          ]
        }
      ],
      "source": [
        "# Create advanced interactive visualizations with enhanced features\n",
        "print(\"🎨 Creating advanced interactive visualizations...\")\n",
        "\n",
        "# Enhanced interactive plot with better hover information\n",
        "def create_enhanced_interactive_plot(graph, title, node_size_multiplier=20, edge_width_multiplier=2):\n",
        "    \"\"\"Create an enhanced interactive plot with better hover information and styling.\"\"\"\n",
        "    \n",
        "    # Get layout positions\n",
        "    pos = nx.spring_layout(graph, k=3, iterations=50)\n",
        "    \n",
        "    # Prepare edge traces with enhanced styling\n",
        "    edge_x = []\n",
        "    edge_y = []\n",
        "    edge_hovertext = []\n",
        "    \n",
        "    for edge in graph.edges(data=True):\n",
        "        x0, y0 = pos[edge[0]]\n",
        "        x1, y1 = pos[edge[1]]\n",
        "        edge_x.extend([x0, x1, None])\n",
        "        edge_y.extend([y0, y1, None])\n",
        "        \n",
        "        # Enhanced edge hover information\n",
        "        edge_data = edge[2]\n",
        "        property_code = edge_data.get('property_code', 'Unknown')\n",
        "        edge_hovertext.append(f\"Relationship: {property_code}<br>From: {edge[0]}<br>To: {edge[1]}\")\n",
        "    \n",
        "    edge_trace = go.Scatter(\n",
        "        x=edge_x, y=edge_y,\n",
        "        line=dict(width=edge_width_multiplier, color=\"#888\"),\n",
        "        hoverinfo=\"none\",\n",
        "        mode=\"lines\",\n",
        "        name=\"Relationships\"\n",
        "    )\n",
        "    \n",
        "    # Prepare node traces with enhanced information\n",
        "    node_x = []\n",
        "    node_y = []\n",
        "    node_text = []\n",
        "    node_hovertext = []\n",
        "    node_colors = []\n",
        "    node_sizes = []\n",
        "    node_labels = []\n",
        "    \n",
        "    for node in graph.nodes():\n",
        "        x, y = pos[node]\n",
        "        node_x.append(x)\n",
        "        node_y.append(y)\n",
        "        \n",
        "        node_data = graph.nodes[node]\n",
        "        label = node_data.get('label', node)\n",
        "        class_code = node_data.get('class_code', 'Unknown')\n",
        "        degree = graph.degree(node)\n",
        "        \n",
        "        node_text.append(label)\n",
        "        node_labels.append(label)\n",
        "        \n",
        "        # Enhanced hover information\n",
        "        hover_info = f\"\"\"\n",
        "        <b>{label}</b><br>\n",
        "        ID: {node}<br>\n",
        "        Class: {class_code}<br>\n",
        "        Degree: {degree}<br>\n",
        "        Type: {node_data.get('type', 'Unknown')}\n",
        "        \"\"\"\n",
        "        node_hovertext.append(hover_info)\n",
        "        \n",
        "        # Color by class code with better color scheme\n",
        "        color_map = {\n",
        "            \"E21\": \"#FF6B6B\",      # Person - Red\n",
        "            \"E5\": \"#4ECDC4\",       # Event - Teal\n",
        "            \"E53\": \"#45B7D1\",      # Place - Blue\n",
        "            \"E22\": \"#96CEB4\",      # Object - Green\n",
        "            \"E52\": \"#FFEAA7\",      # Time - Yellow\n",
        "            \"E12\": \"#DDA0DD\",      # Production - Purple\n",
        "            \"E39\": \"#F39C12\",      # Actor - Orange\n",
        "        }\n",
        "        node_colors.append(color_map.get(class_code, \"#95A5A6\"))\n",
        "        \n",
        "        # Size by degree with better scaling\n",
        "        node_sizes.append(max(15, degree * node_size_multiplier + 10))\n",
        "    \n",
        "    node_trace = go.Scatter(\n",
        "        x=node_x, y=node_y,\n",
        "        mode=\"markers+text\",\n",
        "        hoverinfo=\"text\",\n",
        "        hovertext=node_hovertext,\n",
        "        text=node_text,\n",
        "        textposition=\"middle center\",\n",
        "        textfont=dict(size=10, color=\"white\"),\n",
        "        marker=dict(\n",
        "            size=node_sizes,\n",
        "            color=node_colors,\n",
        "            line=dict(width=2, color=\"white\"),\n",
        "            opacity=0.8\n",
        "        ),\n",
        "        name=\"Entities\"\n",
        "    )\n",
        "    \n",
        "    # Create figure with enhanced layout\n",
        "    fig = go.Figure(\n",
        "        data=[edge_trace, node_trace],\n",
        "        layout=go.Layout(\n",
        "            title=dict(\n",
        "                text=title,\n",
        "                font=dict(size=20, color=\"#2C3E50\"),\n",
        "                x=0.5\n",
        "            ),\n",
        "            showlegend=True,\n",
        "            hovermode=\"closest\",\n",
        "            margin=dict(b=20, l=5, r=5, t=60),\n",
        "            annotations=[\n",
        "                dict(\n",
        "                    text=\"Interactive CRM Network - Hover over nodes for details\",\n",
        "                    showarrow=False,\n",
        "                    xref=\"paper\", yref=\"paper\",\n",
        "                    x=0.005, y=-0.002,\n",
        "                    xanchor=\"left\", yanchor=\"bottom\",\n",
        "                    font=dict(color=\"#7F8C8D\", size=12)\n",
        "                )\n",
        "            ],\n",
        "            xaxis=dict(showgrid=False, zeroline=False, showticklabels=False),\n",
        "            yaxis=dict(showgrid=False, zeroline=False, showticklabels=False),\n",
        "            plot_bgcolor=\"white\",\n",
        "            paper_bgcolor=\"white\",\n",
        "            font=dict(family=\"Arial, sans-serif\")\n",
        "        )\n",
        "    )\n",
        "    \n",
        "    return fig\n",
        "\n",
        "# Create enhanced interactive plot\n",
        "enhanced_fig = create_enhanced_interactive_plot(\n",
        "    graph,\n",
        "    title=\"Enhanced Interactive Einstein Network\",\n",
        "    node_size_multiplier=25,\n",
        "    edge_width_multiplier=2\n",
        ")\n",
        "\n",
        "# Save enhanced plot\n",
        "enhanced_file = plots_dir / \"enhanced_interactive_network.html\"\n",
        "enhanced_fig.write_html(str(enhanced_file))\n",
        "print(f\"✅ Generated enhanced interactive plot: {enhanced_file}\")\n",
        "\n",
        "# Display enhanced visualization\n",
        "try:\n",
        "    enhanced_fig.show()\n",
        "except ValueError as e:\n",
        "    print(f\"⚠️  Display issue: {e}\")\n",
        "    print(f\"📁 Enhanced plot saved: {enhanced_file}\")\n",
        "    print(\"💡 Tip: Open the HTML file in your browser to view the interactive plot\")\n",
        "\n",
        "print(\"\\n🎯 Enhanced Features:\")\n",
        "print(\"  - Better hover information with entity details\")\n",
        "print(\"  - Improved color scheme for entity types\")\n",
        "print(\"  - Dynamic node sizing based on degree\")\n",
        "print(\"  - Enhanced styling and layout\")\n",
        "print(\"  - Interactive zoom and pan capabilities\")\n"
      ]
    },
    {
      "cell_type": "markdown",
      "metadata": {},
      "source": [
        "## 📋 How to View Your Interactive Plots\n",
        "\n",
        "If you encountered display issues in the notebook, here are several ways to view your interactive Plotly visualizations:\n",
        "\n",
        "### Method 1: Open HTML Files in Browser\n",
        "All interactive plots are saved as HTML files in the `plots/` directory. You can:\n",
        "1. Navigate to the `notebook_output/plots/` folder\n",
        "2. Double-click any `.html` file to open it in your browser\n",
        "3. Enjoy the full interactive experience with zoom, pan, and hover features\n",
        "\n",
        "### Method 2: Use Alternative Display Methods\n",
        "```python\n",
        "# Alternative 1: Display with specific renderer\n",
        "import plotly.io as pio\n",
        "pio.renderers.default = \"browser\"  # Opens in browser\n",
        "fig.show()\n",
        "\n",
        "# Alternative 2: Display as static image\n",
        "fig.show(\"png\")  # Saves as PNG\n",
        "\n",
        "# Alternative 3: Display in iframe\n",
        "from IPython.display import HTML\n",
        "HTML(fig.to_html(include_plotlyjs='cdn'))\n",
        "```\n",
        "\n",
        "### Method 3: Fix Jupyter Environment\n",
        "To fix the display issue permanently:\n",
        "1. Restart your Jupyter server\n",
        "2. Change kernel to \"Collie (uv)\" in your notebook\n",
        "3. Re-run the cells\n",
        "\n",
        "### Generated Files\n",
        "- `network_overview.html` - Main interactive network\n",
        "- `community_structure.html` - Community analysis\n",
        "- `centrality_analysis.html` - Centrality analysis  \n",
        "- `interactive_network.html` - Complete network view\n",
        "- `enhanced_interactive_network.html` - Enhanced version with rich hover info\n"
      ]
    },
    {
      "cell_type": "code",
      "execution_count": 12,
      "metadata": {},
      "outputs": [
        {
          "name": "stdout",
          "output_type": "stream",
          "text": [
            "🔧 Alternative Display Methods\n",
            "\n",
            "1. Browser Display:\n",
            "✅ Browser renderer set - plots will open in browser\n",
            "\n",
            "2. Static Image Display:\n",
            "❌ Static image display failed: \n",
            "Image export using the \"kaleido\" engine requires the Kaleido package,\n",
            "which can be installed using pip:\n",
            "\n",
            "    $ pip install --upgrade kaleido\n",
            "\n",
            "\n",
            "3. HTML Display:\n",
            "✅ HTML display ready - you can use HTML(html_content) to display\n",
            "\n",
            "💡 Recommendation: Use the HTML files in your browser for the best interactive experience!\n"
          ]
        }
      ],
      "source": [
        "# Alternative display methods for Plotly visualizations\n",
        "print(\"🔧 Alternative Display Methods\")\n",
        "\n",
        "# Method 1: Display with browser renderer\n",
        "print(\"\\n1. Browser Display:\")\n",
        "try:\n",
        "    import plotly.io as pio\n",
        "    pio.renderers.default = \"browser\"\n",
        "    print(\"✅ Browser renderer set - plots will open in browser\")\n",
        "except Exception as e:\n",
        "    print(f\"❌ Browser renderer failed: {e}\")\n",
        "\n",
        "# Method 2: Display as static image\n",
        "print(\"\\n2. Static Image Display:\")\n",
        "try:\n",
        "    # Create a simple test plot\n",
        "    import plotly.graph_objects as go\n",
        "    test_fig = go.Figure(data=go.Scatter(x=[1, 2, 3], y=[4, 5, 6]))\n",
        "    \n",
        "    # Save as PNG\n",
        "    test_fig.write_image(plots_dir / \"test_plot.png\")\n",
        "    print(\"✅ Static image display works - test plot saved as PNG\")\n",
        "except Exception as e:\n",
        "    print(f\"❌ Static image display failed: {e}\")\n",
        "\n",
        "# Method 3: HTML display with IPython\n",
        "print(\"\\n3. HTML Display:\")\n",
        "try:\n",
        "    from IPython.display import HTML\n",
        "    html_content = enhanced_fig.to_html(include_plotlyjs='cdn')\n",
        "    print(\"✅ HTML display ready - you can use HTML(html_content) to display\")\n",
        "except Exception as e:\n",
        "    print(f\"❌ HTML display failed: {e}\")\n",
        "\n",
        "print(\"\\n💡 Recommendation: Use the HTML files in your browser for the best interactive experience!\")\n"
      ]
    },
    {
      "cell_type": "markdown",
      "metadata": {},
      "source": [
        "## Step 10: Export to Cypher\n",
        "\n",
        "Generate Cypher scripts for importing the data into graph databases like Neo4j or Memgraph.\n"
      ]
    },
    {
      "cell_type": "code",
      "execution_count": 13,
      "metadata": {},
      "outputs": [
        {
          "name": "stdout",
          "output_type": "stream",
          "text": [
            "🔗 Generating Cypher script...\n",
            "✅ Generated Cypher script: notebook_output/network.cypher\n",
            "\n",
            "📋 Cypher Script Preview:\n",
            "-- Create constraints\n",
            "CREATE CONSTRAINT crm_id IF NOT EXISTS FOR (n:CRM) REQUIRE n.id IS UNIQUE;\n",
            "CREATE CONSTRAINT crm_class_code IF NOT EXISTS FOR (n:CRM) REQUIRE n.class_code IS NOT NULL;\n",
            "\n",
            "-- Create nodes\n",
            "UNWIND $nodes_0 AS n\n",
            "MERGE (x:CRM {id: n.id})\n",
            "SET x.label = coalesce(n.label, x.label)\n",
            "SET x.class_code = n.class_code\n",
            "SET x.notes = coalesce(n.notes, x.notes)\n",
            "SET x.type = coalesce(n.type, x.type);\n",
            "\n"
          ]
        }
      ],
      "source": [
        "# Generate Cypher script\n",
        "print(\"🔗 Generating Cypher script...\")\n",
        "cypher_script = generate_cypher_script(crm_entities)\n",
        "\n",
        "# Save Cypher script\n",
        "cypher_file = output_dir / \"network.cypher\"\n",
        "with open(cypher_file, \"w\") as f:\n",
        "    f.write(cypher_script)\n",
        "\n",
        "print(f\"✅ Generated Cypher script: {cypher_file}\")\n",
        "\n",
        "# Display first part of Cypher script\n",
        "print(\"\\n📋 Cypher Script Preview:\")\n",
        "cypher_lines = cypher_script.split('\\n')\n",
        "for line in cypher_lines[:20]:  # Show first 20 lines\n",
        "    print(line)\n",
        "if len(cypher_lines) > 20:\n",
        "    print(f\"... ({len(cypher_lines) - 20} more lines)\")\n"
      ]
    },
    {
      "cell_type": "markdown",
      "metadata": {},
      "source": [
        "## Step 11: Create Summary Report\n",
        "\n",
        "Generate a comprehensive summary report of the entire workflow.\n"
      ]
    },
    {
      "cell_type": "code",
      "execution_count": 14,
      "metadata": {},
      "outputs": [
        {
          "name": "stdout",
          "output_type": "stream",
          "text": [
            "📋 Creating summary report...\n",
            "✅ Created summary report: notebook_output/workflow_summary.md\n",
            "\n",
            "📊 Workflow Summary:\n",
            "  Input text length: 14569 characters\n",
            "  Entities extracted: 87\n",
            "  Relationships extracted: 0\n",
            "  Network nodes: 87\n",
            "  Network edges: 0\n",
            "  Communities found: 0\n",
            "  Output directory: notebook_output\n"
          ]
        }
      ],
      "source": [
        "# Create summary report\n",
        "print(\"📋 Creating summary report...\")\n",
        "\n",
        "summary_file = output_dir / \"workflow_summary.md\"\n",
        "with open(summary_file, \"w\") as f:\n",
        "    f.write(\"# COLLIE Workflow Summary\\n\\n\")\n",
        "    f.write(f\"## Input Text\\n\\n{sample_text[:200]}...\\n\\n\")\n",
        "    f.write(f\"## Extraction Results\\n\\n\")\n",
        "    f.write(f\"- Entities extracted: {len(extraction_result.entities)}\\n\")\n",
        "    f.write(f\"- Relationships extracted: {len(extraction_result.relationships)}\\n\\n\")\n",
        "    f.write(f\"## Network Analysis\\n\\n\")\n",
        "    f.write(f\"- Nodes: {graph.number_of_nodes()}\\n\")\n",
        "    f.write(f\"- Edges: {graph.number_of_edges()}\\n\")\n",
        "    f.write(f\"- Density: {network_stats['basic_metrics']['density']:.3f}\\n\")\n",
        "    f.write(f\"- Communities: {len(communities)}\\n\\n\")\n",
        "    f.write(f\"## Output Files\\n\\n\")\n",
        "    f.write(f\"- Canonical JSON: {json_file}\\n\")\n",
        "    f.write(f\"- Markdown reports: {markdown_dir}\\n\")\n",
        "    f.write(f\"- Network plots: {plots_dir}\\n\")\n",
        "    f.write(f\"- Cypher script: {cypher_file}\\n\")\n",
        "\n",
        "print(f\"✅ Created summary report: {summary_file}\")\n",
        "\n",
        "# Display summary\n",
        "print(\"\\n📊 Workflow Summary:\")\n",
        "print(f\"  Input text length: {len(sample_text)} characters\")\n",
        "print(f\"  Entities extracted: {len(extraction_result.entities)}\")\n",
        "print(f\"  Relationships extracted: {len(extraction_result.relationships)}\")\n",
        "print(f\"  Network nodes: {graph.number_of_nodes()}\")\n",
        "print(f\"  Network edges: {graph.number_of_edges()}\")\n",
        "print(f\"  Communities found: {len(communities)}\")\n",
        "print(f\"  Output directory: {output_dir}\")\n"
      ]
    },
    {
      "cell_type": "markdown",
      "metadata": {},
      "source": [
        "## 🎉 Complete Workflow Demo Finished!\n",
        "\n",
        "### What We Accomplished:\n",
        "\n",
        "1. **✅ AI Extraction**: Used PydanticAI to extract CRM entities from text\n",
        "2. **✅ Canonical JSON**: Serialized entities for async/future processing\n",
        "3. **✅ Markdown Reports**: Generated human-readable documentation\n",
        "4. **✅ Network Analysis**: Created NetworkX graph and performed analysis\n",
        "5. **✅ Interactive Visualizations**: Created multiple Plotly-based interactive plots\n",
        "6. **✅ Enhanced Features**: Added advanced hover information and styling\n",
        "7. **✅ Cypher Export**: Generated scripts for graph database import\n",
        "8. **✅ Summary Report**: Documented the complete workflow\n",
        "\n",
        "### Key Improvements with Plotly:\n",
        "\n",
        "- **Interactive Exploration**: Zoom, pan, and hover over nodes for detailed information\n",
        "- **Enhanced Styling**: Better color schemes and visual design\n",
        "- **Multiple Views**: Community structure, centrality analysis, and complete network views\n",
        "- **Rich Hover Information**: Detailed entity information on hover\n",
        "- **Export Capabilities**: Save interactive HTML files for sharing\n",
        "\n",
        "### Key Files Generated:\n",
        "\n",
        "- `canonical_entities.json` - **Most important!** Ready for graph databases\n",
        "- `network_overview.png` - Static visualization\n",
        "- `interactive_network.html` - Interactive Plotly visualization\n",
        "- `network.cypher` - Neo4j/Memgraph import script\n",
        "- `workflow_summary.md` - Complete analysis report\n",
        "\n",
        "### Next Steps:\n",
        "\n",
        "1. **Import to Graph Database**: Use the Cypher script with Neo4j or Memgraph\n",
        "2. **API Integration**: Use canonical JSON for web services\n",
        "3. **Batch Processing**: Process multiple texts using the same workflow\n",
        "4. **Advanced Analysis**: Explore more NetworkX algorithms and visualizations\n",
        "\n",
        "The canonical JSON serialization ensures your extracted data is ready for any future processing needs! 🚀\n"
      ]
    },
    {
      "cell_type": "markdown",
      "metadata": {},
      "source": [
        "## 🔧 Advanced Usage Examples\n",
        "\n",
        "### Custom Entity Creation\n",
        "\n",
        "You can also create entities manually and add them to the workflow:\n"
      ]
    },
    {
      "cell_type": "code",
      "execution_count": 15,
      "metadata": {},
      "outputs": [
        {
          "name": "stdout",
          "output_type": "stream",
          "text": [
            "✅ Created 3 custom entities\n",
            "✅ Total entities: 90\n",
            "✅ Extended graph: 90 nodes, 0 edges\n"
          ]
        }
      ],
      "source": [
        "# Create custom entities\n",
        "custom_entities = [\n",
        "    CRMEntity(id=\"custom1\", class_code=\"E21\", label=\"Marie Curie\"),\n",
        "    CRMEntity(id=\"custom2\", class_code=\"E53\", label=\"Paris\"),\n",
        "    CRMEntity(id=\"custom3\", class_code=\"E5\", label=\"Nobel Prize in Physics 1903\")\n",
        "]\n",
        "\n",
        "# Add to existing entities\n",
        "all_entities = crm_entities + custom_entities\n",
        "\n",
        "print(f\"✅ Created {len(custom_entities)} custom entities\")\n",
        "print(f\"✅ Total entities: {len(all_entities)}\")\n",
        "\n",
        "# Create new graph with all entities\n",
        "extended_graph = to_networkx_graph(all_entities)\n",
        "print(f\"✅ Extended graph: {extended_graph.number_of_nodes()} nodes, {extended_graph.number_of_edges()} edges\")\n"
      ]
    },
    {
      "cell_type": "markdown",
      "metadata": {},
      "source": [
        "### Batch Processing Multiple Texts\n",
        "\n",
        "Process multiple texts and combine the results:\n"
      ]
    },
    {
      "cell_type": "code",
      "execution_count": 16,
      "metadata": {},
      "outputs": [
        {
          "name": "stdout",
          "output_type": "stream",
          "text": [
            "🔄 Processing multiple texts...\n",
            "\n",
            "Processing text 1: Isaac Newton discovered the laws of motion in Engl...\n",
            "  Extracted 1 entities\n",
            "\n",
            "Processing text 2: Galileo Galilei was an Italian astronomer and phys...\n",
            "  Extracted 2 entities\n",
            "\n",
            "Processing text 3: Charles Darwin developed the theory of evolution b...\n",
            "  Extracted 2 entities\n",
            "\n",
            "✅ Total entities from all texts: 5\n",
            "✅ Saved batch canonical JSON: notebook_output/batch_canonical_entities.json\n"
          ]
        }
      ],
      "source": [
        "# Multiple texts for batch processing\n",
        "texts = [\n",
        "    \"Isaac Newton discovered the laws of motion in England.\",\n",
        "    \"Galileo Galilei was an Italian astronomer and physicist.\",\n",
        "    \"Charles Darwin developed the theory of evolution by natural selection.\"\n",
        "]\n",
        "\n",
        "print(\"🔄 Processing multiple texts...\")\n",
        "all_extracted_entities = []\n",
        "\n",
        "for i, text in enumerate(texts, 1):\n",
        "    print(f\"\\nProcessing text {i}: {text[:50]}...\")\n",
        "    result = await extractor.extract_from_text(text)\n",
        "    all_extracted_entities.extend(result.entities)\n",
        "    print(f\"  Extracted {len(result.entities)} entities\")\n",
        "\n",
        "print(f\"\\n✅ Total entities from all texts: {len(all_extracted_entities)}\")\n",
        "\n",
        "# Convert to CRM entities\n",
        "batch_crm_entities = []\n",
        "for entity in all_extracted_entities:\n",
        "    crm_entity = CRMEntity(\n",
        "        id=str(entity.id),\n",
        "        class_code=entity.class_code,\n",
        "        label=entity.label,\n",
        "        notes=entity.description\n",
        "    )\n",
        "    batch_crm_entities.append(crm_entity)\n",
        "\n",
        "# Serialize batch results\n",
        "batch_json = [entity.model_dump(mode='json') for entity in batch_crm_entities]\n",
        "batch_file = output_dir / \"batch_canonical_entities.json\"\n",
        "with open(batch_file, \"w\") as f:\n",
        "    json.dump(batch_json, f, indent=2)\n",
        "\n",
        "print(f\"✅ Saved batch canonical JSON: {batch_file}\")\n"
      ]
    },
    {
      "cell_type": "markdown",
      "metadata": {},
      "source": [
        "### Loading and Analyzing Existing Data\n",
        "\n",
        "Load previously saved canonical JSON and analyze it:\n"
      ]
    },
    {
      "cell_type": "code",
      "execution_count": 17,
      "metadata": {},
      "outputs": [
        {
          "name": "stdout",
          "output_type": "stream",
          "text": [
            "📖 Loading existing canonical JSON...\n",
            "✅ Loaded 87 entities from existing JSON\n",
            "✅ Recreated graph: 87 nodes, 0 edges\n",
            "✅ Found 0 communities\n"
          ]
        }
      ],
      "source": [
        "# Load existing canonical JSON\n",
        "print(\"📖 Loading existing canonical JSON...\")\n",
        "with open(json_file, \"r\") as f:\n",
        "    existing_data = json.load(f)\n",
        "\n",
        "# Convert back to CRM entities\n",
        "loaded_entities = []\n",
        "for entity_data in existing_data:\n",
        "    entity = CRMEntity(**entity_data)\n",
        "    loaded_entities.append(entity)\n",
        "\n",
        "print(f\"✅ Loaded {len(loaded_entities)} entities from existing JSON\")\n",
        "\n",
        "# Create new analysis\n",
        "loaded_graph = to_networkx_graph(loaded_entities)\n",
        "loaded_centrality = calculate_centrality_measures(loaded_graph)\n",
        "loaded_communities = find_communities(loaded_graph)\n",
        "\n",
        "print(f\"✅ Recreated graph: {loaded_graph.number_of_nodes()} nodes, {loaded_graph.number_of_edges()} edges\")\n",
        "print(f\"✅ Found {len(loaded_communities)} communities\")\n",
        "\n",
        "# This demonstrates the power of canonical JSON - you can always recreate the analysis!\n"
      ]
    }
  ],
  "metadata": {
    "kernelspec": {
      "display_name": ".venv",
      "language": "python",
      "name": "python3"
    },
    "language_info": {
      "codemirror_mode": {
        "name": "ipython",
        "version": 3
      },
      "file_extension": ".py",
      "mimetype": "text/x-python",
      "name": "python",
      "nbconvert_exporter": "python",
      "pygments_lexer": "ipython3",
      "version": "3.13.7"
    }
  },
  "nbformat": 4,
  "nbformat_minor": 2
}
