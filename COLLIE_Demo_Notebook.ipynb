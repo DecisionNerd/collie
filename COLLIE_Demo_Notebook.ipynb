{
  "cells": [
    {
      "cell_type": "markdown",
      "metadata": {},
      "source": [
        "# COLLIE: Complete Workflow Demo\n",
        "\n",
        "This notebook demonstrates the complete COLLIE workflow for cultural heritage information extraction and analysis:\n",
        "\n",
        "1. **AI-powered Information Extraction** using PydanticAI\n",
        "2. **Canonical JSON Serialization** for async/future processing\n",
        "3. **Markdown Rendering** for human-readable reports\n",
        "4. **NetworkX Graph Analysis** for social network analysis\n",
        "5. **Interactive Visualization** with Plotly\n",
        "6. **Cypher Export** for graph database integration\n",
        "\n",
        "## Setup\n",
        "\n",
        "First, let's import all necessary libraries and set up our environment.\n"
      ]
    },
    {
      "cell_type": "code",
      "execution_count": 1,
      "metadata": {},
      "outputs": [
        {
          "name": "stdout",
          "output_type": "stream",
          "text": [
            "✅ All imports successful!\n",
            "📁 Working directory: /Users/davidspencer/Documents/GitHub/collie\n"
          ]
        }
      ],
      "source": [
        "import asyncio\n",
        "import json\n",
        "import sys\n",
        "from pathlib import Path\n",
        "from typing import List\n",
        "\n",
        "# Add src to path for imports\n",
        "sys.path.insert(0, str(Path.cwd() / \"src\"))\n",
        "\n",
        "# COLLIE imports\n",
        "from collie.models.base import CRMEntity\n",
        "from collie.extraction import InformationExtractor\n",
        "from collie.io.to_networkx import (\n",
        "    to_networkx_graph,\n",
        "    calculate_centrality_measures,\n",
        "    find_communities,\n",
        "    get_network_statistics\n",
        ")\n",
        "from collie.visualization import (\n",
        "    create_interactive_plot,\n",
        "    plot_community_network,\n",
        "    plot_centrality_network\n",
        ")\n",
        "from collie.io.to_cypher import generate_cypher_script\n",
        "from collie.io.to_markdown import render_table, to_markdown, MarkdownStyle\n",
        "\n",
        "# Standard libraries\n",
        "import networkx as nx\n",
        "import plotly.graph_objects as go\n",
        "import plotly.express as px\n",
        "from plotly.offline import plot\n",
        "import plotly.io as pio\n",
        "\n",
        "print(\"✅ All imports successful!\")\n",
        "print(f\"📁 Working directory: {Path.cwd()}\")\n"
      ]
    },
    {
      "cell_type": "markdown",
      "metadata": {},
      "source": [
        "## Sample Text: Albert Einstein Biography\n",
        "\n",
        "We'll use a sample text about Albert Einstein to demonstrate the complete workflow.\n"
      ]
    },
    {
      "cell_type": "code",
      "execution_count": 2,
      "metadata": {},
      "outputs": [
        {
          "name": "stdout",
          "output_type": "stream",
          "text": [
            "📝 Sample Text:\n",
            "==================================================\n",
            "\n",
            "Albert Einstein was born on March 14, 1879, in Ulm, Germany. \n",
            "He developed the theory of relativity and won the Nobel Prize in Physics in 1921.\n",
            "Einstein worked at the Institute for Advanced Study in Princeton, New Jersey.\n",
            "He is best known for his mass-energy equivalence formula E = mc².\n",
            "Einstein's work revolutionized our understanding of space, time, and gravity.\n",
            "He died on April 18, 1955, in Princeton, New Jersey.\n",
            "\n",
            "==================================================\n",
            "Text length: 420 characters\n"
          ]
        }
      ],
      "source": [
        "# Sample text about Albert Einstein\n",
        "sample_text = \"\"\"\n",
        "Albert Einstein was born on March 14, 1879, in Ulm, Germany. \n",
        "He developed the theory of relativity and won the Nobel Prize in Physics in 1921.\n",
        "Einstein worked at the Institute for Advanced Study in Princeton, New Jersey.\n",
        "He is best known for his mass-energy equivalence formula E = mc².\n",
        "Einstein's work revolutionized our understanding of space, time, and gravity.\n",
        "He died on April 18, 1955, in Princeton, New Jersey.\n",
        "\"\"\"\n",
        "\n",
        "print(\"📝 Sample Text:\")\n",
        "print(\"=\" * 50)\n",
        "print(sample_text)\n",
        "print(\"=\" * 50)\n",
        "print(f\"Text length: {len(sample_text)} characters\")\n"
      ]
    },
    {
      "cell_type": "markdown",
      "metadata": {},
      "source": [
        "## Step 1: AI-Powered Information Extraction\n",
        "\n",
        "Use PydanticAI to extract CRM entities and relationships from the text.\n"
      ]
    },
    {
      "cell_type": "code",
      "execution_count": 3,
      "metadata": {},
      "outputs": [
        {
          "name": "stdout",
          "output_type": "stream",
          "text": [
            "🔍 Extracting entities using PydanticAI...\n",
            "✅ Extracted 18 entities\n",
            "✅ Extracted 53 relationships\n",
            "\n",
            "📋 Extracted Entities:\n",
            "1. Albert Einstein (E21) - Confidence: 0.70\n",
            "2. Nobel Prize (E21) - Confidence: 0.70\n",
            "3. Advanced Study (E21) - Confidence: 0.70\n",
            "4. New Jersey (E21) - Confidence: 0.70\n",
            "5. New Jersey (E21) - Confidence: 0.70\n",
            "6. Event involving born (E5) - Confidence: 0.60\n",
            "7. Event involving died (E5) - Confidence: 0.60\n",
            "8. Event involving developed (E5) - Confidence: 0.60\n",
            "9. Event involving won (E5) - Confidence: 0.60\n",
            "10. Germany (E53) - Confidence: 0.80\n",
            "11. Princeton (E53) - Confidence: 0.80\n",
            "12. Ulm (E53) - Confidence: 0.80\n",
            "13. theory (E22) - Confidence: 0.70\n",
            "14. Nobel Prize (E22) - Confidence: 0.70\n",
            "15. relativity (E22) - Confidence: 0.70\n",
            "16. Year 1879 (E52) - Confidence: 0.90\n",
            "17. Year 1921 (E52) - Confidence: 0.90\n",
            "18. Year 1955 (E52) - Confidence: 0.90\n",
            "\n",
            "🔗 Extracted Relationships:\n",
            "1. has association with - Confidence: 0.50\n",
            "2. has association with - Confidence: 0.50\n",
            "3. has association with - Confidence: 0.50\n",
            "4. has association with - Confidence: 0.50\n",
            "5. has association with - Confidence: 0.50\n",
            "6. has association with - Confidence: 0.50\n",
            "7. has association with - Confidence: 0.50\n",
            "8. has association with - Confidence: 0.50\n",
            "9. has association with - Confidence: 0.50\n",
            "10. has association with - Confidence: 0.50\n",
            "11. has association with - Confidence: 0.50\n",
            "12. has association with - Confidence: 0.50\n",
            "13. has association with - Confidence: 0.50\n",
            "14. has association with - Confidence: 0.50\n",
            "15. has association with - Confidence: 0.50\n",
            "16. has association with - Confidence: 0.50\n",
            "17. has association with - Confidence: 0.50\n",
            "18. has association with - Confidence: 0.50\n",
            "19. has association with - Confidence: 0.50\n",
            "20. has association with - Confidence: 0.50\n",
            "21. has association with - Confidence: 0.50\n",
            "22. has association with - Confidence: 0.50\n",
            "23. has association with - Confidence: 0.50\n",
            "24. has association with - Confidence: 0.50\n",
            "25. has association with - Confidence: 0.50\n",
            "26. has association with - Confidence: 0.50\n",
            "27. has association with - Confidence: 0.50\n",
            "28. has association with - Confidence: 0.50\n",
            "29. has association with - Confidence: 0.50\n",
            "30. has association with - Confidence: 0.50\n",
            "31. has association with - Confidence: 0.50\n",
            "32. has association with - Confidence: 0.50\n",
            "33. has association with - Confidence: 0.50\n",
            "34. has association with - Confidence: 0.50\n",
            "35. has association with - Confidence: 0.50\n",
            "36. has association with - Confidence: 0.50\n",
            "37. has association with - Confidence: 0.50\n",
            "38. has association with - Confidence: 0.50\n",
            "39. has association with - Confidence: 0.50\n",
            "40. has association with - Confidence: 0.50\n",
            "41. has association with - Confidence: 0.50\n",
            "42. has association with - Confidence: 0.50\n",
            "43. has association with - Confidence: 0.50\n",
            "44. has association with - Confidence: 0.50\n",
            "45. has association with - Confidence: 0.50\n",
            "46. has association with - Confidence: 0.50\n",
            "47. has association with - Confidence: 0.50\n",
            "48. has association with - Confidence: 0.50\n",
            "49. has association with - Confidence: 0.50\n",
            "50. has association with - Confidence: 0.50\n",
            "51. has association with - Confidence: 0.50\n",
            "52. has association with - Confidence: 0.50\n",
            "53. has association with - Confidence: 0.50\n"
          ]
        }
      ],
      "source": [
        "# Initialize the information extractor\n",
        "extractor = InformationExtractor()\n",
        "\n",
        "# Extract entities and relationships\n",
        "print(\"🔍 Extracting entities using PydanticAI...\")\n",
        "extraction_result = await extractor.extract_from_text(sample_text)\n",
        "\n",
        "print(f\"✅ Extracted {len(extraction_result.entities)} entities\")\n",
        "print(f\"✅ Extracted {len(extraction_result.relationships)} relationships\")\n",
        "\n",
        "# Display extracted entities\n",
        "print(\"\\n📋 Extracted Entities:\")\n",
        "for i, entity in enumerate(extraction_result.entities, 1):\n",
        "    print(f\"{i}. {entity.label} ({entity.class_code}) - Confidence: {entity.confidence:.2f}\")\n",
        "\n",
        "# Display extracted relationships\n",
        "if extraction_result.relationships:\n",
        "    print(\"\\n🔗 Extracted Relationships:\")\n",
        "    for i, rel in enumerate(extraction_result.relationships, 1):\n",
        "        print(f\"{i}. {rel.property_label} - Confidence: {rel.confidence:.2f}\")\n"
      ]
    },
    {
      "cell_type": "markdown",
      "metadata": {},
      "source": [
        "## Step 2: Convert to CRM Entities\n",
        "\n",
        "Transform the extracted data into proper CIDOC CRM entities.\n"
      ]
    },
    {
      "cell_type": "code",
      "execution_count": 4,
      "metadata": {},
      "outputs": [
        {
          "name": "stdout",
          "output_type": "stream",
          "text": [
            "✅ Created 18 CRM entities\n",
            "\n",
            "🏗️ CRM Entities:\n",
            "1. Albert Einstein (E21)\n",
            "   ID: c682e9cf-344a-4868-8316-d323c7b4352e\n",
            "   Notes: Person mentioned in the text: Albert Einstein\n",
            "\n",
            "2. Nobel Prize (E21)\n",
            "   ID: ab19b1e0-bd1b-494f-8075-4fe5364026e6\n",
            "   Notes: Person mentioned in the text: Nobel Prize\n",
            "\n",
            "3. Advanced Study (E21)\n",
            "   ID: 8391dbbf-4402-4b6c-b94b-31473364a0f5\n",
            "   Notes: Person mentioned in the text: Advanced Study\n",
            "\n",
            "4. New Jersey (E21)\n",
            "   ID: 8f0905d0-be1c-4ea2-a735-22ce305bc43b\n",
            "   Notes: Person mentioned in the text: New Jersey\n",
            "\n",
            "5. New Jersey (E21)\n",
            "   ID: c8037576-07c3-4cec-b6de-768503c7aecb\n",
            "   Notes: Person mentioned in the text: New Jersey\n",
            "\n",
            "6. Event involving born (E5)\n",
            "   ID: 2fc47d3d-22f9-4da3-9601-5aa6fc5f7236\n",
            "   Notes: Event mentioned in context: Albert Einstein was born on March 14, 1879, in Ulm, Germany. \n",
            "He develop...\n",
            "\n",
            "7. Event involving died (E5)\n",
            "   ID: 58797a3a-85d7-4bc7-a02b-8a9fa4fc074e\n",
            "   Notes: Event mentioned in context: our understanding of space, time, and gravity.\n",
            "He died on April 18, 1955...\n",
            "\n",
            "8. Event involving developed (E5)\n",
            "   ID: b63bdf6e-534f-4355-80ef-0b8c702e8424\n",
            "   Notes: Event mentioned in context: was born on March 14, 1879, in Ulm, Germany. \n",
            "He developed the theory of...\n",
            "\n",
            "9. Event involving won (E5)\n",
            "   ID: 030a0b4c-b017-4111-8189-2c2b013a0a3a\n",
            "   Notes: Event mentioned in context: rmany. \n",
            "He developed the theory of relativity and won the Nobel Prize in...\n",
            "\n",
            "10. Germany (E53)\n",
            "   ID: 731b25b2-d9bd-4aed-ba2c-35c61bdd3d35\n",
            "   Notes: Place mentioned in the text: Germany\n",
            "\n",
            "11. Princeton (E53)\n",
            "   ID: 59c41d29-dfb8-4c69-b07c-6c8f4c27ef8f\n",
            "   Notes: Place mentioned in the text: Princeton\n",
            "\n",
            "12. Ulm (E53)\n",
            "   ID: 51f04aef-e16f-4c3b-aa2e-346c5a457764\n",
            "   Notes: Place mentioned in the text: Ulm\n",
            "\n",
            "13. theory (E22)\n",
            "   ID: 49b6c8be-5298-4786-a094-81f9a6782928\n",
            "   Notes: Object or concept mentioned: theory\n",
            "\n",
            "14. Nobel Prize (E22)\n",
            "   ID: 3f08aefb-d6d2-4a8f-88c6-5118f1c83985\n",
            "   Notes: Object or concept mentioned: Nobel Prize\n",
            "\n",
            "15. relativity (E22)\n",
            "   ID: 4a41a892-b7a1-45b3-b68e-ad36a053ac5f\n",
            "   Notes: Object or concept mentioned: relativity\n",
            "\n",
            "16. Year 1879 (E52)\n",
            "   ID: 87ddfa86-fa27-46ce-ae4d-f9c4141771f6\n",
            "   Notes: Time period: 1879\n",
            "\n",
            "17. Year 1921 (E52)\n",
            "   ID: 5040df55-adb5-4bc9-b249-17c7ca4b46f3\n",
            "   Notes: Time period: 1921\n",
            "\n",
            "18. Year 1955 (E52)\n",
            "   ID: e40e8e8f-0b5f-4cee-bf44-fa9c19db0b78\n",
            "   Notes: Time period: 1955\n",
            "\n"
          ]
        }
      ],
      "source": [
        "# Convert extracted entities to CRM entities\n",
        "crm_entities = []\n",
        "for entity in extraction_result.entities:\n",
        "    crm_entity = CRMEntity(\n",
        "        id=str(entity.id),\n",
        "        class_code=entity.class_code,\n",
        "        label=entity.label,\n",
        "        notes=entity.description,\n",
        "        type=[entity.class_code]\n",
        "    )\n",
        "    crm_entities.append(crm_entity)\n",
        "\n",
        "print(f\"✅ Created {len(crm_entities)} CRM entities\")\n",
        "\n",
        "# Display CRM entities\n",
        "print(\"\\n🏗️ CRM Entities:\")\n",
        "for i, entity in enumerate(crm_entities, 1):\n",
        "    print(f\"{i}. {entity.label} ({entity.class_code})\")\n",
        "    print(f\"   ID: {entity.id}\")\n",
        "    print(f\"   Notes: {entity.notes[:100]}...\" if entity.notes and len(entity.notes) > 100 else f\"   Notes: {entity.notes}\")\n",
        "    print()\n"
      ]
    },
    {
      "cell_type": "markdown",
      "metadata": {},
      "source": [
        "## Step 3: Serialize as Canonical JSON\n",
        "\n",
        "**This is the crucial step for async/future processing!** Serialize the CRM entities as canonical JSON that can be easily loaded into graph databases, APIs, or other processing pipelines.\n"
      ]
    },
    {
      "cell_type": "code",
      "execution_count": 5,
      "metadata": {},
      "outputs": [
        {
          "name": "stdout",
          "output_type": "stream",
          "text": [
            "💾 Serialized 18 entities to canonical JSON\n",
            "✅ Saved canonical JSON to: notebook_output/canonical_entities.json\n",
            "\n",
            "📋 Canonical JSON Structure (first entity):\n",
            "{\n",
            "  \"id\": \"c682e9cf-344a-4868-8316-d323c7b4352e\",\n",
            "  \"class_code\": \"E21\",\n",
            "  \"label\": \"Albert Einstein\",\n",
            "  \"notes\": \"Person mentioned in the text: Albert Einstein\",\n",
            "  \"type\": [\n",
            "    \"E21\"\n",
            "  ]\n",
            "}\n",
            "\n",
            "🔄 Loading back from canonical JSON...\n",
            "✅ Successfully loaded 18 entities from JSON\n",
            "✅ Data integrity verified: True\n"
          ]
        }
      ],
      "source": [
        "# Serialize as canonical JSON using Pydantic models\n",
        "json_data = [entity.model_dump(mode='json') for entity in crm_entities]\n",
        "\n",
        "print(f\"💾 Serialized {len(json_data)} entities to canonical JSON\")\n",
        "\n",
        "# Create output directory\n",
        "output_dir = Path(\"notebook_output\")\n",
        "output_dir.mkdir(exist_ok=True)\n",
        "\n",
        "# Save canonical JSON\n",
        "json_file = output_dir / \"canonical_entities.json\"\n",
        "with open(json_file, \"w\") as f:\n",
        "    json.dump(json_data, f, indent=2)\n",
        "\n",
        "print(f\"✅ Saved canonical JSON to: {json_file}\")\n",
        "\n",
        "# Display the structure of canonical JSON\n",
        "print(\"\\n📋 Canonical JSON Structure (first entity):\")\n",
        "print(json.dumps(json_data[0], indent=2))\n",
        "\n",
        "# Demonstrate loading back from JSON\n",
        "print(\"\\n🔄 Loading back from canonical JSON...\")\n",
        "with open(json_file, \"r\") as f:\n",
        "    loaded_data = json.load(f)\n",
        "\n",
        "loaded_entities = []\n",
        "for entity_data in loaded_data:\n",
        "    entity = CRMEntity(**entity_data)\n",
        "    loaded_entities.append(entity)\n",
        "\n",
        "print(f\"✅ Successfully loaded {len(loaded_entities)} entities from JSON\")\n",
        "print(f\"✅ Data integrity verified: {len(loaded_entities) == len(crm_entities)}\")\n"
      ]
    },
    {
      "cell_type": "markdown",
      "metadata": {},
      "source": [
        "## Step 4: Render to Markdown\n",
        "\n",
        "Generate human-readable reports in Markdown format.\n"
      ]
    },
    {
      "cell_type": "code",
      "execution_count": 6,
      "metadata": {},
      "outputs": [
        {
          "name": "stdout",
          "output_type": "stream",
          "text": [
            "📄 Generating Markdown reports...\n",
            "✅ Generated entity card: notebook_output/markdown/entity_1_E21.md\n",
            "✅ Generated entity card: notebook_output/markdown/entity_2_E21.md\n",
            "✅ Generated entity card: notebook_output/markdown/entity_3_E21.md\n",
            "✅ Generated entity card: notebook_output/markdown/entity_4_E21.md\n",
            "✅ Generated entity card: notebook_output/markdown/entity_5_E21.md\n",
            "✅ Generated summary table: notebook_output/markdown/entities_summary.md\n",
            "\n",
            "📊 Entities Summary Table:\n",
            "| id | class_code | label | type |\n",
            "| --- | --- | --- | --- |\n",
            "| c682e9cf... | E21 | Albert Einstein | E21 |\n",
            "| ab19b1e0... | E21 | Nobel Prize | E21 |\n",
            "| 8391dbbf... | E21 | Advanced Study | E21 |\n",
            "| 8f0905d0... | E21 | New Jersey | E21 |\n",
            "| c8037576... | E21 | New Jersey | E21 |\n",
            "| 2fc47d3d... | E5 | Event involving born | E5 |\n",
            "| 58797a3a... | E5 | Event involving died | E5 |\n",
            "| b63bdf6e... | E5 | Event involving developed | E5 |\n",
            "| 030a0b4c... | E5 | Event involving won | E5 |\n",
            "| 731b25b2... | E53 | Germany | E53 |\n",
            "| 59c41d29... | E53 | Princeton | E53 |\n",
            "| 51f04aef... | E53 | Ulm | E53 |\n",
            "| 49b6c8be... | E22 | theory | E22 |\n",
            "| 3f08aefb... | E22 | Nobel Prize | E22 |\n",
            "| 4a41a892... | E22 | relativity | E22 |\n",
            "| 87ddfa86... | E52 | Year 1879 | E52 |\n",
            "| 5040df55... | E52 | Year 1921 | E52 |\n",
            "| e40e8e8f... | E52 | Year 1955 | E52 |\n"
          ]
        }
      ],
      "source": [
        "# Create markdown directory\n",
        "markdown_dir = output_dir / \"markdown\"\n",
        "markdown_dir.mkdir(exist_ok=True)\n",
        "\n",
        "# Generate individual entity cards\n",
        "print(\"📄 Generating Markdown reports...\")\n",
        "for i, entity in enumerate(crm_entities[:5]):  # Show first 5 entities\n",
        "    markdown_card = to_markdown(entity, MarkdownStyle.CARD)\n",
        "    card_file = markdown_dir / f\"entity_{i+1}_{entity.class_code}.md\"\n",
        "    with open(card_file, \"w\") as f:\n",
        "        f.write(markdown_card)\n",
        "    print(f\"✅ Generated entity card: {card_file}\")\n",
        "\n",
        "# Generate summary table\n",
        "table_markdown = render_table(crm_entities)\n",
        "table_file = markdown_dir / \"entities_summary.md\"\n",
        "with open(table_file, \"w\") as f:\n",
        "    f.write(\"# CRM Entities Summary\\n\\n\" + table_markdown)\n",
        "\n",
        "print(f\"✅ Generated summary table: {table_file}\")\n",
        "\n",
        "# Display the summary table\n",
        "print(\"\\n📊 Entities Summary Table:\")\n",
        "print(table_markdown)\n"
      ]
    },
    {
      "cell_type": "markdown",
      "metadata": {},
      "source": [
        "## Step 5: Convert to NetworkX Graph\n",
        "\n",
        "Transform the CRM entities into a NetworkX graph for social network analysis.\n"
      ]
    },
    {
      "cell_type": "code",
      "execution_count": 7,
      "metadata": {},
      "outputs": [
        {
          "name": "stdout",
          "output_type": "stream",
          "text": [
            "🕸️ Created NetworkX graph with 18 nodes and 0 edges\n",
            "\n",
            "📊 Graph Information:\n",
            "Nodes: ['c682e9cf-344a-4868-8316-d323c7b4352e', 'ab19b1e0-bd1b-494f-8075-4fe5364026e6', '8391dbbf-4402-4b6c-b94b-31473364a0f5', '8f0905d0-be1c-4ea2-a735-22ce305bc43b', 'c8037576-07c3-4cec-b6de-768503c7aecb']...\n",
            "Edges: []\n",
            "\n",
            "🏷️ Node Data (first 3 nodes):\n",
            "Node 1: {'class_code': 'E21', 'label': 'Albert Einstein', 'notes': 'Person mentioned in the text: Albert Einstein', 'type': ['E21']}\n",
            "Node 2: {'class_code': 'E21', 'label': 'Nobel Prize', 'notes': 'Person mentioned in the text: Nobel Prize', 'type': ['E21']}\n",
            "Node 3: {'class_code': 'E21', 'label': 'Advanced Study', 'notes': 'Person mentioned in the text: Advanced Study', 'type': ['E21']}\n"
          ]
        }
      ],
      "source": [
        "# Convert to NetworkX graph\n",
        "graph = to_networkx_graph(crm_entities)\n",
        "\n",
        "print(f\"🕸️ Created NetworkX graph with {graph.number_of_nodes()} nodes and {graph.number_of_edges()} edges\")\n",
        "\n",
        "# Display graph information\n",
        "print(\"\\n📊 Graph Information:\")\n",
        "print(f\"Nodes: {list(graph.nodes())[:5]}...\" if len(graph.nodes()) > 5 else f\"Nodes: {list(graph.nodes())}\")\n",
        "print(f\"Edges: {list(graph.edges())[:5]}...\" if len(graph.edges()) > 5 else f\"Edges: {list(graph.edges())}\")\n",
        "\n",
        "# Display node data\n",
        "print(\"\\n🏷️ Node Data (first 3 nodes):\")\n",
        "for i, (node_id, data) in enumerate(list(graph.nodes(data=True))[:3]):\n",
        "    print(f\"Node {i+1}: {data}\")\n"
      ]
    },
    {
      "cell_type": "markdown",
      "metadata": {},
      "source": [
        "## Step 6: Network Analysis\n",
        "\n",
        "Perform comprehensive network analysis including centrality measures, community detection, and network statistics.\n"
      ]
    },
    {
      "cell_type": "code",
      "execution_count": 8,
      "metadata": {},
      "outputs": [
        {
          "name": "stdout",
          "output_type": "stream",
          "text": [
            "📊 Calculating centrality measures...\n",
            "✅ Calculated centrality measures: ['degree', 'betweenness', 'closeness', 'eigenvector', 'pagerank']\n",
            "\n",
            "🏘️ Finding communities...\n",
            "✅ Found 0 communities\n",
            "\n",
            "📈 Calculating network statistics...\n",
            "\n",
            "📊 Network Statistics:\n",
            "  Density: 0.000\n",
            "  Average clustering: 0.000\n",
            "  Is connected: None\n",
            "  Average degree: 0.00\n",
            "  Max degree: 0\n",
            "  Min degree: 0\n"
          ]
        }
      ],
      "source": [
        "# Calculate centrality measures\n",
        "print(\"📊 Calculating centrality measures...\")\n",
        "centrality_measures = calculate_centrality_measures(graph)\n",
        "\n",
        "print(f\"✅ Calculated centrality measures: {list(centrality_measures.keys())}\")\n",
        "\n",
        "# Display degree centrality (most connected nodes)\n",
        "if 'degree_centrality' in centrality_measures:\n",
        "    degree_centrality = centrality_measures['degree_centrality']\n",
        "    print(\"\\n🔗 Degree Centrality (most connected nodes):\")\n",
        "    sorted_nodes = sorted(degree_centrality.items(), key=lambda x: x[1], reverse=True)\n",
        "    for node_id, centrality in sorted_nodes[:5]:\n",
        "        node_data = graph.nodes[node_id]\n",
        "        print(f\"  {node_data.get('label', node_id)}: {centrality:.3f}\")\n",
        "\n",
        "# Find communities\n",
        "print(\"\\n🏘️ Finding communities...\")\n",
        "communities = find_communities(graph)\n",
        "print(f\"✅ Found {len(communities)} communities\")\n",
        "\n",
        "if communities:\n",
        "    print(\"\\nCommunity Structure:\")\n",
        "    for i, community in enumerate(communities[:3]):  # Show first 3 communities\n",
        "        community_labels = [graph.nodes[node_id].get('label', node_id) for node_id in community]\n",
        "        print(f\"  Community {i+1}: {community_labels}\")\n",
        "\n",
        "# Get network statistics\n",
        "print(\"\\n📈 Calculating network statistics...\")\n",
        "network_stats = get_network_statistics(graph)\n",
        "\n",
        "print(\"\\n📊 Network Statistics:\")\n",
        "print(f\"  Density: {network_stats['basic_metrics']['density']:.3f}\")\n",
        "print(f\"  Average clustering: {network_stats['connectivity']['average_clustering']:.3f}\")\n",
        "print(f\"  Is connected: {network_stats['basic_metrics']['is_connected']}\")\n",
        "\n",
        "if 'degree_stats' in network_stats:\n",
        "    degree_stats = network_stats['degree_stats']\n",
        "    print(f\"  Average degree: {degree_stats['avg_degree']:.2f}\")\n",
        "    print(f\"  Max degree: {degree_stats['max_degree']}\")\n",
        "    print(f\"  Min degree: {degree_stats['min_degree']}\")\n"
      ]
    },
    {
      "cell_type": "markdown",
      "metadata": {},
      "source": [
        "## Step 7: Interactive Network Visualization\n",
        "\n",
        "Create an interactive network visualization using Plotly.\n"
      ]
    },
    {
      "cell_type": "code",
      "execution_count": 9,
      "metadata": {},
      "outputs": [
        {
          "name": "stdout",
          "output_type": "stream",
          "text": [
            "🎨 Creating interactive network visualization...\n",
            "✅ Generated interactive plot: notebook_output/plots/network_overview.html\n"
          ]
        },
        {
          "data": {
            "application/vnd.plotly.v1+json": {
              "config": {
                "plotlyServerURL": "https://plot.ly"
              },
              "data": [
                {
                  "hoverinfo": "none",
                  "line": {
                    "color": "#888",
                    "width": 2
                  },
                  "mode": "lines",
                  "type": "scatter",
                  "x": [],
                  "y": []
                },
                {
                  "hoverinfo": "text",
                  "hovertext": [
                    "ID: c682e9cf-344a-4868-8316-d323c7b4352e<br>Label: Albert Einstein<br>Class: E21",
                    "ID: ab19b1e0-bd1b-494f-8075-4fe5364026e6<br>Label: Nobel Prize<br>Class: E21",
                    "ID: 8391dbbf-4402-4b6c-b94b-31473364a0f5<br>Label: Advanced Study<br>Class: E21",
                    "ID: 8f0905d0-be1c-4ea2-a735-22ce305bc43b<br>Label: New Jersey<br>Class: E21",
                    "ID: c8037576-07c3-4cec-b6de-768503c7aecb<br>Label: New Jersey<br>Class: E21",
                    "ID: 2fc47d3d-22f9-4da3-9601-5aa6fc5f7236<br>Label: Event involving born<br>Class: E5",
                    "ID: 58797a3a-85d7-4bc7-a02b-8a9fa4fc074e<br>Label: Event involving died<br>Class: E5",
                    "ID: b63bdf6e-534f-4355-80ef-0b8c702e8424<br>Label: Event involving developed<br>Class: E5",
                    "ID: 030a0b4c-b017-4111-8189-2c2b013a0a3a<br>Label: Event involving won<br>Class: E5",
                    "ID: 731b25b2-d9bd-4aed-ba2c-35c61bdd3d35<br>Label: Germany<br>Class: E53",
                    "ID: 59c41d29-dfb8-4c69-b07c-6c8f4c27ef8f<br>Label: Princeton<br>Class: E53",
                    "ID: 51f04aef-e16f-4c3b-aa2e-346c5a457764<br>Label: Ulm<br>Class: E53",
                    "ID: 49b6c8be-5298-4786-a094-81f9a6782928<br>Label: theory<br>Class: E22",
                    "ID: 3f08aefb-d6d2-4a8f-88c6-5118f1c83985<br>Label: Nobel Prize<br>Class: E22",
                    "ID: 4a41a892-b7a1-45b3-b68e-ad36a053ac5f<br>Label: relativity<br>Class: E22",
                    "ID: 87ddfa86-fa27-46ce-ae4d-f9c4141771f6<br>Label: Year 1879<br>Class: E52",
                    "ID: 5040df55-adb5-4bc9-b249-17c7ca4b46f3<br>Label: Year 1921<br>Class: E52",
                    "ID: e40e8e8f-0b5f-4cee-bf44-fa9c19db0b78<br>Label: Year 1955<br>Class: E52"
                  ],
                  "marker": {
                    "color": [
                      "red",
                      "red",
                      "red",
                      "red",
                      "red",
                      "blue",
                      "blue",
                      "blue",
                      "blue",
                      "green",
                      "green",
                      "green",
                      "orange",
                      "orange",
                      "orange",
                      "purple",
                      "purple",
                      "purple"
                    ],
                    "line": {
                      "color": "white",
                      "width": 2
                    },
                    "size": [
                      10,
                      10,
                      10,
                      10,
                      10,
                      10,
                      10,
                      10,
                      10,
                      10,
                      10,
                      10,
                      10,
                      10,
                      10,
                      10,
                      10,
                      10
                    ]
                  },
                  "mode": "markers+text",
                  "text": [
                    "Albert Einstein",
                    "Nobel Prize",
                    "Advanced Study",
                    "New Jersey",
                    "New Jersey",
                    "Event involving born",
                    "Event involving died",
                    "Event involving developed",
                    "Event involving won",
                    "Germany",
                    "Princeton",
                    "Ulm",
                    "theory",
                    "Nobel Prize",
                    "relativity",
                    "Year 1879",
                    "Year 1921",
                    "Year 1955"
                  ],
                  "textposition": "middle center",
                  "type": "scatter",
                  "x": [
                    0.05525302206006837,
                    -0.08516062506346275,
                    -0.6977792491603292,
                    0.2771937953974302,
                    -0.8323559942854107,
                    -0.25700069397717,
                    0.6862352351671462,
                    -0.834845524796536,
                    0.8541840202526335,
                    0.5419128768991444,
                    -0.943242778046149,
                    0.8307786427433839,
                    0.9886197831747388,
                    0.3630248521862434,
                    -0.5766824830347237,
                    -0.3720743360400757,
                    -0.8705447290483955,
                    0.8724841855714641
                  ],
                  "y": [
                    0.9853471811729375,
                    -1,
                    -0.7429409474846285,
                    -0.9221989470110215,
                    -0.12058349494790996,
                    0.8503882675604207,
                    0.8042257844164952,
                    0.5065594326739925,
                    0.473641678889357,
                    -0.7132691665582368,
                    0.1607086111041766,
                    -0.5446394756797733,
                    0.13535862361797826,
                    0.8259231898262542,
                    0.7504008814673357,
                    -0.8382606770011359,
                    -0.42264897900044257,
                    -0.18801196304579876
                  ]
                }
              ],
              "layout": {
                "annotations": [
                  {
                    "font": {
                      "color": "#888",
                      "size": 12
                    },
                    "showarrow": false,
                    "text": "Interactive CRM Network Visualization",
                    "x": 0.005,
                    "xanchor": "left",
                    "xref": "paper",
                    "y": -0.002,
                    "yanchor": "bottom",
                    "yref": "paper"
                  }
                ],
                "hovermode": "closest",
                "margin": {
                  "b": 20,
                  "l": 5,
                  "r": 5,
                  "t": 40
                },
                "showlegend": false,
                "template": {
                  "data": {
                    "bar": [
                      {
                        "error_x": {
                          "color": "#2a3f5f"
                        },
                        "error_y": {
                          "color": "#2a3f5f"
                        },
                        "marker": {
                          "line": {
                            "color": "#E5ECF6",
                            "width": 0.5
                          },
                          "pattern": {
                            "fillmode": "overlay",
                            "size": 10,
                            "solidity": 0.2
                          }
                        },
                        "type": "bar"
                      }
                    ],
                    "barpolar": [
                      {
                        "marker": {
                          "line": {
                            "color": "#E5ECF6",
                            "width": 0.5
                          },
                          "pattern": {
                            "fillmode": "overlay",
                            "size": 10,
                            "solidity": 0.2
                          }
                        },
                        "type": "barpolar"
                      }
                    ],
                    "carpet": [
                      {
                        "aaxis": {
                          "endlinecolor": "#2a3f5f",
                          "gridcolor": "white",
                          "linecolor": "white",
                          "minorgridcolor": "white",
                          "startlinecolor": "#2a3f5f"
                        },
                        "baxis": {
                          "endlinecolor": "#2a3f5f",
                          "gridcolor": "white",
                          "linecolor": "white",
                          "minorgridcolor": "white",
                          "startlinecolor": "#2a3f5f"
                        },
                        "type": "carpet"
                      }
                    ],
                    "choropleth": [
                      {
                        "colorbar": {
                          "outlinewidth": 0,
                          "ticks": ""
                        },
                        "type": "choropleth"
                      }
                    ],
                    "contour": [
                      {
                        "colorbar": {
                          "outlinewidth": 0,
                          "ticks": ""
                        },
                        "colorscale": [
                          [
                            0,
                            "#0d0887"
                          ],
                          [
                            0.1111111111111111,
                            "#46039f"
                          ],
                          [
                            0.2222222222222222,
                            "#7201a8"
                          ],
                          [
                            0.3333333333333333,
                            "#9c179e"
                          ],
                          [
                            0.4444444444444444,
                            "#bd3786"
                          ],
                          [
                            0.5555555555555556,
                            "#d8576b"
                          ],
                          [
                            0.6666666666666666,
                            "#ed7953"
                          ],
                          [
                            0.7777777777777778,
                            "#fb9f3a"
                          ],
                          [
                            0.8888888888888888,
                            "#fdca26"
                          ],
                          [
                            1,
                            "#f0f921"
                          ]
                        ],
                        "type": "contour"
                      }
                    ],
                    "contourcarpet": [
                      {
                        "colorbar": {
                          "outlinewidth": 0,
                          "ticks": ""
                        },
                        "type": "contourcarpet"
                      }
                    ],
                    "heatmap": [
                      {
                        "colorbar": {
                          "outlinewidth": 0,
                          "ticks": ""
                        },
                        "colorscale": [
                          [
                            0,
                            "#0d0887"
                          ],
                          [
                            0.1111111111111111,
                            "#46039f"
                          ],
                          [
                            0.2222222222222222,
                            "#7201a8"
                          ],
                          [
                            0.3333333333333333,
                            "#9c179e"
                          ],
                          [
                            0.4444444444444444,
                            "#bd3786"
                          ],
                          [
                            0.5555555555555556,
                            "#d8576b"
                          ],
                          [
                            0.6666666666666666,
                            "#ed7953"
                          ],
                          [
                            0.7777777777777778,
                            "#fb9f3a"
                          ],
                          [
                            0.8888888888888888,
                            "#fdca26"
                          ],
                          [
                            1,
                            "#f0f921"
                          ]
                        ],
                        "type": "heatmap"
                      }
                    ],
                    "histogram": [
                      {
                        "marker": {
                          "pattern": {
                            "fillmode": "overlay",
                            "size": 10,
                            "solidity": 0.2
                          }
                        },
                        "type": "histogram"
                      }
                    ],
                    "histogram2d": [
                      {
                        "colorbar": {
                          "outlinewidth": 0,
                          "ticks": ""
                        },
                        "colorscale": [
                          [
                            0,
                            "#0d0887"
                          ],
                          [
                            0.1111111111111111,
                            "#46039f"
                          ],
                          [
                            0.2222222222222222,
                            "#7201a8"
                          ],
                          [
                            0.3333333333333333,
                            "#9c179e"
                          ],
                          [
                            0.4444444444444444,
                            "#bd3786"
                          ],
                          [
                            0.5555555555555556,
                            "#d8576b"
                          ],
                          [
                            0.6666666666666666,
                            "#ed7953"
                          ],
                          [
                            0.7777777777777778,
                            "#fb9f3a"
                          ],
                          [
                            0.8888888888888888,
                            "#fdca26"
                          ],
                          [
                            1,
                            "#f0f921"
                          ]
                        ],
                        "type": "histogram2d"
                      }
                    ],
                    "histogram2dcontour": [
                      {
                        "colorbar": {
                          "outlinewidth": 0,
                          "ticks": ""
                        },
                        "colorscale": [
                          [
                            0,
                            "#0d0887"
                          ],
                          [
                            0.1111111111111111,
                            "#46039f"
                          ],
                          [
                            0.2222222222222222,
                            "#7201a8"
                          ],
                          [
                            0.3333333333333333,
                            "#9c179e"
                          ],
                          [
                            0.4444444444444444,
                            "#bd3786"
                          ],
                          [
                            0.5555555555555556,
                            "#d8576b"
                          ],
                          [
                            0.6666666666666666,
                            "#ed7953"
                          ],
                          [
                            0.7777777777777778,
                            "#fb9f3a"
                          ],
                          [
                            0.8888888888888888,
                            "#fdca26"
                          ],
                          [
                            1,
                            "#f0f921"
                          ]
                        ],
                        "type": "histogram2dcontour"
                      }
                    ],
                    "mesh3d": [
                      {
                        "colorbar": {
                          "outlinewidth": 0,
                          "ticks": ""
                        },
                        "type": "mesh3d"
                      }
                    ],
                    "parcoords": [
                      {
                        "line": {
                          "colorbar": {
                            "outlinewidth": 0,
                            "ticks": ""
                          }
                        },
                        "type": "parcoords"
                      }
                    ],
                    "pie": [
                      {
                        "automargin": true,
                        "type": "pie"
                      }
                    ],
                    "scatter": [
                      {
                        "fillpattern": {
                          "fillmode": "overlay",
                          "size": 10,
                          "solidity": 0.2
                        },
                        "type": "scatter"
                      }
                    ],
                    "scatter3d": [
                      {
                        "line": {
                          "colorbar": {
                            "outlinewidth": 0,
                            "ticks": ""
                          }
                        },
                        "marker": {
                          "colorbar": {
                            "outlinewidth": 0,
                            "ticks": ""
                          }
                        },
                        "type": "scatter3d"
                      }
                    ],
                    "scattercarpet": [
                      {
                        "marker": {
                          "colorbar": {
                            "outlinewidth": 0,
                            "ticks": ""
                          }
                        },
                        "type": "scattercarpet"
                      }
                    ],
                    "scattergeo": [
                      {
                        "marker": {
                          "colorbar": {
                            "outlinewidth": 0,
                            "ticks": ""
                          }
                        },
                        "type": "scattergeo"
                      }
                    ],
                    "scattergl": [
                      {
                        "marker": {
                          "colorbar": {
                            "outlinewidth": 0,
                            "ticks": ""
                          }
                        },
                        "type": "scattergl"
                      }
                    ],
                    "scattermap": [
                      {
                        "marker": {
                          "colorbar": {
                            "outlinewidth": 0,
                            "ticks": ""
                          }
                        },
                        "type": "scattermap"
                      }
                    ],
                    "scattermapbox": [
                      {
                        "marker": {
                          "colorbar": {
                            "outlinewidth": 0,
                            "ticks": ""
                          }
                        },
                        "type": "scattermapbox"
                      }
                    ],
                    "scatterpolar": [
                      {
                        "marker": {
                          "colorbar": {
                            "outlinewidth": 0,
                            "ticks": ""
                          }
                        },
                        "type": "scatterpolar"
                      }
                    ],
                    "scatterpolargl": [
                      {
                        "marker": {
                          "colorbar": {
                            "outlinewidth": 0,
                            "ticks": ""
                          }
                        },
                        "type": "scatterpolargl"
                      }
                    ],
                    "scatterternary": [
                      {
                        "marker": {
                          "colorbar": {
                            "outlinewidth": 0,
                            "ticks": ""
                          }
                        },
                        "type": "scatterternary"
                      }
                    ],
                    "surface": [
                      {
                        "colorbar": {
                          "outlinewidth": 0,
                          "ticks": ""
                        },
                        "colorscale": [
                          [
                            0,
                            "#0d0887"
                          ],
                          [
                            0.1111111111111111,
                            "#46039f"
                          ],
                          [
                            0.2222222222222222,
                            "#7201a8"
                          ],
                          [
                            0.3333333333333333,
                            "#9c179e"
                          ],
                          [
                            0.4444444444444444,
                            "#bd3786"
                          ],
                          [
                            0.5555555555555556,
                            "#d8576b"
                          ],
                          [
                            0.6666666666666666,
                            "#ed7953"
                          ],
                          [
                            0.7777777777777778,
                            "#fb9f3a"
                          ],
                          [
                            0.8888888888888888,
                            "#fdca26"
                          ],
                          [
                            1,
                            "#f0f921"
                          ]
                        ],
                        "type": "surface"
                      }
                    ],
                    "table": [
                      {
                        "cells": {
                          "fill": {
                            "color": "#EBF0F8"
                          },
                          "line": {
                            "color": "white"
                          }
                        },
                        "header": {
                          "fill": {
                            "color": "#C8D4E3"
                          },
                          "line": {
                            "color": "white"
                          }
                        },
                        "type": "table"
                      }
                    ]
                  },
                  "layout": {
                    "annotationdefaults": {
                      "arrowcolor": "#2a3f5f",
                      "arrowhead": 0,
                      "arrowwidth": 1
                    },
                    "autotypenumbers": "strict",
                    "coloraxis": {
                      "colorbar": {
                        "outlinewidth": 0,
                        "ticks": ""
                      }
                    },
                    "colorscale": {
                      "diverging": [
                        [
                          0,
                          "#8e0152"
                        ],
                        [
                          0.1,
                          "#c51b7d"
                        ],
                        [
                          0.2,
                          "#de77ae"
                        ],
                        [
                          0.3,
                          "#f1b6da"
                        ],
                        [
                          0.4,
                          "#fde0ef"
                        ],
                        [
                          0.5,
                          "#f7f7f7"
                        ],
                        [
                          0.6,
                          "#e6f5d0"
                        ],
                        [
                          0.7,
                          "#b8e186"
                        ],
                        [
                          0.8,
                          "#7fbc41"
                        ],
                        [
                          0.9,
                          "#4d9221"
                        ],
                        [
                          1,
                          "#276419"
                        ]
                      ],
                      "sequential": [
                        [
                          0,
                          "#0d0887"
                        ],
                        [
                          0.1111111111111111,
                          "#46039f"
                        ],
                        [
                          0.2222222222222222,
                          "#7201a8"
                        ],
                        [
                          0.3333333333333333,
                          "#9c179e"
                        ],
                        [
                          0.4444444444444444,
                          "#bd3786"
                        ],
                        [
                          0.5555555555555556,
                          "#d8576b"
                        ],
                        [
                          0.6666666666666666,
                          "#ed7953"
                        ],
                        [
                          0.7777777777777778,
                          "#fb9f3a"
                        ],
                        [
                          0.8888888888888888,
                          "#fdca26"
                        ],
                        [
                          1,
                          "#f0f921"
                        ]
                      ],
                      "sequentialminus": [
                        [
                          0,
                          "#0d0887"
                        ],
                        [
                          0.1111111111111111,
                          "#46039f"
                        ],
                        [
                          0.2222222222222222,
                          "#7201a8"
                        ],
                        [
                          0.3333333333333333,
                          "#9c179e"
                        ],
                        [
                          0.4444444444444444,
                          "#bd3786"
                        ],
                        [
                          0.5555555555555556,
                          "#d8576b"
                        ],
                        [
                          0.6666666666666666,
                          "#ed7953"
                        ],
                        [
                          0.7777777777777778,
                          "#fb9f3a"
                        ],
                        [
                          0.8888888888888888,
                          "#fdca26"
                        ],
                        [
                          1,
                          "#f0f921"
                        ]
                      ]
                    },
                    "colorway": [
                      "#636efa",
                      "#EF553B",
                      "#00cc96",
                      "#ab63fa",
                      "#FFA15A",
                      "#19d3f3",
                      "#FF6692",
                      "#B6E880",
                      "#FF97FF",
                      "#FECB52"
                    ],
                    "font": {
                      "color": "#2a3f5f"
                    },
                    "geo": {
                      "bgcolor": "white",
                      "lakecolor": "white",
                      "landcolor": "#E5ECF6",
                      "showlakes": true,
                      "showland": true,
                      "subunitcolor": "white"
                    },
                    "hoverlabel": {
                      "align": "left"
                    },
                    "hovermode": "closest",
                    "mapbox": {
                      "style": "light"
                    },
                    "paper_bgcolor": "white",
                    "plot_bgcolor": "#E5ECF6",
                    "polar": {
                      "angularaxis": {
                        "gridcolor": "white",
                        "linecolor": "white",
                        "ticks": ""
                      },
                      "bgcolor": "#E5ECF6",
                      "radialaxis": {
                        "gridcolor": "white",
                        "linecolor": "white",
                        "ticks": ""
                      }
                    },
                    "scene": {
                      "xaxis": {
                        "backgroundcolor": "#E5ECF6",
                        "gridcolor": "white",
                        "gridwidth": 2,
                        "linecolor": "white",
                        "showbackground": true,
                        "ticks": "",
                        "zerolinecolor": "white"
                      },
                      "yaxis": {
                        "backgroundcolor": "#E5ECF6",
                        "gridcolor": "white",
                        "gridwidth": 2,
                        "linecolor": "white",
                        "showbackground": true,
                        "ticks": "",
                        "zerolinecolor": "white"
                      },
                      "zaxis": {
                        "backgroundcolor": "#E5ECF6",
                        "gridcolor": "white",
                        "gridwidth": 2,
                        "linecolor": "white",
                        "showbackground": true,
                        "ticks": "",
                        "zerolinecolor": "white"
                      }
                    },
                    "shapedefaults": {
                      "line": {
                        "color": "#2a3f5f"
                      }
                    },
                    "ternary": {
                      "aaxis": {
                        "gridcolor": "white",
                        "linecolor": "white",
                        "ticks": ""
                      },
                      "baxis": {
                        "gridcolor": "white",
                        "linecolor": "white",
                        "ticks": ""
                      },
                      "bgcolor": "#E5ECF6",
                      "caxis": {
                        "gridcolor": "white",
                        "linecolor": "white",
                        "ticks": ""
                      }
                    },
                    "title": {
                      "x": 0.05
                    },
                    "xaxis": {
                      "automargin": true,
                      "gridcolor": "white",
                      "linecolor": "white",
                      "ticks": "",
                      "title": {
                        "standoff": 15
                      },
                      "zerolinecolor": "white",
                      "zerolinewidth": 2
                    },
                    "yaxis": {
                      "automargin": true,
                      "gridcolor": "white",
                      "linecolor": "white",
                      "ticks": "",
                      "title": {
                        "standoff": 15
                      },
                      "zerolinecolor": "white",
                      "zerolinewidth": 2
                    }
                  }
                },
                "title": {
                  "font": {
                    "size": 16
                  },
                  "text": "Einstein's Life Network"
                },
                "xaxis": {
                  "showgrid": false,
                  "showticklabels": false,
                  "zeroline": false
                },
                "yaxis": {
                  "showgrid": false,
                  "showticklabels": false,
                  "zeroline": false
                }
              }
            }
          },
          "metadata": {},
          "output_type": "display_data"
        }
      ],
      "source": [
        "# Create plots directory\n",
        "plots_dir = output_dir / \"plots\"\n",
        "plots_dir.mkdir(exist_ok=True)\n",
        "\n",
        "# Create interactive network plot\n",
        "print(\"🎨 Creating interactive network visualization...\")\n",
        "interactive_fig = create_interactive_plot(\n",
        "    graph,\n",
        "    title=\"Einstein's Life Network\",\n",
        "    node_size_multiplier=20,\n",
        "    edge_width_multiplier=2\n",
        ")\n",
        "\n",
        "# Save interactive plot\n",
        "interactive_file = plots_dir / \"network_overview.html\"\n",
        "interactive_fig.write_html(str(interactive_file))\n",
        "print(f\"✅ Generated interactive plot: {interactive_file}\")\n",
        "\n",
        "# Display in notebook - using alternative method\n",
        "try:\n",
        "    interactive_fig.show()\n",
        "except ValueError as e:\n",
        "    print(f\"⚠️  Display issue: {e}\")\n",
        "    print(\"📁 Plot saved as HTML file - you can open it in your browser\")\n",
        "    print(f\"🔗 File location: {interactive_file}\")\n",
        "    print(\"💡 Tip: Open the HTML file in your browser to view the interactive plot\")\n"
      ]
    },
    {
      "cell_type": "markdown",
      "metadata": {},
      "source": [
        "## Step 8: Enhanced Interactive Features\n",
        "\n",
        "Create additional interactive visualizations with community structure and centrality analysis.\n"
      ]
    },
    {
      "cell_type": "code",
      "execution_count": 10,
      "metadata": {},
      "outputs": [
        {
          "name": "stdout",
          "output_type": "stream",
          "text": [
            "🎨 Creating enhanced interactive visualizations...\n",
            "📊 Creating centrality analysis visualization...\n",
            "✅ Generated centrality plot: notebook_output/plots/centrality_analysis.html\n"
          ]
        },
        {
          "data": {
            "application/vnd.plotly.v1+json": {
              "config": {
                "plotlyServerURL": "https://plot.ly"
              },
              "data": [
                {
                  "hoverinfo": "none",
                  "line": {
                    "color": "#888",
                    "width": 1.5
                  },
                  "mode": "lines",
                  "type": "scatter",
                  "x": [],
                  "y": []
                },
                {
                  "hoverinfo": "text",
                  "hovertext": [
                    "ID: c682e9cf-344a-4868-8316-d323c7b4352e<br>Label: Albert Einstein<br>Class: E21",
                    "ID: ab19b1e0-bd1b-494f-8075-4fe5364026e6<br>Label: Nobel Prize<br>Class: E21",
                    "ID: 8391dbbf-4402-4b6c-b94b-31473364a0f5<br>Label: Advanced Study<br>Class: E21",
                    "ID: 8f0905d0-be1c-4ea2-a735-22ce305bc43b<br>Label: New Jersey<br>Class: E21",
                    "ID: c8037576-07c3-4cec-b6de-768503c7aecb<br>Label: New Jersey<br>Class: E21",
                    "ID: 2fc47d3d-22f9-4da3-9601-5aa6fc5f7236<br>Label: Event involving born<br>Class: E5",
                    "ID: 58797a3a-85d7-4bc7-a02b-8a9fa4fc074e<br>Label: Event involving died<br>Class: E5",
                    "ID: b63bdf6e-534f-4355-80ef-0b8c702e8424<br>Label: Event involving developed<br>Class: E5",
                    "ID: 030a0b4c-b017-4111-8189-2c2b013a0a3a<br>Label: Event involving won<br>Class: E5",
                    "ID: 731b25b2-d9bd-4aed-ba2c-35c61bdd3d35<br>Label: Germany<br>Class: E53",
                    "ID: 59c41d29-dfb8-4c69-b07c-6c8f4c27ef8f<br>Label: Princeton<br>Class: E53",
                    "ID: 51f04aef-e16f-4c3b-aa2e-346c5a457764<br>Label: Ulm<br>Class: E53",
                    "ID: 49b6c8be-5298-4786-a094-81f9a6782928<br>Label: theory<br>Class: E22",
                    "ID: 3f08aefb-d6d2-4a8f-88c6-5118f1c83985<br>Label: Nobel Prize<br>Class: E22",
                    "ID: 4a41a892-b7a1-45b3-b68e-ad36a053ac5f<br>Label: relativity<br>Class: E22",
                    "ID: 87ddfa86-fa27-46ce-ae4d-f9c4141771f6<br>Label: Year 1879<br>Class: E52",
                    "ID: 5040df55-adb5-4bc9-b249-17c7ca4b46f3<br>Label: Year 1921<br>Class: E52",
                    "ID: e40e8e8f-0b5f-4cee-bf44-fa9c19db0b78<br>Label: Year 1955<br>Class: E52"
                  ],
                  "marker": {
                    "color": [
                      "red",
                      "red",
                      "red",
                      "red",
                      "red",
                      "blue",
                      "blue",
                      "blue",
                      "blue",
                      "green",
                      "green",
                      "green",
                      "orange",
                      "orange",
                      "orange",
                      "purple",
                      "purple",
                      "purple"
                    ],
                    "line": {
                      "color": "white",
                      "width": 2
                    },
                    "size": [
                      10,
                      10,
                      10,
                      10,
                      10,
                      10,
                      10,
                      10,
                      10,
                      10,
                      10,
                      10,
                      10,
                      10,
                      10,
                      10,
                      10,
                      10
                    ]
                  },
                  "mode": "markers+text",
                  "text": [
                    "Albert Einstein",
                    "Nobel Prize",
                    "Advanced Study",
                    "New Jersey",
                    "New Jersey",
                    "Event involving born",
                    "Event involving died",
                    "Event involving developed",
                    "Event involving won",
                    "Germany",
                    "Princeton",
                    "Ulm",
                    "theory",
                    "Nobel Prize",
                    "relativity",
                    "Year 1879",
                    "Year 1921",
                    "Year 1955"
                  ],
                  "textposition": "middle center",
                  "type": "scatter",
                  "x": [
                    -0.7251800369315466,
                    0.6413465075569468,
                    -0.8026646478079631,
                    0.27151232997233415,
                    0.859570946400842,
                    0.9423067277579658,
                    0.6157744993762584,
                    -0.6074040830436598,
                    -0.8473197922200018,
                    0.3314106293230788,
                    0.008920150502565708,
                    0.7350205635855217,
                    -0.9266056531928093,
                    -0.7776442079891234,
                    -0.03458462834476221,
                    -0.396361986267661,
                    -0.2880973186779869,
                    1
                  ],
                  "y": [
                    -0.7841883733013731,
                    0.7665365987930832,
                    0.17934263588797186,
                    -0.839697874847886,
                    0.4831354440009454,
                    -0.21360996429148146,
                    -0.7437348593236648,
                    0.7825754516684891,
                    0.4712081467112985,
                    0.8514098649561767,
                    0.9521678789571923,
                    -0.44482614958521094,
                    -0.10992039409361425,
                    -0.44171313774712445,
                    -0.980220656365093,
                    -0.8933838620350092,
                    0.8104051860277424,
                    0.15451406458755654
                  ]
                }
              ],
              "layout": {
                "annotations": [
                  {
                    "font": {
                      "color": "#888",
                      "size": 12
                    },
                    "showarrow": false,
                    "text": "Interactive CRM Network Visualization",
                    "x": 0.005,
                    "xanchor": "left",
                    "xref": "paper",
                    "y": -0.002,
                    "yanchor": "bottom",
                    "yref": "paper"
                  }
                ],
                "hovermode": "closest",
                "margin": {
                  "b": 20,
                  "l": 5,
                  "r": 5,
                  "t": 40
                },
                "showlegend": false,
                "template": {
                  "data": {
                    "bar": [
                      {
                        "error_x": {
                          "color": "#2a3f5f"
                        },
                        "error_y": {
                          "color": "#2a3f5f"
                        },
                        "marker": {
                          "line": {
                            "color": "#E5ECF6",
                            "width": 0.5
                          },
                          "pattern": {
                            "fillmode": "overlay",
                            "size": 10,
                            "solidity": 0.2
                          }
                        },
                        "type": "bar"
                      }
                    ],
                    "barpolar": [
                      {
                        "marker": {
                          "line": {
                            "color": "#E5ECF6",
                            "width": 0.5
                          },
                          "pattern": {
                            "fillmode": "overlay",
                            "size": 10,
                            "solidity": 0.2
                          }
                        },
                        "type": "barpolar"
                      }
                    ],
                    "carpet": [
                      {
                        "aaxis": {
                          "endlinecolor": "#2a3f5f",
                          "gridcolor": "white",
                          "linecolor": "white",
                          "minorgridcolor": "white",
                          "startlinecolor": "#2a3f5f"
                        },
                        "baxis": {
                          "endlinecolor": "#2a3f5f",
                          "gridcolor": "white",
                          "linecolor": "white",
                          "minorgridcolor": "white",
                          "startlinecolor": "#2a3f5f"
                        },
                        "type": "carpet"
                      }
                    ],
                    "choropleth": [
                      {
                        "colorbar": {
                          "outlinewidth": 0,
                          "ticks": ""
                        },
                        "type": "choropleth"
                      }
                    ],
                    "contour": [
                      {
                        "colorbar": {
                          "outlinewidth": 0,
                          "ticks": ""
                        },
                        "colorscale": [
                          [
                            0,
                            "#0d0887"
                          ],
                          [
                            0.1111111111111111,
                            "#46039f"
                          ],
                          [
                            0.2222222222222222,
                            "#7201a8"
                          ],
                          [
                            0.3333333333333333,
                            "#9c179e"
                          ],
                          [
                            0.4444444444444444,
                            "#bd3786"
                          ],
                          [
                            0.5555555555555556,
                            "#d8576b"
                          ],
                          [
                            0.6666666666666666,
                            "#ed7953"
                          ],
                          [
                            0.7777777777777778,
                            "#fb9f3a"
                          ],
                          [
                            0.8888888888888888,
                            "#fdca26"
                          ],
                          [
                            1,
                            "#f0f921"
                          ]
                        ],
                        "type": "contour"
                      }
                    ],
                    "contourcarpet": [
                      {
                        "colorbar": {
                          "outlinewidth": 0,
                          "ticks": ""
                        },
                        "type": "contourcarpet"
                      }
                    ],
                    "heatmap": [
                      {
                        "colorbar": {
                          "outlinewidth": 0,
                          "ticks": ""
                        },
                        "colorscale": [
                          [
                            0,
                            "#0d0887"
                          ],
                          [
                            0.1111111111111111,
                            "#46039f"
                          ],
                          [
                            0.2222222222222222,
                            "#7201a8"
                          ],
                          [
                            0.3333333333333333,
                            "#9c179e"
                          ],
                          [
                            0.4444444444444444,
                            "#bd3786"
                          ],
                          [
                            0.5555555555555556,
                            "#d8576b"
                          ],
                          [
                            0.6666666666666666,
                            "#ed7953"
                          ],
                          [
                            0.7777777777777778,
                            "#fb9f3a"
                          ],
                          [
                            0.8888888888888888,
                            "#fdca26"
                          ],
                          [
                            1,
                            "#f0f921"
                          ]
                        ],
                        "type": "heatmap"
                      }
                    ],
                    "histogram": [
                      {
                        "marker": {
                          "pattern": {
                            "fillmode": "overlay",
                            "size": 10,
                            "solidity": 0.2
                          }
                        },
                        "type": "histogram"
                      }
                    ],
                    "histogram2d": [
                      {
                        "colorbar": {
                          "outlinewidth": 0,
                          "ticks": ""
                        },
                        "colorscale": [
                          [
                            0,
                            "#0d0887"
                          ],
                          [
                            0.1111111111111111,
                            "#46039f"
                          ],
                          [
                            0.2222222222222222,
                            "#7201a8"
                          ],
                          [
                            0.3333333333333333,
                            "#9c179e"
                          ],
                          [
                            0.4444444444444444,
                            "#bd3786"
                          ],
                          [
                            0.5555555555555556,
                            "#d8576b"
                          ],
                          [
                            0.6666666666666666,
                            "#ed7953"
                          ],
                          [
                            0.7777777777777778,
                            "#fb9f3a"
                          ],
                          [
                            0.8888888888888888,
                            "#fdca26"
                          ],
                          [
                            1,
                            "#f0f921"
                          ]
                        ],
                        "type": "histogram2d"
                      }
                    ],
                    "histogram2dcontour": [
                      {
                        "colorbar": {
                          "outlinewidth": 0,
                          "ticks": ""
                        },
                        "colorscale": [
                          [
                            0,
                            "#0d0887"
                          ],
                          [
                            0.1111111111111111,
                            "#46039f"
                          ],
                          [
                            0.2222222222222222,
                            "#7201a8"
                          ],
                          [
                            0.3333333333333333,
                            "#9c179e"
                          ],
                          [
                            0.4444444444444444,
                            "#bd3786"
                          ],
                          [
                            0.5555555555555556,
                            "#d8576b"
                          ],
                          [
                            0.6666666666666666,
                            "#ed7953"
                          ],
                          [
                            0.7777777777777778,
                            "#fb9f3a"
                          ],
                          [
                            0.8888888888888888,
                            "#fdca26"
                          ],
                          [
                            1,
                            "#f0f921"
                          ]
                        ],
                        "type": "histogram2dcontour"
                      }
                    ],
                    "mesh3d": [
                      {
                        "colorbar": {
                          "outlinewidth": 0,
                          "ticks": ""
                        },
                        "type": "mesh3d"
                      }
                    ],
                    "parcoords": [
                      {
                        "line": {
                          "colorbar": {
                            "outlinewidth": 0,
                            "ticks": ""
                          }
                        },
                        "type": "parcoords"
                      }
                    ],
                    "pie": [
                      {
                        "automargin": true,
                        "type": "pie"
                      }
                    ],
                    "scatter": [
                      {
                        "fillpattern": {
                          "fillmode": "overlay",
                          "size": 10,
                          "solidity": 0.2
                        },
                        "type": "scatter"
                      }
                    ],
                    "scatter3d": [
                      {
                        "line": {
                          "colorbar": {
                            "outlinewidth": 0,
                            "ticks": ""
                          }
                        },
                        "marker": {
                          "colorbar": {
                            "outlinewidth": 0,
                            "ticks": ""
                          }
                        },
                        "type": "scatter3d"
                      }
                    ],
                    "scattercarpet": [
                      {
                        "marker": {
                          "colorbar": {
                            "outlinewidth": 0,
                            "ticks": ""
                          }
                        },
                        "type": "scattercarpet"
                      }
                    ],
                    "scattergeo": [
                      {
                        "marker": {
                          "colorbar": {
                            "outlinewidth": 0,
                            "ticks": ""
                          }
                        },
                        "type": "scattergeo"
                      }
                    ],
                    "scattergl": [
                      {
                        "marker": {
                          "colorbar": {
                            "outlinewidth": 0,
                            "ticks": ""
                          }
                        },
                        "type": "scattergl"
                      }
                    ],
                    "scattermap": [
                      {
                        "marker": {
                          "colorbar": {
                            "outlinewidth": 0,
                            "ticks": ""
                          }
                        },
                        "type": "scattermap"
                      }
                    ],
                    "scattermapbox": [
                      {
                        "marker": {
                          "colorbar": {
                            "outlinewidth": 0,
                            "ticks": ""
                          }
                        },
                        "type": "scattermapbox"
                      }
                    ],
                    "scatterpolar": [
                      {
                        "marker": {
                          "colorbar": {
                            "outlinewidth": 0,
                            "ticks": ""
                          }
                        },
                        "type": "scatterpolar"
                      }
                    ],
                    "scatterpolargl": [
                      {
                        "marker": {
                          "colorbar": {
                            "outlinewidth": 0,
                            "ticks": ""
                          }
                        },
                        "type": "scatterpolargl"
                      }
                    ],
                    "scatterternary": [
                      {
                        "marker": {
                          "colorbar": {
                            "outlinewidth": 0,
                            "ticks": ""
                          }
                        },
                        "type": "scatterternary"
                      }
                    ],
                    "surface": [
                      {
                        "colorbar": {
                          "outlinewidth": 0,
                          "ticks": ""
                        },
                        "colorscale": [
                          [
                            0,
                            "#0d0887"
                          ],
                          [
                            0.1111111111111111,
                            "#46039f"
                          ],
                          [
                            0.2222222222222222,
                            "#7201a8"
                          ],
                          [
                            0.3333333333333333,
                            "#9c179e"
                          ],
                          [
                            0.4444444444444444,
                            "#bd3786"
                          ],
                          [
                            0.5555555555555556,
                            "#d8576b"
                          ],
                          [
                            0.6666666666666666,
                            "#ed7953"
                          ],
                          [
                            0.7777777777777778,
                            "#fb9f3a"
                          ],
                          [
                            0.8888888888888888,
                            "#fdca26"
                          ],
                          [
                            1,
                            "#f0f921"
                          ]
                        ],
                        "type": "surface"
                      }
                    ],
                    "table": [
                      {
                        "cells": {
                          "fill": {
                            "color": "#EBF0F8"
                          },
                          "line": {
                            "color": "white"
                          }
                        },
                        "header": {
                          "fill": {
                            "color": "#C8D4E3"
                          },
                          "line": {
                            "color": "white"
                          }
                        },
                        "type": "table"
                      }
                    ]
                  },
                  "layout": {
                    "annotationdefaults": {
                      "arrowcolor": "#2a3f5f",
                      "arrowhead": 0,
                      "arrowwidth": 1
                    },
                    "autotypenumbers": "strict",
                    "coloraxis": {
                      "colorbar": {
                        "outlinewidth": 0,
                        "ticks": ""
                      }
                    },
                    "colorscale": {
                      "diverging": [
                        [
                          0,
                          "#8e0152"
                        ],
                        [
                          0.1,
                          "#c51b7d"
                        ],
                        [
                          0.2,
                          "#de77ae"
                        ],
                        [
                          0.3,
                          "#f1b6da"
                        ],
                        [
                          0.4,
                          "#fde0ef"
                        ],
                        [
                          0.5,
                          "#f7f7f7"
                        ],
                        [
                          0.6,
                          "#e6f5d0"
                        ],
                        [
                          0.7,
                          "#b8e186"
                        ],
                        [
                          0.8,
                          "#7fbc41"
                        ],
                        [
                          0.9,
                          "#4d9221"
                        ],
                        [
                          1,
                          "#276419"
                        ]
                      ],
                      "sequential": [
                        [
                          0,
                          "#0d0887"
                        ],
                        [
                          0.1111111111111111,
                          "#46039f"
                        ],
                        [
                          0.2222222222222222,
                          "#7201a8"
                        ],
                        [
                          0.3333333333333333,
                          "#9c179e"
                        ],
                        [
                          0.4444444444444444,
                          "#bd3786"
                        ],
                        [
                          0.5555555555555556,
                          "#d8576b"
                        ],
                        [
                          0.6666666666666666,
                          "#ed7953"
                        ],
                        [
                          0.7777777777777778,
                          "#fb9f3a"
                        ],
                        [
                          0.8888888888888888,
                          "#fdca26"
                        ],
                        [
                          1,
                          "#f0f921"
                        ]
                      ],
                      "sequentialminus": [
                        [
                          0,
                          "#0d0887"
                        ],
                        [
                          0.1111111111111111,
                          "#46039f"
                        ],
                        [
                          0.2222222222222222,
                          "#7201a8"
                        ],
                        [
                          0.3333333333333333,
                          "#9c179e"
                        ],
                        [
                          0.4444444444444444,
                          "#bd3786"
                        ],
                        [
                          0.5555555555555556,
                          "#d8576b"
                        ],
                        [
                          0.6666666666666666,
                          "#ed7953"
                        ],
                        [
                          0.7777777777777778,
                          "#fb9f3a"
                        ],
                        [
                          0.8888888888888888,
                          "#fdca26"
                        ],
                        [
                          1,
                          "#f0f921"
                        ]
                      ]
                    },
                    "colorway": [
                      "#636efa",
                      "#EF553B",
                      "#00cc96",
                      "#ab63fa",
                      "#FFA15A",
                      "#19d3f3",
                      "#FF6692",
                      "#B6E880",
                      "#FF97FF",
                      "#FECB52"
                    ],
                    "font": {
                      "color": "#2a3f5f"
                    },
                    "geo": {
                      "bgcolor": "white",
                      "lakecolor": "white",
                      "landcolor": "#E5ECF6",
                      "showlakes": true,
                      "showland": true,
                      "subunitcolor": "white"
                    },
                    "hoverlabel": {
                      "align": "left"
                    },
                    "hovermode": "closest",
                    "mapbox": {
                      "style": "light"
                    },
                    "paper_bgcolor": "white",
                    "plot_bgcolor": "#E5ECF6",
                    "polar": {
                      "angularaxis": {
                        "gridcolor": "white",
                        "linecolor": "white",
                        "ticks": ""
                      },
                      "bgcolor": "#E5ECF6",
                      "radialaxis": {
                        "gridcolor": "white",
                        "linecolor": "white",
                        "ticks": ""
                      }
                    },
                    "scene": {
                      "xaxis": {
                        "backgroundcolor": "#E5ECF6",
                        "gridcolor": "white",
                        "gridwidth": 2,
                        "linecolor": "white",
                        "showbackground": true,
                        "ticks": "",
                        "zerolinecolor": "white"
                      },
                      "yaxis": {
                        "backgroundcolor": "#E5ECF6",
                        "gridcolor": "white",
                        "gridwidth": 2,
                        "linecolor": "white",
                        "showbackground": true,
                        "ticks": "",
                        "zerolinecolor": "white"
                      },
                      "zaxis": {
                        "backgroundcolor": "#E5ECF6",
                        "gridcolor": "white",
                        "gridwidth": 2,
                        "linecolor": "white",
                        "showbackground": true,
                        "ticks": "",
                        "zerolinecolor": "white"
                      }
                    },
                    "shapedefaults": {
                      "line": {
                        "color": "#2a3f5f"
                      }
                    },
                    "ternary": {
                      "aaxis": {
                        "gridcolor": "white",
                        "linecolor": "white",
                        "ticks": ""
                      },
                      "baxis": {
                        "gridcolor": "white",
                        "linecolor": "white",
                        "ticks": ""
                      },
                      "bgcolor": "#E5ECF6",
                      "caxis": {
                        "gridcolor": "white",
                        "linecolor": "white",
                        "ticks": ""
                      }
                    },
                    "title": {
                      "x": 0.05
                    },
                    "xaxis": {
                      "automargin": true,
                      "gridcolor": "white",
                      "linecolor": "white",
                      "ticks": "",
                      "title": {
                        "standoff": 15
                      },
                      "zerolinecolor": "white",
                      "zerolinewidth": 2
                    },
                    "yaxis": {
                      "automargin": true,
                      "gridcolor": "white",
                      "linecolor": "white",
                      "ticks": "",
                      "title": {
                        "standoff": 15
                      },
                      "zerolinecolor": "white",
                      "zerolinewidth": 2
                    }
                  }
                },
                "title": {
                  "font": {
                    "size": 16
                  },
                  "text": "Centrality Analysis - Einstein's Network"
                },
                "xaxis": {
                  "showgrid": false,
                  "showticklabels": false,
                  "zeroline": false
                },
                "yaxis": {
                  "showgrid": false,
                  "showticklabels": false,
                  "zeroline": false
                }
              }
            }
          },
          "metadata": {},
          "output_type": "display_data"
        },
        {
          "name": "stdout",
          "output_type": "stream",
          "text": [
            "📊 Creating main interactive network...\n",
            "✅ Generated main interactive plot: notebook_output/plots/interactive_network.html\n"
          ]
        },
        {
          "data": {
            "application/vnd.plotly.v1+json": {
              "config": {
                "plotlyServerURL": "https://plot.ly"
              },
              "data": [
                {
                  "hoverinfo": "none",
                  "line": {
                    "color": "#888",
                    "width": 2
                  },
                  "mode": "lines",
                  "type": "scatter",
                  "x": [],
                  "y": []
                },
                {
                  "hoverinfo": "text",
                  "hovertext": [
                    "ID: c682e9cf-344a-4868-8316-d323c7b4352e<br>Label: Albert Einstein<br>Class: E21",
                    "ID: ab19b1e0-bd1b-494f-8075-4fe5364026e6<br>Label: Nobel Prize<br>Class: E21",
                    "ID: 8391dbbf-4402-4b6c-b94b-31473364a0f5<br>Label: Advanced Study<br>Class: E21",
                    "ID: 8f0905d0-be1c-4ea2-a735-22ce305bc43b<br>Label: New Jersey<br>Class: E21",
                    "ID: c8037576-07c3-4cec-b6de-768503c7aecb<br>Label: New Jersey<br>Class: E21",
                    "ID: 2fc47d3d-22f9-4da3-9601-5aa6fc5f7236<br>Label: Event involving born<br>Class: E5",
                    "ID: 58797a3a-85d7-4bc7-a02b-8a9fa4fc074e<br>Label: Event involving died<br>Class: E5",
                    "ID: b63bdf6e-534f-4355-80ef-0b8c702e8424<br>Label: Event involving developed<br>Class: E5",
                    "ID: 030a0b4c-b017-4111-8189-2c2b013a0a3a<br>Label: Event involving won<br>Class: E5",
                    "ID: 731b25b2-d9bd-4aed-ba2c-35c61bdd3d35<br>Label: Germany<br>Class: E53",
                    "ID: 59c41d29-dfb8-4c69-b07c-6c8f4c27ef8f<br>Label: Princeton<br>Class: E53",
                    "ID: 51f04aef-e16f-4c3b-aa2e-346c5a457764<br>Label: Ulm<br>Class: E53",
                    "ID: 49b6c8be-5298-4786-a094-81f9a6782928<br>Label: theory<br>Class: E22",
                    "ID: 3f08aefb-d6d2-4a8f-88c6-5118f1c83985<br>Label: Nobel Prize<br>Class: E22",
                    "ID: 4a41a892-b7a1-45b3-b68e-ad36a053ac5f<br>Label: relativity<br>Class: E22",
                    "ID: 87ddfa86-fa27-46ce-ae4d-f9c4141771f6<br>Label: Year 1879<br>Class: E52",
                    "ID: 5040df55-adb5-4bc9-b249-17c7ca4b46f3<br>Label: Year 1921<br>Class: E52",
                    "ID: e40e8e8f-0b5f-4cee-bf44-fa9c19db0b78<br>Label: Year 1955<br>Class: E52"
                  ],
                  "marker": {
                    "color": [
                      "red",
                      "red",
                      "red",
                      "red",
                      "red",
                      "blue",
                      "blue",
                      "blue",
                      "blue",
                      "green",
                      "green",
                      "green",
                      "orange",
                      "orange",
                      "orange",
                      "purple",
                      "purple",
                      "purple"
                    ],
                    "line": {
                      "color": "white",
                      "width": 2
                    },
                    "size": [
                      10,
                      10,
                      10,
                      10,
                      10,
                      10,
                      10,
                      10,
                      10,
                      10,
                      10,
                      10,
                      10,
                      10,
                      10,
                      10,
                      10,
                      10
                    ]
                  },
                  "mode": "markers+text",
                  "text": [
                    "Albert Einstein",
                    "Nobel Prize",
                    "Advanced Study",
                    "New Jersey",
                    "New Jersey",
                    "Event involving born",
                    "Event involving died",
                    "Event involving developed",
                    "Event involving won",
                    "Germany",
                    "Princeton",
                    "Ulm",
                    "theory",
                    "Nobel Prize",
                    "relativity",
                    "Year 1879",
                    "Year 1921",
                    "Year 1955"
                  ],
                  "textposition": "middle center",
                  "type": "scatter",
                  "x": [
                    -0.16494178156746517,
                    -0.7296179808283211,
                    0.8938234338535452,
                    0.7652956589472366,
                    0.765093694810578,
                    0.16845030228311966,
                    -0.44170215462970325,
                    0.9674688368203926,
                    -0.4867323254740381,
                    -0.9635451159663438,
                    0.4389710226136296,
                    -0.9332010854627654,
                    0.8110962348236196,
                    -0.12758752037315077,
                    -0.7262281455329092,
                    0.20034574994053495,
                    0.5065064035060237,
                    -0.9434952277639832
                  ],
                  "y": [
                    0.8918603118528661,
                    -0.66830464565122,
                    -0.3029037819688557,
                    0.28750071045268344,
                    0.6005076377204455,
                    1,
                    -0.828083466702423,
                    0.05631396182458108,
                    0.9266434790914907,
                    -0.006736164785168124,
                    0.7777313578773853,
                    -0.3759808101639721,
                    -0.6407032160901777,
                    -0.9275723510204485,
                    0.6449643206413614,
                    -0.9876366850826208,
                    -0.8182999872129979,
                    0.37069932921707105
                  ]
                }
              ],
              "layout": {
                "annotations": [
                  {
                    "font": {
                      "color": "#888",
                      "size": 12
                    },
                    "showarrow": false,
                    "text": "Interactive CRM Network Visualization",
                    "x": 0.005,
                    "xanchor": "left",
                    "xref": "paper",
                    "y": -0.002,
                    "yanchor": "bottom",
                    "yref": "paper"
                  }
                ],
                "hovermode": "closest",
                "margin": {
                  "b": 20,
                  "l": 5,
                  "r": 5,
                  "t": 40
                },
                "showlegend": false,
                "template": {
                  "data": {
                    "bar": [
                      {
                        "error_x": {
                          "color": "#2a3f5f"
                        },
                        "error_y": {
                          "color": "#2a3f5f"
                        },
                        "marker": {
                          "line": {
                            "color": "#E5ECF6",
                            "width": 0.5
                          },
                          "pattern": {
                            "fillmode": "overlay",
                            "size": 10,
                            "solidity": 0.2
                          }
                        },
                        "type": "bar"
                      }
                    ],
                    "barpolar": [
                      {
                        "marker": {
                          "line": {
                            "color": "#E5ECF6",
                            "width": 0.5
                          },
                          "pattern": {
                            "fillmode": "overlay",
                            "size": 10,
                            "solidity": 0.2
                          }
                        },
                        "type": "barpolar"
                      }
                    ],
                    "carpet": [
                      {
                        "aaxis": {
                          "endlinecolor": "#2a3f5f",
                          "gridcolor": "white",
                          "linecolor": "white",
                          "minorgridcolor": "white",
                          "startlinecolor": "#2a3f5f"
                        },
                        "baxis": {
                          "endlinecolor": "#2a3f5f",
                          "gridcolor": "white",
                          "linecolor": "white",
                          "minorgridcolor": "white",
                          "startlinecolor": "#2a3f5f"
                        },
                        "type": "carpet"
                      }
                    ],
                    "choropleth": [
                      {
                        "colorbar": {
                          "outlinewidth": 0,
                          "ticks": ""
                        },
                        "type": "choropleth"
                      }
                    ],
                    "contour": [
                      {
                        "colorbar": {
                          "outlinewidth": 0,
                          "ticks": ""
                        },
                        "colorscale": [
                          [
                            0,
                            "#0d0887"
                          ],
                          [
                            0.1111111111111111,
                            "#46039f"
                          ],
                          [
                            0.2222222222222222,
                            "#7201a8"
                          ],
                          [
                            0.3333333333333333,
                            "#9c179e"
                          ],
                          [
                            0.4444444444444444,
                            "#bd3786"
                          ],
                          [
                            0.5555555555555556,
                            "#d8576b"
                          ],
                          [
                            0.6666666666666666,
                            "#ed7953"
                          ],
                          [
                            0.7777777777777778,
                            "#fb9f3a"
                          ],
                          [
                            0.8888888888888888,
                            "#fdca26"
                          ],
                          [
                            1,
                            "#f0f921"
                          ]
                        ],
                        "type": "contour"
                      }
                    ],
                    "contourcarpet": [
                      {
                        "colorbar": {
                          "outlinewidth": 0,
                          "ticks": ""
                        },
                        "type": "contourcarpet"
                      }
                    ],
                    "heatmap": [
                      {
                        "colorbar": {
                          "outlinewidth": 0,
                          "ticks": ""
                        },
                        "colorscale": [
                          [
                            0,
                            "#0d0887"
                          ],
                          [
                            0.1111111111111111,
                            "#46039f"
                          ],
                          [
                            0.2222222222222222,
                            "#7201a8"
                          ],
                          [
                            0.3333333333333333,
                            "#9c179e"
                          ],
                          [
                            0.4444444444444444,
                            "#bd3786"
                          ],
                          [
                            0.5555555555555556,
                            "#d8576b"
                          ],
                          [
                            0.6666666666666666,
                            "#ed7953"
                          ],
                          [
                            0.7777777777777778,
                            "#fb9f3a"
                          ],
                          [
                            0.8888888888888888,
                            "#fdca26"
                          ],
                          [
                            1,
                            "#f0f921"
                          ]
                        ],
                        "type": "heatmap"
                      }
                    ],
                    "histogram": [
                      {
                        "marker": {
                          "pattern": {
                            "fillmode": "overlay",
                            "size": 10,
                            "solidity": 0.2
                          }
                        },
                        "type": "histogram"
                      }
                    ],
                    "histogram2d": [
                      {
                        "colorbar": {
                          "outlinewidth": 0,
                          "ticks": ""
                        },
                        "colorscale": [
                          [
                            0,
                            "#0d0887"
                          ],
                          [
                            0.1111111111111111,
                            "#46039f"
                          ],
                          [
                            0.2222222222222222,
                            "#7201a8"
                          ],
                          [
                            0.3333333333333333,
                            "#9c179e"
                          ],
                          [
                            0.4444444444444444,
                            "#bd3786"
                          ],
                          [
                            0.5555555555555556,
                            "#d8576b"
                          ],
                          [
                            0.6666666666666666,
                            "#ed7953"
                          ],
                          [
                            0.7777777777777778,
                            "#fb9f3a"
                          ],
                          [
                            0.8888888888888888,
                            "#fdca26"
                          ],
                          [
                            1,
                            "#f0f921"
                          ]
                        ],
                        "type": "histogram2d"
                      }
                    ],
                    "histogram2dcontour": [
                      {
                        "colorbar": {
                          "outlinewidth": 0,
                          "ticks": ""
                        },
                        "colorscale": [
                          [
                            0,
                            "#0d0887"
                          ],
                          [
                            0.1111111111111111,
                            "#46039f"
                          ],
                          [
                            0.2222222222222222,
                            "#7201a8"
                          ],
                          [
                            0.3333333333333333,
                            "#9c179e"
                          ],
                          [
                            0.4444444444444444,
                            "#bd3786"
                          ],
                          [
                            0.5555555555555556,
                            "#d8576b"
                          ],
                          [
                            0.6666666666666666,
                            "#ed7953"
                          ],
                          [
                            0.7777777777777778,
                            "#fb9f3a"
                          ],
                          [
                            0.8888888888888888,
                            "#fdca26"
                          ],
                          [
                            1,
                            "#f0f921"
                          ]
                        ],
                        "type": "histogram2dcontour"
                      }
                    ],
                    "mesh3d": [
                      {
                        "colorbar": {
                          "outlinewidth": 0,
                          "ticks": ""
                        },
                        "type": "mesh3d"
                      }
                    ],
                    "parcoords": [
                      {
                        "line": {
                          "colorbar": {
                            "outlinewidth": 0,
                            "ticks": ""
                          }
                        },
                        "type": "parcoords"
                      }
                    ],
                    "pie": [
                      {
                        "automargin": true,
                        "type": "pie"
                      }
                    ],
                    "scatter": [
                      {
                        "fillpattern": {
                          "fillmode": "overlay",
                          "size": 10,
                          "solidity": 0.2
                        },
                        "type": "scatter"
                      }
                    ],
                    "scatter3d": [
                      {
                        "line": {
                          "colorbar": {
                            "outlinewidth": 0,
                            "ticks": ""
                          }
                        },
                        "marker": {
                          "colorbar": {
                            "outlinewidth": 0,
                            "ticks": ""
                          }
                        },
                        "type": "scatter3d"
                      }
                    ],
                    "scattercarpet": [
                      {
                        "marker": {
                          "colorbar": {
                            "outlinewidth": 0,
                            "ticks": ""
                          }
                        },
                        "type": "scattercarpet"
                      }
                    ],
                    "scattergeo": [
                      {
                        "marker": {
                          "colorbar": {
                            "outlinewidth": 0,
                            "ticks": ""
                          }
                        },
                        "type": "scattergeo"
                      }
                    ],
                    "scattergl": [
                      {
                        "marker": {
                          "colorbar": {
                            "outlinewidth": 0,
                            "ticks": ""
                          }
                        },
                        "type": "scattergl"
                      }
                    ],
                    "scattermap": [
                      {
                        "marker": {
                          "colorbar": {
                            "outlinewidth": 0,
                            "ticks": ""
                          }
                        },
                        "type": "scattermap"
                      }
                    ],
                    "scattermapbox": [
                      {
                        "marker": {
                          "colorbar": {
                            "outlinewidth": 0,
                            "ticks": ""
                          }
                        },
                        "type": "scattermapbox"
                      }
                    ],
                    "scatterpolar": [
                      {
                        "marker": {
                          "colorbar": {
                            "outlinewidth": 0,
                            "ticks": ""
                          }
                        },
                        "type": "scatterpolar"
                      }
                    ],
                    "scatterpolargl": [
                      {
                        "marker": {
                          "colorbar": {
                            "outlinewidth": 0,
                            "ticks": ""
                          }
                        },
                        "type": "scatterpolargl"
                      }
                    ],
                    "scatterternary": [
                      {
                        "marker": {
                          "colorbar": {
                            "outlinewidth": 0,
                            "ticks": ""
                          }
                        },
                        "type": "scatterternary"
                      }
                    ],
                    "surface": [
                      {
                        "colorbar": {
                          "outlinewidth": 0,
                          "ticks": ""
                        },
                        "colorscale": [
                          [
                            0,
                            "#0d0887"
                          ],
                          [
                            0.1111111111111111,
                            "#46039f"
                          ],
                          [
                            0.2222222222222222,
                            "#7201a8"
                          ],
                          [
                            0.3333333333333333,
                            "#9c179e"
                          ],
                          [
                            0.4444444444444444,
                            "#bd3786"
                          ],
                          [
                            0.5555555555555556,
                            "#d8576b"
                          ],
                          [
                            0.6666666666666666,
                            "#ed7953"
                          ],
                          [
                            0.7777777777777778,
                            "#fb9f3a"
                          ],
                          [
                            0.8888888888888888,
                            "#fdca26"
                          ],
                          [
                            1,
                            "#f0f921"
                          ]
                        ],
                        "type": "surface"
                      }
                    ],
                    "table": [
                      {
                        "cells": {
                          "fill": {
                            "color": "#EBF0F8"
                          },
                          "line": {
                            "color": "white"
                          }
                        },
                        "header": {
                          "fill": {
                            "color": "#C8D4E3"
                          },
                          "line": {
                            "color": "white"
                          }
                        },
                        "type": "table"
                      }
                    ]
                  },
                  "layout": {
                    "annotationdefaults": {
                      "arrowcolor": "#2a3f5f",
                      "arrowhead": 0,
                      "arrowwidth": 1
                    },
                    "autotypenumbers": "strict",
                    "coloraxis": {
                      "colorbar": {
                        "outlinewidth": 0,
                        "ticks": ""
                      }
                    },
                    "colorscale": {
                      "diverging": [
                        [
                          0,
                          "#8e0152"
                        ],
                        [
                          0.1,
                          "#c51b7d"
                        ],
                        [
                          0.2,
                          "#de77ae"
                        ],
                        [
                          0.3,
                          "#f1b6da"
                        ],
                        [
                          0.4,
                          "#fde0ef"
                        ],
                        [
                          0.5,
                          "#f7f7f7"
                        ],
                        [
                          0.6,
                          "#e6f5d0"
                        ],
                        [
                          0.7,
                          "#b8e186"
                        ],
                        [
                          0.8,
                          "#7fbc41"
                        ],
                        [
                          0.9,
                          "#4d9221"
                        ],
                        [
                          1,
                          "#276419"
                        ]
                      ],
                      "sequential": [
                        [
                          0,
                          "#0d0887"
                        ],
                        [
                          0.1111111111111111,
                          "#46039f"
                        ],
                        [
                          0.2222222222222222,
                          "#7201a8"
                        ],
                        [
                          0.3333333333333333,
                          "#9c179e"
                        ],
                        [
                          0.4444444444444444,
                          "#bd3786"
                        ],
                        [
                          0.5555555555555556,
                          "#d8576b"
                        ],
                        [
                          0.6666666666666666,
                          "#ed7953"
                        ],
                        [
                          0.7777777777777778,
                          "#fb9f3a"
                        ],
                        [
                          0.8888888888888888,
                          "#fdca26"
                        ],
                        [
                          1,
                          "#f0f921"
                        ]
                      ],
                      "sequentialminus": [
                        [
                          0,
                          "#0d0887"
                        ],
                        [
                          0.1111111111111111,
                          "#46039f"
                        ],
                        [
                          0.2222222222222222,
                          "#7201a8"
                        ],
                        [
                          0.3333333333333333,
                          "#9c179e"
                        ],
                        [
                          0.4444444444444444,
                          "#bd3786"
                        ],
                        [
                          0.5555555555555556,
                          "#d8576b"
                        ],
                        [
                          0.6666666666666666,
                          "#ed7953"
                        ],
                        [
                          0.7777777777777778,
                          "#fb9f3a"
                        ],
                        [
                          0.8888888888888888,
                          "#fdca26"
                        ],
                        [
                          1,
                          "#f0f921"
                        ]
                      ]
                    },
                    "colorway": [
                      "#636efa",
                      "#EF553B",
                      "#00cc96",
                      "#ab63fa",
                      "#FFA15A",
                      "#19d3f3",
                      "#FF6692",
                      "#B6E880",
                      "#FF97FF",
                      "#FECB52"
                    ],
                    "font": {
                      "color": "#2a3f5f"
                    },
                    "geo": {
                      "bgcolor": "white",
                      "lakecolor": "white",
                      "landcolor": "#E5ECF6",
                      "showlakes": true,
                      "showland": true,
                      "subunitcolor": "white"
                    },
                    "hoverlabel": {
                      "align": "left"
                    },
                    "hovermode": "closest",
                    "mapbox": {
                      "style": "light"
                    },
                    "paper_bgcolor": "white",
                    "plot_bgcolor": "#E5ECF6",
                    "polar": {
                      "angularaxis": {
                        "gridcolor": "white",
                        "linecolor": "white",
                        "ticks": ""
                      },
                      "bgcolor": "#E5ECF6",
                      "radialaxis": {
                        "gridcolor": "white",
                        "linecolor": "white",
                        "ticks": ""
                      }
                    },
                    "scene": {
                      "xaxis": {
                        "backgroundcolor": "#E5ECF6",
                        "gridcolor": "white",
                        "gridwidth": 2,
                        "linecolor": "white",
                        "showbackground": true,
                        "ticks": "",
                        "zerolinecolor": "white"
                      },
                      "yaxis": {
                        "backgroundcolor": "#E5ECF6",
                        "gridcolor": "white",
                        "gridwidth": 2,
                        "linecolor": "white",
                        "showbackground": true,
                        "ticks": "",
                        "zerolinecolor": "white"
                      },
                      "zaxis": {
                        "backgroundcolor": "#E5ECF6",
                        "gridcolor": "white",
                        "gridwidth": 2,
                        "linecolor": "white",
                        "showbackground": true,
                        "ticks": "",
                        "zerolinecolor": "white"
                      }
                    },
                    "shapedefaults": {
                      "line": {
                        "color": "#2a3f5f"
                      }
                    },
                    "ternary": {
                      "aaxis": {
                        "gridcolor": "white",
                        "linecolor": "white",
                        "ticks": ""
                      },
                      "baxis": {
                        "gridcolor": "white",
                        "linecolor": "white",
                        "ticks": ""
                      },
                      "bgcolor": "#E5ECF6",
                      "caxis": {
                        "gridcolor": "white",
                        "linecolor": "white",
                        "ticks": ""
                      }
                    },
                    "title": {
                      "x": 0.05
                    },
                    "xaxis": {
                      "automargin": true,
                      "gridcolor": "white",
                      "linecolor": "white",
                      "ticks": "",
                      "title": {
                        "standoff": 15
                      },
                      "zerolinecolor": "white",
                      "zerolinewidth": 2
                    },
                    "yaxis": {
                      "automargin": true,
                      "gridcolor": "white",
                      "linecolor": "white",
                      "ticks": "",
                      "title": {
                        "standoff": 15
                      },
                      "zerolinecolor": "white",
                      "zerolinewidth": 2
                    }
                  }
                },
                "title": {
                  "font": {
                    "size": 16
                  },
                  "text": "Interactive Einstein Network - Complete View"
                },
                "xaxis": {
                  "showgrid": false,
                  "showticklabels": false,
                  "zeroline": false
                },
                "yaxis": {
                  "showgrid": false,
                  "showticklabels": false,
                  "zeroline": false
                }
              }
            }
          },
          "metadata": {},
          "output_type": "display_data"
        }
      ],
      "source": [
        "# Create enhanced interactive visualizations\n",
        "print(\"🎨 Creating enhanced interactive visualizations...\")\n",
        "\n",
        "# 1. Community Structure Visualization\n",
        "if communities:\n",
        "    print(\"📊 Creating community structure visualization...\")\n",
        "    community_fig = create_interactive_plot(\n",
        "        graph,\n",
        "        title=\"Community Structure - Einstein's Network\",\n",
        "        node_size_multiplier=25,\n",
        "        edge_width_multiplier=2\n",
        "    )\n",
        "    \n",
        "    # Add community colors\n",
        "    community_colors = px.colors.qualitative.Set3[:len(communities)]\n",
        "    for i, community in enumerate(communities):\n",
        "        for node_id in community:\n",
        "            if node_id in community_fig.data[1].marker.color:\n",
        "                # Update node color for community\n",
        "                pass\n",
        "    \n",
        "    community_file = plots_dir / \"community_structure.html\"\n",
        "    community_fig.write_html(str(community_file))\n",
        "    print(f\"✅ Generated community plot: {community_file}\")\n",
        "    \n",
        "    # Display community visualization\n",
        "    try:\n",
        "        community_fig.show()\n",
        "    except ValueError as e:\n",
        "        print(f\"⚠️  Display issue: {e}\")\n",
        "        print(f\"📁 Community plot saved: {community_file}\")\n",
        "\n",
        "# 2. Centrality Analysis Visualization\n",
        "print(\"📊 Creating centrality analysis visualization...\")\n",
        "centrality_fig = create_interactive_plot(\n",
        "    graph,\n",
        "    title=\"Centrality Analysis - Einstein's Network\",\n",
        "    node_size_multiplier=30,\n",
        "    edge_width_multiplier=1.5\n",
        ")\n",
        "\n",
        "centrality_file = plots_dir / \"centrality_analysis.html\"\n",
        "centrality_fig.write_html(str(centrality_file))\n",
        "print(f\"✅ Generated centrality plot: {centrality_file}\")\n",
        "\n",
        "# Display centrality visualization\n",
        "try:\n",
        "    centrality_fig.show()\n",
        "except ValueError as e:\n",
        "    print(f\"⚠️  Display issue: {e}\")\n",
        "    print(f\"📁 Centrality plot saved: {centrality_file}\")\n",
        "\n",
        "# 3. Main Interactive Network\n",
        "print(\"📊 Creating main interactive network...\")\n",
        "main_fig = create_interactive_plot(\n",
        "    graph,\n",
        "    title=\"Interactive Einstein Network - Complete View\",\n",
        "    node_size_multiplier=20,\n",
        "    edge_width_multiplier=2\n",
        ")\n",
        "\n",
        "main_file = plots_dir / \"interactive_network.html\"\n",
        "main_fig.write_html(str(main_file))\n",
        "print(f\"✅ Generated main interactive plot: {main_file}\")\n",
        "\n",
        "# Display main visualization\n",
        "try:\n",
        "    main_fig.show()\n",
        "except ValueError as e:\n",
        "    print(f\"⚠️  Display issue: {e}\")\n",
        "    print(f\"📁 Main plot saved: {main_file}\")\n"
      ]
    },
    {
      "cell_type": "markdown",
      "metadata": {},
      "source": [
        "## Step 9: Advanced Interactive Features\n",
        "\n",
        "Create advanced interactive visualizations with filtering, enhanced hover information, and dynamic layouts.\n"
      ]
    },
    {
      "cell_type": "code",
      "execution_count": 11,
      "metadata": {},
      "outputs": [
        {
          "name": "stdout",
          "output_type": "stream",
          "text": [
            "🎨 Creating advanced interactive visualizations...\n",
            "✅ Generated enhanced interactive plot: notebook_output/plots/enhanced_interactive_network.html\n"
          ]
        },
        {
          "data": {
            "application/vnd.plotly.v1+json": {
              "config": {
                "plotlyServerURL": "https://plot.ly"
              },
              "data": [
                {
                  "hoverinfo": "none",
                  "line": {
                    "color": "#888",
                    "width": 2
                  },
                  "mode": "lines",
                  "name": "Relationships",
                  "type": "scatter",
                  "x": [],
                  "y": []
                },
                {
                  "hoverinfo": "text",
                  "hovertext": [
                    "\n        <b>Albert Einstein</b><br>\n        ID: c682e9cf-344a-4868-8316-d323c7b4352e<br>\n        Class: E21<br>\n        Degree: 0<br>\n        Type: ['E21']\n        ",
                    "\n        <b>Nobel Prize</b><br>\n        ID: ab19b1e0-bd1b-494f-8075-4fe5364026e6<br>\n        Class: E21<br>\n        Degree: 0<br>\n        Type: ['E21']\n        ",
                    "\n        <b>Advanced Study</b><br>\n        ID: 8391dbbf-4402-4b6c-b94b-31473364a0f5<br>\n        Class: E21<br>\n        Degree: 0<br>\n        Type: ['E21']\n        ",
                    "\n        <b>New Jersey</b><br>\n        ID: 8f0905d0-be1c-4ea2-a735-22ce305bc43b<br>\n        Class: E21<br>\n        Degree: 0<br>\n        Type: ['E21']\n        ",
                    "\n        <b>New Jersey</b><br>\n        ID: c8037576-07c3-4cec-b6de-768503c7aecb<br>\n        Class: E21<br>\n        Degree: 0<br>\n        Type: ['E21']\n        ",
                    "\n        <b>Event involving born</b><br>\n        ID: 2fc47d3d-22f9-4da3-9601-5aa6fc5f7236<br>\n        Class: E5<br>\n        Degree: 0<br>\n        Type: ['E5']\n        ",
                    "\n        <b>Event involving died</b><br>\n        ID: 58797a3a-85d7-4bc7-a02b-8a9fa4fc074e<br>\n        Class: E5<br>\n        Degree: 0<br>\n        Type: ['E5']\n        ",
                    "\n        <b>Event involving developed</b><br>\n        ID: b63bdf6e-534f-4355-80ef-0b8c702e8424<br>\n        Class: E5<br>\n        Degree: 0<br>\n        Type: ['E5']\n        ",
                    "\n        <b>Event involving won</b><br>\n        ID: 030a0b4c-b017-4111-8189-2c2b013a0a3a<br>\n        Class: E5<br>\n        Degree: 0<br>\n        Type: ['E5']\n        ",
                    "\n        <b>Germany</b><br>\n        ID: 731b25b2-d9bd-4aed-ba2c-35c61bdd3d35<br>\n        Class: E53<br>\n        Degree: 0<br>\n        Type: ['E53']\n        ",
                    "\n        <b>Princeton</b><br>\n        ID: 59c41d29-dfb8-4c69-b07c-6c8f4c27ef8f<br>\n        Class: E53<br>\n        Degree: 0<br>\n        Type: ['E53']\n        ",
                    "\n        <b>Ulm</b><br>\n        ID: 51f04aef-e16f-4c3b-aa2e-346c5a457764<br>\n        Class: E53<br>\n        Degree: 0<br>\n        Type: ['E53']\n        ",
                    "\n        <b>theory</b><br>\n        ID: 49b6c8be-5298-4786-a094-81f9a6782928<br>\n        Class: E22<br>\n        Degree: 0<br>\n        Type: ['E22']\n        ",
                    "\n        <b>Nobel Prize</b><br>\n        ID: 3f08aefb-d6d2-4a8f-88c6-5118f1c83985<br>\n        Class: E22<br>\n        Degree: 0<br>\n        Type: ['E22']\n        ",
                    "\n        <b>relativity</b><br>\n        ID: 4a41a892-b7a1-45b3-b68e-ad36a053ac5f<br>\n        Class: E22<br>\n        Degree: 0<br>\n        Type: ['E22']\n        ",
                    "\n        <b>Year 1879</b><br>\n        ID: 87ddfa86-fa27-46ce-ae4d-f9c4141771f6<br>\n        Class: E52<br>\n        Degree: 0<br>\n        Type: ['E52']\n        ",
                    "\n        <b>Year 1921</b><br>\n        ID: 5040df55-adb5-4bc9-b249-17c7ca4b46f3<br>\n        Class: E52<br>\n        Degree: 0<br>\n        Type: ['E52']\n        ",
                    "\n        <b>Year 1955</b><br>\n        ID: e40e8e8f-0b5f-4cee-bf44-fa9c19db0b78<br>\n        Class: E52<br>\n        Degree: 0<br>\n        Type: ['E52']\n        "
                  ],
                  "marker": {
                    "color": [
                      "#FF6B6B",
                      "#FF6B6B",
                      "#FF6B6B",
                      "#FF6B6B",
                      "#FF6B6B",
                      "#4ECDC4",
                      "#4ECDC4",
                      "#4ECDC4",
                      "#4ECDC4",
                      "#45B7D1",
                      "#45B7D1",
                      "#45B7D1",
                      "#96CEB4",
                      "#96CEB4",
                      "#96CEB4",
                      "#FFEAA7",
                      "#FFEAA7",
                      "#FFEAA7"
                    ],
                    "line": {
                      "color": "white",
                      "width": 2
                    },
                    "opacity": 0.8,
                    "size": [
                      15,
                      15,
                      15,
                      15,
                      15,
                      15,
                      15,
                      15,
                      15,
                      15,
                      15,
                      15,
                      15,
                      15,
                      15,
                      15,
                      15,
                      15
                    ]
                  },
                  "mode": "markers+text",
                  "name": "Entities",
                  "text": [
                    "Albert Einstein",
                    "Nobel Prize",
                    "Advanced Study",
                    "New Jersey",
                    "New Jersey",
                    "Event involving born",
                    "Event involving died",
                    "Event involving developed",
                    "Event involving won",
                    "Germany",
                    "Princeton",
                    "Ulm",
                    "theory",
                    "Nobel Prize",
                    "relativity",
                    "Year 1879",
                    "Year 1921",
                    "Year 1955"
                  ],
                  "textfont": {
                    "color": "white",
                    "size": 10
                  },
                  "textposition": "middle center",
                  "type": "scatter",
                  "x": [
                    -0.5753579298799383,
                    -0.2554891639493401,
                    0.4083273846633137,
                    0.5609087341738913,
                    0.5931058720093425,
                    0.8908924474150465,
                    -0.3199959448480249,
                    -0.7876676874775133,
                    0.8145630455564244,
                    -0.883667242840787,
                    -0.566869474389924,
                    -0.9816525758983295,
                    0.07618930183802292,
                    0.21609654246563778,
                    -0.83882101395765,
                    0.8990795903436619,
                    -0.08276367026449592,
                    0.8331217850406628
                  ],
                  "y": [
                    -0.7055423839592653,
                    0.8994691043493832,
                    0.8683888660028126,
                    -0.7714781644744138,
                    0.5787018928814012,
                    -0.179641221447257,
                    -1,
                    0.5062494972775294,
                    0.5922025109747625,
                    0.181515327306526,
                    0.7709477861240253,
                    -0.13527490621109636,
                    0.9723350440671099,
                    -0.9200701569867271,
                    -0.5124350265306722,
                    0.16737093027576108,
                    -0.7956698714420704,
                    -0.5170692282078098
                  ]
                }
              ],
              "layout": {
                "annotations": [
                  {
                    "font": {
                      "color": "#7F8C8D",
                      "size": 12
                    },
                    "showarrow": false,
                    "text": "Interactive CRM Network - Hover over nodes for details",
                    "x": 0.005,
                    "xanchor": "left",
                    "xref": "paper",
                    "y": -0.002,
                    "yanchor": "bottom",
                    "yref": "paper"
                  }
                ],
                "font": {
                  "family": "Arial, sans-serif"
                },
                "hovermode": "closest",
                "margin": {
                  "b": 20,
                  "l": 5,
                  "r": 5,
                  "t": 60
                },
                "paper_bgcolor": "white",
                "plot_bgcolor": "white",
                "showlegend": true,
                "template": {
                  "data": {
                    "bar": [
                      {
                        "error_x": {
                          "color": "#2a3f5f"
                        },
                        "error_y": {
                          "color": "#2a3f5f"
                        },
                        "marker": {
                          "line": {
                            "color": "#E5ECF6",
                            "width": 0.5
                          },
                          "pattern": {
                            "fillmode": "overlay",
                            "size": 10,
                            "solidity": 0.2
                          }
                        },
                        "type": "bar"
                      }
                    ],
                    "barpolar": [
                      {
                        "marker": {
                          "line": {
                            "color": "#E5ECF6",
                            "width": 0.5
                          },
                          "pattern": {
                            "fillmode": "overlay",
                            "size": 10,
                            "solidity": 0.2
                          }
                        },
                        "type": "barpolar"
                      }
                    ],
                    "carpet": [
                      {
                        "aaxis": {
                          "endlinecolor": "#2a3f5f",
                          "gridcolor": "white",
                          "linecolor": "white",
                          "minorgridcolor": "white",
                          "startlinecolor": "#2a3f5f"
                        },
                        "baxis": {
                          "endlinecolor": "#2a3f5f",
                          "gridcolor": "white",
                          "linecolor": "white",
                          "minorgridcolor": "white",
                          "startlinecolor": "#2a3f5f"
                        },
                        "type": "carpet"
                      }
                    ],
                    "choropleth": [
                      {
                        "colorbar": {
                          "outlinewidth": 0,
                          "ticks": ""
                        },
                        "type": "choropleth"
                      }
                    ],
                    "contour": [
                      {
                        "colorbar": {
                          "outlinewidth": 0,
                          "ticks": ""
                        },
                        "colorscale": [
                          [
                            0,
                            "#0d0887"
                          ],
                          [
                            0.1111111111111111,
                            "#46039f"
                          ],
                          [
                            0.2222222222222222,
                            "#7201a8"
                          ],
                          [
                            0.3333333333333333,
                            "#9c179e"
                          ],
                          [
                            0.4444444444444444,
                            "#bd3786"
                          ],
                          [
                            0.5555555555555556,
                            "#d8576b"
                          ],
                          [
                            0.6666666666666666,
                            "#ed7953"
                          ],
                          [
                            0.7777777777777778,
                            "#fb9f3a"
                          ],
                          [
                            0.8888888888888888,
                            "#fdca26"
                          ],
                          [
                            1,
                            "#f0f921"
                          ]
                        ],
                        "type": "contour"
                      }
                    ],
                    "contourcarpet": [
                      {
                        "colorbar": {
                          "outlinewidth": 0,
                          "ticks": ""
                        },
                        "type": "contourcarpet"
                      }
                    ],
                    "heatmap": [
                      {
                        "colorbar": {
                          "outlinewidth": 0,
                          "ticks": ""
                        },
                        "colorscale": [
                          [
                            0,
                            "#0d0887"
                          ],
                          [
                            0.1111111111111111,
                            "#46039f"
                          ],
                          [
                            0.2222222222222222,
                            "#7201a8"
                          ],
                          [
                            0.3333333333333333,
                            "#9c179e"
                          ],
                          [
                            0.4444444444444444,
                            "#bd3786"
                          ],
                          [
                            0.5555555555555556,
                            "#d8576b"
                          ],
                          [
                            0.6666666666666666,
                            "#ed7953"
                          ],
                          [
                            0.7777777777777778,
                            "#fb9f3a"
                          ],
                          [
                            0.8888888888888888,
                            "#fdca26"
                          ],
                          [
                            1,
                            "#f0f921"
                          ]
                        ],
                        "type": "heatmap"
                      }
                    ],
                    "histogram": [
                      {
                        "marker": {
                          "pattern": {
                            "fillmode": "overlay",
                            "size": 10,
                            "solidity": 0.2
                          }
                        },
                        "type": "histogram"
                      }
                    ],
                    "histogram2d": [
                      {
                        "colorbar": {
                          "outlinewidth": 0,
                          "ticks": ""
                        },
                        "colorscale": [
                          [
                            0,
                            "#0d0887"
                          ],
                          [
                            0.1111111111111111,
                            "#46039f"
                          ],
                          [
                            0.2222222222222222,
                            "#7201a8"
                          ],
                          [
                            0.3333333333333333,
                            "#9c179e"
                          ],
                          [
                            0.4444444444444444,
                            "#bd3786"
                          ],
                          [
                            0.5555555555555556,
                            "#d8576b"
                          ],
                          [
                            0.6666666666666666,
                            "#ed7953"
                          ],
                          [
                            0.7777777777777778,
                            "#fb9f3a"
                          ],
                          [
                            0.8888888888888888,
                            "#fdca26"
                          ],
                          [
                            1,
                            "#f0f921"
                          ]
                        ],
                        "type": "histogram2d"
                      }
                    ],
                    "histogram2dcontour": [
                      {
                        "colorbar": {
                          "outlinewidth": 0,
                          "ticks": ""
                        },
                        "colorscale": [
                          [
                            0,
                            "#0d0887"
                          ],
                          [
                            0.1111111111111111,
                            "#46039f"
                          ],
                          [
                            0.2222222222222222,
                            "#7201a8"
                          ],
                          [
                            0.3333333333333333,
                            "#9c179e"
                          ],
                          [
                            0.4444444444444444,
                            "#bd3786"
                          ],
                          [
                            0.5555555555555556,
                            "#d8576b"
                          ],
                          [
                            0.6666666666666666,
                            "#ed7953"
                          ],
                          [
                            0.7777777777777778,
                            "#fb9f3a"
                          ],
                          [
                            0.8888888888888888,
                            "#fdca26"
                          ],
                          [
                            1,
                            "#f0f921"
                          ]
                        ],
                        "type": "histogram2dcontour"
                      }
                    ],
                    "mesh3d": [
                      {
                        "colorbar": {
                          "outlinewidth": 0,
                          "ticks": ""
                        },
                        "type": "mesh3d"
                      }
                    ],
                    "parcoords": [
                      {
                        "line": {
                          "colorbar": {
                            "outlinewidth": 0,
                            "ticks": ""
                          }
                        },
                        "type": "parcoords"
                      }
                    ],
                    "pie": [
                      {
                        "automargin": true,
                        "type": "pie"
                      }
                    ],
                    "scatter": [
                      {
                        "fillpattern": {
                          "fillmode": "overlay",
                          "size": 10,
                          "solidity": 0.2
                        },
                        "type": "scatter"
                      }
                    ],
                    "scatter3d": [
                      {
                        "line": {
                          "colorbar": {
                            "outlinewidth": 0,
                            "ticks": ""
                          }
                        },
                        "marker": {
                          "colorbar": {
                            "outlinewidth": 0,
                            "ticks": ""
                          }
                        },
                        "type": "scatter3d"
                      }
                    ],
                    "scattercarpet": [
                      {
                        "marker": {
                          "colorbar": {
                            "outlinewidth": 0,
                            "ticks": ""
                          }
                        },
                        "type": "scattercarpet"
                      }
                    ],
                    "scattergeo": [
                      {
                        "marker": {
                          "colorbar": {
                            "outlinewidth": 0,
                            "ticks": ""
                          }
                        },
                        "type": "scattergeo"
                      }
                    ],
                    "scattergl": [
                      {
                        "marker": {
                          "colorbar": {
                            "outlinewidth": 0,
                            "ticks": ""
                          }
                        },
                        "type": "scattergl"
                      }
                    ],
                    "scattermap": [
                      {
                        "marker": {
                          "colorbar": {
                            "outlinewidth": 0,
                            "ticks": ""
                          }
                        },
                        "type": "scattermap"
                      }
                    ],
                    "scattermapbox": [
                      {
                        "marker": {
                          "colorbar": {
                            "outlinewidth": 0,
                            "ticks": ""
                          }
                        },
                        "type": "scattermapbox"
                      }
                    ],
                    "scatterpolar": [
                      {
                        "marker": {
                          "colorbar": {
                            "outlinewidth": 0,
                            "ticks": ""
                          }
                        },
                        "type": "scatterpolar"
                      }
                    ],
                    "scatterpolargl": [
                      {
                        "marker": {
                          "colorbar": {
                            "outlinewidth": 0,
                            "ticks": ""
                          }
                        },
                        "type": "scatterpolargl"
                      }
                    ],
                    "scatterternary": [
                      {
                        "marker": {
                          "colorbar": {
                            "outlinewidth": 0,
                            "ticks": ""
                          }
                        },
                        "type": "scatterternary"
                      }
                    ],
                    "surface": [
                      {
                        "colorbar": {
                          "outlinewidth": 0,
                          "ticks": ""
                        },
                        "colorscale": [
                          [
                            0,
                            "#0d0887"
                          ],
                          [
                            0.1111111111111111,
                            "#46039f"
                          ],
                          [
                            0.2222222222222222,
                            "#7201a8"
                          ],
                          [
                            0.3333333333333333,
                            "#9c179e"
                          ],
                          [
                            0.4444444444444444,
                            "#bd3786"
                          ],
                          [
                            0.5555555555555556,
                            "#d8576b"
                          ],
                          [
                            0.6666666666666666,
                            "#ed7953"
                          ],
                          [
                            0.7777777777777778,
                            "#fb9f3a"
                          ],
                          [
                            0.8888888888888888,
                            "#fdca26"
                          ],
                          [
                            1,
                            "#f0f921"
                          ]
                        ],
                        "type": "surface"
                      }
                    ],
                    "table": [
                      {
                        "cells": {
                          "fill": {
                            "color": "#EBF0F8"
                          },
                          "line": {
                            "color": "white"
                          }
                        },
                        "header": {
                          "fill": {
                            "color": "#C8D4E3"
                          },
                          "line": {
                            "color": "white"
                          }
                        },
                        "type": "table"
                      }
                    ]
                  },
                  "layout": {
                    "annotationdefaults": {
                      "arrowcolor": "#2a3f5f",
                      "arrowhead": 0,
                      "arrowwidth": 1
                    },
                    "autotypenumbers": "strict",
                    "coloraxis": {
                      "colorbar": {
                        "outlinewidth": 0,
                        "ticks": ""
                      }
                    },
                    "colorscale": {
                      "diverging": [
                        [
                          0,
                          "#8e0152"
                        ],
                        [
                          0.1,
                          "#c51b7d"
                        ],
                        [
                          0.2,
                          "#de77ae"
                        ],
                        [
                          0.3,
                          "#f1b6da"
                        ],
                        [
                          0.4,
                          "#fde0ef"
                        ],
                        [
                          0.5,
                          "#f7f7f7"
                        ],
                        [
                          0.6,
                          "#e6f5d0"
                        ],
                        [
                          0.7,
                          "#b8e186"
                        ],
                        [
                          0.8,
                          "#7fbc41"
                        ],
                        [
                          0.9,
                          "#4d9221"
                        ],
                        [
                          1,
                          "#276419"
                        ]
                      ],
                      "sequential": [
                        [
                          0,
                          "#0d0887"
                        ],
                        [
                          0.1111111111111111,
                          "#46039f"
                        ],
                        [
                          0.2222222222222222,
                          "#7201a8"
                        ],
                        [
                          0.3333333333333333,
                          "#9c179e"
                        ],
                        [
                          0.4444444444444444,
                          "#bd3786"
                        ],
                        [
                          0.5555555555555556,
                          "#d8576b"
                        ],
                        [
                          0.6666666666666666,
                          "#ed7953"
                        ],
                        [
                          0.7777777777777778,
                          "#fb9f3a"
                        ],
                        [
                          0.8888888888888888,
                          "#fdca26"
                        ],
                        [
                          1,
                          "#f0f921"
                        ]
                      ],
                      "sequentialminus": [
                        [
                          0,
                          "#0d0887"
                        ],
                        [
                          0.1111111111111111,
                          "#46039f"
                        ],
                        [
                          0.2222222222222222,
                          "#7201a8"
                        ],
                        [
                          0.3333333333333333,
                          "#9c179e"
                        ],
                        [
                          0.4444444444444444,
                          "#bd3786"
                        ],
                        [
                          0.5555555555555556,
                          "#d8576b"
                        ],
                        [
                          0.6666666666666666,
                          "#ed7953"
                        ],
                        [
                          0.7777777777777778,
                          "#fb9f3a"
                        ],
                        [
                          0.8888888888888888,
                          "#fdca26"
                        ],
                        [
                          1,
                          "#f0f921"
                        ]
                      ]
                    },
                    "colorway": [
                      "#636efa",
                      "#EF553B",
                      "#00cc96",
                      "#ab63fa",
                      "#FFA15A",
                      "#19d3f3",
                      "#FF6692",
                      "#B6E880",
                      "#FF97FF",
                      "#FECB52"
                    ],
                    "font": {
                      "color": "#2a3f5f"
                    },
                    "geo": {
                      "bgcolor": "white",
                      "lakecolor": "white",
                      "landcolor": "#E5ECF6",
                      "showlakes": true,
                      "showland": true,
                      "subunitcolor": "white"
                    },
                    "hoverlabel": {
                      "align": "left"
                    },
                    "hovermode": "closest",
                    "mapbox": {
                      "style": "light"
                    },
                    "paper_bgcolor": "white",
                    "plot_bgcolor": "#E5ECF6",
                    "polar": {
                      "angularaxis": {
                        "gridcolor": "white",
                        "linecolor": "white",
                        "ticks": ""
                      },
                      "bgcolor": "#E5ECF6",
                      "radialaxis": {
                        "gridcolor": "white",
                        "linecolor": "white",
                        "ticks": ""
                      }
                    },
                    "scene": {
                      "xaxis": {
                        "backgroundcolor": "#E5ECF6",
                        "gridcolor": "white",
                        "gridwidth": 2,
                        "linecolor": "white",
                        "showbackground": true,
                        "ticks": "",
                        "zerolinecolor": "white"
                      },
                      "yaxis": {
                        "backgroundcolor": "#E5ECF6",
                        "gridcolor": "white",
                        "gridwidth": 2,
                        "linecolor": "white",
                        "showbackground": true,
                        "ticks": "",
                        "zerolinecolor": "white"
                      },
                      "zaxis": {
                        "backgroundcolor": "#E5ECF6",
                        "gridcolor": "white",
                        "gridwidth": 2,
                        "linecolor": "white",
                        "showbackground": true,
                        "ticks": "",
                        "zerolinecolor": "white"
                      }
                    },
                    "shapedefaults": {
                      "line": {
                        "color": "#2a3f5f"
                      }
                    },
                    "ternary": {
                      "aaxis": {
                        "gridcolor": "white",
                        "linecolor": "white",
                        "ticks": ""
                      },
                      "baxis": {
                        "gridcolor": "white",
                        "linecolor": "white",
                        "ticks": ""
                      },
                      "bgcolor": "#E5ECF6",
                      "caxis": {
                        "gridcolor": "white",
                        "linecolor": "white",
                        "ticks": ""
                      }
                    },
                    "title": {
                      "x": 0.05
                    },
                    "xaxis": {
                      "automargin": true,
                      "gridcolor": "white",
                      "linecolor": "white",
                      "ticks": "",
                      "title": {
                        "standoff": 15
                      },
                      "zerolinecolor": "white",
                      "zerolinewidth": 2
                    },
                    "yaxis": {
                      "automargin": true,
                      "gridcolor": "white",
                      "linecolor": "white",
                      "ticks": "",
                      "title": {
                        "standoff": 15
                      },
                      "zerolinecolor": "white",
                      "zerolinewidth": 2
                    }
                  }
                },
                "title": {
                  "font": {
                    "color": "#2C3E50",
                    "size": 20
                  },
                  "text": "Enhanced Interactive Einstein Network",
                  "x": 0.5
                },
                "xaxis": {
                  "showgrid": false,
                  "showticklabels": false,
                  "zeroline": false
                },
                "yaxis": {
                  "showgrid": false,
                  "showticklabels": false,
                  "zeroline": false
                }
              }
            }
          },
          "metadata": {},
          "output_type": "display_data"
        },
        {
          "name": "stdout",
          "output_type": "stream",
          "text": [
            "\n",
            "🎯 Enhanced Features:\n",
            "  - Better hover information with entity details\n",
            "  - Improved color scheme for entity types\n",
            "  - Dynamic node sizing based on degree\n",
            "  - Enhanced styling and layout\n",
            "  - Interactive zoom and pan capabilities\n"
          ]
        }
      ],
      "source": [
        "# Create advanced interactive visualizations with enhanced features\n",
        "print(\"🎨 Creating advanced interactive visualizations...\")\n",
        "\n",
        "# Enhanced interactive plot with better hover information\n",
        "def create_enhanced_interactive_plot(graph, title, node_size_multiplier=20, edge_width_multiplier=2):\n",
        "    \"\"\"Create an enhanced interactive plot with better hover information and styling.\"\"\"\n",
        "    \n",
        "    # Get layout positions\n",
        "    pos = nx.spring_layout(graph, k=3, iterations=50)\n",
        "    \n",
        "    # Prepare edge traces with enhanced styling\n",
        "    edge_x = []\n",
        "    edge_y = []\n",
        "    edge_hovertext = []\n",
        "    \n",
        "    for edge in graph.edges(data=True):\n",
        "        x0, y0 = pos[edge[0]]\n",
        "        x1, y1 = pos[edge[1]]\n",
        "        edge_x.extend([x0, x1, None])\n",
        "        edge_y.extend([y0, y1, None])\n",
        "        \n",
        "        # Enhanced edge hover information\n",
        "        edge_data = edge[2]\n",
        "        property_code = edge_data.get('property_code', 'Unknown')\n",
        "        edge_hovertext.append(f\"Relationship: {property_code}<br>From: {edge[0]}<br>To: {edge[1]}\")\n",
        "    \n",
        "    edge_trace = go.Scatter(\n",
        "        x=edge_x, y=edge_y,\n",
        "        line=dict(width=edge_width_multiplier, color=\"#888\"),\n",
        "        hoverinfo=\"none\",\n",
        "        mode=\"lines\",\n",
        "        name=\"Relationships\"\n",
        "    )\n",
        "    \n",
        "    # Prepare node traces with enhanced information\n",
        "    node_x = []\n",
        "    node_y = []\n",
        "    node_text = []\n",
        "    node_hovertext = []\n",
        "    node_colors = []\n",
        "    node_sizes = []\n",
        "    node_labels = []\n",
        "    \n",
        "    for node in graph.nodes():\n",
        "        x, y = pos[node]\n",
        "        node_x.append(x)\n",
        "        node_y.append(y)\n",
        "        \n",
        "        node_data = graph.nodes[node]\n",
        "        label = node_data.get('label', node)\n",
        "        class_code = node_data.get('class_code', 'Unknown')\n",
        "        degree = graph.degree(node)\n",
        "        \n",
        "        node_text.append(label)\n",
        "        node_labels.append(label)\n",
        "        \n",
        "        # Enhanced hover information\n",
        "        hover_info = f\"\"\"\n",
        "        <b>{label}</b><br>\n",
        "        ID: {node}<br>\n",
        "        Class: {class_code}<br>\n",
        "        Degree: {degree}<br>\n",
        "        Type: {node_data.get('type', 'Unknown')}\n",
        "        \"\"\"\n",
        "        node_hovertext.append(hover_info)\n",
        "        \n",
        "        # Color by class code with better color scheme\n",
        "        color_map = {\n",
        "            \"E21\": \"#FF6B6B\",      # Person - Red\n",
        "            \"E5\": \"#4ECDC4\",       # Event - Teal\n",
        "            \"E53\": \"#45B7D1\",      # Place - Blue\n",
        "            \"E22\": \"#96CEB4\",      # Object - Green\n",
        "            \"E52\": \"#FFEAA7\",      # Time - Yellow\n",
        "            \"E12\": \"#DDA0DD\",      # Production - Purple\n",
        "            \"E39\": \"#F39C12\",      # Actor - Orange\n",
        "        }\n",
        "        node_colors.append(color_map.get(class_code, \"#95A5A6\"))\n",
        "        \n",
        "        # Size by degree with better scaling\n",
        "        node_sizes.append(max(15, degree * node_size_multiplier + 10))\n",
        "    \n",
        "    node_trace = go.Scatter(\n",
        "        x=node_x, y=node_y,\n",
        "        mode=\"markers+text\",\n",
        "        hoverinfo=\"text\",\n",
        "        hovertext=node_hovertext,\n",
        "        text=node_text,\n",
        "        textposition=\"middle center\",\n",
        "        textfont=dict(size=10, color=\"white\"),\n",
        "        marker=dict(\n",
        "            size=node_sizes,\n",
        "            color=node_colors,\n",
        "            line=dict(width=2, color=\"white\"),\n",
        "            opacity=0.8\n",
        "        ),\n",
        "        name=\"Entities\"\n",
        "    )\n",
        "    \n",
        "    # Create figure with enhanced layout\n",
        "    fig = go.Figure(\n",
        "        data=[edge_trace, node_trace],\n",
        "        layout=go.Layout(\n",
        "            title=dict(\n",
        "                text=title,\n",
        "                font=dict(size=20, color=\"#2C3E50\"),\n",
        "                x=0.5\n",
        "            ),\n",
        "            showlegend=True,\n",
        "            hovermode=\"closest\",\n",
        "            margin=dict(b=20, l=5, r=5, t=60),\n",
        "            annotations=[\n",
        "                dict(\n",
        "                    text=\"Interactive CRM Network - Hover over nodes for details\",\n",
        "                    showarrow=False,\n",
        "                    xref=\"paper\", yref=\"paper\",\n",
        "                    x=0.005, y=-0.002,\n",
        "                    xanchor=\"left\", yanchor=\"bottom\",\n",
        "                    font=dict(color=\"#7F8C8D\", size=12)\n",
        "                )\n",
        "            ],\n",
        "            xaxis=dict(showgrid=False, zeroline=False, showticklabels=False),\n",
        "            yaxis=dict(showgrid=False, zeroline=False, showticklabels=False),\n",
        "            plot_bgcolor=\"white\",\n",
        "            paper_bgcolor=\"white\",\n",
        "            font=dict(family=\"Arial, sans-serif\")\n",
        "        )\n",
        "    )\n",
        "    \n",
        "    return fig\n",
        "\n",
        "# Create enhanced interactive plot\n",
        "enhanced_fig = create_enhanced_interactive_plot(\n",
        "    graph,\n",
        "    title=\"Enhanced Interactive Einstein Network\",\n",
        "    node_size_multiplier=25,\n",
        "    edge_width_multiplier=2\n",
        ")\n",
        "\n",
        "# Save enhanced plot\n",
        "enhanced_file = plots_dir / \"enhanced_interactive_network.html\"\n",
        "enhanced_fig.write_html(str(enhanced_file))\n",
        "print(f\"✅ Generated enhanced interactive plot: {enhanced_file}\")\n",
        "\n",
        "# Display enhanced visualization\n",
        "try:\n",
        "    enhanced_fig.show()\n",
        "except ValueError as e:\n",
        "    print(f\"⚠️  Display issue: {e}\")\n",
        "    print(f\"📁 Enhanced plot saved: {enhanced_file}\")\n",
        "    print(\"💡 Tip: Open the HTML file in your browser to view the interactive plot\")\n",
        "\n",
        "print(\"\\n🎯 Enhanced Features:\")\n",
        "print(\"  - Better hover information with entity details\")\n",
        "print(\"  - Improved color scheme for entity types\")\n",
        "print(\"  - Dynamic node sizing based on degree\")\n",
        "print(\"  - Enhanced styling and layout\")\n",
        "print(\"  - Interactive zoom and pan capabilities\")\n"
      ]
    },
    {
      "cell_type": "markdown",
      "metadata": {},
      "source": [
        "## 📋 How to View Your Interactive Plots\n",
        "\n",
        "If you encountered display issues in the notebook, here are several ways to view your interactive Plotly visualizations:\n",
        "\n",
        "### Method 1: Open HTML Files in Browser\n",
        "All interactive plots are saved as HTML files in the `plots/` directory. You can:\n",
        "1. Navigate to the `notebook_output/plots/` folder\n",
        "2. Double-click any `.html` file to open it in your browser\n",
        "3. Enjoy the full interactive experience with zoom, pan, and hover features\n",
        "\n",
        "### Method 2: Use Alternative Display Methods\n",
        "```python\n",
        "# Alternative 1: Display with specific renderer\n",
        "import plotly.io as pio\n",
        "pio.renderers.default = \"browser\"  # Opens in browser\n",
        "fig.show()\n",
        "\n",
        "# Alternative 2: Display as static image\n",
        "fig.show(\"png\")  # Saves as PNG\n",
        "\n",
        "# Alternative 3: Display in iframe\n",
        "from IPython.display import HTML\n",
        "HTML(fig.to_html(include_plotlyjs='cdn'))\n",
        "```\n",
        "\n",
        "### Method 3: Fix Jupyter Environment\n",
        "To fix the display issue permanently:\n",
        "1. Restart your Jupyter server\n",
        "2. Change kernel to \"Collie (uv)\" in your notebook\n",
        "3. Re-run the cells\n",
        "\n",
        "### Generated Files\n",
        "- `network_overview.html` - Main interactive network\n",
        "- `community_structure.html` - Community analysis\n",
        "- `centrality_analysis.html` - Centrality analysis  \n",
        "- `interactive_network.html` - Complete network view\n",
        "- `enhanced_interactive_network.html` - Enhanced version with rich hover info\n"
      ]
    },
    {
      "cell_type": "code",
      "execution_count": 12,
      "metadata": {},
      "outputs": [
        {
          "name": "stdout",
          "output_type": "stream",
          "text": [
            "🔧 Alternative Display Methods\n",
            "\n",
            "1. Browser Display:\n",
            "✅ Browser renderer set - plots will open in browser\n",
            "\n",
            "2. Static Image Display:\n",
            "❌ Static image display failed: \n",
            "Image export using the \"kaleido\" engine requires the Kaleido package,\n",
            "which can be installed using pip:\n",
            "\n",
            "    $ pip install --upgrade kaleido\n",
            "\n",
            "\n",
            "3. HTML Display:\n",
            "✅ HTML display ready - you can use HTML(html_content) to display\n",
            "\n",
            "💡 Recommendation: Use the HTML files in your browser for the best interactive experience!\n"
          ]
        }
      ],
      "source": [
        "# Alternative display methods for Plotly visualizations\n",
        "print(\"🔧 Alternative Display Methods\")\n",
        "\n",
        "# Method 1: Display with browser renderer\n",
        "print(\"\\n1. Browser Display:\")\n",
        "try:\n",
        "    import plotly.io as pio\n",
        "    pio.renderers.default = \"browser\"\n",
        "    print(\"✅ Browser renderer set - plots will open in browser\")\n",
        "except Exception as e:\n",
        "    print(f\"❌ Browser renderer failed: {e}\")\n",
        "\n",
        "# Method 2: Display as static image\n",
        "print(\"\\n2. Static Image Display:\")\n",
        "try:\n",
        "    # Create a simple test plot\n",
        "    import plotly.graph_objects as go\n",
        "    test_fig = go.Figure(data=go.Scatter(x=[1, 2, 3], y=[4, 5, 6]))\n",
        "    \n",
        "    # Save as PNG\n",
        "    test_fig.write_image(plots_dir / \"test_plot.png\")\n",
        "    print(\"✅ Static image display works - test plot saved as PNG\")\n",
        "except Exception as e:\n",
        "    print(f\"❌ Static image display failed: {e}\")\n",
        "\n",
        "# Method 3: HTML display with IPython\n",
        "print(\"\\n3. HTML Display:\")\n",
        "try:\n",
        "    from IPython.display import HTML\n",
        "    html_content = enhanced_fig.to_html(include_plotlyjs='cdn')\n",
        "    print(\"✅ HTML display ready - you can use HTML(html_content) to display\")\n",
        "except Exception as e:\n",
        "    print(f\"❌ HTML display failed: {e}\")\n",
        "\n",
        "print(\"\\n💡 Recommendation: Use the HTML files in your browser for the best interactive experience!\")\n"
      ]
    },
    {
      "cell_type": "markdown",
      "metadata": {},
      "source": [
        "## Step 10: Export to Cypher\n",
        "\n",
        "Generate Cypher scripts for importing the data into graph databases like Neo4j or Memgraph.\n"
      ]
    },
    {
      "cell_type": "code",
      "execution_count": 13,
      "metadata": {},
      "outputs": [
        {
          "name": "stdout",
          "output_type": "stream",
          "text": [
            "🔗 Generating Cypher script...\n",
            "✅ Generated Cypher script: notebook_output/network.cypher\n",
            "\n",
            "📋 Cypher Script Preview:\n",
            "-- Create constraints\n",
            "CREATE CONSTRAINT crm_id IF NOT EXISTS FOR (n:CRM) REQUIRE n.id IS UNIQUE;\n",
            "CREATE CONSTRAINT crm_class_code IF NOT EXISTS FOR (n:CRM) REQUIRE n.class_code IS NOT NULL;\n",
            "\n",
            "-- Create nodes\n",
            "UNWIND $nodes_0 AS n\n",
            "MERGE (x:CRM {id: n.id})\n",
            "SET x.label = coalesce(n.label, x.label)\n",
            "SET x.class_code = n.class_code\n",
            "SET x.notes = coalesce(n.notes, x.notes)\n",
            "SET x.type = coalesce(n.type, x.type);\n",
            "\n"
          ]
        }
      ],
      "source": [
        "# Generate Cypher script\n",
        "print(\"🔗 Generating Cypher script...\")\n",
        "cypher_script = generate_cypher_script(crm_entities)\n",
        "\n",
        "# Save Cypher script\n",
        "cypher_file = output_dir / \"network.cypher\"\n",
        "with open(cypher_file, \"w\") as f:\n",
        "    f.write(cypher_script)\n",
        "\n",
        "print(f\"✅ Generated Cypher script: {cypher_file}\")\n",
        "\n",
        "# Display first part of Cypher script\n",
        "print(\"\\n📋 Cypher Script Preview:\")\n",
        "cypher_lines = cypher_script.split('\\n')\n",
        "for line in cypher_lines[:20]:  # Show first 20 lines\n",
        "    print(line)\n",
        "if len(cypher_lines) > 20:\n",
        "    print(f\"... ({len(cypher_lines) - 20} more lines)\")\n"
      ]
    },
    {
      "cell_type": "markdown",
      "metadata": {},
      "source": [
        "## Step 11: Create Summary Report\n",
        "\n",
        "Generate a comprehensive summary report of the entire workflow.\n"
      ]
    },
    {
      "cell_type": "code",
      "execution_count": 14,
      "metadata": {},
      "outputs": [
        {
          "name": "stdout",
          "output_type": "stream",
          "text": [
            "📋 Creating summary report...\n",
            "✅ Created summary report: notebook_output/workflow_summary.md\n",
            "\n",
            "📊 Workflow Summary:\n",
            "  Input text length: 420 characters\n",
            "  Entities extracted: 18\n",
            "  Relationships extracted: 53\n",
            "  Network nodes: 18\n",
            "  Network edges: 0\n",
            "  Communities found: 0\n",
            "  Output directory: notebook_output\n"
          ]
        }
      ],
      "source": [
        "# Create summary report\n",
        "print(\"📋 Creating summary report...\")\n",
        "\n",
        "summary_file = output_dir / \"workflow_summary.md\"\n",
        "with open(summary_file, \"w\") as f:\n",
        "    f.write(\"# COLLIE Workflow Summary\\n\\n\")\n",
        "    f.write(f\"## Input Text\\n\\n{sample_text[:200]}...\\n\\n\")\n",
        "    f.write(f\"## Extraction Results\\n\\n\")\n",
        "    f.write(f\"- Entities extracted: {len(extraction_result.entities)}\\n\")\n",
        "    f.write(f\"- Relationships extracted: {len(extraction_result.relationships)}\\n\\n\")\n",
        "    f.write(f\"## Network Analysis\\n\\n\")\n",
        "    f.write(f\"- Nodes: {graph.number_of_nodes()}\\n\")\n",
        "    f.write(f\"- Edges: {graph.number_of_edges()}\\n\")\n",
        "    f.write(f\"- Density: {network_stats['basic_metrics']['density']:.3f}\\n\")\n",
        "    f.write(f\"- Communities: {len(communities)}\\n\\n\")\n",
        "    f.write(f\"## Output Files\\n\\n\")\n",
        "    f.write(f\"- Canonical JSON: {json_file}\\n\")\n",
        "    f.write(f\"- Markdown reports: {markdown_dir}\\n\")\n",
        "    f.write(f\"- Network plots: {plots_dir}\\n\")\n",
        "    f.write(f\"- Cypher script: {cypher_file}\\n\")\n",
        "\n",
        "print(f\"✅ Created summary report: {summary_file}\")\n",
        "\n",
        "# Display summary\n",
        "print(\"\\n📊 Workflow Summary:\")\n",
        "print(f\"  Input text length: {len(sample_text)} characters\")\n",
        "print(f\"  Entities extracted: {len(extraction_result.entities)}\")\n",
        "print(f\"  Relationships extracted: {len(extraction_result.relationships)}\")\n",
        "print(f\"  Network nodes: {graph.number_of_nodes()}\")\n",
        "print(f\"  Network edges: {graph.number_of_edges()}\")\n",
        "print(f\"  Communities found: {len(communities)}\")\n",
        "print(f\"  Output directory: {output_dir}\")\n"
      ]
    },
    {
      "cell_type": "markdown",
      "metadata": {},
      "source": [
        "## 🎉 Complete Workflow Demo Finished!\n",
        "\n",
        "### What We Accomplished:\n",
        "\n",
        "1. **✅ AI Extraction**: Used PydanticAI to extract CRM entities from text\n",
        "2. **✅ Canonical JSON**: Serialized entities for async/future processing\n",
        "3. **✅ Markdown Reports**: Generated human-readable documentation\n",
        "4. **✅ Network Analysis**: Created NetworkX graph and performed analysis\n",
        "5. **✅ Interactive Visualizations**: Created multiple Plotly-based interactive plots\n",
        "6. **✅ Enhanced Features**: Added advanced hover information and styling\n",
        "7. **✅ Cypher Export**: Generated scripts for graph database import\n",
        "8. **✅ Summary Report**: Documented the complete workflow\n",
        "\n",
        "### Key Improvements with Plotly:\n",
        "\n",
        "- **Interactive Exploration**: Zoom, pan, and hover over nodes for detailed information\n",
        "- **Enhanced Styling**: Better color schemes and visual design\n",
        "- **Multiple Views**: Community structure, centrality analysis, and complete network views\n",
        "- **Rich Hover Information**: Detailed entity information on hover\n",
        "- **Export Capabilities**: Save interactive HTML files for sharing\n",
        "\n",
        "### Key Files Generated:\n",
        "\n",
        "- `canonical_entities.json` - **Most important!** Ready for graph databases\n",
        "- `network_overview.png` - Static visualization\n",
        "- `interactive_network.html` - Interactive Plotly visualization\n",
        "- `network.cypher` - Neo4j/Memgraph import script\n",
        "- `workflow_summary.md` - Complete analysis report\n",
        "\n",
        "### Next Steps:\n",
        "\n",
        "1. **Import to Graph Database**: Use the Cypher script with Neo4j or Memgraph\n",
        "2. **API Integration**: Use canonical JSON for web services\n",
        "3. **Batch Processing**: Process multiple texts using the same workflow\n",
        "4. **Advanced Analysis**: Explore more NetworkX algorithms and visualizations\n",
        "\n",
        "The canonical JSON serialization ensures your extracted data is ready for any future processing needs! 🚀\n"
      ]
    },
    {
      "cell_type": "markdown",
      "metadata": {},
      "source": [
        "## 🔧 Advanced Usage Examples\n",
        "\n",
        "### Custom Entity Creation\n",
        "\n",
        "You can also create entities manually and add them to the workflow:\n"
      ]
    },
    {
      "cell_type": "code",
      "execution_count": 15,
      "metadata": {},
      "outputs": [
        {
          "name": "stdout",
          "output_type": "stream",
          "text": [
            "✅ Created 3 custom entities\n",
            "✅ Total entities: 21\n",
            "✅ Extended graph: 21 nodes, 0 edges\n"
          ]
        }
      ],
      "source": [
        "# Create custom entities\n",
        "custom_entities = [\n",
        "    CRMEntity(id=\"custom1\", class_code=\"E21\", label=\"Marie Curie\"),\n",
        "    CRMEntity(id=\"custom2\", class_code=\"E53\", label=\"Paris\"),\n",
        "    CRMEntity(id=\"custom3\", class_code=\"E5\", label=\"Nobel Prize in Physics 1903\")\n",
        "]\n",
        "\n",
        "# Add to existing entities\n",
        "all_entities = crm_entities + custom_entities\n",
        "\n",
        "print(f\"✅ Created {len(custom_entities)} custom entities\")\n",
        "print(f\"✅ Total entities: {len(all_entities)}\")\n",
        "\n",
        "# Create new graph with all entities\n",
        "extended_graph = to_networkx_graph(all_entities)\n",
        "print(f\"✅ Extended graph: {extended_graph.number_of_nodes()} nodes, {extended_graph.number_of_edges()} edges\")\n"
      ]
    },
    {
      "cell_type": "markdown",
      "metadata": {},
      "source": [
        "### Batch Processing Multiple Texts\n",
        "\n",
        "Process multiple texts and combine the results:\n"
      ]
    },
    {
      "cell_type": "code",
      "execution_count": 16,
      "metadata": {},
      "outputs": [
        {
          "name": "stdout",
          "output_type": "stream",
          "text": [
            "🔄 Processing multiple texts...\n",
            "\n",
            "Processing text 1: Isaac Newton discovered the laws of motion in Engl...\n",
            "  Extracted 2 entities\n",
            "\n",
            "Processing text 2: Galileo Galilei was an Italian astronomer and phys...\n",
            "  Extracted 1 entities\n",
            "\n",
            "Processing text 3: Charles Darwin developed the theory of evolution b...\n",
            "  Extracted 3 entities\n",
            "\n",
            "✅ Total entities from all texts: 6\n",
            "✅ Saved batch canonical JSON: notebook_output/batch_canonical_entities.json\n"
          ]
        }
      ],
      "source": [
        "# Multiple texts for batch processing\n",
        "texts = [\n",
        "    \"Isaac Newton discovered the laws of motion in England.\",\n",
        "    \"Galileo Galilei was an Italian astronomer and physicist.\",\n",
        "    \"Charles Darwin developed the theory of evolution by natural selection.\"\n",
        "]\n",
        "\n",
        "print(\"🔄 Processing multiple texts...\")\n",
        "all_extracted_entities = []\n",
        "\n",
        "for i, text in enumerate(texts, 1):\n",
        "    print(f\"\\nProcessing text {i}: {text[:50]}...\")\n",
        "    result = await extractor.extract_from_text(text)\n",
        "    all_extracted_entities.extend(result.entities)\n",
        "    print(f\"  Extracted {len(result.entities)} entities\")\n",
        "\n",
        "print(f\"\\n✅ Total entities from all texts: {len(all_extracted_entities)}\")\n",
        "\n",
        "# Convert to CRM entities\n",
        "batch_crm_entities = []\n",
        "for entity in all_extracted_entities:\n",
        "    crm_entity = CRMEntity(\n",
        "        id=str(entity.id),\n",
        "        class_code=entity.class_code,\n",
        "        label=entity.label,\n",
        "        notes=entity.description\n",
        "    )\n",
        "    batch_crm_entities.append(crm_entity)\n",
        "\n",
        "# Serialize batch results\n",
        "batch_json = [entity.model_dump(mode='json') for entity in batch_crm_entities]\n",
        "batch_file = output_dir / \"batch_canonical_entities.json\"\n",
        "with open(batch_file, \"w\") as f:\n",
        "    json.dump(batch_json, f, indent=2)\n",
        "\n",
        "print(f\"✅ Saved batch canonical JSON: {batch_file}\")\n"
      ]
    },
    {
      "cell_type": "markdown",
      "metadata": {},
      "source": [
        "### Loading and Analyzing Existing Data\n",
        "\n",
        "Load previously saved canonical JSON and analyze it:\n"
      ]
    },
    {
      "cell_type": "code",
      "execution_count": 17,
      "metadata": {},
      "outputs": [
        {
          "name": "stdout",
          "output_type": "stream",
          "text": [
            "📖 Loading existing canonical JSON...\n",
            "✅ Loaded 18 entities from existing JSON\n",
            "✅ Recreated graph: 18 nodes, 0 edges\n",
            "✅ Found 0 communities\n"
          ]
        }
      ],
      "source": [
        "# Load existing canonical JSON\n",
        "print(\"📖 Loading existing canonical JSON...\")\n",
        "with open(json_file, \"r\") as f:\n",
        "    existing_data = json.load(f)\n",
        "\n",
        "# Convert back to CRM entities\n",
        "loaded_entities = []\n",
        "for entity_data in existing_data:\n",
        "    entity = CRMEntity(**entity_data)\n",
        "    loaded_entities.append(entity)\n",
        "\n",
        "print(f\"✅ Loaded {len(loaded_entities)} entities from existing JSON\")\n",
        "\n",
        "# Create new analysis\n",
        "loaded_graph = to_networkx_graph(loaded_entities)\n",
        "loaded_centrality = calculate_centrality_measures(loaded_graph)\n",
        "loaded_communities = find_communities(loaded_graph)\n",
        "\n",
        "print(f\"✅ Recreated graph: {loaded_graph.number_of_nodes()} nodes, {loaded_graph.number_of_edges()} edges\")\n",
        "print(f\"✅ Found {len(loaded_communities)} communities\")\n",
        "\n",
        "# This demonstrates the power of canonical JSON - you can always recreate the analysis!\n"
      ]
    }
  ],
  "metadata": {
    "kernelspec": {
      "display_name": ".venv",
      "language": "python",
      "name": "python3"
    },
    "language_info": {
      "codemirror_mode": {
        "name": "ipython",
        "version": 3
      },
      "file_extension": ".py",
      "mimetype": "text/x-python",
      "name": "python",
      "nbconvert_exporter": "python",
      "pygments_lexer": "ipython3",
      "version": "3.13.7"
    }
  },
  "nbformat": 4,
  "nbformat_minor": 2
}
