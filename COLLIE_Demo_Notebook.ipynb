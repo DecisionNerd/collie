{
  "cells": [
    {
      "cell_type": "markdown",
      "metadata": {},
      "source": [
        "# COLLIE: Complete Workflow Demo\n",
        "\n",
        "This notebook demonstrates the complete COLLIE workflow for cultural heritage information extraction and analysis:\n",
        "\n",
        "1. **AI-powered Information Extraction** using PydanticAI\n",
        "2. **Canonical JSON Serialization** for async/future processing\n",
        "3. **Markdown Rendering** for human-readable reports\n",
        "4. **NetworkX Graph Analysis** for social network analysis\n",
        "5. **Interactive Visualization** with Plotly\n",
        "6. **Cypher Export** for graph database integration\n",
        "\n",
        "## Setup\n",
        "\n",
        "First, let's import all necessary libraries and set up our environment.\n"
      ]
    },
    {
      "cell_type": "code",
      "execution_count": 1,
      "metadata": {},
      "outputs": [
        {
          "name": "stdout",
          "output_type": "stream",
          "text": [
            "✅ All imports successful!\n",
            "📁 Working directory: /Users/davidspencer/Documents/GitHub/collie\n"
          ]
        }
      ],
      "source": [
        "import asyncio\n",
        "import json\n",
        "import sys\n",
        "from pathlib import Path\n",
        "from typing import List\n",
        "\n",
        "# Add src to path for imports\n",
        "sys.path.insert(0, str(Path.cwd() / \"src\"))\n",
        "\n",
        "# COLLIE imports\n",
        "from collie.models.base import CRMEntity\n",
        "from collie.extraction import InformationExtractor\n",
        "from collie.io.to_networkx import (\n",
        "    to_networkx_graph,\n",
        "    calculate_centrality_measures,\n",
        "    find_communities,\n",
        "    get_network_statistics\n",
        ")\n",
        "from collie.visualization import (\n",
        "    create_interactive_plot,\n",
        "    plot_community_network,\n",
        "    plot_centrality_network\n",
        ")\n",
        "from collie.io.to_cypher import generate_cypher_script\n",
        "from collie.io.to_markdown import render_table, to_markdown, MarkdownStyle\n",
        "\n",
        "# Standard libraries\n",
        "import networkx as nx\n",
        "import plotly.graph_objects as go\n",
        "import plotly.express as px\n",
        "from plotly.offline import plot\n",
        "import plotly.io as pio\n",
        "\n",
        "print(\"✅ All imports successful!\")\n",
        "print(f\"📁 Working directory: {Path.cwd()}\")\n"
      ]
    },
    {
      "cell_type": "markdown",
      "metadata": {},
      "source": [
        "## Sample Text: Albert Einstein Biography\n",
        "\n",
        "We'll use a sample text about Albert Einstein to demonstrate the complete workflow.\n"
      ]
    },
    {
      "cell_type": "code",
      "execution_count": 2,
      "metadata": {},
      "outputs": [
        {
          "name": "stdout",
          "output_type": "stream",
          "text": [
            "📝 Sample Text:\n",
            "==================================================\n",
            "\n",
            "Albert Einstein was born on March 14, 1879, in Ulm, Germany. \n",
            "He developed the theory of relativity and won the Nobel Prize in Physics in 1921.\n",
            "Einstein worked at the Institute for Advanced Study in Princeton, New Jersey.\n",
            "He is best known for his mass-energy equivalence formula E = mc².\n",
            "Einstein's work revolutionized our understanding of space, time, and gravity.\n",
            "He died on April 18, 1955, in Princeton, New Jersey.\n",
            "\n",
            "==================================================\n",
            "Text length: 420 characters\n"
          ]
        }
      ],
      "source": [
        "# Sample text about Albert Einstein\n",
        "sample_text = \"\"\"\n",
        "Albert Einstein was born on March 14, 1879, in Ulm, Germany. \n",
        "He developed the theory of relativity and won the Nobel Prize in Physics in 1921.\n",
        "Einstein worked at the Institute for Advanced Study in Princeton, New Jersey.\n",
        "He is best known for his mass-energy equivalence formula E = mc².\n",
        "Einstein's work revolutionized our understanding of space, time, and gravity.\n",
        "He died on April 18, 1955, in Princeton, New Jersey.\n",
        "\"\"\"\n",
        "\n",
        "print(\"📝 Sample Text:\")\n",
        "print(\"=\" * 50)\n",
        "print(sample_text)\n",
        "print(\"=\" * 50)\n",
        "print(f\"Text length: {len(sample_text)} characters\")\n"
      ]
    },
    {
      "cell_type": "markdown",
      "metadata": {},
      "source": [
        "## Step 1: AI-Powered Information Extraction\n",
        "\n",
        "Use PydanticAI to extract CRM entities and relationships from the text.\n"
      ]
    },
    {
      "cell_type": "code",
      "execution_count": 3,
      "metadata": {},
      "outputs": [
        {
          "name": "stdout",
          "output_type": "stream",
          "text": [
            "🔍 Extracting entities using PydanticAI...\n",
            "✅ Extracted 14 entities\n",
            "✅ Extracted 0 relationships\n",
            "\n",
            "📋 Extracted Entities:\n",
            "1. Albert Einstein (E21) - Confidence: 0.80\n",
            "2. relativity and (E21) - Confidence: 0.80\n",
            "3. Ulm (E53) - Confidence: 0.90\n",
            "4. Princeton (E53) - Confidence: 0.90\n",
            "5. Princeton (E53) - Confidence: 0.90\n",
            "6. Germany (E53) - Confidence: 0.90\n",
            "7. theory of relativity and won the Nobel Prize in Physics in  (E22) - Confidence: 0.80\n",
            "8. Nobel Prize in Physics in  (E22) - Confidence: 0.80\n",
            "9. theory of relativity (E22) - Confidence: 0.80\n",
            "10. March 14, 1879 (E52) - Confidence: 0.80\n",
            "11. April 18, 1955 (E52) - Confidence: 0.80\n",
            "12. 1879 (E52) - Confidence: 0.80\n",
            "13. 1921 (E52) - Confidence: 0.80\n",
            "14. 1955 (E52) - Confidence: 0.80\n"
          ]
        }
      ],
      "source": [
        "# Initialize the information extractor\n",
        "extractor = InformationExtractor()\n",
        "\n",
        "# Extract entities and relationships\n",
        "print(\"🔍 Extracting entities using PydanticAI...\")\n",
        "extraction_result = await extractor.extract_from_text(sample_text)\n",
        "\n",
        "print(f\"✅ Extracted {len(extraction_result.entities)} entities\")\n",
        "print(f\"✅ Extracted {len(extraction_result.relationships)} relationships\")\n",
        "\n",
        "# Display extracted entities\n",
        "print(\"\\n📋 Extracted Entities:\")\n",
        "for i, entity in enumerate(extraction_result.entities, 1):\n",
        "    print(f\"{i}. {entity.label} ({entity.class_code}) - Confidence: {entity.confidence:.2f}\")\n",
        "\n",
        "# Display extracted relationships\n",
        "if extraction_result.relationships:\n",
        "    print(\"\\n🔗 Extracted Relationships:\")\n",
        "    for i, rel in enumerate(extraction_result.relationships, 1):\n",
        "        print(f\"{i}. {rel.property_label} - Confidence: {rel.confidence:.2f}\")\n"
      ]
    },
    {
      "cell_type": "markdown",
      "metadata": {},
      "source": [
        "## Step 2: Convert to CRM Entities\n",
        "\n",
        "Transform the extracted data into proper CIDOC CRM entities.\n"
      ]
    },
    {
      "cell_type": "code",
      "execution_count": 4,
      "metadata": {},
      "outputs": [
        {
          "name": "stdout",
          "output_type": "stream",
          "text": [
            "✅ Created 14 CRM entities\n",
            "\n",
            "🏗️ CRM Entities:\n",
            "1. Albert Einstein (E21)\n",
            "   ID: b050cb3e-1472-4384-b4d4-63d32cf3b1b2\n",
            "   Notes: Person mentioned in context: Albert Einstein was born on March 14, 1879, in Ulm, Germany. \n",
            "He develo...\n",
            "\n",
            "2. relativity and (E21)\n",
            "   ID: 36a43509-23b2-4726-b87b-7243b6ca6320\n",
            "   Notes: Person mentioned in context: Albert Einstein was born on March 14, 1879, in Ulm, Germany. \n",
            "He develo...\n",
            "\n",
            "3. Ulm (E53)\n",
            "   ID: dde278ca-547c-4445-b174-6bdaca20256c\n",
            "   Notes: Place mentioned in context: Albert Einstein was born on March 14, 1879, in Ulm, Germany. \n",
            "He develop...\n",
            "\n",
            "4. Princeton (E53)\n",
            "   ID: 43e6b4aa-82b6-49ca-a9d4-ddf9df265592\n",
            "   Notes: Place mentioned in context: ein worked at the Institute for Advanced Study in Princeton, New Jersey....\n",
            "\n",
            "5. Princeton (E53)\n",
            "   ID: 7126d8d5-4392-4a2e-a589-dbf29e21eaf6\n",
            "   Notes: Place mentioned in context: time, and gravity.\n",
            "He died on April 18, 1955, in Princeton, New Jersey.\n",
            "\n",
            "6. Germany (E53)\n",
            "   ID: b36c9a8f-a514-4c98-9285-1872e2302b4d\n",
            "   Notes: Place mentioned in context: bert Einstein was born on March 14, 1879, in Ulm, Germany. \n",
            "He developed...\n",
            "\n",
            "7. theory of relativity and won the Nobel Prize in Physics in  (E22)\n",
            "   ID: fe312c8a-40c4-4886-a309-cc2329a4ab10\n",
            "   Notes: Object or concept mentioned in context: Albert Einstein was born on March 14, 1879, in Ulm, Germany....\n",
            "\n",
            "8. Nobel Prize in Physics in  (E22)\n",
            "   ID: dc1f41a7-fb29-4233-99be-21c10e718f04\n",
            "   Notes: Object or concept mentioned in context: ein was born on March 14, 1879, in Ulm, Germany. \n",
            "He develop...\n",
            "\n",
            "9. theory of relativity (E22)\n",
            "   ID: a7c25fc4-8b1f-4dc4-9338-045b1846a4d4\n",
            "   Notes: Object or concept mentioned in context: Albert Einstein was born on March 14, 1879, in Ulm, Germany....\n",
            "\n",
            "10. March 14, 1879 (E52)\n",
            "   ID: cf542bf0-10de-4b3f-8f69-60d51d8dbc1b\n",
            "   Notes: Time period mentioned in context: Albert Einstein was born on March 14, 1879, in Ulm, Germany. \n",
            "He d...\n",
            "\n",
            "11. April 18, 1955 (E52)\n",
            "   ID: 71db5e31-8680-42be-84ba-33a32a506c30\n",
            "   Notes: Time period mentioned in context: a E = mc².\n",
            "Einstein's work revolutionized our understanding of spa...\n",
            "\n",
            "12. 1879 (E52)\n",
            "   ID: 16a6a64c-c417-4c20-a210-6e471c6bc881\n",
            "   Notes: Time period mentioned in context: Albert Einstein was born on March 14, 1879, in Ulm, Germany. \n",
            "He d...\n",
            "\n",
            "13. 1921 (E52)\n",
            "   ID: bd7cca69-3e56-4c54-97a9-27a32b88d35e\n",
            "   Notes: Time period mentioned in context: 1879, in Ulm, Germany. \n",
            "He developed the theory of relativity and ...\n",
            "\n",
            "14. 1955 (E52)\n",
            "   ID: 9a45f605-7191-4cc1-b087-1745a10b5849\n",
            "   Notes: Time period mentioned in context: Einstein's work revolutionized our understanding of space, time, a...\n",
            "\n"
          ]
        }
      ],
      "source": [
        "# Convert extracted entities to CRM entities\n",
        "crm_entities = []\n",
        "for entity in extraction_result.entities:\n",
        "    crm_entity = CRMEntity(\n",
        "        id=str(entity.id),\n",
        "        class_code=entity.class_code,\n",
        "        label=entity.label,\n",
        "        notes=entity.description,\n",
        "        type=[entity.class_code]\n",
        "    )\n",
        "    crm_entities.append(crm_entity)\n",
        "\n",
        "print(f\"✅ Created {len(crm_entities)} CRM entities\")\n",
        "\n",
        "# Display CRM entities\n",
        "print(\"\\n🏗️ CRM Entities:\")\n",
        "for i, entity in enumerate(crm_entities, 1):\n",
        "    print(f\"{i}. {entity.label} ({entity.class_code})\")\n",
        "    print(f\"   ID: {entity.id}\")\n",
        "    print(f\"   Notes: {entity.notes[:100]}...\" if entity.notes and len(entity.notes) > 100 else f\"   Notes: {entity.notes}\")\n",
        "    print()\n"
      ]
    },
    {
      "cell_type": "markdown",
      "metadata": {},
      "source": [
        "## Step 3: Serialize as Canonical JSON\n",
        "\n",
        "**This is the crucial step for async/future processing!** Serialize the CRM entities as canonical JSON that can be easily loaded into graph databases, APIs, or other processing pipelines.\n"
      ]
    },
    {
      "cell_type": "code",
      "execution_count": 5,
      "metadata": {},
      "outputs": [
        {
          "name": "stdout",
          "output_type": "stream",
          "text": [
            "💾 Serialized 14 entities to canonical JSON\n",
            "✅ Saved canonical JSON to: notebook_output/canonical_entities.json\n",
            "\n",
            "📋 Canonical JSON Structure (first entity):\n",
            "{\n",
            "  \"id\": \"b050cb3e-1472-4384-b4d4-63d32cf3b1b2\",\n",
            "  \"class_code\": \"E21\",\n",
            "  \"label\": \"Albert Einstein\",\n",
            "  \"notes\": \"Person mentioned in context: Albert Einstein was born on March 14, 1879, in Ulm, Germany. \\nHe developed the theory of relativity and won the Nobel Prize i\",\n",
            "  \"type\": [\n",
            "    \"E21\"\n",
            "  ]\n",
            "}\n",
            "\n",
            "🔄 Loading back from canonical JSON...\n",
            "✅ Successfully loaded 14 entities from JSON\n",
            "✅ Data integrity verified: True\n"
          ]
        }
      ],
      "source": [
        "# Serialize as canonical JSON using Pydantic models\n",
        "json_data = [entity.model_dump(mode='json') for entity in crm_entities]\n",
        "\n",
        "print(f\"💾 Serialized {len(json_data)} entities to canonical JSON\")\n",
        "\n",
        "# Create output directory\n",
        "output_dir = Path(\"notebook_output\")\n",
        "output_dir.mkdir(exist_ok=True)\n",
        "\n",
        "# Save canonical JSON\n",
        "json_file = output_dir / \"canonical_entities.json\"\n",
        "with open(json_file, \"w\") as f:\n",
        "    json.dump(json_data, f, indent=2)\n",
        "\n",
        "print(f\"✅ Saved canonical JSON to: {json_file}\")\n",
        "\n",
        "# Display the structure of canonical JSON\n",
        "print(\"\\n📋 Canonical JSON Structure (first entity):\")\n",
        "print(json.dumps(json_data[0], indent=2))\n",
        "\n",
        "# Demonstrate loading back from JSON\n",
        "print(\"\\n🔄 Loading back from canonical JSON...\")\n",
        "with open(json_file, \"r\") as f:\n",
        "    loaded_data = json.load(f)\n",
        "\n",
        "loaded_entities = []\n",
        "for entity_data in loaded_data:\n",
        "    entity = CRMEntity(**entity_data)\n",
        "    loaded_entities.append(entity)\n",
        "\n",
        "print(f\"✅ Successfully loaded {len(loaded_entities)} entities from JSON\")\n",
        "print(f\"✅ Data integrity verified: {len(loaded_entities) == len(crm_entities)}\")\n"
      ]
    },
    {
      "cell_type": "markdown",
      "metadata": {},
      "source": [
        "## Step 4: Render to Markdown\n",
        "\n",
        "Generate human-readable reports in Markdown format.\n"
      ]
    },
    {
      "cell_type": "code",
      "execution_count": 6,
      "metadata": {},
      "outputs": [
        {
          "name": "stdout",
          "output_type": "stream",
          "text": [
            "📄 Generating Markdown reports...\n",
            "✅ Generated entity card: notebook_output/markdown/entity_1_E21.md\n",
            "✅ Generated entity card: notebook_output/markdown/entity_2_E21.md\n",
            "✅ Generated entity card: notebook_output/markdown/entity_3_E53.md\n",
            "✅ Generated entity card: notebook_output/markdown/entity_4_E53.md\n",
            "✅ Generated entity card: notebook_output/markdown/entity_5_E53.md\n",
            "✅ Generated summary table: notebook_output/markdown/entities_summary.md\n",
            "\n",
            "📊 Entities Summary Table:\n",
            "| id | class_code | label | type |\n",
            "| --- | --- | --- | --- |\n",
            "| b050cb3e... | E21 | Albert Einstein | E21 |\n",
            "| 36a43509... | E21 | relativity and | E21 |\n",
            "| dde278ca... | E53 | Ulm | E53 |\n",
            "| 43e6b4aa... | E53 | Princeton | E53 |\n",
            "| 7126d8d5... | E53 | Princeton | E53 |\n",
            "| b36c9a8f... | E53 | Germany | E53 |\n",
            "| fe312c8a... | E22 | theory of relativity and won the Nobel Prize in Physics in  | E22 |\n",
            "| dc1f41a7... | E22 | Nobel Prize in Physics in  | E22 |\n",
            "| a7c25fc4... | E22 | theory of relativity | E22 |\n",
            "| cf542bf0... | E52 | March 14, 1879 | E52 |\n",
            "| 71db5e31... | E52 | April 18, 1955 | E52 |\n",
            "| 16a6a64c... | E52 | 1879 | E52 |\n",
            "| bd7cca69... | E52 | 1921 | E52 |\n",
            "| 9a45f605... | E52 | 1955 | E52 |\n"
          ]
        }
      ],
      "source": [
        "# Create markdown directory\n",
        "markdown_dir = output_dir / \"markdown\"\n",
        "markdown_dir.mkdir(exist_ok=True)\n",
        "\n",
        "# Generate individual entity cards\n",
        "print(\"📄 Generating Markdown reports...\")\n",
        "for i, entity in enumerate(crm_entities[:5]):  # Show first 5 entities\n",
        "    markdown_card = to_markdown(entity, MarkdownStyle.CARD)\n",
        "    card_file = markdown_dir / f\"entity_{i+1}_{entity.class_code}.md\"\n",
        "    with open(card_file, \"w\") as f:\n",
        "        f.write(markdown_card)\n",
        "    print(f\"✅ Generated entity card: {card_file}\")\n",
        "\n",
        "# Generate summary table\n",
        "table_markdown = render_table(crm_entities)\n",
        "table_file = markdown_dir / \"entities_summary.md\"\n",
        "with open(table_file, \"w\") as f:\n",
        "    f.write(\"# CRM Entities Summary\\n\\n\" + table_markdown)\n",
        "\n",
        "print(f\"✅ Generated summary table: {table_file}\")\n",
        "\n",
        "# Display the summary table\n",
        "print(\"\\n📊 Entities Summary Table:\")\n",
        "print(table_markdown)\n"
      ]
    },
    {
      "cell_type": "markdown",
      "metadata": {},
      "source": [
        "## Step 5: Convert to NetworkX Graph\n",
        "\n",
        "Transform the CRM entities into a NetworkX graph for social network analysis.\n"
      ]
    },
    {
      "cell_type": "code",
      "execution_count": 7,
      "metadata": {},
      "outputs": [
        {
          "name": "stdout",
          "output_type": "stream",
          "text": [
            "🕸️ Created NetworkX graph with 14 nodes and 0 edges\n",
            "\n",
            "📊 Graph Information:\n",
            "Nodes: ['b050cb3e-1472-4384-b4d4-63d32cf3b1b2', '36a43509-23b2-4726-b87b-7243b6ca6320', 'dde278ca-547c-4445-b174-6bdaca20256c', '43e6b4aa-82b6-49ca-a9d4-ddf9df265592', '7126d8d5-4392-4a2e-a589-dbf29e21eaf6']...\n",
            "Edges: []\n",
            "\n",
            "🏷️ Node Data (first 3 nodes):\n",
            "Node 1: {'class_code': 'E21', 'label': 'Albert Einstein', 'notes': 'Person mentioned in context: Albert Einstein was born on March 14, 1879, in Ulm, Germany. \\nHe developed the theory of relativity and won the Nobel Prize i', 'type': ['E21']}\n",
            "Node 2: {'class_code': 'E21', 'label': 'relativity and', 'notes': 'Person mentioned in context: Albert Einstein was born on March 14, 1879, in Ulm, Germany. \\nHe developed the theory of relativity and won the Nobel Prize in Physics in 1921.\\nEinstein worked at the Institute for Advanced Study in Princeton', 'type': ['E21']}\n",
            "Node 3: {'class_code': 'E53', 'label': 'Ulm', 'notes': 'Place mentioned in context: Albert Einstein was born on March 14, 1879, in Ulm, Germany. \\nHe developed the theory of relativity', 'type': ['E53']}\n"
          ]
        }
      ],
      "source": [
        "# Convert to NetworkX graph\n",
        "graph = to_networkx_graph(crm_entities)\n",
        "\n",
        "print(f\"🕸️ Created NetworkX graph with {graph.number_of_nodes()} nodes and {graph.number_of_edges()} edges\")\n",
        "\n",
        "# Display graph information\n",
        "print(\"\\n📊 Graph Information:\")\n",
        "print(f\"Nodes: {list(graph.nodes())[:5]}...\" if len(graph.nodes()) > 5 else f\"Nodes: {list(graph.nodes())}\")\n",
        "print(f\"Edges: {list(graph.edges())[:5]}...\" if len(graph.edges()) > 5 else f\"Edges: {list(graph.edges())}\")\n",
        "\n",
        "# Display node data\n",
        "print(\"\\n🏷️ Node Data (first 3 nodes):\")\n",
        "for i, (node_id, data) in enumerate(list(graph.nodes(data=True))[:3]):\n",
        "    print(f\"Node {i+1}: {data}\")\n"
      ]
    },
    {
      "cell_type": "markdown",
      "metadata": {},
      "source": [
        "## Step 6: Network Analysis\n",
        "\n",
        "Perform comprehensive network analysis including centrality measures, community detection, and network statistics.\n"
      ]
    },
    {
      "cell_type": "code",
      "execution_count": 8,
      "metadata": {},
      "outputs": [
        {
          "name": "stdout",
          "output_type": "stream",
          "text": [
            "📊 Calculating centrality measures...\n",
            "✅ Calculated centrality measures: ['degree', 'betweenness', 'closeness', 'eigenvector', 'pagerank']\n",
            "\n",
            "🏘️ Finding communities...\n",
            "✅ Found 0 communities\n",
            "\n",
            "📈 Calculating network statistics...\n",
            "\n",
            "📊 Network Statistics:\n",
            "  Density: 0.000\n",
            "  Average clustering: 0.000\n",
            "  Is connected: None\n",
            "  Average degree: 0.00\n",
            "  Max degree: 0\n",
            "  Min degree: 0\n"
          ]
        }
      ],
      "source": [
        "# Calculate centrality measures\n",
        "print(\"📊 Calculating centrality measures...\")\n",
        "centrality_measures = calculate_centrality_measures(graph)\n",
        "\n",
        "print(f\"✅ Calculated centrality measures: {list(centrality_measures.keys())}\")\n",
        "\n",
        "# Display degree centrality (most connected nodes)\n",
        "if 'degree_centrality' in centrality_measures:\n",
        "    degree_centrality = centrality_measures['degree_centrality']\n",
        "    print(\"\\n🔗 Degree Centrality (most connected nodes):\")\n",
        "    sorted_nodes = sorted(degree_centrality.items(), key=lambda x: x[1], reverse=True)\n",
        "    for node_id, centrality in sorted_nodes[:5]:\n",
        "        node_data = graph.nodes[node_id]\n",
        "        print(f\"  {node_data.get('label', node_id)}: {centrality:.3f}\")\n",
        "\n",
        "# Find communities\n",
        "print(\"\\n🏘️ Finding communities...\")\n",
        "communities = find_communities(graph)\n",
        "print(f\"✅ Found {len(communities)} communities\")\n",
        "\n",
        "if communities:\n",
        "    print(\"\\nCommunity Structure:\")\n",
        "    for i, community in enumerate(communities[:3]):  # Show first 3 communities\n",
        "        community_labels = [graph.nodes[node_id].get('label', node_id) for node_id in community]\n",
        "        print(f\"  Community {i+1}: {community_labels}\")\n",
        "\n",
        "# Get network statistics\n",
        "print(\"\\n📈 Calculating network statistics...\")\n",
        "network_stats = get_network_statistics(graph)\n",
        "\n",
        "print(\"\\n📊 Network Statistics:\")\n",
        "print(f\"  Density: {network_stats['basic_metrics']['density']:.3f}\")\n",
        "print(f\"  Average clustering: {network_stats['connectivity']['average_clustering']:.3f}\")\n",
        "print(f\"  Is connected: {network_stats['basic_metrics']['is_connected']}\")\n",
        "\n",
        "if 'degree_stats' in network_stats:\n",
        "    degree_stats = network_stats['degree_stats']\n",
        "    print(f\"  Average degree: {degree_stats['avg_degree']:.2f}\")\n",
        "    print(f\"  Max degree: {degree_stats['max_degree']}\")\n",
        "    print(f\"  Min degree: {degree_stats['min_degree']}\")\n"
      ]
    },
    {
      "cell_type": "markdown",
      "metadata": {},
      "source": [
        "## Step 7: Interactive Network Visualization\n",
        "\n",
        "Create an interactive network visualization using Plotly.\n"
      ]
    },
    {
      "cell_type": "code",
      "execution_count": 9,
      "metadata": {},
      "outputs": [
        {
          "name": "stdout",
          "output_type": "stream",
          "text": [
            "🎨 Creating interactive network visualization...\n",
            "✅ Generated interactive plot: notebook_output/plots/network_overview.html\n"
          ]
        },
        {
          "data": {
            "application/vnd.plotly.v1+json": {
              "config": {
                "plotlyServerURL": "https://plot.ly"
              },
              "data": [
                {
                  "hoverinfo": "none",
                  "line": {
                    "color": "#888",
                    "width": 2
                  },
                  "mode": "lines",
                  "type": "scatter",
                  "x": [],
                  "y": []
                },
                {
                  "hoverinfo": "text",
                  "hovertext": [
                    "ID: b050cb3e-1472-4384-b4d4-63d32cf3b1b2<br>Label: Albert Einstein<br>Class: E21",
                    "ID: 36a43509-23b2-4726-b87b-7243b6ca6320<br>Label: relativity and<br>Class: E21",
                    "ID: dde278ca-547c-4445-b174-6bdaca20256c<br>Label: Ulm<br>Class: E53",
                    "ID: 43e6b4aa-82b6-49ca-a9d4-ddf9df265592<br>Label: Princeton<br>Class: E53",
                    "ID: 7126d8d5-4392-4a2e-a589-dbf29e21eaf6<br>Label: Princeton<br>Class: E53",
                    "ID: b36c9a8f-a514-4c98-9285-1872e2302b4d<br>Label: Germany<br>Class: E53",
                    "ID: fe312c8a-40c4-4886-a309-cc2329a4ab10<br>Label: theory of relativity and won the Nobel Prize in Physics in <br>Class: E22",
                    "ID: dc1f41a7-fb29-4233-99be-21c10e718f04<br>Label: Nobel Prize in Physics in <br>Class: E22",
                    "ID: a7c25fc4-8b1f-4dc4-9338-045b1846a4d4<br>Label: theory of relativity<br>Class: E22",
                    "ID: cf542bf0-10de-4b3f-8f69-60d51d8dbc1b<br>Label: March 14, 1879<br>Class: E52",
                    "ID: 71db5e31-8680-42be-84ba-33a32a506c30<br>Label: April 18, 1955<br>Class: E52",
                    "ID: 16a6a64c-c417-4c20-a210-6e471c6bc881<br>Label: 1879<br>Class: E52",
                    "ID: bd7cca69-3e56-4c54-97a9-27a32b88d35e<br>Label: 1921<br>Class: E52",
                    "ID: 9a45f605-7191-4cc1-b087-1745a10b5849<br>Label: 1955<br>Class: E52"
                  ],
                  "marker": {
                    "color": [
                      "red",
                      "red",
                      "green",
                      "green",
                      "green",
                      "green",
                      "orange",
                      "orange",
                      "orange",
                      "purple",
                      "purple",
                      "purple",
                      "purple",
                      "purple"
                    ],
                    "line": {
                      "color": "white",
                      "width": 2
                    },
                    "size": [
                      10,
                      10,
                      10,
                      10,
                      10,
                      10,
                      10,
                      10,
                      10,
                      10,
                      10,
                      10,
                      10,
                      10
                    ]
                  },
                  "mode": "markers+text",
                  "text": [
                    "Albert Einstein",
                    "relativity and",
                    "Ulm",
                    "Princeton",
                    "Princeton",
                    "Germany",
                    "theory of relativity and won the Nobel Prize in Physics in ",
                    "Nobel Prize in Physics in ",
                    "theory of relativity",
                    "March 14, 1879",
                    "April 18, 1955",
                    "1879",
                    "1921",
                    "1955"
                  ],
                  "textposition": "middle center",
                  "type": "scatter",
                  "x": [
                    0.9130267514856276,
                    -0.568862088076174,
                    -0.1208331087431509,
                    0.9412176031818454,
                    -0.987350438058432,
                    0.7542514866863737,
                    0.32852753835991144,
                    0.145561225423506,
                    -0.2991309891044403,
                    0.421189533761438,
                    -0.8207073298125845,
                    -0.7654344036359709,
                    -0.6737675781493258,
                    0.7323117966813777
                  ],
                  "y": [
                    0.2956402929717945,
                    0.8223360879649972,
                    0.9775946895669365,
                    -0.13959339588458577,
                    -0.27085167876605204,
                    -0.5175833696532017,
                    0.9066446437069418,
                    -1,
                    -0.8971785991631253,
                    -0.7380189295153543,
                    0.05337032089678746,
                    0.46079705047029224,
                    -0.6535495804514131,
                    0.7003924678559827
                  ]
                }
              ],
              "layout": {
                "annotations": [
                  {
                    "font": {
                      "color": "#888",
                      "size": 12
                    },
                    "showarrow": false,
                    "text": "Interactive CRM Network Visualization",
                    "x": 0.005,
                    "xanchor": "left",
                    "xref": "paper",
                    "y": -0.002,
                    "yanchor": "bottom",
                    "yref": "paper"
                  }
                ],
                "hovermode": "closest",
                "margin": {
                  "b": 20,
                  "l": 5,
                  "r": 5,
                  "t": 40
                },
                "showlegend": false,
                "template": {
                  "data": {
                    "bar": [
                      {
                        "error_x": {
                          "color": "#2a3f5f"
                        },
                        "error_y": {
                          "color": "#2a3f5f"
                        },
                        "marker": {
                          "line": {
                            "color": "#E5ECF6",
                            "width": 0.5
                          },
                          "pattern": {
                            "fillmode": "overlay",
                            "size": 10,
                            "solidity": 0.2
                          }
                        },
                        "type": "bar"
                      }
                    ],
                    "barpolar": [
                      {
                        "marker": {
                          "line": {
                            "color": "#E5ECF6",
                            "width": 0.5
                          },
                          "pattern": {
                            "fillmode": "overlay",
                            "size": 10,
                            "solidity": 0.2
                          }
                        },
                        "type": "barpolar"
                      }
                    ],
                    "carpet": [
                      {
                        "aaxis": {
                          "endlinecolor": "#2a3f5f",
                          "gridcolor": "white",
                          "linecolor": "white",
                          "minorgridcolor": "white",
                          "startlinecolor": "#2a3f5f"
                        },
                        "baxis": {
                          "endlinecolor": "#2a3f5f",
                          "gridcolor": "white",
                          "linecolor": "white",
                          "minorgridcolor": "white",
                          "startlinecolor": "#2a3f5f"
                        },
                        "type": "carpet"
                      }
                    ],
                    "choropleth": [
                      {
                        "colorbar": {
                          "outlinewidth": 0,
                          "ticks": ""
                        },
                        "type": "choropleth"
                      }
                    ],
                    "contour": [
                      {
                        "colorbar": {
                          "outlinewidth": 0,
                          "ticks": ""
                        },
                        "colorscale": [
                          [
                            0,
                            "#0d0887"
                          ],
                          [
                            0.1111111111111111,
                            "#46039f"
                          ],
                          [
                            0.2222222222222222,
                            "#7201a8"
                          ],
                          [
                            0.3333333333333333,
                            "#9c179e"
                          ],
                          [
                            0.4444444444444444,
                            "#bd3786"
                          ],
                          [
                            0.5555555555555556,
                            "#d8576b"
                          ],
                          [
                            0.6666666666666666,
                            "#ed7953"
                          ],
                          [
                            0.7777777777777778,
                            "#fb9f3a"
                          ],
                          [
                            0.8888888888888888,
                            "#fdca26"
                          ],
                          [
                            1,
                            "#f0f921"
                          ]
                        ],
                        "type": "contour"
                      }
                    ],
                    "contourcarpet": [
                      {
                        "colorbar": {
                          "outlinewidth": 0,
                          "ticks": ""
                        },
                        "type": "contourcarpet"
                      }
                    ],
                    "heatmap": [
                      {
                        "colorbar": {
                          "outlinewidth": 0,
                          "ticks": ""
                        },
                        "colorscale": [
                          [
                            0,
                            "#0d0887"
                          ],
                          [
                            0.1111111111111111,
                            "#46039f"
                          ],
                          [
                            0.2222222222222222,
                            "#7201a8"
                          ],
                          [
                            0.3333333333333333,
                            "#9c179e"
                          ],
                          [
                            0.4444444444444444,
                            "#bd3786"
                          ],
                          [
                            0.5555555555555556,
                            "#d8576b"
                          ],
                          [
                            0.6666666666666666,
                            "#ed7953"
                          ],
                          [
                            0.7777777777777778,
                            "#fb9f3a"
                          ],
                          [
                            0.8888888888888888,
                            "#fdca26"
                          ],
                          [
                            1,
                            "#f0f921"
                          ]
                        ],
                        "type": "heatmap"
                      }
                    ],
                    "histogram": [
                      {
                        "marker": {
                          "pattern": {
                            "fillmode": "overlay",
                            "size": 10,
                            "solidity": 0.2
                          }
                        },
                        "type": "histogram"
                      }
                    ],
                    "histogram2d": [
                      {
                        "colorbar": {
                          "outlinewidth": 0,
                          "ticks": ""
                        },
                        "colorscale": [
                          [
                            0,
                            "#0d0887"
                          ],
                          [
                            0.1111111111111111,
                            "#46039f"
                          ],
                          [
                            0.2222222222222222,
                            "#7201a8"
                          ],
                          [
                            0.3333333333333333,
                            "#9c179e"
                          ],
                          [
                            0.4444444444444444,
                            "#bd3786"
                          ],
                          [
                            0.5555555555555556,
                            "#d8576b"
                          ],
                          [
                            0.6666666666666666,
                            "#ed7953"
                          ],
                          [
                            0.7777777777777778,
                            "#fb9f3a"
                          ],
                          [
                            0.8888888888888888,
                            "#fdca26"
                          ],
                          [
                            1,
                            "#f0f921"
                          ]
                        ],
                        "type": "histogram2d"
                      }
                    ],
                    "histogram2dcontour": [
                      {
                        "colorbar": {
                          "outlinewidth": 0,
                          "ticks": ""
                        },
                        "colorscale": [
                          [
                            0,
                            "#0d0887"
                          ],
                          [
                            0.1111111111111111,
                            "#46039f"
                          ],
                          [
                            0.2222222222222222,
                            "#7201a8"
                          ],
                          [
                            0.3333333333333333,
                            "#9c179e"
                          ],
                          [
                            0.4444444444444444,
                            "#bd3786"
                          ],
                          [
                            0.5555555555555556,
                            "#d8576b"
                          ],
                          [
                            0.6666666666666666,
                            "#ed7953"
                          ],
                          [
                            0.7777777777777778,
                            "#fb9f3a"
                          ],
                          [
                            0.8888888888888888,
                            "#fdca26"
                          ],
                          [
                            1,
                            "#f0f921"
                          ]
                        ],
                        "type": "histogram2dcontour"
                      }
                    ],
                    "mesh3d": [
                      {
                        "colorbar": {
                          "outlinewidth": 0,
                          "ticks": ""
                        },
                        "type": "mesh3d"
                      }
                    ],
                    "parcoords": [
                      {
                        "line": {
                          "colorbar": {
                            "outlinewidth": 0,
                            "ticks": ""
                          }
                        },
                        "type": "parcoords"
                      }
                    ],
                    "pie": [
                      {
                        "automargin": true,
                        "type": "pie"
                      }
                    ],
                    "scatter": [
                      {
                        "fillpattern": {
                          "fillmode": "overlay",
                          "size": 10,
                          "solidity": 0.2
                        },
                        "type": "scatter"
                      }
                    ],
                    "scatter3d": [
                      {
                        "line": {
                          "colorbar": {
                            "outlinewidth": 0,
                            "ticks": ""
                          }
                        },
                        "marker": {
                          "colorbar": {
                            "outlinewidth": 0,
                            "ticks": ""
                          }
                        },
                        "type": "scatter3d"
                      }
                    ],
                    "scattercarpet": [
                      {
                        "marker": {
                          "colorbar": {
                            "outlinewidth": 0,
                            "ticks": ""
                          }
                        },
                        "type": "scattercarpet"
                      }
                    ],
                    "scattergeo": [
                      {
                        "marker": {
                          "colorbar": {
                            "outlinewidth": 0,
                            "ticks": ""
                          }
                        },
                        "type": "scattergeo"
                      }
                    ],
                    "scattergl": [
                      {
                        "marker": {
                          "colorbar": {
                            "outlinewidth": 0,
                            "ticks": ""
                          }
                        },
                        "type": "scattergl"
                      }
                    ],
                    "scattermap": [
                      {
                        "marker": {
                          "colorbar": {
                            "outlinewidth": 0,
                            "ticks": ""
                          }
                        },
                        "type": "scattermap"
                      }
                    ],
                    "scattermapbox": [
                      {
                        "marker": {
                          "colorbar": {
                            "outlinewidth": 0,
                            "ticks": ""
                          }
                        },
                        "type": "scattermapbox"
                      }
                    ],
                    "scatterpolar": [
                      {
                        "marker": {
                          "colorbar": {
                            "outlinewidth": 0,
                            "ticks": ""
                          }
                        },
                        "type": "scatterpolar"
                      }
                    ],
                    "scatterpolargl": [
                      {
                        "marker": {
                          "colorbar": {
                            "outlinewidth": 0,
                            "ticks": ""
                          }
                        },
                        "type": "scatterpolargl"
                      }
                    ],
                    "scatterternary": [
                      {
                        "marker": {
                          "colorbar": {
                            "outlinewidth": 0,
                            "ticks": ""
                          }
                        },
                        "type": "scatterternary"
                      }
                    ],
                    "surface": [
                      {
                        "colorbar": {
                          "outlinewidth": 0,
                          "ticks": ""
                        },
                        "colorscale": [
                          [
                            0,
                            "#0d0887"
                          ],
                          [
                            0.1111111111111111,
                            "#46039f"
                          ],
                          [
                            0.2222222222222222,
                            "#7201a8"
                          ],
                          [
                            0.3333333333333333,
                            "#9c179e"
                          ],
                          [
                            0.4444444444444444,
                            "#bd3786"
                          ],
                          [
                            0.5555555555555556,
                            "#d8576b"
                          ],
                          [
                            0.6666666666666666,
                            "#ed7953"
                          ],
                          [
                            0.7777777777777778,
                            "#fb9f3a"
                          ],
                          [
                            0.8888888888888888,
                            "#fdca26"
                          ],
                          [
                            1,
                            "#f0f921"
                          ]
                        ],
                        "type": "surface"
                      }
                    ],
                    "table": [
                      {
                        "cells": {
                          "fill": {
                            "color": "#EBF0F8"
                          },
                          "line": {
                            "color": "white"
                          }
                        },
                        "header": {
                          "fill": {
                            "color": "#C8D4E3"
                          },
                          "line": {
                            "color": "white"
                          }
                        },
                        "type": "table"
                      }
                    ]
                  },
                  "layout": {
                    "annotationdefaults": {
                      "arrowcolor": "#2a3f5f",
                      "arrowhead": 0,
                      "arrowwidth": 1
                    },
                    "autotypenumbers": "strict",
                    "coloraxis": {
                      "colorbar": {
                        "outlinewidth": 0,
                        "ticks": ""
                      }
                    },
                    "colorscale": {
                      "diverging": [
                        [
                          0,
                          "#8e0152"
                        ],
                        [
                          0.1,
                          "#c51b7d"
                        ],
                        [
                          0.2,
                          "#de77ae"
                        ],
                        [
                          0.3,
                          "#f1b6da"
                        ],
                        [
                          0.4,
                          "#fde0ef"
                        ],
                        [
                          0.5,
                          "#f7f7f7"
                        ],
                        [
                          0.6,
                          "#e6f5d0"
                        ],
                        [
                          0.7,
                          "#b8e186"
                        ],
                        [
                          0.8,
                          "#7fbc41"
                        ],
                        [
                          0.9,
                          "#4d9221"
                        ],
                        [
                          1,
                          "#276419"
                        ]
                      ],
                      "sequential": [
                        [
                          0,
                          "#0d0887"
                        ],
                        [
                          0.1111111111111111,
                          "#46039f"
                        ],
                        [
                          0.2222222222222222,
                          "#7201a8"
                        ],
                        [
                          0.3333333333333333,
                          "#9c179e"
                        ],
                        [
                          0.4444444444444444,
                          "#bd3786"
                        ],
                        [
                          0.5555555555555556,
                          "#d8576b"
                        ],
                        [
                          0.6666666666666666,
                          "#ed7953"
                        ],
                        [
                          0.7777777777777778,
                          "#fb9f3a"
                        ],
                        [
                          0.8888888888888888,
                          "#fdca26"
                        ],
                        [
                          1,
                          "#f0f921"
                        ]
                      ],
                      "sequentialminus": [
                        [
                          0,
                          "#0d0887"
                        ],
                        [
                          0.1111111111111111,
                          "#46039f"
                        ],
                        [
                          0.2222222222222222,
                          "#7201a8"
                        ],
                        [
                          0.3333333333333333,
                          "#9c179e"
                        ],
                        [
                          0.4444444444444444,
                          "#bd3786"
                        ],
                        [
                          0.5555555555555556,
                          "#d8576b"
                        ],
                        [
                          0.6666666666666666,
                          "#ed7953"
                        ],
                        [
                          0.7777777777777778,
                          "#fb9f3a"
                        ],
                        [
                          0.8888888888888888,
                          "#fdca26"
                        ],
                        [
                          1,
                          "#f0f921"
                        ]
                      ]
                    },
                    "colorway": [
                      "#636efa",
                      "#EF553B",
                      "#00cc96",
                      "#ab63fa",
                      "#FFA15A",
                      "#19d3f3",
                      "#FF6692",
                      "#B6E880",
                      "#FF97FF",
                      "#FECB52"
                    ],
                    "font": {
                      "color": "#2a3f5f"
                    },
                    "geo": {
                      "bgcolor": "white",
                      "lakecolor": "white",
                      "landcolor": "#E5ECF6",
                      "showlakes": true,
                      "showland": true,
                      "subunitcolor": "white"
                    },
                    "hoverlabel": {
                      "align": "left"
                    },
                    "hovermode": "closest",
                    "mapbox": {
                      "style": "light"
                    },
                    "paper_bgcolor": "white",
                    "plot_bgcolor": "#E5ECF6",
                    "polar": {
                      "angularaxis": {
                        "gridcolor": "white",
                        "linecolor": "white",
                        "ticks": ""
                      },
                      "bgcolor": "#E5ECF6",
                      "radialaxis": {
                        "gridcolor": "white",
                        "linecolor": "white",
                        "ticks": ""
                      }
                    },
                    "scene": {
                      "xaxis": {
                        "backgroundcolor": "#E5ECF6",
                        "gridcolor": "white",
                        "gridwidth": 2,
                        "linecolor": "white",
                        "showbackground": true,
                        "ticks": "",
                        "zerolinecolor": "white"
                      },
                      "yaxis": {
                        "backgroundcolor": "#E5ECF6",
                        "gridcolor": "white",
                        "gridwidth": 2,
                        "linecolor": "white",
                        "showbackground": true,
                        "ticks": "",
                        "zerolinecolor": "white"
                      },
                      "zaxis": {
                        "backgroundcolor": "#E5ECF6",
                        "gridcolor": "white",
                        "gridwidth": 2,
                        "linecolor": "white",
                        "showbackground": true,
                        "ticks": "",
                        "zerolinecolor": "white"
                      }
                    },
                    "shapedefaults": {
                      "line": {
                        "color": "#2a3f5f"
                      }
                    },
                    "ternary": {
                      "aaxis": {
                        "gridcolor": "white",
                        "linecolor": "white",
                        "ticks": ""
                      },
                      "baxis": {
                        "gridcolor": "white",
                        "linecolor": "white",
                        "ticks": ""
                      },
                      "bgcolor": "#E5ECF6",
                      "caxis": {
                        "gridcolor": "white",
                        "linecolor": "white",
                        "ticks": ""
                      }
                    },
                    "title": {
                      "x": 0.05
                    },
                    "xaxis": {
                      "automargin": true,
                      "gridcolor": "white",
                      "linecolor": "white",
                      "ticks": "",
                      "title": {
                        "standoff": 15
                      },
                      "zerolinecolor": "white",
                      "zerolinewidth": 2
                    },
                    "yaxis": {
                      "automargin": true,
                      "gridcolor": "white",
                      "linecolor": "white",
                      "ticks": "",
                      "title": {
                        "standoff": 15
                      },
                      "zerolinecolor": "white",
                      "zerolinewidth": 2
                    }
                  }
                },
                "title": {
                  "font": {
                    "size": 16
                  },
                  "text": "Einstein's Life Network"
                },
                "xaxis": {
                  "showgrid": false,
                  "showticklabels": false,
                  "zeroline": false
                },
                "yaxis": {
                  "showgrid": false,
                  "showticklabels": false,
                  "zeroline": false
                }
              }
            }
          },
          "metadata": {},
          "output_type": "display_data"
        }
      ],
      "source": [
        "# Create plots directory\n",
        "plots_dir = output_dir / \"plots\"\n",
        "plots_dir.mkdir(exist_ok=True)\n",
        "\n",
        "# Create interactive network plot\n",
        "print(\"🎨 Creating interactive network visualization...\")\n",
        "interactive_fig = create_interactive_plot(\n",
        "    graph,\n",
        "    title=\"Einstein's Life Network\",\n",
        "    node_size_multiplier=20,\n",
        "    edge_width_multiplier=2\n",
        ")\n",
        "\n",
        "# Save interactive plot\n",
        "interactive_file = plots_dir / \"network_overview.html\"\n",
        "interactive_fig.write_html(str(interactive_file))\n",
        "print(f\"✅ Generated interactive plot: {interactive_file}\")\n",
        "\n",
        "# Display in notebook - using alternative method\n",
        "try:\n",
        "    interactive_fig.show()\n",
        "except ValueError as e:\n",
        "    print(f\"⚠️  Display issue: {e}\")\n",
        "    print(\"📁 Plot saved as HTML file - you can open it in your browser\")\n",
        "    print(f\"🔗 File location: {interactive_file}\")\n",
        "    print(\"💡 Tip: Open the HTML file in your browser to view the interactive plot\")\n"
      ]
    },
    {
      "cell_type": "markdown",
      "metadata": {},
      "source": [
        "## Step 8: Enhanced Interactive Features\n",
        "\n",
        "Create additional interactive visualizations with community structure and centrality analysis.\n"
      ]
    },
    {
      "cell_type": "code",
      "execution_count": 10,
      "metadata": {},
      "outputs": [
        {
          "name": "stdout",
          "output_type": "stream",
          "text": [
            "🎨 Creating enhanced interactive visualizations...\n",
            "📊 Creating centrality analysis visualization...\n",
            "✅ Generated centrality plot: notebook_output/plots/centrality_analysis.html\n"
          ]
        },
        {
          "data": {
            "application/vnd.plotly.v1+json": {
              "config": {
                "plotlyServerURL": "https://plot.ly"
              },
              "data": [
                {
                  "hoverinfo": "none",
                  "line": {
                    "color": "#888",
                    "width": 1.5
                  },
                  "mode": "lines",
                  "type": "scatter",
                  "x": [],
                  "y": []
                },
                {
                  "hoverinfo": "text",
                  "hovertext": [
                    "ID: b050cb3e-1472-4384-b4d4-63d32cf3b1b2<br>Label: Albert Einstein<br>Class: E21",
                    "ID: 36a43509-23b2-4726-b87b-7243b6ca6320<br>Label: relativity and<br>Class: E21",
                    "ID: dde278ca-547c-4445-b174-6bdaca20256c<br>Label: Ulm<br>Class: E53",
                    "ID: 43e6b4aa-82b6-49ca-a9d4-ddf9df265592<br>Label: Princeton<br>Class: E53",
                    "ID: 7126d8d5-4392-4a2e-a589-dbf29e21eaf6<br>Label: Princeton<br>Class: E53",
                    "ID: b36c9a8f-a514-4c98-9285-1872e2302b4d<br>Label: Germany<br>Class: E53",
                    "ID: fe312c8a-40c4-4886-a309-cc2329a4ab10<br>Label: theory of relativity and won the Nobel Prize in Physics in <br>Class: E22",
                    "ID: dc1f41a7-fb29-4233-99be-21c10e718f04<br>Label: Nobel Prize in Physics in <br>Class: E22",
                    "ID: a7c25fc4-8b1f-4dc4-9338-045b1846a4d4<br>Label: theory of relativity<br>Class: E22",
                    "ID: cf542bf0-10de-4b3f-8f69-60d51d8dbc1b<br>Label: March 14, 1879<br>Class: E52",
                    "ID: 71db5e31-8680-42be-84ba-33a32a506c30<br>Label: April 18, 1955<br>Class: E52",
                    "ID: 16a6a64c-c417-4c20-a210-6e471c6bc881<br>Label: 1879<br>Class: E52",
                    "ID: bd7cca69-3e56-4c54-97a9-27a32b88d35e<br>Label: 1921<br>Class: E52",
                    "ID: 9a45f605-7191-4cc1-b087-1745a10b5849<br>Label: 1955<br>Class: E52"
                  ],
                  "marker": {
                    "color": [
                      "red",
                      "red",
                      "green",
                      "green",
                      "green",
                      "green",
                      "orange",
                      "orange",
                      "orange",
                      "purple",
                      "purple",
                      "purple",
                      "purple",
                      "purple"
                    ],
                    "line": {
                      "color": "white",
                      "width": 2
                    },
                    "size": [
                      10,
                      10,
                      10,
                      10,
                      10,
                      10,
                      10,
                      10,
                      10,
                      10,
                      10,
                      10,
                      10,
                      10
                    ]
                  },
                  "mode": "markers+text",
                  "text": [
                    "Albert Einstein",
                    "relativity and",
                    "Ulm",
                    "Princeton",
                    "Princeton",
                    "Germany",
                    "theory of relativity and won the Nobel Prize in Physics in ",
                    "Nobel Prize in Physics in ",
                    "theory of relativity",
                    "March 14, 1879",
                    "April 18, 1955",
                    "1879",
                    "1921",
                    "1955"
                  ],
                  "textposition": "middle center",
                  "type": "scatter",
                  "x": [
                    0.32318533936704513,
                    -0.8496985977172368,
                    0.7132475228143376,
                    0.9386633642388357,
                    -0.6216856462180036,
                    -0.752048148482917,
                    0.6017139316239728,
                    0.8868640912778013,
                    -0.3179993911740452,
                    -0.9909993151981628,
                    -0.7911916729700569,
                    0.11405784726570535,
                    0.8815105379654155,
                    -0.13561986279269103
                  ],
                  "y": [
                    0.9885588268851984,
                    -0.2846730902929157,
                    0.7041512705101485,
                    0.2804413493610026,
                    0.8211584858018678,
                    0.4790742281851114,
                    -0.8994377716212866,
                    -0.5279888206144913,
                    -0.8519682072207224,
                    0.13694477940895614,
                    -0.689703393638974,
                    -1,
                    -0.12669808491100443,
                    0.9701404281471098
                  ]
                }
              ],
              "layout": {
                "annotations": [
                  {
                    "font": {
                      "color": "#888",
                      "size": 12
                    },
                    "showarrow": false,
                    "text": "Interactive CRM Network Visualization",
                    "x": 0.005,
                    "xanchor": "left",
                    "xref": "paper",
                    "y": -0.002,
                    "yanchor": "bottom",
                    "yref": "paper"
                  }
                ],
                "hovermode": "closest",
                "margin": {
                  "b": 20,
                  "l": 5,
                  "r": 5,
                  "t": 40
                },
                "showlegend": false,
                "template": {
                  "data": {
                    "bar": [
                      {
                        "error_x": {
                          "color": "#2a3f5f"
                        },
                        "error_y": {
                          "color": "#2a3f5f"
                        },
                        "marker": {
                          "line": {
                            "color": "#E5ECF6",
                            "width": 0.5
                          },
                          "pattern": {
                            "fillmode": "overlay",
                            "size": 10,
                            "solidity": 0.2
                          }
                        },
                        "type": "bar"
                      }
                    ],
                    "barpolar": [
                      {
                        "marker": {
                          "line": {
                            "color": "#E5ECF6",
                            "width": 0.5
                          },
                          "pattern": {
                            "fillmode": "overlay",
                            "size": 10,
                            "solidity": 0.2
                          }
                        },
                        "type": "barpolar"
                      }
                    ],
                    "carpet": [
                      {
                        "aaxis": {
                          "endlinecolor": "#2a3f5f",
                          "gridcolor": "white",
                          "linecolor": "white",
                          "minorgridcolor": "white",
                          "startlinecolor": "#2a3f5f"
                        },
                        "baxis": {
                          "endlinecolor": "#2a3f5f",
                          "gridcolor": "white",
                          "linecolor": "white",
                          "minorgridcolor": "white",
                          "startlinecolor": "#2a3f5f"
                        },
                        "type": "carpet"
                      }
                    ],
                    "choropleth": [
                      {
                        "colorbar": {
                          "outlinewidth": 0,
                          "ticks": ""
                        },
                        "type": "choropleth"
                      }
                    ],
                    "contour": [
                      {
                        "colorbar": {
                          "outlinewidth": 0,
                          "ticks": ""
                        },
                        "colorscale": [
                          [
                            0,
                            "#0d0887"
                          ],
                          [
                            0.1111111111111111,
                            "#46039f"
                          ],
                          [
                            0.2222222222222222,
                            "#7201a8"
                          ],
                          [
                            0.3333333333333333,
                            "#9c179e"
                          ],
                          [
                            0.4444444444444444,
                            "#bd3786"
                          ],
                          [
                            0.5555555555555556,
                            "#d8576b"
                          ],
                          [
                            0.6666666666666666,
                            "#ed7953"
                          ],
                          [
                            0.7777777777777778,
                            "#fb9f3a"
                          ],
                          [
                            0.8888888888888888,
                            "#fdca26"
                          ],
                          [
                            1,
                            "#f0f921"
                          ]
                        ],
                        "type": "contour"
                      }
                    ],
                    "contourcarpet": [
                      {
                        "colorbar": {
                          "outlinewidth": 0,
                          "ticks": ""
                        },
                        "type": "contourcarpet"
                      }
                    ],
                    "heatmap": [
                      {
                        "colorbar": {
                          "outlinewidth": 0,
                          "ticks": ""
                        },
                        "colorscale": [
                          [
                            0,
                            "#0d0887"
                          ],
                          [
                            0.1111111111111111,
                            "#46039f"
                          ],
                          [
                            0.2222222222222222,
                            "#7201a8"
                          ],
                          [
                            0.3333333333333333,
                            "#9c179e"
                          ],
                          [
                            0.4444444444444444,
                            "#bd3786"
                          ],
                          [
                            0.5555555555555556,
                            "#d8576b"
                          ],
                          [
                            0.6666666666666666,
                            "#ed7953"
                          ],
                          [
                            0.7777777777777778,
                            "#fb9f3a"
                          ],
                          [
                            0.8888888888888888,
                            "#fdca26"
                          ],
                          [
                            1,
                            "#f0f921"
                          ]
                        ],
                        "type": "heatmap"
                      }
                    ],
                    "histogram": [
                      {
                        "marker": {
                          "pattern": {
                            "fillmode": "overlay",
                            "size": 10,
                            "solidity": 0.2
                          }
                        },
                        "type": "histogram"
                      }
                    ],
                    "histogram2d": [
                      {
                        "colorbar": {
                          "outlinewidth": 0,
                          "ticks": ""
                        },
                        "colorscale": [
                          [
                            0,
                            "#0d0887"
                          ],
                          [
                            0.1111111111111111,
                            "#46039f"
                          ],
                          [
                            0.2222222222222222,
                            "#7201a8"
                          ],
                          [
                            0.3333333333333333,
                            "#9c179e"
                          ],
                          [
                            0.4444444444444444,
                            "#bd3786"
                          ],
                          [
                            0.5555555555555556,
                            "#d8576b"
                          ],
                          [
                            0.6666666666666666,
                            "#ed7953"
                          ],
                          [
                            0.7777777777777778,
                            "#fb9f3a"
                          ],
                          [
                            0.8888888888888888,
                            "#fdca26"
                          ],
                          [
                            1,
                            "#f0f921"
                          ]
                        ],
                        "type": "histogram2d"
                      }
                    ],
                    "histogram2dcontour": [
                      {
                        "colorbar": {
                          "outlinewidth": 0,
                          "ticks": ""
                        },
                        "colorscale": [
                          [
                            0,
                            "#0d0887"
                          ],
                          [
                            0.1111111111111111,
                            "#46039f"
                          ],
                          [
                            0.2222222222222222,
                            "#7201a8"
                          ],
                          [
                            0.3333333333333333,
                            "#9c179e"
                          ],
                          [
                            0.4444444444444444,
                            "#bd3786"
                          ],
                          [
                            0.5555555555555556,
                            "#d8576b"
                          ],
                          [
                            0.6666666666666666,
                            "#ed7953"
                          ],
                          [
                            0.7777777777777778,
                            "#fb9f3a"
                          ],
                          [
                            0.8888888888888888,
                            "#fdca26"
                          ],
                          [
                            1,
                            "#f0f921"
                          ]
                        ],
                        "type": "histogram2dcontour"
                      }
                    ],
                    "mesh3d": [
                      {
                        "colorbar": {
                          "outlinewidth": 0,
                          "ticks": ""
                        },
                        "type": "mesh3d"
                      }
                    ],
                    "parcoords": [
                      {
                        "line": {
                          "colorbar": {
                            "outlinewidth": 0,
                            "ticks": ""
                          }
                        },
                        "type": "parcoords"
                      }
                    ],
                    "pie": [
                      {
                        "automargin": true,
                        "type": "pie"
                      }
                    ],
                    "scatter": [
                      {
                        "fillpattern": {
                          "fillmode": "overlay",
                          "size": 10,
                          "solidity": 0.2
                        },
                        "type": "scatter"
                      }
                    ],
                    "scatter3d": [
                      {
                        "line": {
                          "colorbar": {
                            "outlinewidth": 0,
                            "ticks": ""
                          }
                        },
                        "marker": {
                          "colorbar": {
                            "outlinewidth": 0,
                            "ticks": ""
                          }
                        },
                        "type": "scatter3d"
                      }
                    ],
                    "scattercarpet": [
                      {
                        "marker": {
                          "colorbar": {
                            "outlinewidth": 0,
                            "ticks": ""
                          }
                        },
                        "type": "scattercarpet"
                      }
                    ],
                    "scattergeo": [
                      {
                        "marker": {
                          "colorbar": {
                            "outlinewidth": 0,
                            "ticks": ""
                          }
                        },
                        "type": "scattergeo"
                      }
                    ],
                    "scattergl": [
                      {
                        "marker": {
                          "colorbar": {
                            "outlinewidth": 0,
                            "ticks": ""
                          }
                        },
                        "type": "scattergl"
                      }
                    ],
                    "scattermap": [
                      {
                        "marker": {
                          "colorbar": {
                            "outlinewidth": 0,
                            "ticks": ""
                          }
                        },
                        "type": "scattermap"
                      }
                    ],
                    "scattermapbox": [
                      {
                        "marker": {
                          "colorbar": {
                            "outlinewidth": 0,
                            "ticks": ""
                          }
                        },
                        "type": "scattermapbox"
                      }
                    ],
                    "scatterpolar": [
                      {
                        "marker": {
                          "colorbar": {
                            "outlinewidth": 0,
                            "ticks": ""
                          }
                        },
                        "type": "scatterpolar"
                      }
                    ],
                    "scatterpolargl": [
                      {
                        "marker": {
                          "colorbar": {
                            "outlinewidth": 0,
                            "ticks": ""
                          }
                        },
                        "type": "scatterpolargl"
                      }
                    ],
                    "scatterternary": [
                      {
                        "marker": {
                          "colorbar": {
                            "outlinewidth": 0,
                            "ticks": ""
                          }
                        },
                        "type": "scatterternary"
                      }
                    ],
                    "surface": [
                      {
                        "colorbar": {
                          "outlinewidth": 0,
                          "ticks": ""
                        },
                        "colorscale": [
                          [
                            0,
                            "#0d0887"
                          ],
                          [
                            0.1111111111111111,
                            "#46039f"
                          ],
                          [
                            0.2222222222222222,
                            "#7201a8"
                          ],
                          [
                            0.3333333333333333,
                            "#9c179e"
                          ],
                          [
                            0.4444444444444444,
                            "#bd3786"
                          ],
                          [
                            0.5555555555555556,
                            "#d8576b"
                          ],
                          [
                            0.6666666666666666,
                            "#ed7953"
                          ],
                          [
                            0.7777777777777778,
                            "#fb9f3a"
                          ],
                          [
                            0.8888888888888888,
                            "#fdca26"
                          ],
                          [
                            1,
                            "#f0f921"
                          ]
                        ],
                        "type": "surface"
                      }
                    ],
                    "table": [
                      {
                        "cells": {
                          "fill": {
                            "color": "#EBF0F8"
                          },
                          "line": {
                            "color": "white"
                          }
                        },
                        "header": {
                          "fill": {
                            "color": "#C8D4E3"
                          },
                          "line": {
                            "color": "white"
                          }
                        },
                        "type": "table"
                      }
                    ]
                  },
                  "layout": {
                    "annotationdefaults": {
                      "arrowcolor": "#2a3f5f",
                      "arrowhead": 0,
                      "arrowwidth": 1
                    },
                    "autotypenumbers": "strict",
                    "coloraxis": {
                      "colorbar": {
                        "outlinewidth": 0,
                        "ticks": ""
                      }
                    },
                    "colorscale": {
                      "diverging": [
                        [
                          0,
                          "#8e0152"
                        ],
                        [
                          0.1,
                          "#c51b7d"
                        ],
                        [
                          0.2,
                          "#de77ae"
                        ],
                        [
                          0.3,
                          "#f1b6da"
                        ],
                        [
                          0.4,
                          "#fde0ef"
                        ],
                        [
                          0.5,
                          "#f7f7f7"
                        ],
                        [
                          0.6,
                          "#e6f5d0"
                        ],
                        [
                          0.7,
                          "#b8e186"
                        ],
                        [
                          0.8,
                          "#7fbc41"
                        ],
                        [
                          0.9,
                          "#4d9221"
                        ],
                        [
                          1,
                          "#276419"
                        ]
                      ],
                      "sequential": [
                        [
                          0,
                          "#0d0887"
                        ],
                        [
                          0.1111111111111111,
                          "#46039f"
                        ],
                        [
                          0.2222222222222222,
                          "#7201a8"
                        ],
                        [
                          0.3333333333333333,
                          "#9c179e"
                        ],
                        [
                          0.4444444444444444,
                          "#bd3786"
                        ],
                        [
                          0.5555555555555556,
                          "#d8576b"
                        ],
                        [
                          0.6666666666666666,
                          "#ed7953"
                        ],
                        [
                          0.7777777777777778,
                          "#fb9f3a"
                        ],
                        [
                          0.8888888888888888,
                          "#fdca26"
                        ],
                        [
                          1,
                          "#f0f921"
                        ]
                      ],
                      "sequentialminus": [
                        [
                          0,
                          "#0d0887"
                        ],
                        [
                          0.1111111111111111,
                          "#46039f"
                        ],
                        [
                          0.2222222222222222,
                          "#7201a8"
                        ],
                        [
                          0.3333333333333333,
                          "#9c179e"
                        ],
                        [
                          0.4444444444444444,
                          "#bd3786"
                        ],
                        [
                          0.5555555555555556,
                          "#d8576b"
                        ],
                        [
                          0.6666666666666666,
                          "#ed7953"
                        ],
                        [
                          0.7777777777777778,
                          "#fb9f3a"
                        ],
                        [
                          0.8888888888888888,
                          "#fdca26"
                        ],
                        [
                          1,
                          "#f0f921"
                        ]
                      ]
                    },
                    "colorway": [
                      "#636efa",
                      "#EF553B",
                      "#00cc96",
                      "#ab63fa",
                      "#FFA15A",
                      "#19d3f3",
                      "#FF6692",
                      "#B6E880",
                      "#FF97FF",
                      "#FECB52"
                    ],
                    "font": {
                      "color": "#2a3f5f"
                    },
                    "geo": {
                      "bgcolor": "white",
                      "lakecolor": "white",
                      "landcolor": "#E5ECF6",
                      "showlakes": true,
                      "showland": true,
                      "subunitcolor": "white"
                    },
                    "hoverlabel": {
                      "align": "left"
                    },
                    "hovermode": "closest",
                    "mapbox": {
                      "style": "light"
                    },
                    "paper_bgcolor": "white",
                    "plot_bgcolor": "#E5ECF6",
                    "polar": {
                      "angularaxis": {
                        "gridcolor": "white",
                        "linecolor": "white",
                        "ticks": ""
                      },
                      "bgcolor": "#E5ECF6",
                      "radialaxis": {
                        "gridcolor": "white",
                        "linecolor": "white",
                        "ticks": ""
                      }
                    },
                    "scene": {
                      "xaxis": {
                        "backgroundcolor": "#E5ECF6",
                        "gridcolor": "white",
                        "gridwidth": 2,
                        "linecolor": "white",
                        "showbackground": true,
                        "ticks": "",
                        "zerolinecolor": "white"
                      },
                      "yaxis": {
                        "backgroundcolor": "#E5ECF6",
                        "gridcolor": "white",
                        "gridwidth": 2,
                        "linecolor": "white",
                        "showbackground": true,
                        "ticks": "",
                        "zerolinecolor": "white"
                      },
                      "zaxis": {
                        "backgroundcolor": "#E5ECF6",
                        "gridcolor": "white",
                        "gridwidth": 2,
                        "linecolor": "white",
                        "showbackground": true,
                        "ticks": "",
                        "zerolinecolor": "white"
                      }
                    },
                    "shapedefaults": {
                      "line": {
                        "color": "#2a3f5f"
                      }
                    },
                    "ternary": {
                      "aaxis": {
                        "gridcolor": "white",
                        "linecolor": "white",
                        "ticks": ""
                      },
                      "baxis": {
                        "gridcolor": "white",
                        "linecolor": "white",
                        "ticks": ""
                      },
                      "bgcolor": "#E5ECF6",
                      "caxis": {
                        "gridcolor": "white",
                        "linecolor": "white",
                        "ticks": ""
                      }
                    },
                    "title": {
                      "x": 0.05
                    },
                    "xaxis": {
                      "automargin": true,
                      "gridcolor": "white",
                      "linecolor": "white",
                      "ticks": "",
                      "title": {
                        "standoff": 15
                      },
                      "zerolinecolor": "white",
                      "zerolinewidth": 2
                    },
                    "yaxis": {
                      "automargin": true,
                      "gridcolor": "white",
                      "linecolor": "white",
                      "ticks": "",
                      "title": {
                        "standoff": 15
                      },
                      "zerolinecolor": "white",
                      "zerolinewidth": 2
                    }
                  }
                },
                "title": {
                  "font": {
                    "size": 16
                  },
                  "text": "Centrality Analysis - Einstein's Network"
                },
                "xaxis": {
                  "showgrid": false,
                  "showticklabels": false,
                  "zeroline": false
                },
                "yaxis": {
                  "showgrid": false,
                  "showticklabels": false,
                  "zeroline": false
                }
              }
            }
          },
          "metadata": {},
          "output_type": "display_data"
        },
        {
          "name": "stdout",
          "output_type": "stream",
          "text": [
            "📊 Creating main interactive network...\n",
            "✅ Generated main interactive plot: notebook_output/plots/interactive_network.html\n"
          ]
        },
        {
          "data": {
            "application/vnd.plotly.v1+json": {
              "config": {
                "plotlyServerURL": "https://plot.ly"
              },
              "data": [
                {
                  "hoverinfo": "none",
                  "line": {
                    "color": "#888",
                    "width": 2
                  },
                  "mode": "lines",
                  "type": "scatter",
                  "x": [],
                  "y": []
                },
                {
                  "hoverinfo": "text",
                  "hovertext": [
                    "ID: b050cb3e-1472-4384-b4d4-63d32cf3b1b2<br>Label: Albert Einstein<br>Class: E21",
                    "ID: 36a43509-23b2-4726-b87b-7243b6ca6320<br>Label: relativity and<br>Class: E21",
                    "ID: dde278ca-547c-4445-b174-6bdaca20256c<br>Label: Ulm<br>Class: E53",
                    "ID: 43e6b4aa-82b6-49ca-a9d4-ddf9df265592<br>Label: Princeton<br>Class: E53",
                    "ID: 7126d8d5-4392-4a2e-a589-dbf29e21eaf6<br>Label: Princeton<br>Class: E53",
                    "ID: b36c9a8f-a514-4c98-9285-1872e2302b4d<br>Label: Germany<br>Class: E53",
                    "ID: fe312c8a-40c4-4886-a309-cc2329a4ab10<br>Label: theory of relativity and won the Nobel Prize in Physics in <br>Class: E22",
                    "ID: dc1f41a7-fb29-4233-99be-21c10e718f04<br>Label: Nobel Prize in Physics in <br>Class: E22",
                    "ID: a7c25fc4-8b1f-4dc4-9338-045b1846a4d4<br>Label: theory of relativity<br>Class: E22",
                    "ID: cf542bf0-10de-4b3f-8f69-60d51d8dbc1b<br>Label: March 14, 1879<br>Class: E52",
                    "ID: 71db5e31-8680-42be-84ba-33a32a506c30<br>Label: April 18, 1955<br>Class: E52",
                    "ID: 16a6a64c-c417-4c20-a210-6e471c6bc881<br>Label: 1879<br>Class: E52",
                    "ID: bd7cca69-3e56-4c54-97a9-27a32b88d35e<br>Label: 1921<br>Class: E52",
                    "ID: 9a45f605-7191-4cc1-b087-1745a10b5849<br>Label: 1955<br>Class: E52"
                  ],
                  "marker": {
                    "color": [
                      "red",
                      "red",
                      "green",
                      "green",
                      "green",
                      "green",
                      "orange",
                      "orange",
                      "orange",
                      "purple",
                      "purple",
                      "purple",
                      "purple",
                      "purple"
                    ],
                    "line": {
                      "color": "white",
                      "width": 2
                    },
                    "size": [
                      10,
                      10,
                      10,
                      10,
                      10,
                      10,
                      10,
                      10,
                      10,
                      10,
                      10,
                      10,
                      10,
                      10
                    ]
                  },
                  "mode": "markers+text",
                  "text": [
                    "Albert Einstein",
                    "relativity and",
                    "Ulm",
                    "Princeton",
                    "Princeton",
                    "Germany",
                    "theory of relativity and won the Nobel Prize in Physics in ",
                    "Nobel Prize in Physics in ",
                    "theory of relativity",
                    "March 14, 1879",
                    "April 18, 1955",
                    "1879",
                    "1921",
                    "1955"
                  ],
                  "textposition": "middle center",
                  "type": "scatter",
                  "x": [
                    -0.8193024559231266,
                    -0.3145863399018779,
                    0.6547064533693627,
                    0.7481503874529375,
                    0.8078473840405908,
                    0.5039285980593112,
                    0.3455609922049682,
                    -0.8602136626619059,
                    -0.8895896919885612,
                    0.9999999999999999,
                    -0.08600159197245252,
                    -0.6539041472478192,
                    0.07024146006336622,
                    -0.5068373854947936
                  ],
                  "y": [
                    -0.5289609319504383,
                    0.8080521673321639,
                    -0.5767107145622655,
                    0.4991943412039424,
                    0.0668597014513264,
                    0.8436582372077901,
                    -0.8847517144480952,
                    0.25927580122364097,
                    -0.13837061541640389,
                    -0.11500150061826507,
                    -0.9115748068771371,
                    0.602878405734815,
                    0.9134189809316257,
                    -0.8379673512126993
                  ]
                }
              ],
              "layout": {
                "annotations": [
                  {
                    "font": {
                      "color": "#888",
                      "size": 12
                    },
                    "showarrow": false,
                    "text": "Interactive CRM Network Visualization",
                    "x": 0.005,
                    "xanchor": "left",
                    "xref": "paper",
                    "y": -0.002,
                    "yanchor": "bottom",
                    "yref": "paper"
                  }
                ],
                "hovermode": "closest",
                "margin": {
                  "b": 20,
                  "l": 5,
                  "r": 5,
                  "t": 40
                },
                "showlegend": false,
                "template": {
                  "data": {
                    "bar": [
                      {
                        "error_x": {
                          "color": "#2a3f5f"
                        },
                        "error_y": {
                          "color": "#2a3f5f"
                        },
                        "marker": {
                          "line": {
                            "color": "#E5ECF6",
                            "width": 0.5
                          },
                          "pattern": {
                            "fillmode": "overlay",
                            "size": 10,
                            "solidity": 0.2
                          }
                        },
                        "type": "bar"
                      }
                    ],
                    "barpolar": [
                      {
                        "marker": {
                          "line": {
                            "color": "#E5ECF6",
                            "width": 0.5
                          },
                          "pattern": {
                            "fillmode": "overlay",
                            "size": 10,
                            "solidity": 0.2
                          }
                        },
                        "type": "barpolar"
                      }
                    ],
                    "carpet": [
                      {
                        "aaxis": {
                          "endlinecolor": "#2a3f5f",
                          "gridcolor": "white",
                          "linecolor": "white",
                          "minorgridcolor": "white",
                          "startlinecolor": "#2a3f5f"
                        },
                        "baxis": {
                          "endlinecolor": "#2a3f5f",
                          "gridcolor": "white",
                          "linecolor": "white",
                          "minorgridcolor": "white",
                          "startlinecolor": "#2a3f5f"
                        },
                        "type": "carpet"
                      }
                    ],
                    "choropleth": [
                      {
                        "colorbar": {
                          "outlinewidth": 0,
                          "ticks": ""
                        },
                        "type": "choropleth"
                      }
                    ],
                    "contour": [
                      {
                        "colorbar": {
                          "outlinewidth": 0,
                          "ticks": ""
                        },
                        "colorscale": [
                          [
                            0,
                            "#0d0887"
                          ],
                          [
                            0.1111111111111111,
                            "#46039f"
                          ],
                          [
                            0.2222222222222222,
                            "#7201a8"
                          ],
                          [
                            0.3333333333333333,
                            "#9c179e"
                          ],
                          [
                            0.4444444444444444,
                            "#bd3786"
                          ],
                          [
                            0.5555555555555556,
                            "#d8576b"
                          ],
                          [
                            0.6666666666666666,
                            "#ed7953"
                          ],
                          [
                            0.7777777777777778,
                            "#fb9f3a"
                          ],
                          [
                            0.8888888888888888,
                            "#fdca26"
                          ],
                          [
                            1,
                            "#f0f921"
                          ]
                        ],
                        "type": "contour"
                      }
                    ],
                    "contourcarpet": [
                      {
                        "colorbar": {
                          "outlinewidth": 0,
                          "ticks": ""
                        },
                        "type": "contourcarpet"
                      }
                    ],
                    "heatmap": [
                      {
                        "colorbar": {
                          "outlinewidth": 0,
                          "ticks": ""
                        },
                        "colorscale": [
                          [
                            0,
                            "#0d0887"
                          ],
                          [
                            0.1111111111111111,
                            "#46039f"
                          ],
                          [
                            0.2222222222222222,
                            "#7201a8"
                          ],
                          [
                            0.3333333333333333,
                            "#9c179e"
                          ],
                          [
                            0.4444444444444444,
                            "#bd3786"
                          ],
                          [
                            0.5555555555555556,
                            "#d8576b"
                          ],
                          [
                            0.6666666666666666,
                            "#ed7953"
                          ],
                          [
                            0.7777777777777778,
                            "#fb9f3a"
                          ],
                          [
                            0.8888888888888888,
                            "#fdca26"
                          ],
                          [
                            1,
                            "#f0f921"
                          ]
                        ],
                        "type": "heatmap"
                      }
                    ],
                    "histogram": [
                      {
                        "marker": {
                          "pattern": {
                            "fillmode": "overlay",
                            "size": 10,
                            "solidity": 0.2
                          }
                        },
                        "type": "histogram"
                      }
                    ],
                    "histogram2d": [
                      {
                        "colorbar": {
                          "outlinewidth": 0,
                          "ticks": ""
                        },
                        "colorscale": [
                          [
                            0,
                            "#0d0887"
                          ],
                          [
                            0.1111111111111111,
                            "#46039f"
                          ],
                          [
                            0.2222222222222222,
                            "#7201a8"
                          ],
                          [
                            0.3333333333333333,
                            "#9c179e"
                          ],
                          [
                            0.4444444444444444,
                            "#bd3786"
                          ],
                          [
                            0.5555555555555556,
                            "#d8576b"
                          ],
                          [
                            0.6666666666666666,
                            "#ed7953"
                          ],
                          [
                            0.7777777777777778,
                            "#fb9f3a"
                          ],
                          [
                            0.8888888888888888,
                            "#fdca26"
                          ],
                          [
                            1,
                            "#f0f921"
                          ]
                        ],
                        "type": "histogram2d"
                      }
                    ],
                    "histogram2dcontour": [
                      {
                        "colorbar": {
                          "outlinewidth": 0,
                          "ticks": ""
                        },
                        "colorscale": [
                          [
                            0,
                            "#0d0887"
                          ],
                          [
                            0.1111111111111111,
                            "#46039f"
                          ],
                          [
                            0.2222222222222222,
                            "#7201a8"
                          ],
                          [
                            0.3333333333333333,
                            "#9c179e"
                          ],
                          [
                            0.4444444444444444,
                            "#bd3786"
                          ],
                          [
                            0.5555555555555556,
                            "#d8576b"
                          ],
                          [
                            0.6666666666666666,
                            "#ed7953"
                          ],
                          [
                            0.7777777777777778,
                            "#fb9f3a"
                          ],
                          [
                            0.8888888888888888,
                            "#fdca26"
                          ],
                          [
                            1,
                            "#f0f921"
                          ]
                        ],
                        "type": "histogram2dcontour"
                      }
                    ],
                    "mesh3d": [
                      {
                        "colorbar": {
                          "outlinewidth": 0,
                          "ticks": ""
                        },
                        "type": "mesh3d"
                      }
                    ],
                    "parcoords": [
                      {
                        "line": {
                          "colorbar": {
                            "outlinewidth": 0,
                            "ticks": ""
                          }
                        },
                        "type": "parcoords"
                      }
                    ],
                    "pie": [
                      {
                        "automargin": true,
                        "type": "pie"
                      }
                    ],
                    "scatter": [
                      {
                        "fillpattern": {
                          "fillmode": "overlay",
                          "size": 10,
                          "solidity": 0.2
                        },
                        "type": "scatter"
                      }
                    ],
                    "scatter3d": [
                      {
                        "line": {
                          "colorbar": {
                            "outlinewidth": 0,
                            "ticks": ""
                          }
                        },
                        "marker": {
                          "colorbar": {
                            "outlinewidth": 0,
                            "ticks": ""
                          }
                        },
                        "type": "scatter3d"
                      }
                    ],
                    "scattercarpet": [
                      {
                        "marker": {
                          "colorbar": {
                            "outlinewidth": 0,
                            "ticks": ""
                          }
                        },
                        "type": "scattercarpet"
                      }
                    ],
                    "scattergeo": [
                      {
                        "marker": {
                          "colorbar": {
                            "outlinewidth": 0,
                            "ticks": ""
                          }
                        },
                        "type": "scattergeo"
                      }
                    ],
                    "scattergl": [
                      {
                        "marker": {
                          "colorbar": {
                            "outlinewidth": 0,
                            "ticks": ""
                          }
                        },
                        "type": "scattergl"
                      }
                    ],
                    "scattermap": [
                      {
                        "marker": {
                          "colorbar": {
                            "outlinewidth": 0,
                            "ticks": ""
                          }
                        },
                        "type": "scattermap"
                      }
                    ],
                    "scattermapbox": [
                      {
                        "marker": {
                          "colorbar": {
                            "outlinewidth": 0,
                            "ticks": ""
                          }
                        },
                        "type": "scattermapbox"
                      }
                    ],
                    "scatterpolar": [
                      {
                        "marker": {
                          "colorbar": {
                            "outlinewidth": 0,
                            "ticks": ""
                          }
                        },
                        "type": "scatterpolar"
                      }
                    ],
                    "scatterpolargl": [
                      {
                        "marker": {
                          "colorbar": {
                            "outlinewidth": 0,
                            "ticks": ""
                          }
                        },
                        "type": "scatterpolargl"
                      }
                    ],
                    "scatterternary": [
                      {
                        "marker": {
                          "colorbar": {
                            "outlinewidth": 0,
                            "ticks": ""
                          }
                        },
                        "type": "scatterternary"
                      }
                    ],
                    "surface": [
                      {
                        "colorbar": {
                          "outlinewidth": 0,
                          "ticks": ""
                        },
                        "colorscale": [
                          [
                            0,
                            "#0d0887"
                          ],
                          [
                            0.1111111111111111,
                            "#46039f"
                          ],
                          [
                            0.2222222222222222,
                            "#7201a8"
                          ],
                          [
                            0.3333333333333333,
                            "#9c179e"
                          ],
                          [
                            0.4444444444444444,
                            "#bd3786"
                          ],
                          [
                            0.5555555555555556,
                            "#d8576b"
                          ],
                          [
                            0.6666666666666666,
                            "#ed7953"
                          ],
                          [
                            0.7777777777777778,
                            "#fb9f3a"
                          ],
                          [
                            0.8888888888888888,
                            "#fdca26"
                          ],
                          [
                            1,
                            "#f0f921"
                          ]
                        ],
                        "type": "surface"
                      }
                    ],
                    "table": [
                      {
                        "cells": {
                          "fill": {
                            "color": "#EBF0F8"
                          },
                          "line": {
                            "color": "white"
                          }
                        },
                        "header": {
                          "fill": {
                            "color": "#C8D4E3"
                          },
                          "line": {
                            "color": "white"
                          }
                        },
                        "type": "table"
                      }
                    ]
                  },
                  "layout": {
                    "annotationdefaults": {
                      "arrowcolor": "#2a3f5f",
                      "arrowhead": 0,
                      "arrowwidth": 1
                    },
                    "autotypenumbers": "strict",
                    "coloraxis": {
                      "colorbar": {
                        "outlinewidth": 0,
                        "ticks": ""
                      }
                    },
                    "colorscale": {
                      "diverging": [
                        [
                          0,
                          "#8e0152"
                        ],
                        [
                          0.1,
                          "#c51b7d"
                        ],
                        [
                          0.2,
                          "#de77ae"
                        ],
                        [
                          0.3,
                          "#f1b6da"
                        ],
                        [
                          0.4,
                          "#fde0ef"
                        ],
                        [
                          0.5,
                          "#f7f7f7"
                        ],
                        [
                          0.6,
                          "#e6f5d0"
                        ],
                        [
                          0.7,
                          "#b8e186"
                        ],
                        [
                          0.8,
                          "#7fbc41"
                        ],
                        [
                          0.9,
                          "#4d9221"
                        ],
                        [
                          1,
                          "#276419"
                        ]
                      ],
                      "sequential": [
                        [
                          0,
                          "#0d0887"
                        ],
                        [
                          0.1111111111111111,
                          "#46039f"
                        ],
                        [
                          0.2222222222222222,
                          "#7201a8"
                        ],
                        [
                          0.3333333333333333,
                          "#9c179e"
                        ],
                        [
                          0.4444444444444444,
                          "#bd3786"
                        ],
                        [
                          0.5555555555555556,
                          "#d8576b"
                        ],
                        [
                          0.6666666666666666,
                          "#ed7953"
                        ],
                        [
                          0.7777777777777778,
                          "#fb9f3a"
                        ],
                        [
                          0.8888888888888888,
                          "#fdca26"
                        ],
                        [
                          1,
                          "#f0f921"
                        ]
                      ],
                      "sequentialminus": [
                        [
                          0,
                          "#0d0887"
                        ],
                        [
                          0.1111111111111111,
                          "#46039f"
                        ],
                        [
                          0.2222222222222222,
                          "#7201a8"
                        ],
                        [
                          0.3333333333333333,
                          "#9c179e"
                        ],
                        [
                          0.4444444444444444,
                          "#bd3786"
                        ],
                        [
                          0.5555555555555556,
                          "#d8576b"
                        ],
                        [
                          0.6666666666666666,
                          "#ed7953"
                        ],
                        [
                          0.7777777777777778,
                          "#fb9f3a"
                        ],
                        [
                          0.8888888888888888,
                          "#fdca26"
                        ],
                        [
                          1,
                          "#f0f921"
                        ]
                      ]
                    },
                    "colorway": [
                      "#636efa",
                      "#EF553B",
                      "#00cc96",
                      "#ab63fa",
                      "#FFA15A",
                      "#19d3f3",
                      "#FF6692",
                      "#B6E880",
                      "#FF97FF",
                      "#FECB52"
                    ],
                    "font": {
                      "color": "#2a3f5f"
                    },
                    "geo": {
                      "bgcolor": "white",
                      "lakecolor": "white",
                      "landcolor": "#E5ECF6",
                      "showlakes": true,
                      "showland": true,
                      "subunitcolor": "white"
                    },
                    "hoverlabel": {
                      "align": "left"
                    },
                    "hovermode": "closest",
                    "mapbox": {
                      "style": "light"
                    },
                    "paper_bgcolor": "white",
                    "plot_bgcolor": "#E5ECF6",
                    "polar": {
                      "angularaxis": {
                        "gridcolor": "white",
                        "linecolor": "white",
                        "ticks": ""
                      },
                      "bgcolor": "#E5ECF6",
                      "radialaxis": {
                        "gridcolor": "white",
                        "linecolor": "white",
                        "ticks": ""
                      }
                    },
                    "scene": {
                      "xaxis": {
                        "backgroundcolor": "#E5ECF6",
                        "gridcolor": "white",
                        "gridwidth": 2,
                        "linecolor": "white",
                        "showbackground": true,
                        "ticks": "",
                        "zerolinecolor": "white"
                      },
                      "yaxis": {
                        "backgroundcolor": "#E5ECF6",
                        "gridcolor": "white",
                        "gridwidth": 2,
                        "linecolor": "white",
                        "showbackground": true,
                        "ticks": "",
                        "zerolinecolor": "white"
                      },
                      "zaxis": {
                        "backgroundcolor": "#E5ECF6",
                        "gridcolor": "white",
                        "gridwidth": 2,
                        "linecolor": "white",
                        "showbackground": true,
                        "ticks": "",
                        "zerolinecolor": "white"
                      }
                    },
                    "shapedefaults": {
                      "line": {
                        "color": "#2a3f5f"
                      }
                    },
                    "ternary": {
                      "aaxis": {
                        "gridcolor": "white",
                        "linecolor": "white",
                        "ticks": ""
                      },
                      "baxis": {
                        "gridcolor": "white",
                        "linecolor": "white",
                        "ticks": ""
                      },
                      "bgcolor": "#E5ECF6",
                      "caxis": {
                        "gridcolor": "white",
                        "linecolor": "white",
                        "ticks": ""
                      }
                    },
                    "title": {
                      "x": 0.05
                    },
                    "xaxis": {
                      "automargin": true,
                      "gridcolor": "white",
                      "linecolor": "white",
                      "ticks": "",
                      "title": {
                        "standoff": 15
                      },
                      "zerolinecolor": "white",
                      "zerolinewidth": 2
                    },
                    "yaxis": {
                      "automargin": true,
                      "gridcolor": "white",
                      "linecolor": "white",
                      "ticks": "",
                      "title": {
                        "standoff": 15
                      },
                      "zerolinecolor": "white",
                      "zerolinewidth": 2
                    }
                  }
                },
                "title": {
                  "font": {
                    "size": 16
                  },
                  "text": "Interactive Einstein Network - Complete View"
                },
                "xaxis": {
                  "showgrid": false,
                  "showticklabels": false,
                  "zeroline": false
                },
                "yaxis": {
                  "showgrid": false,
                  "showticklabels": false,
                  "zeroline": false
                }
              }
            }
          },
          "metadata": {},
          "output_type": "display_data"
        }
      ],
      "source": [
        "# Create enhanced interactive visualizations\n",
        "print(\"🎨 Creating enhanced interactive visualizations...\")\n",
        "\n",
        "# 1. Community Structure Visualization\n",
        "if communities:\n",
        "    print(\"📊 Creating community structure visualization...\")\n",
        "    community_fig = create_interactive_plot(\n",
        "        graph,\n",
        "        title=\"Community Structure - Einstein's Network\",\n",
        "        node_size_multiplier=25,\n",
        "        edge_width_multiplier=2\n",
        "    )\n",
        "    \n",
        "    # Add community colors\n",
        "    community_colors = px.colors.qualitative.Set3[:len(communities)]\n",
        "    for i, community in enumerate(communities):\n",
        "        for node_id in community:\n",
        "            if node_id in community_fig.data[1].marker.color:\n",
        "                # Update node color for community\n",
        "                pass\n",
        "    \n",
        "    community_file = plots_dir / \"community_structure.html\"\n",
        "    community_fig.write_html(str(community_file))\n",
        "    print(f\"✅ Generated community plot: {community_file}\")\n",
        "    \n",
        "    # Display community visualization\n",
        "    try:\n",
        "        community_fig.show()\n",
        "    except ValueError as e:\n",
        "        print(f\"⚠️  Display issue: {e}\")\n",
        "        print(f\"📁 Community plot saved: {community_file}\")\n",
        "\n",
        "# 2. Centrality Analysis Visualization\n",
        "print(\"📊 Creating centrality analysis visualization...\")\n",
        "centrality_fig = create_interactive_plot(\n",
        "    graph,\n",
        "    title=\"Centrality Analysis - Einstein's Network\",\n",
        "    node_size_multiplier=30,\n",
        "    edge_width_multiplier=1.5\n",
        ")\n",
        "\n",
        "centrality_file = plots_dir / \"centrality_analysis.html\"\n",
        "centrality_fig.write_html(str(centrality_file))\n",
        "print(f\"✅ Generated centrality plot: {centrality_file}\")\n",
        "\n",
        "# Display centrality visualization\n",
        "try:\n",
        "    centrality_fig.show()\n",
        "except ValueError as e:\n",
        "    print(f\"⚠️  Display issue: {e}\")\n",
        "    print(f\"📁 Centrality plot saved: {centrality_file}\")\n",
        "\n",
        "# 3. Main Interactive Network\n",
        "print(\"📊 Creating main interactive network...\")\n",
        "main_fig = create_interactive_plot(\n",
        "    graph,\n",
        "    title=\"Interactive Einstein Network - Complete View\",\n",
        "    node_size_multiplier=20,\n",
        "    edge_width_multiplier=2\n",
        ")\n",
        "\n",
        "main_file = plots_dir / \"interactive_network.html\"\n",
        "main_fig.write_html(str(main_file))\n",
        "print(f\"✅ Generated main interactive plot: {main_file}\")\n",
        "\n",
        "# Display main visualization\n",
        "try:\n",
        "    main_fig.show()\n",
        "except ValueError as e:\n",
        "    print(f\"⚠️  Display issue: {e}\")\n",
        "    print(f\"📁 Main plot saved: {main_file}\")\n"
      ]
    },
    {
      "cell_type": "markdown",
      "metadata": {},
      "source": [
        "## Step 9: Advanced Interactive Features\n",
        "\n",
        "Create advanced interactive visualizations with filtering, enhanced hover information, and dynamic layouts.\n"
      ]
    },
    {
      "cell_type": "code",
      "execution_count": 11,
      "metadata": {},
      "outputs": [
        {
          "name": "stdout",
          "output_type": "stream",
          "text": [
            "🎨 Creating advanced interactive visualizations...\n",
            "✅ Generated enhanced interactive plot: notebook_output/plots/enhanced_interactive_network.html\n"
          ]
        },
        {
          "data": {
            "application/vnd.plotly.v1+json": {
              "config": {
                "plotlyServerURL": "https://plot.ly"
              },
              "data": [
                {
                  "hoverinfo": "none",
                  "line": {
                    "color": "#888",
                    "width": 2
                  },
                  "mode": "lines",
                  "name": "Relationships",
                  "type": "scatter",
                  "x": [],
                  "y": []
                },
                {
                  "hoverinfo": "text",
                  "hovertext": [
                    "\n        <b>Albert Einstein</b><br>\n        ID: b050cb3e-1472-4384-b4d4-63d32cf3b1b2<br>\n        Class: E21<br>\n        Degree: 0<br>\n        Type: ['E21']\n        ",
                    "\n        <b>relativity and</b><br>\n        ID: 36a43509-23b2-4726-b87b-7243b6ca6320<br>\n        Class: E21<br>\n        Degree: 0<br>\n        Type: ['E21']\n        ",
                    "\n        <b>Ulm</b><br>\n        ID: dde278ca-547c-4445-b174-6bdaca20256c<br>\n        Class: E53<br>\n        Degree: 0<br>\n        Type: ['E53']\n        ",
                    "\n        <b>Princeton</b><br>\n        ID: 43e6b4aa-82b6-49ca-a9d4-ddf9df265592<br>\n        Class: E53<br>\n        Degree: 0<br>\n        Type: ['E53']\n        ",
                    "\n        <b>Princeton</b><br>\n        ID: 7126d8d5-4392-4a2e-a589-dbf29e21eaf6<br>\n        Class: E53<br>\n        Degree: 0<br>\n        Type: ['E53']\n        ",
                    "\n        <b>Germany</b><br>\n        ID: b36c9a8f-a514-4c98-9285-1872e2302b4d<br>\n        Class: E53<br>\n        Degree: 0<br>\n        Type: ['E53']\n        ",
                    "\n        <b>theory of relativity and won the Nobel Prize in Physics in </b><br>\n        ID: fe312c8a-40c4-4886-a309-cc2329a4ab10<br>\n        Class: E22<br>\n        Degree: 0<br>\n        Type: ['E22']\n        ",
                    "\n        <b>Nobel Prize in Physics in </b><br>\n        ID: dc1f41a7-fb29-4233-99be-21c10e718f04<br>\n        Class: E22<br>\n        Degree: 0<br>\n        Type: ['E22']\n        ",
                    "\n        <b>theory of relativity</b><br>\n        ID: a7c25fc4-8b1f-4dc4-9338-045b1846a4d4<br>\n        Class: E22<br>\n        Degree: 0<br>\n        Type: ['E22']\n        ",
                    "\n        <b>March 14, 1879</b><br>\n        ID: cf542bf0-10de-4b3f-8f69-60d51d8dbc1b<br>\n        Class: E52<br>\n        Degree: 0<br>\n        Type: ['E52']\n        ",
                    "\n        <b>April 18, 1955</b><br>\n        ID: 71db5e31-8680-42be-84ba-33a32a506c30<br>\n        Class: E52<br>\n        Degree: 0<br>\n        Type: ['E52']\n        ",
                    "\n        <b>1879</b><br>\n        ID: 16a6a64c-c417-4c20-a210-6e471c6bc881<br>\n        Class: E52<br>\n        Degree: 0<br>\n        Type: ['E52']\n        ",
                    "\n        <b>1921</b><br>\n        ID: bd7cca69-3e56-4c54-97a9-27a32b88d35e<br>\n        Class: E52<br>\n        Degree: 0<br>\n        Type: ['E52']\n        ",
                    "\n        <b>1955</b><br>\n        ID: 9a45f605-7191-4cc1-b087-1745a10b5849<br>\n        Class: E52<br>\n        Degree: 0<br>\n        Type: ['E52']\n        "
                  ],
                  "marker": {
                    "color": [
                      "#FF6B6B",
                      "#FF6B6B",
                      "#45B7D1",
                      "#45B7D1",
                      "#45B7D1",
                      "#45B7D1",
                      "#96CEB4",
                      "#96CEB4",
                      "#96CEB4",
                      "#FFEAA7",
                      "#FFEAA7",
                      "#FFEAA7",
                      "#FFEAA7",
                      "#FFEAA7"
                    ],
                    "line": {
                      "color": "white",
                      "width": 2
                    },
                    "opacity": 0.8,
                    "size": [
                      15,
                      15,
                      15,
                      15,
                      15,
                      15,
                      15,
                      15,
                      15,
                      15,
                      15,
                      15,
                      15,
                      15
                    ]
                  },
                  "mode": "markers+text",
                  "name": "Entities",
                  "text": [
                    "Albert Einstein",
                    "relativity and",
                    "Ulm",
                    "Princeton",
                    "Princeton",
                    "Germany",
                    "theory of relativity and won the Nobel Prize in Physics in ",
                    "Nobel Prize in Physics in ",
                    "theory of relativity",
                    "March 14, 1879",
                    "April 18, 1955",
                    "1879",
                    "1921",
                    "1955"
                  ],
                  "textfont": {
                    "color": "white",
                    "size": 10
                  },
                  "textposition": "middle center",
                  "type": "scatter",
                  "x": [
                    0.9535029029115184,
                    0.3966482143569948,
                    -0.8162092689025227,
                    -0.0699715771447875,
                    -0.5240703522899693,
                    1,
                    -0.8514968366293385,
                    -0.364949236359921,
                    0.8607763854320842,
                    0.7369578207736932,
                    0.455765965775162,
                    0.06700409304600774,
                    -0.8901092259581757,
                    -0.9538488850107455
                  ],
                  "y": [
                    0.1714499356673828,
                    -0.9515025005968374,
                    0.28881499258710397,
                    -0.9741116679114531,
                    -0.853307651785728,
                    -0.2747836758278405,
                    0.6167435252947784,
                    0.8576533707526456,
                    0.6245325235440787,
                    -0.6487875481835891,
                    0.7738959758890116,
                    0.995564253784575,
                    -0.5278558383542008,
                    -0.09830569485992734
                  ]
                }
              ],
              "layout": {
                "annotations": [
                  {
                    "font": {
                      "color": "#7F8C8D",
                      "size": 12
                    },
                    "showarrow": false,
                    "text": "Interactive CRM Network - Hover over nodes for details",
                    "x": 0.005,
                    "xanchor": "left",
                    "xref": "paper",
                    "y": -0.002,
                    "yanchor": "bottom",
                    "yref": "paper"
                  }
                ],
                "font": {
                  "family": "Arial, sans-serif"
                },
                "hovermode": "closest",
                "margin": {
                  "b": 20,
                  "l": 5,
                  "r": 5,
                  "t": 60
                },
                "paper_bgcolor": "white",
                "plot_bgcolor": "white",
                "showlegend": true,
                "template": {
                  "data": {
                    "bar": [
                      {
                        "error_x": {
                          "color": "#2a3f5f"
                        },
                        "error_y": {
                          "color": "#2a3f5f"
                        },
                        "marker": {
                          "line": {
                            "color": "#E5ECF6",
                            "width": 0.5
                          },
                          "pattern": {
                            "fillmode": "overlay",
                            "size": 10,
                            "solidity": 0.2
                          }
                        },
                        "type": "bar"
                      }
                    ],
                    "barpolar": [
                      {
                        "marker": {
                          "line": {
                            "color": "#E5ECF6",
                            "width": 0.5
                          },
                          "pattern": {
                            "fillmode": "overlay",
                            "size": 10,
                            "solidity": 0.2
                          }
                        },
                        "type": "barpolar"
                      }
                    ],
                    "carpet": [
                      {
                        "aaxis": {
                          "endlinecolor": "#2a3f5f",
                          "gridcolor": "white",
                          "linecolor": "white",
                          "minorgridcolor": "white",
                          "startlinecolor": "#2a3f5f"
                        },
                        "baxis": {
                          "endlinecolor": "#2a3f5f",
                          "gridcolor": "white",
                          "linecolor": "white",
                          "minorgridcolor": "white",
                          "startlinecolor": "#2a3f5f"
                        },
                        "type": "carpet"
                      }
                    ],
                    "choropleth": [
                      {
                        "colorbar": {
                          "outlinewidth": 0,
                          "ticks": ""
                        },
                        "type": "choropleth"
                      }
                    ],
                    "contour": [
                      {
                        "colorbar": {
                          "outlinewidth": 0,
                          "ticks": ""
                        },
                        "colorscale": [
                          [
                            0,
                            "#0d0887"
                          ],
                          [
                            0.1111111111111111,
                            "#46039f"
                          ],
                          [
                            0.2222222222222222,
                            "#7201a8"
                          ],
                          [
                            0.3333333333333333,
                            "#9c179e"
                          ],
                          [
                            0.4444444444444444,
                            "#bd3786"
                          ],
                          [
                            0.5555555555555556,
                            "#d8576b"
                          ],
                          [
                            0.6666666666666666,
                            "#ed7953"
                          ],
                          [
                            0.7777777777777778,
                            "#fb9f3a"
                          ],
                          [
                            0.8888888888888888,
                            "#fdca26"
                          ],
                          [
                            1,
                            "#f0f921"
                          ]
                        ],
                        "type": "contour"
                      }
                    ],
                    "contourcarpet": [
                      {
                        "colorbar": {
                          "outlinewidth": 0,
                          "ticks": ""
                        },
                        "type": "contourcarpet"
                      }
                    ],
                    "heatmap": [
                      {
                        "colorbar": {
                          "outlinewidth": 0,
                          "ticks": ""
                        },
                        "colorscale": [
                          [
                            0,
                            "#0d0887"
                          ],
                          [
                            0.1111111111111111,
                            "#46039f"
                          ],
                          [
                            0.2222222222222222,
                            "#7201a8"
                          ],
                          [
                            0.3333333333333333,
                            "#9c179e"
                          ],
                          [
                            0.4444444444444444,
                            "#bd3786"
                          ],
                          [
                            0.5555555555555556,
                            "#d8576b"
                          ],
                          [
                            0.6666666666666666,
                            "#ed7953"
                          ],
                          [
                            0.7777777777777778,
                            "#fb9f3a"
                          ],
                          [
                            0.8888888888888888,
                            "#fdca26"
                          ],
                          [
                            1,
                            "#f0f921"
                          ]
                        ],
                        "type": "heatmap"
                      }
                    ],
                    "histogram": [
                      {
                        "marker": {
                          "pattern": {
                            "fillmode": "overlay",
                            "size": 10,
                            "solidity": 0.2
                          }
                        },
                        "type": "histogram"
                      }
                    ],
                    "histogram2d": [
                      {
                        "colorbar": {
                          "outlinewidth": 0,
                          "ticks": ""
                        },
                        "colorscale": [
                          [
                            0,
                            "#0d0887"
                          ],
                          [
                            0.1111111111111111,
                            "#46039f"
                          ],
                          [
                            0.2222222222222222,
                            "#7201a8"
                          ],
                          [
                            0.3333333333333333,
                            "#9c179e"
                          ],
                          [
                            0.4444444444444444,
                            "#bd3786"
                          ],
                          [
                            0.5555555555555556,
                            "#d8576b"
                          ],
                          [
                            0.6666666666666666,
                            "#ed7953"
                          ],
                          [
                            0.7777777777777778,
                            "#fb9f3a"
                          ],
                          [
                            0.8888888888888888,
                            "#fdca26"
                          ],
                          [
                            1,
                            "#f0f921"
                          ]
                        ],
                        "type": "histogram2d"
                      }
                    ],
                    "histogram2dcontour": [
                      {
                        "colorbar": {
                          "outlinewidth": 0,
                          "ticks": ""
                        },
                        "colorscale": [
                          [
                            0,
                            "#0d0887"
                          ],
                          [
                            0.1111111111111111,
                            "#46039f"
                          ],
                          [
                            0.2222222222222222,
                            "#7201a8"
                          ],
                          [
                            0.3333333333333333,
                            "#9c179e"
                          ],
                          [
                            0.4444444444444444,
                            "#bd3786"
                          ],
                          [
                            0.5555555555555556,
                            "#d8576b"
                          ],
                          [
                            0.6666666666666666,
                            "#ed7953"
                          ],
                          [
                            0.7777777777777778,
                            "#fb9f3a"
                          ],
                          [
                            0.8888888888888888,
                            "#fdca26"
                          ],
                          [
                            1,
                            "#f0f921"
                          ]
                        ],
                        "type": "histogram2dcontour"
                      }
                    ],
                    "mesh3d": [
                      {
                        "colorbar": {
                          "outlinewidth": 0,
                          "ticks": ""
                        },
                        "type": "mesh3d"
                      }
                    ],
                    "parcoords": [
                      {
                        "line": {
                          "colorbar": {
                            "outlinewidth": 0,
                            "ticks": ""
                          }
                        },
                        "type": "parcoords"
                      }
                    ],
                    "pie": [
                      {
                        "automargin": true,
                        "type": "pie"
                      }
                    ],
                    "scatter": [
                      {
                        "fillpattern": {
                          "fillmode": "overlay",
                          "size": 10,
                          "solidity": 0.2
                        },
                        "type": "scatter"
                      }
                    ],
                    "scatter3d": [
                      {
                        "line": {
                          "colorbar": {
                            "outlinewidth": 0,
                            "ticks": ""
                          }
                        },
                        "marker": {
                          "colorbar": {
                            "outlinewidth": 0,
                            "ticks": ""
                          }
                        },
                        "type": "scatter3d"
                      }
                    ],
                    "scattercarpet": [
                      {
                        "marker": {
                          "colorbar": {
                            "outlinewidth": 0,
                            "ticks": ""
                          }
                        },
                        "type": "scattercarpet"
                      }
                    ],
                    "scattergeo": [
                      {
                        "marker": {
                          "colorbar": {
                            "outlinewidth": 0,
                            "ticks": ""
                          }
                        },
                        "type": "scattergeo"
                      }
                    ],
                    "scattergl": [
                      {
                        "marker": {
                          "colorbar": {
                            "outlinewidth": 0,
                            "ticks": ""
                          }
                        },
                        "type": "scattergl"
                      }
                    ],
                    "scattermap": [
                      {
                        "marker": {
                          "colorbar": {
                            "outlinewidth": 0,
                            "ticks": ""
                          }
                        },
                        "type": "scattermap"
                      }
                    ],
                    "scattermapbox": [
                      {
                        "marker": {
                          "colorbar": {
                            "outlinewidth": 0,
                            "ticks": ""
                          }
                        },
                        "type": "scattermapbox"
                      }
                    ],
                    "scatterpolar": [
                      {
                        "marker": {
                          "colorbar": {
                            "outlinewidth": 0,
                            "ticks": ""
                          }
                        },
                        "type": "scatterpolar"
                      }
                    ],
                    "scatterpolargl": [
                      {
                        "marker": {
                          "colorbar": {
                            "outlinewidth": 0,
                            "ticks": ""
                          }
                        },
                        "type": "scatterpolargl"
                      }
                    ],
                    "scatterternary": [
                      {
                        "marker": {
                          "colorbar": {
                            "outlinewidth": 0,
                            "ticks": ""
                          }
                        },
                        "type": "scatterternary"
                      }
                    ],
                    "surface": [
                      {
                        "colorbar": {
                          "outlinewidth": 0,
                          "ticks": ""
                        },
                        "colorscale": [
                          [
                            0,
                            "#0d0887"
                          ],
                          [
                            0.1111111111111111,
                            "#46039f"
                          ],
                          [
                            0.2222222222222222,
                            "#7201a8"
                          ],
                          [
                            0.3333333333333333,
                            "#9c179e"
                          ],
                          [
                            0.4444444444444444,
                            "#bd3786"
                          ],
                          [
                            0.5555555555555556,
                            "#d8576b"
                          ],
                          [
                            0.6666666666666666,
                            "#ed7953"
                          ],
                          [
                            0.7777777777777778,
                            "#fb9f3a"
                          ],
                          [
                            0.8888888888888888,
                            "#fdca26"
                          ],
                          [
                            1,
                            "#f0f921"
                          ]
                        ],
                        "type": "surface"
                      }
                    ],
                    "table": [
                      {
                        "cells": {
                          "fill": {
                            "color": "#EBF0F8"
                          },
                          "line": {
                            "color": "white"
                          }
                        },
                        "header": {
                          "fill": {
                            "color": "#C8D4E3"
                          },
                          "line": {
                            "color": "white"
                          }
                        },
                        "type": "table"
                      }
                    ]
                  },
                  "layout": {
                    "annotationdefaults": {
                      "arrowcolor": "#2a3f5f",
                      "arrowhead": 0,
                      "arrowwidth": 1
                    },
                    "autotypenumbers": "strict",
                    "coloraxis": {
                      "colorbar": {
                        "outlinewidth": 0,
                        "ticks": ""
                      }
                    },
                    "colorscale": {
                      "diverging": [
                        [
                          0,
                          "#8e0152"
                        ],
                        [
                          0.1,
                          "#c51b7d"
                        ],
                        [
                          0.2,
                          "#de77ae"
                        ],
                        [
                          0.3,
                          "#f1b6da"
                        ],
                        [
                          0.4,
                          "#fde0ef"
                        ],
                        [
                          0.5,
                          "#f7f7f7"
                        ],
                        [
                          0.6,
                          "#e6f5d0"
                        ],
                        [
                          0.7,
                          "#b8e186"
                        ],
                        [
                          0.8,
                          "#7fbc41"
                        ],
                        [
                          0.9,
                          "#4d9221"
                        ],
                        [
                          1,
                          "#276419"
                        ]
                      ],
                      "sequential": [
                        [
                          0,
                          "#0d0887"
                        ],
                        [
                          0.1111111111111111,
                          "#46039f"
                        ],
                        [
                          0.2222222222222222,
                          "#7201a8"
                        ],
                        [
                          0.3333333333333333,
                          "#9c179e"
                        ],
                        [
                          0.4444444444444444,
                          "#bd3786"
                        ],
                        [
                          0.5555555555555556,
                          "#d8576b"
                        ],
                        [
                          0.6666666666666666,
                          "#ed7953"
                        ],
                        [
                          0.7777777777777778,
                          "#fb9f3a"
                        ],
                        [
                          0.8888888888888888,
                          "#fdca26"
                        ],
                        [
                          1,
                          "#f0f921"
                        ]
                      ],
                      "sequentialminus": [
                        [
                          0,
                          "#0d0887"
                        ],
                        [
                          0.1111111111111111,
                          "#46039f"
                        ],
                        [
                          0.2222222222222222,
                          "#7201a8"
                        ],
                        [
                          0.3333333333333333,
                          "#9c179e"
                        ],
                        [
                          0.4444444444444444,
                          "#bd3786"
                        ],
                        [
                          0.5555555555555556,
                          "#d8576b"
                        ],
                        [
                          0.6666666666666666,
                          "#ed7953"
                        ],
                        [
                          0.7777777777777778,
                          "#fb9f3a"
                        ],
                        [
                          0.8888888888888888,
                          "#fdca26"
                        ],
                        [
                          1,
                          "#f0f921"
                        ]
                      ]
                    },
                    "colorway": [
                      "#636efa",
                      "#EF553B",
                      "#00cc96",
                      "#ab63fa",
                      "#FFA15A",
                      "#19d3f3",
                      "#FF6692",
                      "#B6E880",
                      "#FF97FF",
                      "#FECB52"
                    ],
                    "font": {
                      "color": "#2a3f5f"
                    },
                    "geo": {
                      "bgcolor": "white",
                      "lakecolor": "white",
                      "landcolor": "#E5ECF6",
                      "showlakes": true,
                      "showland": true,
                      "subunitcolor": "white"
                    },
                    "hoverlabel": {
                      "align": "left"
                    },
                    "hovermode": "closest",
                    "mapbox": {
                      "style": "light"
                    },
                    "paper_bgcolor": "white",
                    "plot_bgcolor": "#E5ECF6",
                    "polar": {
                      "angularaxis": {
                        "gridcolor": "white",
                        "linecolor": "white",
                        "ticks": ""
                      },
                      "bgcolor": "#E5ECF6",
                      "radialaxis": {
                        "gridcolor": "white",
                        "linecolor": "white",
                        "ticks": ""
                      }
                    },
                    "scene": {
                      "xaxis": {
                        "backgroundcolor": "#E5ECF6",
                        "gridcolor": "white",
                        "gridwidth": 2,
                        "linecolor": "white",
                        "showbackground": true,
                        "ticks": "",
                        "zerolinecolor": "white"
                      },
                      "yaxis": {
                        "backgroundcolor": "#E5ECF6",
                        "gridcolor": "white",
                        "gridwidth": 2,
                        "linecolor": "white",
                        "showbackground": true,
                        "ticks": "",
                        "zerolinecolor": "white"
                      },
                      "zaxis": {
                        "backgroundcolor": "#E5ECF6",
                        "gridcolor": "white",
                        "gridwidth": 2,
                        "linecolor": "white",
                        "showbackground": true,
                        "ticks": "",
                        "zerolinecolor": "white"
                      }
                    },
                    "shapedefaults": {
                      "line": {
                        "color": "#2a3f5f"
                      }
                    },
                    "ternary": {
                      "aaxis": {
                        "gridcolor": "white",
                        "linecolor": "white",
                        "ticks": ""
                      },
                      "baxis": {
                        "gridcolor": "white",
                        "linecolor": "white",
                        "ticks": ""
                      },
                      "bgcolor": "#E5ECF6",
                      "caxis": {
                        "gridcolor": "white",
                        "linecolor": "white",
                        "ticks": ""
                      }
                    },
                    "title": {
                      "x": 0.05
                    },
                    "xaxis": {
                      "automargin": true,
                      "gridcolor": "white",
                      "linecolor": "white",
                      "ticks": "",
                      "title": {
                        "standoff": 15
                      },
                      "zerolinecolor": "white",
                      "zerolinewidth": 2
                    },
                    "yaxis": {
                      "automargin": true,
                      "gridcolor": "white",
                      "linecolor": "white",
                      "ticks": "",
                      "title": {
                        "standoff": 15
                      },
                      "zerolinecolor": "white",
                      "zerolinewidth": 2
                    }
                  }
                },
                "title": {
                  "font": {
                    "color": "#2C3E50",
                    "size": 20
                  },
                  "text": "Enhanced Interactive Einstein Network",
                  "x": 0.5
                },
                "xaxis": {
                  "showgrid": false,
                  "showticklabels": false,
                  "zeroline": false
                },
                "yaxis": {
                  "showgrid": false,
                  "showticklabels": false,
                  "zeroline": false
                }
              }
            }
          },
          "metadata": {},
          "output_type": "display_data"
        },
        {
          "name": "stdout",
          "output_type": "stream",
          "text": [
            "\n",
            "🎯 Enhanced Features:\n",
            "  - Better hover information with entity details\n",
            "  - Improved color scheme for entity types\n",
            "  - Dynamic node sizing based on degree\n",
            "  - Enhanced styling and layout\n",
            "  - Interactive zoom and pan capabilities\n"
          ]
        }
      ],
      "source": [
        "# Create advanced interactive visualizations with enhanced features\n",
        "print(\"🎨 Creating advanced interactive visualizations...\")\n",
        "\n",
        "# Enhanced interactive plot with better hover information\n",
        "def create_enhanced_interactive_plot(graph, title, node_size_multiplier=20, edge_width_multiplier=2):\n",
        "    \"\"\"Create an enhanced interactive plot with better hover information and styling.\"\"\"\n",
        "    \n",
        "    # Get layout positions\n",
        "    pos = nx.spring_layout(graph, k=3, iterations=50)\n",
        "    \n",
        "    # Prepare edge traces with enhanced styling\n",
        "    edge_x = []\n",
        "    edge_y = []\n",
        "    edge_hovertext = []\n",
        "    \n",
        "    for edge in graph.edges(data=True):\n",
        "        x0, y0 = pos[edge[0]]\n",
        "        x1, y1 = pos[edge[1]]\n",
        "        edge_x.extend([x0, x1, None])\n",
        "        edge_y.extend([y0, y1, None])\n",
        "        \n",
        "        # Enhanced edge hover information\n",
        "        edge_data = edge[2]\n",
        "        property_code = edge_data.get('property_code', 'Unknown')\n",
        "        edge_hovertext.append(f\"Relationship: {property_code}<br>From: {edge[0]}<br>To: {edge[1]}\")\n",
        "    \n",
        "    edge_trace = go.Scatter(\n",
        "        x=edge_x, y=edge_y,\n",
        "        line=dict(width=edge_width_multiplier, color=\"#888\"),\n",
        "        hoverinfo=\"none\",\n",
        "        mode=\"lines\",\n",
        "        name=\"Relationships\"\n",
        "    )\n",
        "    \n",
        "    # Prepare node traces with enhanced information\n",
        "    node_x = []\n",
        "    node_y = []\n",
        "    node_text = []\n",
        "    node_hovertext = []\n",
        "    node_colors = []\n",
        "    node_sizes = []\n",
        "    node_labels = []\n",
        "    \n",
        "    for node in graph.nodes():\n",
        "        x, y = pos[node]\n",
        "        node_x.append(x)\n",
        "        node_y.append(y)\n",
        "        \n",
        "        node_data = graph.nodes[node]\n",
        "        label = node_data.get('label', node)\n",
        "        class_code = node_data.get('class_code', 'Unknown')\n",
        "        degree = graph.degree(node)\n",
        "        \n",
        "        node_text.append(label)\n",
        "        node_labels.append(label)\n",
        "        \n",
        "        # Enhanced hover information\n",
        "        hover_info = f\"\"\"\n",
        "        <b>{label}</b><br>\n",
        "        ID: {node}<br>\n",
        "        Class: {class_code}<br>\n",
        "        Degree: {degree}<br>\n",
        "        Type: {node_data.get('type', 'Unknown')}\n",
        "        \"\"\"\n",
        "        node_hovertext.append(hover_info)\n",
        "        \n",
        "        # Color by class code with better color scheme\n",
        "        color_map = {\n",
        "            \"E21\": \"#FF6B6B\",      # Person - Red\n",
        "            \"E5\": \"#4ECDC4\",       # Event - Teal\n",
        "            \"E53\": \"#45B7D1\",      # Place - Blue\n",
        "            \"E22\": \"#96CEB4\",      # Object - Green\n",
        "            \"E52\": \"#FFEAA7\",      # Time - Yellow\n",
        "            \"E12\": \"#DDA0DD\",      # Production - Purple\n",
        "            \"E39\": \"#F39C12\",      # Actor - Orange\n",
        "        }\n",
        "        node_colors.append(color_map.get(class_code, \"#95A5A6\"))\n",
        "        \n",
        "        # Size by degree with better scaling\n",
        "        node_sizes.append(max(15, degree * node_size_multiplier + 10))\n",
        "    \n",
        "    node_trace = go.Scatter(\n",
        "        x=node_x, y=node_y,\n",
        "        mode=\"markers+text\",\n",
        "        hoverinfo=\"text\",\n",
        "        hovertext=node_hovertext,\n",
        "        text=node_text,\n",
        "        textposition=\"middle center\",\n",
        "        textfont=dict(size=10, color=\"white\"),\n",
        "        marker=dict(\n",
        "            size=node_sizes,\n",
        "            color=node_colors,\n",
        "            line=dict(width=2, color=\"white\"),\n",
        "            opacity=0.8\n",
        "        ),\n",
        "        name=\"Entities\"\n",
        "    )\n",
        "    \n",
        "    # Create figure with enhanced layout\n",
        "    fig = go.Figure(\n",
        "        data=[edge_trace, node_trace],\n",
        "        layout=go.Layout(\n",
        "            title=dict(\n",
        "                text=title,\n",
        "                font=dict(size=20, color=\"#2C3E50\"),\n",
        "                x=0.5\n",
        "            ),\n",
        "            showlegend=True,\n",
        "            hovermode=\"closest\",\n",
        "            margin=dict(b=20, l=5, r=5, t=60),\n",
        "            annotations=[\n",
        "                dict(\n",
        "                    text=\"Interactive CRM Network - Hover over nodes for details\",\n",
        "                    showarrow=False,\n",
        "                    xref=\"paper\", yref=\"paper\",\n",
        "                    x=0.005, y=-0.002,\n",
        "                    xanchor=\"left\", yanchor=\"bottom\",\n",
        "                    font=dict(color=\"#7F8C8D\", size=12)\n",
        "                )\n",
        "            ],\n",
        "            xaxis=dict(showgrid=False, zeroline=False, showticklabels=False),\n",
        "            yaxis=dict(showgrid=False, zeroline=False, showticklabels=False),\n",
        "            plot_bgcolor=\"white\",\n",
        "            paper_bgcolor=\"white\",\n",
        "            font=dict(family=\"Arial, sans-serif\")\n",
        "        )\n",
        "    )\n",
        "    \n",
        "    return fig\n",
        "\n",
        "# Create enhanced interactive plot\n",
        "enhanced_fig = create_enhanced_interactive_plot(\n",
        "    graph,\n",
        "    title=\"Enhanced Interactive Einstein Network\",\n",
        "    node_size_multiplier=25,\n",
        "    edge_width_multiplier=2\n",
        ")\n",
        "\n",
        "# Save enhanced plot\n",
        "enhanced_file = plots_dir / \"enhanced_interactive_network.html\"\n",
        "enhanced_fig.write_html(str(enhanced_file))\n",
        "print(f\"✅ Generated enhanced interactive plot: {enhanced_file}\")\n",
        "\n",
        "# Display enhanced visualization\n",
        "try:\n",
        "    enhanced_fig.show()\n",
        "except ValueError as e:\n",
        "    print(f\"⚠️  Display issue: {e}\")\n",
        "    print(f\"📁 Enhanced plot saved: {enhanced_file}\")\n",
        "    print(\"💡 Tip: Open the HTML file in your browser to view the interactive plot\")\n",
        "\n",
        "print(\"\\n🎯 Enhanced Features:\")\n",
        "print(\"  - Better hover information with entity details\")\n",
        "print(\"  - Improved color scheme for entity types\")\n",
        "print(\"  - Dynamic node sizing based on degree\")\n",
        "print(\"  - Enhanced styling and layout\")\n",
        "print(\"  - Interactive zoom and pan capabilities\")\n"
      ]
    },
    {
      "cell_type": "markdown",
      "metadata": {},
      "source": [
        "## 📋 How to View Your Interactive Plots\n",
        "\n",
        "If you encountered display issues in the notebook, here are several ways to view your interactive Plotly visualizations:\n",
        "\n",
        "### Method 1: Open HTML Files in Browser\n",
        "All interactive plots are saved as HTML files in the `plots/` directory. You can:\n",
        "1. Navigate to the `notebook_output/plots/` folder\n",
        "2. Double-click any `.html` file to open it in your browser\n",
        "3. Enjoy the full interactive experience with zoom, pan, and hover features\n",
        "\n",
        "### Method 2: Use Alternative Display Methods\n",
        "```python\n",
        "# Alternative 1: Display with specific renderer\n",
        "import plotly.io as pio\n",
        "pio.renderers.default = \"browser\"  # Opens in browser\n",
        "fig.show()\n",
        "\n",
        "# Alternative 2: Display as static image\n",
        "fig.show(\"png\")  # Saves as PNG\n",
        "\n",
        "# Alternative 3: Display in iframe\n",
        "from IPython.display import HTML\n",
        "HTML(fig.to_html(include_plotlyjs='cdn'))\n",
        "```\n",
        "\n",
        "### Method 3: Fix Jupyter Environment\n",
        "To fix the display issue permanently:\n",
        "1. Restart your Jupyter server\n",
        "2. Change kernel to \"Collie (uv)\" in your notebook\n",
        "3. Re-run the cells\n",
        "\n",
        "### Generated Files\n",
        "- `network_overview.html` - Main interactive network\n",
        "- `community_structure.html` - Community analysis\n",
        "- `centrality_analysis.html` - Centrality analysis  \n",
        "- `interactive_network.html` - Complete network view\n",
        "- `enhanced_interactive_network.html` - Enhanced version with rich hover info\n"
      ]
    },
    {
      "cell_type": "code",
      "execution_count": 12,
      "metadata": {},
      "outputs": [
        {
          "name": "stdout",
          "output_type": "stream",
          "text": [
            "🔧 Alternative Display Methods\n",
            "\n",
            "1. Browser Display:\n",
            "✅ Browser renderer set - plots will open in browser\n",
            "\n",
            "2. Static Image Display:\n",
            "❌ Static image display failed: \n",
            "Image export using the \"kaleido\" engine requires the Kaleido package,\n",
            "which can be installed using pip:\n",
            "\n",
            "    $ pip install --upgrade kaleido\n",
            "\n",
            "\n",
            "3. HTML Display:\n",
            "✅ HTML display ready - you can use HTML(html_content) to display\n",
            "\n",
            "💡 Recommendation: Use the HTML files in your browser for the best interactive experience!\n"
          ]
        }
      ],
      "source": [
        "# Alternative display methods for Plotly visualizations\n",
        "print(\"🔧 Alternative Display Methods\")\n",
        "\n",
        "# Method 1: Display with browser renderer\n",
        "print(\"\\n1. Browser Display:\")\n",
        "try:\n",
        "    import plotly.io as pio\n",
        "    pio.renderers.default = \"browser\"\n",
        "    print(\"✅ Browser renderer set - plots will open in browser\")\n",
        "except Exception as e:\n",
        "    print(f\"❌ Browser renderer failed: {e}\")\n",
        "\n",
        "# Method 2: Display as static image\n",
        "print(\"\\n2. Static Image Display:\")\n",
        "try:\n",
        "    # Create a simple test plot\n",
        "    import plotly.graph_objects as go\n",
        "    test_fig = go.Figure(data=go.Scatter(x=[1, 2, 3], y=[4, 5, 6]))\n",
        "    \n",
        "    # Save as PNG\n",
        "    test_fig.write_image(plots_dir / \"test_plot.png\")\n",
        "    print(\"✅ Static image display works - test plot saved as PNG\")\n",
        "except Exception as e:\n",
        "    print(f\"❌ Static image display failed: {e}\")\n",
        "\n",
        "# Method 3: HTML display with IPython\n",
        "print(\"\\n3. HTML Display:\")\n",
        "try:\n",
        "    from IPython.display import HTML\n",
        "    html_content = enhanced_fig.to_html(include_plotlyjs='cdn')\n",
        "    print(\"✅ HTML display ready - you can use HTML(html_content) to display\")\n",
        "except Exception as e:\n",
        "    print(f\"❌ HTML display failed: {e}\")\n",
        "\n",
        "print(\"\\n💡 Recommendation: Use the HTML files in your browser for the best interactive experience!\")\n"
      ]
    },
    {
      "cell_type": "markdown",
      "metadata": {},
      "source": [
        "## Step 10: Export to Cypher\n",
        "\n",
        "Generate Cypher scripts for importing the data into graph databases like Neo4j or Memgraph.\n"
      ]
    },
    {
      "cell_type": "code",
      "execution_count": 13,
      "metadata": {},
      "outputs": [
        {
          "name": "stdout",
          "output_type": "stream",
          "text": [
            "🔗 Generating Cypher script...\n",
            "✅ Generated Cypher script: notebook_output/network.cypher\n",
            "\n",
            "📋 Cypher Script Preview:\n",
            "-- Create constraints\n",
            "CREATE CONSTRAINT crm_id IF NOT EXISTS FOR (n:CRM) REQUIRE n.id IS UNIQUE;\n",
            "CREATE CONSTRAINT crm_class_code IF NOT EXISTS FOR (n:CRM) REQUIRE n.class_code IS NOT NULL;\n",
            "\n",
            "-- Create nodes\n",
            "UNWIND $nodes_0 AS n\n",
            "MERGE (x:CRM {id: n.id})\n",
            "SET x.label = coalesce(n.label, x.label)\n",
            "SET x.class_code = n.class_code\n",
            "SET x.notes = coalesce(n.notes, x.notes)\n",
            "SET x.type = coalesce(n.type, x.type);\n",
            "\n"
          ]
        }
      ],
      "source": [
        "# Generate Cypher script\n",
        "print(\"🔗 Generating Cypher script...\")\n",
        "cypher_script = generate_cypher_script(crm_entities)\n",
        "\n",
        "# Save Cypher script\n",
        "cypher_file = output_dir / \"network.cypher\"\n",
        "with open(cypher_file, \"w\") as f:\n",
        "    f.write(cypher_script)\n",
        "\n",
        "print(f\"✅ Generated Cypher script: {cypher_file}\")\n",
        "\n",
        "# Display first part of Cypher script\n",
        "print(\"\\n📋 Cypher Script Preview:\")\n",
        "cypher_lines = cypher_script.split('\\n')\n",
        "for line in cypher_lines[:20]:  # Show first 20 lines\n",
        "    print(line)\n",
        "if len(cypher_lines) > 20:\n",
        "    print(f\"... ({len(cypher_lines) - 20} more lines)\")\n"
      ]
    },
    {
      "cell_type": "markdown",
      "metadata": {},
      "source": [
        "## Step 11: Create Summary Report\n",
        "\n",
        "Generate a comprehensive summary report of the entire workflow.\n"
      ]
    },
    {
      "cell_type": "code",
      "execution_count": 14,
      "metadata": {},
      "outputs": [
        {
          "name": "stdout",
          "output_type": "stream",
          "text": [
            "📋 Creating summary report...\n",
            "✅ Created summary report: notebook_output/workflow_summary.md\n",
            "\n",
            "📊 Workflow Summary:\n",
            "  Input text length: 420 characters\n",
            "  Entities extracted: 14\n",
            "  Relationships extracted: 0\n",
            "  Network nodes: 14\n",
            "  Network edges: 0\n",
            "  Communities found: 0\n",
            "  Output directory: notebook_output\n"
          ]
        }
      ],
      "source": [
        "# Create summary report\n",
        "print(\"📋 Creating summary report...\")\n",
        "\n",
        "summary_file = output_dir / \"workflow_summary.md\"\n",
        "with open(summary_file, \"w\") as f:\n",
        "    f.write(\"# COLLIE Workflow Summary\\n\\n\")\n",
        "    f.write(f\"## Input Text\\n\\n{sample_text[:200]}...\\n\\n\")\n",
        "    f.write(f\"## Extraction Results\\n\\n\")\n",
        "    f.write(f\"- Entities extracted: {len(extraction_result.entities)}\\n\")\n",
        "    f.write(f\"- Relationships extracted: {len(extraction_result.relationships)}\\n\\n\")\n",
        "    f.write(f\"## Network Analysis\\n\\n\")\n",
        "    f.write(f\"- Nodes: {graph.number_of_nodes()}\\n\")\n",
        "    f.write(f\"- Edges: {graph.number_of_edges()}\\n\")\n",
        "    f.write(f\"- Density: {network_stats['basic_metrics']['density']:.3f}\\n\")\n",
        "    f.write(f\"- Communities: {len(communities)}\\n\\n\")\n",
        "    f.write(f\"## Output Files\\n\\n\")\n",
        "    f.write(f\"- Canonical JSON: {json_file}\\n\")\n",
        "    f.write(f\"- Markdown reports: {markdown_dir}\\n\")\n",
        "    f.write(f\"- Network plots: {plots_dir}\\n\")\n",
        "    f.write(f\"- Cypher script: {cypher_file}\\n\")\n",
        "\n",
        "print(f\"✅ Created summary report: {summary_file}\")\n",
        "\n",
        "# Display summary\n",
        "print(\"\\n📊 Workflow Summary:\")\n",
        "print(f\"  Input text length: {len(sample_text)} characters\")\n",
        "print(f\"  Entities extracted: {len(extraction_result.entities)}\")\n",
        "print(f\"  Relationships extracted: {len(extraction_result.relationships)}\")\n",
        "print(f\"  Network nodes: {graph.number_of_nodes()}\")\n",
        "print(f\"  Network edges: {graph.number_of_edges()}\")\n",
        "print(f\"  Communities found: {len(communities)}\")\n",
        "print(f\"  Output directory: {output_dir}\")\n"
      ]
    },
    {
      "cell_type": "markdown",
      "metadata": {},
      "source": [
        "## 🎉 Complete Workflow Demo Finished!\n",
        "\n",
        "### What We Accomplished:\n",
        "\n",
        "1. **✅ AI Extraction**: Used PydanticAI to extract CRM entities from text\n",
        "2. **✅ Canonical JSON**: Serialized entities for async/future processing\n",
        "3. **✅ Markdown Reports**: Generated human-readable documentation\n",
        "4. **✅ Network Analysis**: Created NetworkX graph and performed analysis\n",
        "5. **✅ Interactive Visualizations**: Created multiple Plotly-based interactive plots\n",
        "6. **✅ Enhanced Features**: Added advanced hover information and styling\n",
        "7. **✅ Cypher Export**: Generated scripts for graph database import\n",
        "8. **✅ Summary Report**: Documented the complete workflow\n",
        "\n",
        "### Key Improvements with Plotly:\n",
        "\n",
        "- **Interactive Exploration**: Zoom, pan, and hover over nodes for detailed information\n",
        "- **Enhanced Styling**: Better color schemes and visual design\n",
        "- **Multiple Views**: Community structure, centrality analysis, and complete network views\n",
        "- **Rich Hover Information**: Detailed entity information on hover\n",
        "- **Export Capabilities**: Save interactive HTML files for sharing\n",
        "\n",
        "### Key Files Generated:\n",
        "\n",
        "- `canonical_entities.json` - **Most important!** Ready for graph databases\n",
        "- `network_overview.png` - Static visualization\n",
        "- `interactive_network.html` - Interactive Plotly visualization\n",
        "- `network.cypher` - Neo4j/Memgraph import script\n",
        "- `workflow_summary.md` - Complete analysis report\n",
        "\n",
        "### Next Steps:\n",
        "\n",
        "1. **Import to Graph Database**: Use the Cypher script with Neo4j or Memgraph\n",
        "2. **API Integration**: Use canonical JSON for web services\n",
        "3. **Batch Processing**: Process multiple texts using the same workflow\n",
        "4. **Advanced Analysis**: Explore more NetworkX algorithms and visualizations\n",
        "\n",
        "The canonical JSON serialization ensures your extracted data is ready for any future processing needs! 🚀\n"
      ]
    },
    {
      "cell_type": "markdown",
      "metadata": {},
      "source": [
        "## 🔧 Advanced Usage Examples\n",
        "\n",
        "### Custom Entity Creation\n",
        "\n",
        "You can also create entities manually and add them to the workflow:\n"
      ]
    },
    {
      "cell_type": "code",
      "execution_count": 15,
      "metadata": {},
      "outputs": [
        {
          "name": "stdout",
          "output_type": "stream",
          "text": [
            "✅ Created 3 custom entities\n",
            "✅ Total entities: 17\n",
            "✅ Extended graph: 17 nodes, 0 edges\n"
          ]
        }
      ],
      "source": [
        "# Create custom entities\n",
        "custom_entities = [\n",
        "    CRMEntity(id=\"custom1\", class_code=\"E21\", label=\"Marie Curie\"),\n",
        "    CRMEntity(id=\"custom2\", class_code=\"E53\", label=\"Paris\"),\n",
        "    CRMEntity(id=\"custom3\", class_code=\"E5\", label=\"Nobel Prize in Physics 1903\")\n",
        "]\n",
        "\n",
        "# Add to existing entities\n",
        "all_entities = crm_entities + custom_entities\n",
        "\n",
        "print(f\"✅ Created {len(custom_entities)} custom entities\")\n",
        "print(f\"✅ Total entities: {len(all_entities)}\")\n",
        "\n",
        "# Create new graph with all entities\n",
        "extended_graph = to_networkx_graph(all_entities)\n",
        "print(f\"✅ Extended graph: {extended_graph.number_of_nodes()} nodes, {extended_graph.number_of_edges()} edges\")\n"
      ]
    },
    {
      "cell_type": "markdown",
      "metadata": {},
      "source": [
        "### Batch Processing Multiple Texts\n",
        "\n",
        "Process multiple texts and combine the results:\n"
      ]
    },
    {
      "cell_type": "code",
      "execution_count": 16,
      "metadata": {},
      "outputs": [
        {
          "name": "stdout",
          "output_type": "stream",
          "text": [
            "🔄 Processing multiple texts...\n",
            "\n",
            "Processing text 1: Isaac Newton discovered the laws of motion in Engl...\n",
            "  Extracted 1 entities\n",
            "\n",
            "Processing text 2: Galileo Galilei was an Italian astronomer and phys...\n",
            "  Extracted 2 entities\n",
            "\n",
            "Processing text 3: Charles Darwin developed the theory of evolution b...\n",
            "  Extracted 2 entities\n",
            "\n",
            "✅ Total entities from all texts: 5\n",
            "✅ Saved batch canonical JSON: notebook_output/batch_canonical_entities.json\n"
          ]
        }
      ],
      "source": [
        "# Multiple texts for batch processing\n",
        "texts = [\n",
        "    \"Isaac Newton discovered the laws of motion in England.\",\n",
        "    \"Galileo Galilei was an Italian astronomer and physicist.\",\n",
        "    \"Charles Darwin developed the theory of evolution by natural selection.\"\n",
        "]\n",
        "\n",
        "print(\"🔄 Processing multiple texts...\")\n",
        "all_extracted_entities = []\n",
        "\n",
        "for i, text in enumerate(texts, 1):\n",
        "    print(f\"\\nProcessing text {i}: {text[:50]}...\")\n",
        "    result = await extractor.extract_from_text(text)\n",
        "    all_extracted_entities.extend(result.entities)\n",
        "    print(f\"  Extracted {len(result.entities)} entities\")\n",
        "\n",
        "print(f\"\\n✅ Total entities from all texts: {len(all_extracted_entities)}\")\n",
        "\n",
        "# Convert to CRM entities\n",
        "batch_crm_entities = []\n",
        "for entity in all_extracted_entities:\n",
        "    crm_entity = CRMEntity(\n",
        "        id=str(entity.id),\n",
        "        class_code=entity.class_code,\n",
        "        label=entity.label,\n",
        "        notes=entity.description\n",
        "    )\n",
        "    batch_crm_entities.append(crm_entity)\n",
        "\n",
        "# Serialize batch results\n",
        "batch_json = [entity.model_dump(mode='json') for entity in batch_crm_entities]\n",
        "batch_file = output_dir / \"batch_canonical_entities.json\"\n",
        "with open(batch_file, \"w\") as f:\n",
        "    json.dump(batch_json, f, indent=2)\n",
        "\n",
        "print(f\"✅ Saved batch canonical JSON: {batch_file}\")\n"
      ]
    },
    {
      "cell_type": "markdown",
      "metadata": {},
      "source": [
        "### Loading and Analyzing Existing Data\n",
        "\n",
        "Load previously saved canonical JSON and analyze it:\n"
      ]
    },
    {
      "cell_type": "code",
      "execution_count": 17,
      "metadata": {},
      "outputs": [
        {
          "name": "stdout",
          "output_type": "stream",
          "text": [
            "📖 Loading existing canonical JSON...\n",
            "✅ Loaded 14 entities from existing JSON\n",
            "✅ Recreated graph: 14 nodes, 0 edges\n",
            "✅ Found 0 communities\n"
          ]
        }
      ],
      "source": [
        "# Load existing canonical JSON\n",
        "print(\"📖 Loading existing canonical JSON...\")\n",
        "with open(json_file, \"r\") as f:\n",
        "    existing_data = json.load(f)\n",
        "\n",
        "# Convert back to CRM entities\n",
        "loaded_entities = []\n",
        "for entity_data in existing_data:\n",
        "    entity = CRMEntity(**entity_data)\n",
        "    loaded_entities.append(entity)\n",
        "\n",
        "print(f\"✅ Loaded {len(loaded_entities)} entities from existing JSON\")\n",
        "\n",
        "# Create new analysis\n",
        "loaded_graph = to_networkx_graph(loaded_entities)\n",
        "loaded_centrality = calculate_centrality_measures(loaded_graph)\n",
        "loaded_communities = find_communities(loaded_graph)\n",
        "\n",
        "print(f\"✅ Recreated graph: {loaded_graph.number_of_nodes()} nodes, {loaded_graph.number_of_edges()} edges\")\n",
        "print(f\"✅ Found {len(loaded_communities)} communities\")\n",
        "\n",
        "# This demonstrates the power of canonical JSON - you can always recreate the analysis!\n"
      ]
    }
  ],
  "metadata": {
    "kernelspec": {
      "display_name": ".venv",
      "language": "python",
      "name": "python3"
    },
    "language_info": {
      "codemirror_mode": {
        "name": "ipython",
        "version": 3
      },
      "file_extension": ".py",
      "mimetype": "text/x-python",
      "name": "python",
      "nbconvert_exporter": "python",
      "pygments_lexer": "ipython3",
      "version": "3.13.7"
    }
  },
  "nbformat": 4,
  "nbformat_minor": 2
}
